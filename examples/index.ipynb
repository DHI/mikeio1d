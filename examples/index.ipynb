{
  "cells": [
    {
      "cell_type": "markdown",
      "metadata": {},
      "source": [
        "# Examples\n",
        "\n",
        "> **Example data**\n",
        ">\n",
        "> If you want to try one of the examples you need to first download some\n",
        "> data files.\n",
        ">\n",
        "> The files are stored on GitHub in the [MIKE IO 1D\n",
        "> repo](https://github.com/DHI/mikeio1d).\n",
        ">\n",
        "> The easiest way is to the download the repo as a [zip\n",
        "> file](https://github.com/DHI/mikeio1d/archive/main.zip) and extract\n",
        "> the files you need.\n",
        ">\n",
        "> In the zip file you find the files in `tests/testdata/` folder.\n",
        "\n",
        "> **Additional examples on GitHub**\n",
        ">\n",
        "> There’s [additional\n",
        "> notebooks](https://github.com/DHI/mikeio1d/tree/main/notebooks)\n",
        "> available on GitHub."
      ],
      "id": "e9b338d3-dbb1-4663-b92e-54435036180c"
    }
  ],
  "nbformat": 4,
  "nbformat_minor": 5,
  "metadata": {
    "kernelspec": {
      "display_name": "Python 3",
      "language": "python",
      "name": "python3"
    }
  }
}