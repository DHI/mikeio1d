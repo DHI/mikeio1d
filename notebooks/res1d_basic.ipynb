{
 "cells": [
  {
   "attachments": {},
   "cell_type": "markdown",
   "metadata": {},
   "source": [
    "# Res1D - Basic"
   ]
  },
  {
   "cell_type": "markdown",
   "metadata": {},
   "source": [
    "Open a network result file."
   ]
  },
  {
   "cell_type": "code",
   "execution_count": 1,
   "metadata": {
    "execution": {
     "iopub.execute_input": "2024-11-06T14:20:12.045015Z",
     "iopub.status.busy": "2024-11-06T14:20:12.044523Z",
     "iopub.status.idle": "2024-11-06T14:20:13.382622Z",
     "shell.execute_reply": "2024-11-06T14:20:13.382032Z"
    }
   },
   "outputs": [],
   "source": [
    "import mikeio1d"
   ]
  },
  {
   "cell_type": "code",
   "execution_count": 2,
   "metadata": {
    "execution": {
     "iopub.execute_input": "2024-11-06T14:20:13.384652Z",
     "iopub.status.busy": "2024-11-06T14:20:13.384313Z",
     "iopub.status.idle": "2024-11-06T14:20:13.632394Z",
     "shell.execute_reply": "2024-11-06T14:20:13.631973Z"
    }
   },
   "outputs": [
    {
     "data": {
      "text/plain": [
       "<mikeio1d.Res1D>"
      ]
     },
     "execution_count": 2,
     "metadata": {},
     "output_type": "execute_result"
    }
   ],
   "source": [
    "res = mikeio1d.open('../tests/testdata/network.res1d')\n",
    "res"
   ]
  },
  {
   "cell_type": "code",
   "execution_count": 3,
   "metadata": {
    "execution": {
     "iopub.execute_input": "2024-11-06T14:20:13.634073Z",
     "iopub.status.busy": "2024-11-06T14:20:13.633926Z",
     "iopub.status.idle": "2024-11-06T14:20:13.639051Z",
     "shell.execute_reply": "2024-11-06T14:20:13.638300Z"
    }
   },
   "outputs": [
    {
     "name": "stdout",
     "output_type": "stream",
     "text": [
      "Start time: 1994-08-07 16:35:00\n",
      "End time: 1994-08-07 18:35:00\n",
      "# Timesteps: 110\n",
      "# Catchments: 0\n",
      "# Nodes: 119\n",
      "# Reaches: 118\n",
      "# Globals: 0\n",
      "0 - Water level (m)\n",
      "1 - Discharge (m^3/s)\n"
     ]
    }
   ],
   "source": [
    "res.info()"
   ]
  },
  {
   "cell_type": "code",
   "execution_count": 4,
   "metadata": {
    "execution": {
     "iopub.execute_input": "2024-11-06T14:20:13.641111Z",
     "iopub.status.busy": "2024-11-06T14:20:13.640861Z",
     "iopub.status.idle": "2024-11-06T14:20:13.645257Z",
     "shell.execute_reply": "2024-11-06T14:20:13.644580Z"
    }
   },
   "outputs": [
    {
     "data": {
      "text/plain": [
       "['WaterLevel', 'Discharge']"
      ]
     },
     "execution_count": 4,
     "metadata": {},
     "output_type": "execute_result"
    }
   ],
   "source": [
    "res.quantities"
   ]
  },
  {
   "cell_type": "code",
   "execution_count": 5,
   "metadata": {
    "execution": {
     "iopub.execute_input": "2024-11-06T14:20:13.647413Z",
     "iopub.status.busy": "2024-11-06T14:20:13.647040Z",
     "iopub.status.idle": "2024-11-06T14:20:13.651779Z",
     "shell.execute_reply": "2024-11-06T14:20:13.651191Z"
    }
   },
   "outputs": [
    {
     "data": {
      "text/plain": [
       "['NodeFlooding',\n",
       " 'ReachQQManning',\n",
       " 'NodeWaterLevelAboveCritical',\n",
       " 'ReachWaterLevelAboveCritical',\n",
       " 'ReachWaterDepth',\n",
       " 'ReachAbsoluteDischarge',\n",
       " 'NodeWaterDepth',\n",
       " 'ReachFilling',\n",
       " 'ReachFlooding']"
      ]
     },
     "execution_count": 5,
     "metadata": {},
     "output_type": "execute_result"
    }
   ],
   "source": [
    "res.derived_quantities"
   ]
  },
  {
   "cell_type": "markdown",
   "metadata": {},
   "source": [
    "Read all available results"
   ]
  },
  {
   "cell_type": "code",
   "execution_count": 6,
   "metadata": {
    "execution": {
     "iopub.execute_input": "2024-11-06T14:20:13.654041Z",
     "iopub.status.busy": "2024-11-06T14:20:13.653430Z",
     "iopub.status.idle": "2024-11-06T14:20:13.866297Z",
     "shell.execute_reply": "2024-11-06T14:20:13.864874Z"
    }
   },
   "outputs": [
    {
     "data": {
      "text/html": [
       "<div>\n",
       "<style scoped>\n",
       "    .dataframe tbody tr th:only-of-type {\n",
       "        vertical-align: middle;\n",
       "    }\n",
       "\n",
       "    .dataframe tbody tr th {\n",
       "        vertical-align: top;\n",
       "    }\n",
       "\n",
       "    .dataframe thead th {\n",
       "        text-align: right;\n",
       "    }\n",
       "</style>\n",
       "<table border=\"1\" class=\"dataframe\">\n",
       "  <thead>\n",
       "    <tr style=\"text-align: right;\">\n",
       "      <th></th>\n",
       "      <th>WaterLevel:1</th>\n",
       "      <th>WaterLevel:2</th>\n",
       "      <th>WaterLevel:3</th>\n",
       "      <th>WaterLevel:4</th>\n",
       "      <th>WaterLevel:5</th>\n",
       "      <th>WaterLevel:6</th>\n",
       "      <th>WaterLevel:7</th>\n",
       "      <th>WaterLevel:8</th>\n",
       "      <th>WaterLevel:9</th>\n",
       "      <th>WaterLevel:10</th>\n",
       "      <th>...</th>\n",
       "      <th>Discharge:99l1:22.2508</th>\n",
       "      <th>WaterLevel:9l1:0</th>\n",
       "      <th>WaterLevel:9l1:10</th>\n",
       "      <th>Discharge:9l1:5</th>\n",
       "      <th>WaterLevel:Weir:119w1:0</th>\n",
       "      <th>WaterLevel:Weir:119w1:1</th>\n",
       "      <th>Discharge:Weir:119w1:0.5</th>\n",
       "      <th>WaterLevel:Pump:115p1:0</th>\n",
       "      <th>WaterLevel:Pump:115p1:82.4281</th>\n",
       "      <th>Discharge:Pump:115p1:41.214</th>\n",
       "    </tr>\n",
       "  </thead>\n",
       "  <tbody>\n",
       "    <tr>\n",
       "      <th>1994-08-07 16:35:00.000</th>\n",
       "      <td>195.052994</td>\n",
       "      <td>195.821503</td>\n",
       "      <td>195.8815</td>\n",
       "      <td>193.604996</td>\n",
       "      <td>193.615005</td>\n",
       "      <td>193.625000</td>\n",
       "      <td>193.675003</td>\n",
       "      <td>193.764999</td>\n",
       "      <td>193.774994</td>\n",
       "      <td>193.804993</td>\n",
       "      <td>...</td>\n",
       "      <td>0.000002</td>\n",
       "      <td>193.774994</td>\n",
       "      <td>193.764999</td>\n",
       "      <td>0.000031</td>\n",
       "      <td>193.550003</td>\n",
       "      <td>188.479996</td>\n",
       "      <td>0.0</td>\n",
       "      <td>193.304993</td>\n",
       "      <td>195.005005</td>\n",
       "      <td>0.0</td>\n",
       "    </tr>\n",
       "    <tr>\n",
       "      <th>1994-08-07 16:36:01.870</th>\n",
       "      <td>195.052994</td>\n",
       "      <td>195.821701</td>\n",
       "      <td>195.8815</td>\n",
       "      <td>193.604996</td>\n",
       "      <td>193.615005</td>\n",
       "      <td>193.625320</td>\n",
       "      <td>193.675110</td>\n",
       "      <td>193.765060</td>\n",
       "      <td>193.775116</td>\n",
       "      <td>193.804993</td>\n",
       "      <td>...</td>\n",
       "      <td>0.000002</td>\n",
       "      <td>193.775070</td>\n",
       "      <td>193.765060</td>\n",
       "      <td>0.000031</td>\n",
       "      <td>193.550003</td>\n",
       "      <td>188.479996</td>\n",
       "      <td>0.0</td>\n",
       "      <td>193.306061</td>\n",
       "      <td>195.005005</td>\n",
       "      <td>0.0</td>\n",
       "    </tr>\n",
       "    <tr>\n",
       "      <th>1994-08-07 16:37:07.560</th>\n",
       "      <td>195.052994</td>\n",
       "      <td>195.821640</td>\n",
       "      <td>195.8815</td>\n",
       "      <td>193.604996</td>\n",
       "      <td>193.615005</td>\n",
       "      <td>193.625671</td>\n",
       "      <td>193.675369</td>\n",
       "      <td>193.765106</td>\n",
       "      <td>193.775513</td>\n",
       "      <td>193.804993</td>\n",
       "      <td>...</td>\n",
       "      <td>0.000002</td>\n",
       "      <td>193.775391</td>\n",
       "      <td>193.765106</td>\n",
       "      <td>0.000033</td>\n",
       "      <td>193.550034</td>\n",
       "      <td>188.479996</td>\n",
       "      <td>0.0</td>\n",
       "      <td>193.307144</td>\n",
       "      <td>195.005005</td>\n",
       "      <td>0.0</td>\n",
       "    </tr>\n",
       "    <tr>\n",
       "      <th>1994-08-07 16:38:55.828</th>\n",
       "      <td>195.052994</td>\n",
       "      <td>195.821503</td>\n",
       "      <td>195.8815</td>\n",
       "      <td>193.604996</td>\n",
       "      <td>193.615005</td>\n",
       "      <td>193.626236</td>\n",
       "      <td>193.675751</td>\n",
       "      <td>193.765228</td>\n",
       "      <td>193.776077</td>\n",
       "      <td>193.804993</td>\n",
       "      <td>...</td>\n",
       "      <td>0.000002</td>\n",
       "      <td>193.775894</td>\n",
       "      <td>193.765228</td>\n",
       "      <td>0.000037</td>\n",
       "      <td>193.550079</td>\n",
       "      <td>188.479996</td>\n",
       "      <td>0.0</td>\n",
       "      <td>193.308884</td>\n",
       "      <td>195.005005</td>\n",
       "      <td>0.0</td>\n",
       "    </tr>\n",
       "    <tr>\n",
       "      <th>1994-08-07 16:39:55.828</th>\n",
       "      <td>195.052994</td>\n",
       "      <td>195.821503</td>\n",
       "      <td>195.8815</td>\n",
       "      <td>193.604996</td>\n",
       "      <td>193.615005</td>\n",
       "      <td>193.626556</td>\n",
       "      <td>193.675949</td>\n",
       "      <td>193.765335</td>\n",
       "      <td>193.776352</td>\n",
       "      <td>193.804993</td>\n",
       "      <td>...</td>\n",
       "      <td>0.000002</td>\n",
       "      <td>193.776154</td>\n",
       "      <td>193.765335</td>\n",
       "      <td>0.000039</td>\n",
       "      <td>193.550095</td>\n",
       "      <td>188.479996</td>\n",
       "      <td>0.0</td>\n",
       "      <td>193.309860</td>\n",
       "      <td>195.005005</td>\n",
       "      <td>0.0</td>\n",
       "    </tr>\n",
       "  </tbody>\n",
       "</table>\n",
       "<p>5 rows × 495 columns</p>\n",
       "</div>"
      ],
      "text/plain": [
       "                         WaterLevel:1  WaterLevel:2  WaterLevel:3  \\\n",
       "1994-08-07 16:35:00.000    195.052994    195.821503      195.8815   \n",
       "1994-08-07 16:36:01.870    195.052994    195.821701      195.8815   \n",
       "1994-08-07 16:37:07.560    195.052994    195.821640      195.8815   \n",
       "1994-08-07 16:38:55.828    195.052994    195.821503      195.8815   \n",
       "1994-08-07 16:39:55.828    195.052994    195.821503      195.8815   \n",
       "\n",
       "                         WaterLevel:4  WaterLevel:5  WaterLevel:6  \\\n",
       "1994-08-07 16:35:00.000    193.604996    193.615005    193.625000   \n",
       "1994-08-07 16:36:01.870    193.604996    193.615005    193.625320   \n",
       "1994-08-07 16:37:07.560    193.604996    193.615005    193.625671   \n",
       "1994-08-07 16:38:55.828    193.604996    193.615005    193.626236   \n",
       "1994-08-07 16:39:55.828    193.604996    193.615005    193.626556   \n",
       "\n",
       "                         WaterLevel:7  WaterLevel:8  WaterLevel:9  \\\n",
       "1994-08-07 16:35:00.000    193.675003    193.764999    193.774994   \n",
       "1994-08-07 16:36:01.870    193.675110    193.765060    193.775116   \n",
       "1994-08-07 16:37:07.560    193.675369    193.765106    193.775513   \n",
       "1994-08-07 16:38:55.828    193.675751    193.765228    193.776077   \n",
       "1994-08-07 16:39:55.828    193.675949    193.765335    193.776352   \n",
       "\n",
       "                         WaterLevel:10  ...  Discharge:99l1:22.2508  \\\n",
       "1994-08-07 16:35:00.000     193.804993  ...                0.000002   \n",
       "1994-08-07 16:36:01.870     193.804993  ...                0.000002   \n",
       "1994-08-07 16:37:07.560     193.804993  ...                0.000002   \n",
       "1994-08-07 16:38:55.828     193.804993  ...                0.000002   \n",
       "1994-08-07 16:39:55.828     193.804993  ...                0.000002   \n",
       "\n",
       "                         WaterLevel:9l1:0  WaterLevel:9l1:10  Discharge:9l1:5  \\\n",
       "1994-08-07 16:35:00.000        193.774994         193.764999         0.000031   \n",
       "1994-08-07 16:36:01.870        193.775070         193.765060         0.000031   \n",
       "1994-08-07 16:37:07.560        193.775391         193.765106         0.000033   \n",
       "1994-08-07 16:38:55.828        193.775894         193.765228         0.000037   \n",
       "1994-08-07 16:39:55.828        193.776154         193.765335         0.000039   \n",
       "\n",
       "                         WaterLevel:Weir:119w1:0  WaterLevel:Weir:119w1:1  \\\n",
       "1994-08-07 16:35:00.000               193.550003               188.479996   \n",
       "1994-08-07 16:36:01.870               193.550003               188.479996   \n",
       "1994-08-07 16:37:07.560               193.550034               188.479996   \n",
       "1994-08-07 16:38:55.828               193.550079               188.479996   \n",
       "1994-08-07 16:39:55.828               193.550095               188.479996   \n",
       "\n",
       "                         Discharge:Weir:119w1:0.5  WaterLevel:Pump:115p1:0  \\\n",
       "1994-08-07 16:35:00.000                       0.0               193.304993   \n",
       "1994-08-07 16:36:01.870                       0.0               193.306061   \n",
       "1994-08-07 16:37:07.560                       0.0               193.307144   \n",
       "1994-08-07 16:38:55.828                       0.0               193.308884   \n",
       "1994-08-07 16:39:55.828                       0.0               193.309860   \n",
       "\n",
       "                         WaterLevel:Pump:115p1:82.4281  \\\n",
       "1994-08-07 16:35:00.000                     195.005005   \n",
       "1994-08-07 16:36:01.870                     195.005005   \n",
       "1994-08-07 16:37:07.560                     195.005005   \n",
       "1994-08-07 16:38:55.828                     195.005005   \n",
       "1994-08-07 16:39:55.828                     195.005005   \n",
       "\n",
       "                         Discharge:Pump:115p1:41.214  \n",
       "1994-08-07 16:35:00.000                          0.0  \n",
       "1994-08-07 16:36:01.870                          0.0  \n",
       "1994-08-07 16:37:07.560                          0.0  \n",
       "1994-08-07 16:38:55.828                          0.0  \n",
       "1994-08-07 16:39:55.828                          0.0  \n",
       "\n",
       "[5 rows x 495 columns]"
      ]
     },
     "execution_count": 6,
     "metadata": {},
     "output_type": "execute_result"
    }
   ],
   "source": [
    "df = res.read()\n",
    "df.head()"
   ]
  },
  {
   "cell_type": "markdown",
   "metadata": {},
   "source": [
    "Read subsets of available results"
   ]
  },
  {
   "cell_type": "code",
   "execution_count": 7,
   "metadata": {
    "execution": {
     "iopub.execute_input": "2024-11-06T14:20:13.869933Z",
     "iopub.status.busy": "2024-11-06T14:20:13.869590Z",
     "iopub.status.idle": "2024-11-06T14:20:13.904765Z",
     "shell.execute_reply": "2024-11-06T14:20:13.904219Z"
    }
   },
   "outputs": [
    {
     "data": {
      "text/html": [
       "<div>\n",
       "<style scoped>\n",
       "    .dataframe tbody tr th:only-of-type {\n",
       "        vertical-align: middle;\n",
       "    }\n",
       "\n",
       "    .dataframe tbody tr th {\n",
       "        vertical-align: top;\n",
       "    }\n",
       "\n",
       "    .dataframe thead th {\n",
       "        text-align: right;\n",
       "    }\n",
       "</style>\n",
       "<table border=\"1\" class=\"dataframe\">\n",
       "  <thead>\n",
       "    <tr style=\"text-align: right;\">\n",
       "      <th></th>\n",
       "      <th>WaterLevel:100l1:0</th>\n",
       "      <th>WaterLevel:100l1:47.6827</th>\n",
       "      <th>WaterLevel:101l1:0</th>\n",
       "      <th>WaterLevel:101l1:66.4361</th>\n",
       "      <th>WaterLevel:102l1:0</th>\n",
       "      <th>WaterLevel:102l1:10.9366</th>\n",
       "      <th>WaterLevel:103l1:0</th>\n",
       "      <th>WaterLevel:103l1:26.0653</th>\n",
       "      <th>WaterLevel:104l1:0</th>\n",
       "      <th>WaterLevel:104l1:34.4131</th>\n",
       "      <th>...</th>\n",
       "      <th>Discharge:93l1:24.5832</th>\n",
       "      <th>Discharge:94l1:21.2852</th>\n",
       "      <th>Discharge:95l1:21.9487</th>\n",
       "      <th>Discharge:96l1:14.9257</th>\n",
       "      <th>Discharge:97l1:5.71207</th>\n",
       "      <th>Discharge:98l1:8.00489</th>\n",
       "      <th>Discharge:99l1:22.2508</th>\n",
       "      <th>Discharge:9l1:5</th>\n",
       "      <th>Discharge:Weir:119w1:0.5</th>\n",
       "      <th>Discharge:Pump:115p1:41.214</th>\n",
       "    </tr>\n",
       "  </thead>\n",
       "  <tbody>\n",
       "    <tr>\n",
       "      <th>1994-08-07 16:35:00.000</th>\n",
       "      <td>195.441498</td>\n",
       "      <td>194.661499</td>\n",
       "      <td>195.931503</td>\n",
       "      <td>195.441498</td>\n",
       "      <td>193.550003</td>\n",
       "      <td>193.550003</td>\n",
       "      <td>195.801498</td>\n",
       "      <td>195.701508</td>\n",
       "      <td>197.072006</td>\n",
       "      <td>196.962006</td>\n",
       "      <td>...</td>\n",
       "      <td>0.000004</td>\n",
       "      <td>0.000003</td>\n",
       "      <td>0.000001</td>\n",
       "      <td>0.000005</td>\n",
       "      <td>0.000013</td>\n",
       "      <td>0.000003</td>\n",
       "      <td>0.000002</td>\n",
       "      <td>0.000031</td>\n",
       "      <td>0.0</td>\n",
       "      <td>0.0</td>\n",
       "    </tr>\n",
       "    <tr>\n",
       "      <th>1994-08-07 16:36:01.870</th>\n",
       "      <td>195.441498</td>\n",
       "      <td>194.661621</td>\n",
       "      <td>195.931503</td>\n",
       "      <td>195.441605</td>\n",
       "      <td>193.550140</td>\n",
       "      <td>193.550064</td>\n",
       "      <td>195.801498</td>\n",
       "      <td>195.703171</td>\n",
       "      <td>197.072006</td>\n",
       "      <td>196.962051</td>\n",
       "      <td>...</td>\n",
       "      <td>0.000004</td>\n",
       "      <td>0.000003</td>\n",
       "      <td>0.000001</td>\n",
       "      <td>0.000005</td>\n",
       "      <td>0.000010</td>\n",
       "      <td>0.000003</td>\n",
       "      <td>0.000002</td>\n",
       "      <td>0.000031</td>\n",
       "      <td>0.0</td>\n",
       "      <td>0.0</td>\n",
       "    </tr>\n",
       "    <tr>\n",
       "      <th>1994-08-07 16:37:07.560</th>\n",
       "      <td>195.441498</td>\n",
       "      <td>194.661728</td>\n",
       "      <td>195.931503</td>\n",
       "      <td>195.441620</td>\n",
       "      <td>193.550232</td>\n",
       "      <td>193.550156</td>\n",
       "      <td>195.801498</td>\n",
       "      <td>195.703400</td>\n",
       "      <td>197.072006</td>\n",
       "      <td>196.962082</td>\n",
       "      <td>...</td>\n",
       "      <td>0.000004</td>\n",
       "      <td>0.000003</td>\n",
       "      <td>0.000001</td>\n",
       "      <td>0.000005</td>\n",
       "      <td>0.000010</td>\n",
       "      <td>0.000003</td>\n",
       "      <td>0.000002</td>\n",
       "      <td>0.000033</td>\n",
       "      <td>0.0</td>\n",
       "      <td>0.0</td>\n",
       "    </tr>\n",
       "    <tr>\n",
       "      <th>1994-08-07 16:38:55.828</th>\n",
       "      <td>195.441498</td>\n",
       "      <td>194.661804</td>\n",
       "      <td>195.931503</td>\n",
       "      <td>195.441605</td>\n",
       "      <td>193.550369</td>\n",
       "      <td>193.550308</td>\n",
       "      <td>195.801498</td>\n",
       "      <td>195.703690</td>\n",
       "      <td>197.072006</td>\n",
       "      <td>196.962112</td>\n",
       "      <td>...</td>\n",
       "      <td>0.000004</td>\n",
       "      <td>0.000003</td>\n",
       "      <td>0.000001</td>\n",
       "      <td>0.000005</td>\n",
       "      <td>0.000009</td>\n",
       "      <td>0.000003</td>\n",
       "      <td>0.000002</td>\n",
       "      <td>0.000037</td>\n",
       "      <td>0.0</td>\n",
       "      <td>0.0</td>\n",
       "    </tr>\n",
       "    <tr>\n",
       "      <th>1994-08-07 16:39:55.828</th>\n",
       "      <td>195.441498</td>\n",
       "      <td>194.661972</td>\n",
       "      <td>195.931503</td>\n",
       "      <td>195.441605</td>\n",
       "      <td>193.550430</td>\n",
       "      <td>193.550369</td>\n",
       "      <td>195.801498</td>\n",
       "      <td>195.703827</td>\n",
       "      <td>197.072006</td>\n",
       "      <td>196.962128</td>\n",
       "      <td>...</td>\n",
       "      <td>0.000004</td>\n",
       "      <td>0.000003</td>\n",
       "      <td>0.000001</td>\n",
       "      <td>0.000005</td>\n",
       "      <td>0.000009</td>\n",
       "      <td>0.000003</td>\n",
       "      <td>0.000002</td>\n",
       "      <td>0.000039</td>\n",
       "      <td>0.0</td>\n",
       "      <td>0.0</td>\n",
       "    </tr>\n",
       "  </tbody>\n",
       "</table>\n",
       "<p>5 rows × 376 columns</p>\n",
       "</div>"
      ],
      "text/plain": [
       "                         WaterLevel:100l1:0  WaterLevel:100l1:47.6827  \\\n",
       "1994-08-07 16:35:00.000          195.441498                194.661499   \n",
       "1994-08-07 16:36:01.870          195.441498                194.661621   \n",
       "1994-08-07 16:37:07.560          195.441498                194.661728   \n",
       "1994-08-07 16:38:55.828          195.441498                194.661804   \n",
       "1994-08-07 16:39:55.828          195.441498                194.661972   \n",
       "\n",
       "                         WaterLevel:101l1:0  WaterLevel:101l1:66.4361  \\\n",
       "1994-08-07 16:35:00.000          195.931503                195.441498   \n",
       "1994-08-07 16:36:01.870          195.931503                195.441605   \n",
       "1994-08-07 16:37:07.560          195.931503                195.441620   \n",
       "1994-08-07 16:38:55.828          195.931503                195.441605   \n",
       "1994-08-07 16:39:55.828          195.931503                195.441605   \n",
       "\n",
       "                         WaterLevel:102l1:0  WaterLevel:102l1:10.9366  \\\n",
       "1994-08-07 16:35:00.000          193.550003                193.550003   \n",
       "1994-08-07 16:36:01.870          193.550140                193.550064   \n",
       "1994-08-07 16:37:07.560          193.550232                193.550156   \n",
       "1994-08-07 16:38:55.828          193.550369                193.550308   \n",
       "1994-08-07 16:39:55.828          193.550430                193.550369   \n",
       "\n",
       "                         WaterLevel:103l1:0  WaterLevel:103l1:26.0653  \\\n",
       "1994-08-07 16:35:00.000          195.801498                195.701508   \n",
       "1994-08-07 16:36:01.870          195.801498                195.703171   \n",
       "1994-08-07 16:37:07.560          195.801498                195.703400   \n",
       "1994-08-07 16:38:55.828          195.801498                195.703690   \n",
       "1994-08-07 16:39:55.828          195.801498                195.703827   \n",
       "\n",
       "                         WaterLevel:104l1:0  WaterLevel:104l1:34.4131  ...  \\\n",
       "1994-08-07 16:35:00.000          197.072006                196.962006  ...   \n",
       "1994-08-07 16:36:01.870          197.072006                196.962051  ...   \n",
       "1994-08-07 16:37:07.560          197.072006                196.962082  ...   \n",
       "1994-08-07 16:38:55.828          197.072006                196.962112  ...   \n",
       "1994-08-07 16:39:55.828          197.072006                196.962128  ...   \n",
       "\n",
       "                         Discharge:93l1:24.5832  Discharge:94l1:21.2852  \\\n",
       "1994-08-07 16:35:00.000                0.000004                0.000003   \n",
       "1994-08-07 16:36:01.870                0.000004                0.000003   \n",
       "1994-08-07 16:37:07.560                0.000004                0.000003   \n",
       "1994-08-07 16:38:55.828                0.000004                0.000003   \n",
       "1994-08-07 16:39:55.828                0.000004                0.000003   \n",
       "\n",
       "                         Discharge:95l1:21.9487  Discharge:96l1:14.9257  \\\n",
       "1994-08-07 16:35:00.000                0.000001                0.000005   \n",
       "1994-08-07 16:36:01.870                0.000001                0.000005   \n",
       "1994-08-07 16:37:07.560                0.000001                0.000005   \n",
       "1994-08-07 16:38:55.828                0.000001                0.000005   \n",
       "1994-08-07 16:39:55.828                0.000001                0.000005   \n",
       "\n",
       "                         Discharge:97l1:5.71207  Discharge:98l1:8.00489  \\\n",
       "1994-08-07 16:35:00.000                0.000013                0.000003   \n",
       "1994-08-07 16:36:01.870                0.000010                0.000003   \n",
       "1994-08-07 16:37:07.560                0.000010                0.000003   \n",
       "1994-08-07 16:38:55.828                0.000009                0.000003   \n",
       "1994-08-07 16:39:55.828                0.000009                0.000003   \n",
       "\n",
       "                         Discharge:99l1:22.2508  Discharge:9l1:5  \\\n",
       "1994-08-07 16:35:00.000                0.000002         0.000031   \n",
       "1994-08-07 16:36:01.870                0.000002         0.000031   \n",
       "1994-08-07 16:37:07.560                0.000002         0.000033   \n",
       "1994-08-07 16:38:55.828                0.000002         0.000037   \n",
       "1994-08-07 16:39:55.828                0.000002         0.000039   \n",
       "\n",
       "                         Discharge:Weir:119w1:0.5  Discharge:Pump:115p1:41.214  \n",
       "1994-08-07 16:35:00.000                       0.0                          0.0  \n",
       "1994-08-07 16:36:01.870                       0.0                          0.0  \n",
       "1994-08-07 16:37:07.560                       0.0                          0.0  \n",
       "1994-08-07 16:38:55.828                       0.0                          0.0  \n",
       "1994-08-07 16:39:55.828                       0.0                          0.0  \n",
       "\n",
       "[5 rows x 376 columns]"
      ]
     },
     "execution_count": 7,
     "metadata": {},
     "output_type": "execute_result"
    }
   ],
   "source": [
    "df = res.reaches.read()\n",
    "df.head()"
   ]
  },
  {
   "cell_type": "code",
   "execution_count": 8,
   "metadata": {
    "execution": {
     "iopub.execute_input": "2024-11-06T14:20:13.906482Z",
     "iopub.status.busy": "2024-11-06T14:20:13.906277Z",
     "iopub.status.idle": "2024-11-06T14:20:13.912621Z",
     "shell.execute_reply": "2024-11-06T14:20:13.912158Z"
    }
   },
   "outputs": [
    {
     "data": {
      "text/html": [
       "<div>\n",
       "<style scoped>\n",
       "    .dataframe tbody tr th:only-of-type {\n",
       "        vertical-align: middle;\n",
       "    }\n",
       "\n",
       "    .dataframe tbody tr th {\n",
       "        vertical-align: top;\n",
       "    }\n",
       "\n",
       "    .dataframe thead th {\n",
       "        text-align: right;\n",
       "    }\n",
       "</style>\n",
       "<table border=\"1\" class=\"dataframe\">\n",
       "  <thead>\n",
       "    <tr style=\"text-align: right;\">\n",
       "      <th></th>\n",
       "      <th>WaterLevel:100l1:0</th>\n",
       "      <th>WaterLevel:100l1:47.6827</th>\n",
       "      <th>Discharge:100l1:23.8414</th>\n",
       "    </tr>\n",
       "  </thead>\n",
       "  <tbody>\n",
       "    <tr>\n",
       "      <th>1994-08-07 16:35:00.000</th>\n",
       "      <td>195.441498</td>\n",
       "      <td>194.661499</td>\n",
       "      <td>0.000006</td>\n",
       "    </tr>\n",
       "    <tr>\n",
       "      <th>1994-08-07 16:36:01.870</th>\n",
       "      <td>195.441498</td>\n",
       "      <td>194.661621</td>\n",
       "      <td>0.000006</td>\n",
       "    </tr>\n",
       "    <tr>\n",
       "      <th>1994-08-07 16:37:07.560</th>\n",
       "      <td>195.441498</td>\n",
       "      <td>194.661728</td>\n",
       "      <td>0.000006</td>\n",
       "    </tr>\n",
       "    <tr>\n",
       "      <th>1994-08-07 16:38:55.828</th>\n",
       "      <td>195.441498</td>\n",
       "      <td>194.661804</td>\n",
       "      <td>0.000006</td>\n",
       "    </tr>\n",
       "    <tr>\n",
       "      <th>1994-08-07 16:39:55.828</th>\n",
       "      <td>195.441498</td>\n",
       "      <td>194.661972</td>\n",
       "      <td>0.000006</td>\n",
       "    </tr>\n",
       "  </tbody>\n",
       "</table>\n",
       "</div>"
      ],
      "text/plain": [
       "                         WaterLevel:100l1:0  WaterLevel:100l1:47.6827  \\\n",
       "1994-08-07 16:35:00.000          195.441498                194.661499   \n",
       "1994-08-07 16:36:01.870          195.441498                194.661621   \n",
       "1994-08-07 16:37:07.560          195.441498                194.661728   \n",
       "1994-08-07 16:38:55.828          195.441498                194.661804   \n",
       "1994-08-07 16:39:55.828          195.441498                194.661972   \n",
       "\n",
       "                         Discharge:100l1:23.8414  \n",
       "1994-08-07 16:35:00.000                 0.000006  \n",
       "1994-08-07 16:36:01.870                 0.000006  \n",
       "1994-08-07 16:37:07.560                 0.000006  \n",
       "1994-08-07 16:38:55.828                 0.000006  \n",
       "1994-08-07 16:39:55.828                 0.000006  "
      ]
     },
     "execution_count": 8,
     "metadata": {},
     "output_type": "execute_result"
    }
   ],
   "source": [
    "df = res.reaches['100l1'].read()\n",
    "df.head()"
   ]
  },
  {
   "cell_type": "code",
   "execution_count": 9,
   "metadata": {
    "execution": {
     "iopub.execute_input": "2024-11-06T14:20:13.914394Z",
     "iopub.status.busy": "2024-11-06T14:20:13.913956Z",
     "iopub.status.idle": "2024-11-06T14:20:13.920294Z",
     "shell.execute_reply": "2024-11-06T14:20:13.919716Z"
    }
   },
   "outputs": [
    {
     "data": {
      "text/html": [
       "<div>\n",
       "<style scoped>\n",
       "    .dataframe tbody tr th:only-of-type {\n",
       "        vertical-align: middle;\n",
       "    }\n",
       "\n",
       "    .dataframe tbody tr th {\n",
       "        vertical-align: top;\n",
       "    }\n",
       "\n",
       "    .dataframe thead th {\n",
       "        text-align: right;\n",
       "    }\n",
       "</style>\n",
       "<table border=\"1\" class=\"dataframe\">\n",
       "  <thead>\n",
       "    <tr style=\"text-align: right;\">\n",
       "      <th></th>\n",
       "      <th>WaterLevel:100l1:0</th>\n",
       "      <th>WaterLevel:100l1:47.6827</th>\n",
       "    </tr>\n",
       "  </thead>\n",
       "  <tbody>\n",
       "    <tr>\n",
       "      <th>1994-08-07 16:35:00.000</th>\n",
       "      <td>195.441498</td>\n",
       "      <td>194.661499</td>\n",
       "    </tr>\n",
       "    <tr>\n",
       "      <th>1994-08-07 16:36:01.870</th>\n",
       "      <td>195.441498</td>\n",
       "      <td>194.661621</td>\n",
       "    </tr>\n",
       "    <tr>\n",
       "      <th>1994-08-07 16:37:07.560</th>\n",
       "      <td>195.441498</td>\n",
       "      <td>194.661728</td>\n",
       "    </tr>\n",
       "    <tr>\n",
       "      <th>1994-08-07 16:38:55.828</th>\n",
       "      <td>195.441498</td>\n",
       "      <td>194.661804</td>\n",
       "    </tr>\n",
       "    <tr>\n",
       "      <th>1994-08-07 16:39:55.828</th>\n",
       "      <td>195.441498</td>\n",
       "      <td>194.661972</td>\n",
       "    </tr>\n",
       "  </tbody>\n",
       "</table>\n",
       "</div>"
      ],
      "text/plain": [
       "                         WaterLevel:100l1:0  WaterLevel:100l1:47.6827\n",
       "1994-08-07 16:35:00.000          195.441498                194.661499\n",
       "1994-08-07 16:36:01.870          195.441498                194.661621\n",
       "1994-08-07 16:37:07.560          195.441498                194.661728\n",
       "1994-08-07 16:38:55.828          195.441498                194.661804\n",
       "1994-08-07 16:39:55.828          195.441498                194.661972"
      ]
     },
     "execution_count": 9,
     "metadata": {},
     "output_type": "execute_result"
    }
   ],
   "source": [
    "df = res.reaches['100l1'].WaterLevel.read()\n",
    "df.head()"
   ]
  },
  {
   "cell_type": "code",
   "execution_count": 10,
   "metadata": {
    "execution": {
     "iopub.execute_input": "2024-11-06T14:20:13.922374Z",
     "iopub.status.busy": "2024-11-06T14:20:13.921919Z",
     "iopub.status.idle": "2024-11-06T14:20:13.930327Z",
     "shell.execute_reply": "2024-11-06T14:20:13.929614Z"
    }
   },
   "outputs": [
    {
     "data": {
      "text/html": [
       "<div>\n",
       "<style scoped>\n",
       "    .dataframe tbody tr th:only-of-type {\n",
       "        vertical-align: middle;\n",
       "    }\n",
       "\n",
       "    .dataframe tbody tr th {\n",
       "        vertical-align: top;\n",
       "    }\n",
       "\n",
       "    .dataframe thead th {\n",
       "        text-align: right;\n",
       "    }\n",
       "</style>\n",
       "<table border=\"1\" class=\"dataframe\">\n",
       "  <thead>\n",
       "    <tr style=\"text-align: right;\">\n",
       "      <th></th>\n",
       "      <th>WaterLevel:100l1:0</th>\n",
       "    </tr>\n",
       "  </thead>\n",
       "  <tbody>\n",
       "    <tr>\n",
       "      <th>1994-08-07 16:35:00.000</th>\n",
       "      <td>195.441498</td>\n",
       "    </tr>\n",
       "    <tr>\n",
       "      <th>1994-08-07 16:36:01.870</th>\n",
       "      <td>195.441498</td>\n",
       "    </tr>\n",
       "    <tr>\n",
       "      <th>1994-08-07 16:37:07.560</th>\n",
       "      <td>195.441498</td>\n",
       "    </tr>\n",
       "    <tr>\n",
       "      <th>1994-08-07 16:38:55.828</th>\n",
       "      <td>195.441498</td>\n",
       "    </tr>\n",
       "    <tr>\n",
       "      <th>1994-08-07 16:39:55.828</th>\n",
       "      <td>195.441498</td>\n",
       "    </tr>\n",
       "  </tbody>\n",
       "</table>\n",
       "</div>"
      ],
      "text/plain": [
       "                         WaterLevel:100l1:0\n",
       "1994-08-07 16:35:00.000          195.441498\n",
       "1994-08-07 16:36:01.870          195.441498\n",
       "1994-08-07 16:37:07.560          195.441498\n",
       "1994-08-07 16:38:55.828          195.441498\n",
       "1994-08-07 16:39:55.828          195.441498"
      ]
     },
     "execution_count": 10,
     "metadata": {},
     "output_type": "execute_result"
    }
   ],
   "source": [
    "# Index by gridpoint number\n",
    "df = res.reaches['100l1'][0].read()\n",
    "df.head()"
   ]
  },
  {
   "cell_type": "code",
   "execution_count": 11,
   "metadata": {
    "execution": {
     "iopub.execute_input": "2024-11-06T14:20:13.932636Z",
     "iopub.status.busy": "2024-11-06T14:20:13.932265Z",
     "iopub.status.idle": "2024-11-06T14:20:13.940322Z",
     "shell.execute_reply": "2024-11-06T14:20:13.939578Z"
    }
   },
   "outputs": [
    {
     "data": {
      "text/html": [
       "<div>\n",
       "<style scoped>\n",
       "    .dataframe tbody tr th:only-of-type {\n",
       "        vertical-align: middle;\n",
       "    }\n",
       "\n",
       "    .dataframe tbody tr th {\n",
       "        vertical-align: top;\n",
       "    }\n",
       "\n",
       "    .dataframe thead th {\n",
       "        text-align: right;\n",
       "    }\n",
       "</style>\n",
       "<table border=\"1\" class=\"dataframe\">\n",
       "  <thead>\n",
       "    <tr style=\"text-align: right;\">\n",
       "      <th></th>\n",
       "      <th>Discharge:100l1:23.8414</th>\n",
       "    </tr>\n",
       "  </thead>\n",
       "  <tbody>\n",
       "    <tr>\n",
       "      <th>1994-08-07 16:35:00.000</th>\n",
       "      <td>0.000006</td>\n",
       "    </tr>\n",
       "    <tr>\n",
       "      <th>1994-08-07 16:36:01.870</th>\n",
       "      <td>0.000006</td>\n",
       "    </tr>\n",
       "    <tr>\n",
       "      <th>1994-08-07 16:37:07.560</th>\n",
       "      <td>0.000006</td>\n",
       "    </tr>\n",
       "    <tr>\n",
       "      <th>1994-08-07 16:38:55.828</th>\n",
       "      <td>0.000006</td>\n",
       "    </tr>\n",
       "    <tr>\n",
       "      <th>1994-08-07 16:39:55.828</th>\n",
       "      <td>0.000006</td>\n",
       "    </tr>\n",
       "  </tbody>\n",
       "</table>\n",
       "</div>"
      ],
      "text/plain": [
       "                         Discharge:100l1:23.8414\n",
       "1994-08-07 16:35:00.000                 0.000006\n",
       "1994-08-07 16:36:01.870                 0.000006\n",
       "1994-08-07 16:37:07.560                 0.000006\n",
       "1994-08-07 16:38:55.828                 0.000006\n",
       "1994-08-07 16:39:55.828                 0.000006"
      ]
     },
     "execution_count": 11,
     "metadata": {},
     "output_type": "execute_result"
    }
   ],
   "source": [
    "# Or index by gridpoint chainage\n",
    "df = res.reaches['100l1']['23.841'].read()\n",
    "df.head()"
   ]
  },
  {
   "cell_type": "markdown",
   "metadata": {},
   "source": [
    "Make plots by replacing read() with plot()"
   ]
  },
  {
   "cell_type": "code",
   "execution_count": 12,
   "metadata": {
    "execution": {
     "iopub.execute_input": "2024-11-06T14:20:13.942416Z",
     "iopub.status.busy": "2024-11-06T14:20:13.942003Z",
     "iopub.status.idle": "2024-11-06T14:20:14.119059Z",
     "shell.execute_reply": "2024-11-06T14:20:14.118339Z"
    }
   },
   "outputs": [
    {
     "data": {
      "image/png": "[encoded data removed]",
      "text/plain": [
       "<Figure size 640x480 with 1 Axes>"
      ]
     },
     "metadata": {},
     "output_type": "display_data"
    }
   ],
   "source": [
    "ax = res.nodes['101'].WaterLevel.plot()"
   ]
  },
  {
   "cell_type": "markdown",
   "metadata": {},
   "source": [
    "Dynamically select quantities with add() followed by read()"
   ]
  },
  {
   "cell_type": "code",
   "execution_count": 13,
   "metadata": {
    "execution": {
     "iopub.execute_input": "2024-11-06T14:20:14.120996Z",
     "iopub.status.busy": "2024-11-06T14:20:14.120828Z",
     "iopub.status.idle": "2024-11-06T14:20:14.127268Z",
     "shell.execute_reply": "2024-11-06T14:20:14.126773Z"
    }
   },
   "outputs": [
    {
     "data": {
      "text/html": [
       "<div>\n",
       "<style scoped>\n",
       "    .dataframe tbody tr th:only-of-type {\n",
       "        vertical-align: middle;\n",
       "    }\n",
       "\n",
       "    .dataframe tbody tr th {\n",
       "        vertical-align: top;\n",
       "    }\n",
       "\n",
       "    .dataframe thead th {\n",
       "        text-align: right;\n",
       "    }\n",
       "</style>\n",
       "<table border=\"1\" class=\"dataframe\">\n",
       "  <thead>\n",
       "    <tr style=\"text-align: right;\">\n",
       "      <th></th>\n",
       "      <th>WaterLevel:101</th>\n",
       "      <th>WaterLevel:102</th>\n",
       "    </tr>\n",
       "  </thead>\n",
       "  <tbody>\n",
       "    <tr>\n",
       "      <th>1994-08-07 16:35:00.000</th>\n",
       "      <td>195.931503</td>\n",
       "      <td>193.550003</td>\n",
       "    </tr>\n",
       "    <tr>\n",
       "      <th>1994-08-07 16:36:01.870</th>\n",
       "      <td>195.931595</td>\n",
       "      <td>193.550140</td>\n",
       "    </tr>\n",
       "    <tr>\n",
       "      <th>1994-08-07 16:37:07.560</th>\n",
       "      <td>195.931625</td>\n",
       "      <td>193.550232</td>\n",
       "    </tr>\n",
       "    <tr>\n",
       "      <th>1994-08-07 16:38:55.828</th>\n",
       "      <td>195.931656</td>\n",
       "      <td>193.550369</td>\n",
       "    </tr>\n",
       "    <tr>\n",
       "      <th>1994-08-07 16:39:55.828</th>\n",
       "      <td>195.931656</td>\n",
       "      <td>193.550430</td>\n",
       "    </tr>\n",
       "  </tbody>\n",
       "</table>\n",
       "</div>"
      ],
      "text/plain": [
       "                         WaterLevel:101  WaterLevel:102\n",
       "1994-08-07 16:35:00.000      195.931503      193.550003\n",
       "1994-08-07 16:36:01.870      195.931595      193.550140\n",
       "1994-08-07 16:37:07.560      195.931625      193.550232\n",
       "1994-08-07 16:38:55.828      195.931656      193.550369\n",
       "1994-08-07 16:39:55.828      195.931656      193.550430"
      ]
     },
     "execution_count": 13,
     "metadata": {},
     "output_type": "execute_result"
    }
   ],
   "source": [
    "res.nodes['101'].WaterLevel.add()\n",
    "res.nodes['102'].WaterLevel.add()\n",
    "df = res.read()\n",
    "df.head()"
   ]
  }
 ],
 "metadata": {
  "kernelspec": {
   "display_name": ".venv",
   "language": "python",
   "name": "python3"
  },
  "language_info": {
   "codemirror_mode": {
    "name": "ipython",
    "version": 3
   },
   "file_extension": ".py",
   "mimetype": "text/x-python",
   "name": "python",
   "nbconvert_exporter": "python",
   "pygments_lexer": "ipython3",
   "version": "3.12.7"
  }
 },
 "nbformat": 4,
 "nbformat_minor": 4
}
