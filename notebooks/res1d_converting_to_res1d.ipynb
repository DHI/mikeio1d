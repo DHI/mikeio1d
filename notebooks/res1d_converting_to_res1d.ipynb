{
 "cells": [
  {
   "cell_type": "markdown",
   "metadata": {},
   "source": [
    "# Res1D - Converting other result formats to res1d format"
   ]
  },
  {
   "cell_type": "code",
   "execution_count": 1,
   "metadata": {
    "execution": {
     "iopub.execute_input": "2024-11-06T14:19:21.539342Z",
     "iopub.status.busy": "2024-11-06T14:19:21.539211Z",
     "iopub.status.idle": "2024-11-06T14:19:24.209019Z",
     "shell.execute_reply": "2024-11-06T14:19:24.208483Z"
    }
   },
   "outputs": [],
   "source": [
    "import mikeio1d"
   ]
  },
  {
   "cell_type": "markdown",
   "metadata": {},
   "source": [
    "Any network result file that can be opened with mikeio1d can be saved into a res1d format."
   ]
  },
  {
   "cell_type": "code",
   "execution_count": 2,
   "metadata": {
    "execution": {
     "iopub.execute_input": "2024-11-06T14:19:24.210832Z",
     "iopub.status.busy": "2024-11-06T14:19:24.210595Z",
     "iopub.status.idle": "2024-11-06T14:19:24.215858Z",
     "shell.execute_reply": "2024-11-06T14:19:24.215158Z"
    }
   },
   "outputs": [
    {
     "data": {
      "text/plain": [
       "{'.crf', '.out', '.prf', '.res', '.res11', '.res1d', '.resx', '.whr', '.xrf'}"
      ]
     },
     "execution_count": 2,
     "metadata": {},
     "output_type": "execute_result"
    }
   ],
   "source": [
    "mikeio1d.Res1D.get_supported_file_extensions()"
   ]
  },
  {
   "cell_type": "markdown",
   "metadata": {},
   "source": [
    "Convert res11 to res1d as an example."
   ]
  },
  {
   "cell_type": "code",
   "execution_count": 3,
   "metadata": {
    "execution": {
     "iopub.execute_input": "2024-11-06T14:19:24.235694Z",
     "iopub.status.busy": "2024-11-06T14:19:24.235500Z",
     "iopub.status.idle": "2024-11-06T14:19:24.346510Z",
     "shell.execute_reply": "2024-11-06T14:19:24.345971Z"
    }
   },
   "outputs": [
    {
     "data": {
      "text/plain": [
       "<mikeio1d.Res1D>"
      ]
     },
     "execution_count": 3,
     "metadata": {},
     "output_type": "execute_result"
    }
   ],
   "source": [
    "res = mikeio1d.open(\"../tests/testdata/network_cali.res11\")\n",
    "res"
   ]
  },
  {
   "cell_type": "code",
   "execution_count": 4,
   "metadata": {
    "execution": {
     "iopub.execute_input": "2024-11-06T14:19:24.348194Z",
     "iopub.status.busy": "2024-11-06T14:19:24.348043Z",
     "iopub.status.idle": "2024-11-06T14:19:24.393417Z",
     "shell.execute_reply": "2024-11-06T14:19:24.392877Z"
    }
   },
   "outputs": [],
   "source": [
    "res.save(\"network_cali.res1d\")"
   ]
  },
  {
   "cell_type": "code",
   "execution_count": 5,
   "metadata": {
    "execution": {
     "iopub.execute_input": "2024-11-06T14:19:24.395382Z",
     "iopub.status.busy": "2024-11-06T14:19:24.395212Z",
     "iopub.status.idle": "2024-11-06T14:19:24.431819Z",
     "shell.execute_reply": "2024-11-06T14:19:24.430691Z"
    }
   },
   "outputs": [
    {
     "data": {
      "text/plain": [
       "<mikeio1d.Res1D>"
      ]
     },
     "execution_count": 5,
     "metadata": {},
     "output_type": "execute_result"
    }
   ],
   "source": [
    "res = mikeio1d.open(\"network_cali.res1d\")\n",
    "res"
   ]
  },
  {
   "cell_type": "markdown",
   "metadata": {},
   "source": [
    "Clean up"
   ]
  },
  {
   "cell_type": "code",
   "execution_count": 6,
   "metadata": {
    "execution": {
     "iopub.execute_input": "2024-11-06T14:19:24.438141Z",
     "iopub.status.busy": "2024-11-06T14:19:24.438009Z",
     "iopub.status.idle": "2024-11-06T14:19:24.444573Z",
     "shell.execute_reply": "2024-11-06T14:19:24.442314Z"
    }
   },
   "outputs": [],
   "source": [
    "import os\n",
    "os.remove(\"network_cali.res1d\")"
   ]
  }
 ],
 "metadata": {
  "kernelspec": {
   "display_name": ".venv",
   "language": "python",
   "name": "python3"
  },
  "language_info": {
   "codemirror_mode": {
    "name": "ipython",
    "version": 3
   },
   "file_extension": ".py",
   "mimetype": "text/x-python",
   "name": "python",
   "nbconvert_exporter": "python",
   "pygments_lexer": "ipython3",
   "version": "3.12.7"
  }
 },
 "nbformat": 4,
 "nbformat_minor": 2
}
