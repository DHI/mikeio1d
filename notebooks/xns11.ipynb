{
 "cells": [
  {
   "cell_type": "markdown",
   "metadata": {},
   "source": [
    "# Xns11 examples"
   ]
  },
  {
   "cell_type": "markdown",
   "metadata": {},
   "source": [
    "#### Opening files and finding cross sections."
   ]
  },
  {
   "cell_type": "code",
   "execution_count": null,
   "metadata": {},
   "outputs": [],
   "source": [
    "# Open an xns11 file by first importing Xns11, then creating an object with the file path.\n",
    "\n",
    "from mikeio1d import Xns11\n",
    "xns = Xns11(\"../tests/testdata/mikep_cs_demo.xns11\")\n",
    "xns"
   ]
  },
  {
   "cell_type": "code",
   "execution_count": null,
   "metadata": {},
   "outputs": [],
   "source": [
    "# Print some basic information about the file.\n",
    "xns.info()"
   ]
  },
  {
   "cell_type": "code",
   "execution_count": null,
   "metadata": {},
   "outputs": [],
   "source": [
    "# An xns11 file containes many cross sections acessible via the 'xsections' attribute.\n",
    "xns.xsections"
   ]
  },
  {
   "cell_type": "code",
   "execution_count": null,
   "metadata": {},
   "outputs": [],
   "source": [
    "# You can index specific cross sections using their location id, chainage, and topo id.\n",
    "# For example, to access the cross section at location 'basin_left1', chainage '122.042', and topo id '1':\n",
    "xns.xsections['basin_left1','122.042','1']"
   ]
  },
  {
   "cell_type": "code",
   "execution_count": null,
   "metadata": {},
   "outputs": [],
   "source": [
    "# Use '...' as a wildcard to get a CrossSectionCollection matching the specified criteria.\n",
    "xns.xsections['basin_left1', ..., '1']"
   ]
  },
  {
   "cell_type": "code",
   "execution_count": null,
   "metadata": {},
   "outputs": [],
   "source": [
    "# You can also provide fewer arguments and the remaining ones will automatically use '...'.\n",
    "# For example, xns.xsections['basin_left1', ..., ...] can be more concisely expressed as:\n",
    "xns.xsections['basin_left1']"
   ]
  },
  {
   "cell_type": "code",
   "execution_count": null,
   "metadata": {},
   "outputs": [],
   "source": [
    "# You can also use the 'sel' method for explicit keyword arguments (however without autocompletion).\n",
    "xns.xsections.sel(chainage='122.042')"
   ]
  },
  {
   "cell_type": "code",
   "execution_count": null,
   "metadata": {},
   "outputs": [],
   "source": [
    "# xsections is also 'dict-like', meaning you can work with it like a dictionary. For example, you can combine two collections:\n",
    "\n",
    "new_collection = xns.xsections['basin_left1']\n",
    "print(\"Collection #1:\", new_collection)\n",
    "\n",
    "new_collection.update(xns.xsections['basin_left2'])\n",
    "print(\"Collection #2:\", new_collection)"
   ]
  },
  {
   "cell_type": "code",
   "execution_count": null,
   "metadata": {},
   "outputs": [],
   "source": [
    "# Get a nice overview of the collection as a pandas DataFrame.\n",
    "new_collection.to_dataframe()"
   ]
  },
  {
   "cell_type": "code",
   "execution_count": null,
   "metadata": {},
   "outputs": [],
   "source": [
    "# You can access some basic properties of the collection:\n",
    "print(new_collection.location_ids)\n",
    "print(new_collection.chainages)\n",
    "print(new_collection.topo_ids)"
   ]
  },
  {
   "cell_type": "markdown",
   "metadata": {},
   "source": [
    "### Reading and plotting cross sections"
   ]
  },
  {
   "cell_type": "code",
   "execution_count": null,
   "metadata": {},
   "outputs": [],
   "source": [
    "# Read a cross section into a pandas DataFrame.\n",
    "df = xns.xsections['basin_left1','481.451','1'].read()\n",
    "df"
   ]
  },
  {
   "cell_type": "code",
   "execution_count": null,
   "metadata": {},
   "outputs": [],
   "source": [
    "# Plot the cross section.\n",
    "ax = xns.xsections['basin_left1','122.042','1'].plot()"
   ]
  },
  {
   "cell_type": "code",
   "execution_count": null,
   "metadata": {},
   "outputs": [],
   "source": [
    "# Plot another cross section on the same axis.\n",
    "ax = xns.xsections['basin_left1','166.107', '1'].plot(ax=ax, linestyle='--')\n",
    "ax.figure"
   ]
  },
  {
   "cell_type": "markdown",
   "metadata": {},
   "source": [
    "### Plotting cross sections with GeoPandas"
   ]
  },
  {
   "cell_type": "code",
   "execution_count": null,
   "metadata": {},
   "outputs": [],
   "source": [
    "# You can convert xsections into a GeoDataframe. Note that this requires installation of geopandas.\n",
    "gdf = xns.xsections.to_geopandas()\n",
    "gdf.plot()"
   ]
  },
  {
   "cell_type": "code",
   "execution_count": null,
   "metadata": {},
   "outputs": [],
   "source": [
    "# You can use convert any CrossSectionCollection to a GeoDataFrame.\n",
    "xns.xsections['basin_left1'].to_geopandas().plot()"
   ]
  },
  {
   "cell_type": "code",
   "execution_count": null,
   "metadata": {},
   "outputs": [],
   "source": [
    "# This xns11 file has three topo ids, let's get an overview of where they are located.\n",
    "gdf = xns.xsections.to_geopandas()\n",
    "gdf.plot(column='topo_id', legend=True, legend_kwds={'title': 'Topo'})"
   ]
  },
  {
   "cell_type": "code",
   "execution_count": null,
   "metadata": {},
   "outputs": [],
   "source": [
    "# You can check for overlapping cross sections by seeing if there's duplicate geometries.\n",
    "# Here there's no duplicates, however, we notice a number of cross sections have no coordinates.\n",
    "gdf[gdf.geometry.duplicated()]"
   ]
  }
 ],
 "metadata": {
  "kernelspec": {
   "display_name": "mikeio1d-dev",
   "language": "python",
   "name": "python3"
  },
  "language_info": {
   "codemirror_mode": {
    "name": "ipython",
    "version": 3
   },
   "file_extension": ".py",
   "mimetype": "text/x-python",
   "name": "python",
   "nbconvert_exporter": "python",
   "pygments_lexer": "ipython3",
   "version": "3.12.1"
  }
 },
 "nbformat": 4,
 "nbformat_minor": 2
}
