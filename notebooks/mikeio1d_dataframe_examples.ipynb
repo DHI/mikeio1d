{
 "cells": [
  {
   "cell_type": "markdown",
   "metadata": {},
   "source": [
    "# MIKE IO 1D Pandas DataFrame examples\n",
    "\n",
    "Results in MIKE IO 1D are fundamentally extracted as Pandas DataFrames. This notebook shows\n",
    "specific methods for working with those DataFrames."
   ]
  },
  {
   "cell_type": "code",
   "execution_count": null,
   "metadata": {},
   "outputs": [],
   "source": [
    "from mikeio1d import Res1D\n",
    "\n",
    "res = Res1D('../tests/testdata/network_river.res1d')"
   ]
  },
  {
   "cell_type": "markdown",
   "metadata": {},
   "source": [
    "### Column modes\n",
    "MIKE IO 1D supports different types of column headers. Depending on your use case, one or the other may be preferable. There are four main modes:\n",
    "- string (default)\n",
    "- all\n",
    "- compact\n",
    "- timeseries\n",
    "\n",
    "These are illustrated in the following cells."
   ]
  },
  {
   "cell_type": "code",
   "execution_count": null,
   "metadata": {},
   "outputs": [],
   "source": [
    "# The default column mode concatenates information about the column with a ':' delimiter.   \n",
    "df = res.reaches.Discharge.read()\n",
    "df.head(2)"
   ]
  },
  {
   "cell_type": "code",
   "execution_count": null,
   "metadata": {},
   "outputs": [],
   "source": [
    "# A hierarchical column mode is also supported. Only relevant levels are included with 'compact'. For full hierarchy use 'all'.\n",
    "df = res.reaches.Discharge.read(column_mode='compact')\n",
    "df.head(2)"
   ]
  },
  {
   "cell_type": "code",
   "execution_count": null,
   "metadata": {},
   "outputs": [],
   "source": [
    "# It's also possible to have a TimeSeriesId column index.\n",
    "# TimeSeriesId is an object that uniquely identifies each time series.\n",
    "df = res.reaches.Discharge.read(column_mode='timeseries')\n",
    "df.head(2)"
   ]
  },
  {
   "cell_type": "markdown",
   "metadata": {},
   "source": [
    "### MIKE IO 1D extends Pandas by providing a '.m1d' accessor on all DataFrames.\n",
    "The accessor provides several useful methods for working with DataFrames within MIKE IO 1D:\n",
    "- .m1d.query()\n",
    "- .m1d.compact()\n",
    "- .m1d.groupby()\n",
    "- .m1d.groupby_chainage()\n",
    "- .m1d.agg_chainage()\n",
    "\n",
    "These methods are illustrated below."
   ]
  },
  {
   "cell_type": "code",
   "execution_count": null,
   "metadata": {},
   "outputs": [],
   "source": [
    "# To use the .m1d accessor, the DataFrame must have a MultiIndex column (e.g. column_mode='all' or 'compact').\n",
    "# The .m1d accessor exists on the DataFrame itself.\n",
    "df = res.read(column_mode='all')\n",
    "df.m1d"
   ]
  },
  {
   "cell_type": "markdown",
   "metadata": {},
   "source": [
    "#### .m1d.compact()"
   ]
  },
  {
   "cell_type": "code",
   "execution_count": null,
   "metadata": {},
   "outputs": [],
   "source": [
    "# Let's make some queries on the DataFrame itself with help from the .m1d accessor.\n",
    "# Let's read the entire file into a DataFrame with column_mode='all'.\n",
    "df = res.read(column_mode='all')\n",
    "df.head(2)"
   ]
  },
  {
   "cell_type": "code",
   "execution_count": null,
   "metadata": {},
   "outputs": [],
   "source": [
    "# That's a lot of detail included and is a bit busy. We can use .m1d.compact() to remove redundant levels.\n",
    "df = df.m1d.compact()\n",
    "df.head(2)"
   ]
  },
  {
   "cell_type": "markdown",
   "metadata": {},
   "source": [
    "#### .m1d.query()"
   ]
  },
  {
   "cell_type": "code",
   "execution_count": null,
   "metadata": {},
   "outputs": [],
   "source": [
    "# Let's get Discharge for the reaches.\n",
    "df = df.m1d.query(\"group=='Reach' and quantity=='Discharge'\")\n",
    "df.head(2)"
   ]
  },
  {
   "cell_type": "code",
   "execution_count": null,
   "metadata": {},
   "outputs": [],
   "source": [
    "# Let's look at all the reaches with 'trib' in their name.\n",
    "df = df.m1d.query(\"name.str.contains('trib')\")\n",
    "df.head(2)"
   ]
  },
  {
   "cell_type": "code",
   "execution_count": null,
   "metadata": {},
   "outputs": [],
   "source": [
    "# Let's look at the max discharge for each reach.\n",
    "df.agg(['max'])"
   ]
  },
  {
   "cell_type": "code",
   "execution_count": null,
   "metadata": {},
   "outputs": [],
   "source": [
    "# Use some standard pandas methods to format the table a different way\n",
    "# Tip: Chaining methods in brackets is a great way to explore the data. Comment out lines from bottom up to see the effect.\n",
    "(\n",
    "    df.agg(['max'])\n",
    "    .T\n",
    "    .droplevel(['group'])\n",
    "    .unstack()\n",
    "    #.pipe(lambda df: df * 2) # Uncomment this line to see the effect of the .pipe() method.\n",
    ")"
   ]
  },
  {
   "cell_type": "code",
   "execution_count": null,
   "metadata": {},
   "outputs": [],
   "source": [
    "# Let's start from scratch and use bracket chaining to create the same table\n",
    "df = (\n",
    "    res.read(column_mode='all')\n",
    "    .m1d.query(\"name.str.contains('trib')\")\n",
    "    .m1d.compact()\n",
    "    .m1d.query(\"quantity=='Discharge'\")\n",
    "    .agg(['max'])\n",
    "    .T\n",
    "    .droplevel('group')\n",
    "    .unstack()\n",
    ")\n",
    "df"
   ]
  },
  {
   "cell_type": "markdown",
   "metadata": {},
   "source": [
    "#### .m1d.agg_chainage()"
   ]
  },
  {
   "cell_type": "code",
   "execution_count": null,
   "metadata": {},
   "outputs": [],
   "source": [
    "# Now let's try something different. We aggregate the max discharge for each reach, then look at descriptive staistics along the time axis.\n",
    "# Here, 'count' is the number of time steps and 'mean' is the mean of the max discharges of all Q-points along a reach.\n",
    "(\n",
    "    res.read(column_mode='all')\n",
    "    .m1d.query(\"quantity=='Discharge'\")\n",
    "    .m1d.compact()\n",
    "    .m1d.agg_chainage('max')\n",
    "    .describe()\n",
    ")"
   ]
  },
  {
   "cell_type": "markdown",
   "metadata": {},
   "source": [
    "#### .m1d.groupby_chainage()"
   ]
  },
  {
   "cell_type": "code",
   "execution_count": null,
   "metadata": {},
   "outputs": [],
   "source": [
    "# Similarly, let's look at the mean of the first and last Q points.\n",
    "(\n",
    "    res.read(column_mode='all')\n",
    "    .m1d.query(\"quantity=='Discharge'\")\n",
    "    .m1d.compact()\n",
    "    .m1d.groupby_chainage().nth([0,-1])         # First we groupby, then select the first and last chaianges.\n",
    "    .describe()\n",
    "    .droplevel(['quantity','group'], axis=1)\n",
    ")"
   ]
  },
  {
   "cell_type": "markdown",
   "metadata": {},
   "source": [
    "#### .m1d.groupby()"
   ]
  },
  {
   "cell_type": "code",
   "execution_count": null,
   "metadata": {},
   "outputs": [],
   "source": [
    "# We can similarly use the .m1d accessor to group by dimensions other than chainage.\n",
    "# Below we describe how the global maximum of each quantity in the system varies with time.\n",
    "(\n",
    "    res.read(column_mode='all')\n",
    "    .m1d.groupby('quantity').agg('max')\n",
    "    .describe()\n",
    ")"
   ]
  },
  {
   "cell_type": "code",
   "execution_count": null,
   "metadata": {},
   "outputs": [],
   "source": []
  }
 ],
 "metadata": {
  "kernelspec": {
   "display_name": "Python 3",
   "language": "python",
   "name": "python3"
  },
  "language_info": {
   "codemirror_mode": {
    "name": "ipython",
    "version": 3
   },
   "file_extension": ".py",
   "mimetype": "text/x-python",
   "name": "python",
   "nbconvert_exporter": "python",
   "pygments_lexer": "ipython3",
   "version": "3.12.1"
  }
 },
 "nbformat": 4,
 "nbformat_minor": 2
}
