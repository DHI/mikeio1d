{
 "cells": [
  {
   "cell_type": "markdown",
   "metadata": {},
   "source": [
    "# Xns11 examples"
   ]
  },
  {
   "cell_type": "markdown",
   "metadata": {},
   "source": [
    "#### Creating an Xns11 file a with custom defined cross section"
   ]
  },
  {
   "cell_type": "code",
   "execution_count": null,
   "metadata": {},
   "outputs": [],
   "source": [
    "from mikeio1d import Xns11\n",
    "from mikeio1d.cross_sections import CrossSection\n",
    "import numpy as np"
   ]
  },
  {
   "cell_type": "code",
   "execution_count": null,
   "metadata": {},
   "outputs": [],
   "source": [
    "# Create some imaginary cross section data\n",
    "n_points = 10\n",
    "x = np.linspace(0, 100, n_points)\n",
    "z = 0.5 * (x-50)**2\n",
    "xz_data = np.column_stack((x, z))\n",
    "xz_data[:3]"
   ]
  },
  {
   "cell_type": "code",
   "execution_count": null,
   "metadata": {},
   "outputs": [],
   "source": [
    "# Create a CrossSection object from the xz data\n",
    "location_id = \"my_reach\"\n",
    "chainage = 100.0\n",
    "topo_id = \"my_topo\"\n",
    "\n",
    "xs = CrossSection.from_xz(x, z, location_id, chainage, topo_id)\n",
    "xs"
   ]
  },
  {
   "cell_type": "code",
   "execution_count": null,
   "metadata": {},
   "outputs": [],
   "source": [
    "# Plot the cross section to verify that it looks correct\n",
    "xs.plot()"
   ]
  },
  {
   "cell_type": "code",
   "execution_count": null,
   "metadata": {},
   "outputs": [],
   "source": [
    "# Create an Xns11 object and add the cross section to it.\n",
    "xns = Xns11()\n",
    "xns.xsections.add_xsection(xs)\n",
    "xns.info()"
   ]
  },
  {
   "cell_type": "code",
   "execution_count": null,
   "metadata": {},
   "outputs": [],
   "source": [
    "# Save the Xns11 object to a file\n",
    "xns.write(\"my_xns11.xns11\")"
   ]
  },
  {
   "cell_type": "code",
   "execution_count": null,
   "metadata": {},
   "outputs": [],
   "source": [
    "# Open the file and read the cross section from it as a test\n",
    "xns2 = Xns11(\"my_xns11.xns11\")\n",
    "xs = xns2.xsections.sel(location_id=\"my_reach\", chainage=100, topo_id=\"my_topo\")\n",
    "xs.plot()"
   ]
  },
  {
   "cell_type": "code",
   "execution_count": null,
   "metadata": {},
   "outputs": [],
   "source": [
    "# Clean up\n",
    "import os\n",
    "os.remove(\"my_xns11.xns11\")"
   ]
  },
  {
   "cell_type": "markdown",
   "metadata": {},
   "source": [
    "#### Extract a subset of cross sections and save to another xns11 file."
   ]
  },
  {
   "cell_type": "code",
   "execution_count": null,
   "metadata": {},
   "outputs": [],
   "source": [
    "# Open an existing Xns11 file and extract a slice from it\n",
    "xns = Xns11(\"../tests/testdata/mikep_cs_demo.xns11\")\n",
    "sections = xns.xsections['basin_left1']\n",
    "sections.to_dataframe()"
   ]
  },
  {
   "cell_type": "code",
   "execution_count": null,
   "metadata": {},
   "outputs": [],
   "source": [
    "# Create a new Xns11 object based on these cross sections.\n",
    "xns = Xns11.from_cross_section_collection(sections)\n",
    "xns.info()"
   ]
  },
  {
   "cell_type": "code",
   "execution_count": null,
   "metadata": {},
   "outputs": [],
   "source": [
    "# Save the new Xns11 object to a file\n",
    "xns.write(\"basin_left1_sections.xns11\")"
   ]
  },
  {
   "cell_type": "code",
   "execution_count": null,
   "metadata": {},
   "outputs": [],
   "source": [
    "# Clean up\n",
    "os.remove(\"basin_left1_sections.xns11\")"
   ]
  }
 ],
 "metadata": {
  "kernelspec": {
   "display_name": "mikeio1d-dev",
   "language": "python",
   "name": "python3"
  },
  "language_info": {
   "codemirror_mode": {
    "name": "ipython",
    "version": 3
   },
   "file_extension": ".py",
   "mimetype": "text/x-python",
   "name": "python",
   "nbconvert_exporter": "python",
   "pygments_lexer": "ipython3",
   "version": "3.12.1"
  }
 },
 "nbformat": 4,
 "nbformat_minor": 2
}
