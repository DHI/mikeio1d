{
 "cells": [
  {
   "cell_type": "markdown",
   "metadata": {},
   "source": [
    "# Res1D - Access static network data"
   ]
  },
  {
   "cell_type": "code",
   "execution_count": 1,
   "metadata": {
    "execution": {
     "iopub.execute_input": "2024-11-06T14:20:22.827475Z",
     "iopub.status.busy": "2024-11-06T14:20:22.826696Z",
     "iopub.status.idle": "2024-11-06T14:20:24.245320Z",
     "shell.execute_reply": "2024-11-06T14:20:24.244846Z"
    }
   },
   "outputs": [],
   "source": [
    "import mikeio1d"
   ]
  },
  {
   "cell_type": "code",
   "execution_count": 2,
   "metadata": {
    "execution": {
     "iopub.execute_input": "2024-11-06T14:20:24.247456Z",
     "iopub.status.busy": "2024-11-06T14:20:24.246999Z",
     "iopub.status.idle": "2024-11-06T14:20:24.489153Z",
     "shell.execute_reply": "2024-11-06T14:20:24.488477Z"
    }
   },
   "outputs": [
    {
     "data": {
      "text/plain": [
       "<mikeio1d.Res1D>"
      ]
     },
     "execution_count": 2,
     "metadata": {},
     "output_type": "execute_result"
    }
   ],
   "source": [
    "res = mikeio1d.open(\"../tests/testdata/network.res1d\")\n",
    "res"
   ]
  },
  {
   "cell_type": "markdown",
   "metadata": {},
   "source": [
    "Useful representations show available names and quantities"
   ]
  },
  {
   "cell_type": "code",
   "execution_count": 3,
   "metadata": {
    "execution": {
     "iopub.execute_input": "2024-11-06T14:20:24.491836Z",
     "iopub.status.busy": "2024-11-06T14:20:24.491170Z",
     "iopub.status.idle": "2024-11-06T14:20:24.496920Z",
     "shell.execute_reply": "2024-11-06T14:20:24.496246Z"
    }
   },
   "outputs": [
    {
     "data": {
      "text/html": [
       "&lt;ResultNodes&gt;\n",
       "    <style>\n",
       "        ul {\n",
       "            margin: 0px;\n",
       "            padding: 0px;\n",
       "            padding-left: 2em;\n",
       "        }\n",
       "    </style>\n",
       "    <details><summary>Names (119)</summary><ul><li>1</li><li>2</li><li>3</li><li>4</li><li>5</li><li>6</li><li>7</li><li>8</li><li>9</li><li>10</li><li>11</li><li>13</li><li>14</li><li>15</li><li>17</li><li>20</li><li>21</li><li>22</li><li>23</li><li>24</li><li>25</li><li>26</li><li>27</li><li>28</li><li>29</li><li>30</li><li>31</li><li>32</li><li>33</li><li>34</li><li>35</li><li>36</li><li>37</li><li>38</li><li>39</li><li>40</li><li>41</li><li>42</li><li>43</li><li>44</li><li>45</li><li>47</li><li>48</li><li>49</li><li>50</li><li>51</li><li>52</li><li>53</li><li>54</li><li>56</li><li>57</li><li>59</li><li>60</li><li>61</li><li>62</li><li>63</li><li>64</li><li>65</li><li>66</li><li>67</li><li>68</li><li>69</li><li>70</li><li>71</li><li>72</li><li>73</li><li>74</li><li>75</li><li>76</li><li>77</li><li>78</li><li>79</li><li>80</li><li>81</li><li>82</li><li>83</li><li>84</li><li>85</li><li>86</li><li>87</li><li>88</li><li>89</li><li>90</li><li>91</li><li>92</li><li>93</li><li>94</li><li>95</li><li>96</li><li>97</li><li>98</li><li>99</li><li>100</li><li>101</li><li>102</li><li>103</li><li>104</li><li>105</li><li>106</li><li>107</li><li>108</li><li>109</li><li>110</li><li>111</li><li>112</li><li>113</li><li>114</li><li>12</li><li>16</li><li>46</li><li>55</li><li>58</li><li>116</li><li>117</li><li>118</li><li>115</li><li>119</li><li>120</li><li>Weir Outlet:119w1</li></ul></details><details><summary>Quantities (1)</summary><ul><li>Water level (m)</li></ul></details><details><summary>Derived Quantities (3)</summary><ul><li>NodeFlooding</li><li>NodeWaterDepth</li><li>NodeWaterLevelAboveCritical</li></ul></details>"
      ],
      "text/plain": [
       "<ResultNodes>"
      ]
     },
     "execution_count": 3,
     "metadata": {},
     "output_type": "execute_result"
    }
   ],
   "source": [
    "res.nodes"
   ]
  },
  {
   "cell_type": "code",
   "execution_count": 4,
   "metadata": {
    "execution": {
     "iopub.execute_input": "2024-11-06T14:20:24.499218Z",
     "iopub.status.busy": "2024-11-06T14:20:24.498818Z",
     "iopub.status.idle": "2024-11-06T14:20:24.503753Z",
     "shell.execute_reply": "2024-11-06T14:20:24.503159Z"
    }
   },
   "outputs": [
    {
     "data": {
      "text/html": [
       "&lt;ResultReaches&gt;\n",
       "    <style>\n",
       "        ul {\n",
       "            margin: 0px;\n",
       "            padding: 0px;\n",
       "            padding-left: 2em;\n",
       "        }\n",
       "    </style>\n",
       "    <details><summary>Names (118)</summary><ul><li>100l1</li><li>101l1</li><li>102l1</li><li>103l1</li><li>104l1</li><li>105l1</li><li>106l1</li><li>107l1</li><li>108l1</li><li>109l1</li><li>10l1</li><li>110l1</li><li>111l1</li><li>112l1</li><li>113l1</li><li>114l1</li><li>116l1</li><li>117l1</li><li>118l1</li><li>119l1</li><li>11l1</li><li>12l1</li><li>13l1</li><li>14l1</li><li>15l1</li><li>16l1</li><li>17l1</li><li>1l1</li><li>20l1</li><li>21l1</li><li>22l1</li><li>23l1</li><li>24l1</li><li>25l1</li><li>26l1</li><li>27l1</li><li>28l1</li><li>29l1</li><li>2l1</li><li>30l1</li><li>31l1</li><li>32l1</li><li>33l1</li><li>34l1</li><li>35l1</li><li>36l1</li><li>37l1</li><li>38l1</li><li>39l1</li><li>3l1</li><li>40l1</li><li>41l1</li><li>42l1</li><li>43l1</li><li>44l1</li><li>45l1</li><li>46l1</li><li>47l1</li><li>48l1</li><li>49l1</li><li>4l1</li><li>50l1</li><li>51l1</li><li>52l1</li><li>53l1</li><li>54l1</li><li>55l1</li><li>56l1</li><li>57l1</li><li>58l1</li><li>59l1</li><li>5l1</li><li>60l1</li><li>61l1</li><li>62l1</li><li>63l1</li><li>64l1</li><li>65l1</li><li>66l1</li><li>67l1</li><li>68l1</li><li>69l1</li><li>6l1</li><li>70l1</li><li>71l1</li><li>72l1</li><li>73l1</li><li>74l1</li><li>75l1</li><li>76l1</li><li>77l1</li><li>78l1</li><li>79l1</li><li>7l1</li><li>80l1</li><li>81l1</li><li>82l1</li><li>83l1</li><li>84l1</li><li>85l1</li><li>86l1</li><li>87l1</li><li>88l1</li><li>89l1</li><li>8l1</li><li>90l1</li><li>91l1</li><li>92l1</li><li>93l1</li><li>94l1</li><li>95l1</li><li>96l1</li><li>97l1</li><li>98l1</li><li>99l1</li><li>9l1</li><li>Weir:119w1</li><li>Pump:115p1</li></ul></details><details><summary>Quantities (2)</summary><ul><li>Water level (m)</li><li>Discharge (m^3/s)</li></ul></details><details><summary>Derived Quantities (6)</summary><ul><li>ReachAbsoluteDischarge</li><li>ReachFilling</li><li>ReachFlooding</li><li>ReachQQManning</li><li>ReachWaterDepth</li><li>ReachWaterLevelAboveCritical</li></ul></details>"
      ],
      "text/plain": [
       "<ResultReaches>"
      ]
     },
     "execution_count": 4,
     "metadata": {},
     "output_type": "execute_result"
    }
   ],
   "source": [
    "res.reaches"
   ]
  },
  {
   "cell_type": "markdown",
   "metadata": {},
   "source": [
    "Specific locations also include static network data"
   ]
  },
  {
   "cell_type": "code",
   "execution_count": 5,
   "metadata": {
    "execution": {
     "iopub.execute_input": "2024-11-06T14:20:24.505911Z",
     "iopub.status.busy": "2024-11-06T14:20:24.505536Z",
     "iopub.status.idle": "2024-11-06T14:20:24.509900Z",
     "shell.execute_reply": "2024-11-06T14:20:24.509333Z"
    }
   },
   "outputs": [
    {
     "data": {
      "text/html": [
       "&lt;Manhole: 101&gt;\n",
       "    <style>\n",
       "        ul {\n",
       "            margin: 0px;\n",
       "            padding: 0px;\n",
       "            padding-left: 2em;\n",
       "        }\n",
       "    </style>\n",
       "    <details><summary>Attributes (8)</summary><ul><li>id: 101</li><li>type: Manhole</li><li>xcoord: -687859.5004882812</li><li>ycoord: -1056308.700012207</li><li>ground_level: 196.67999267578125</li><li>bottom_level: 195.92999267578125</li><li>critical_level: inf</li><li>diameter: 1.0</li></ul></details><details><summary>Quantities (1)</summary><ul><li>Water level (m)</li></ul></details><details><summary>Derived Quantities (3)</summary><ul><li>NodeFlooding</li><li>NodeWaterDepth</li><li>NodeWaterLevelAboveCritical</li></ul></details>"
      ],
      "text/plain": [
       "<Manhole: 101>"
      ]
     },
     "execution_count": 5,
     "metadata": {},
     "output_type": "execute_result"
    }
   ],
   "source": [
    "res.nodes[\"101\"]"
   ]
  },
  {
   "cell_type": "code",
   "execution_count": 6,
   "metadata": {
    "execution": {
     "iopub.execute_input": "2024-11-06T14:20:24.511654Z",
     "iopub.status.busy": "2024-11-06T14:20:24.511356Z",
     "iopub.status.idle": "2024-11-06T14:20:24.515675Z",
     "shell.execute_reply": "2024-11-06T14:20:24.515166Z"
    }
   },
   "outputs": [
    {
     "data": {
      "text/plain": [
       "(-687859.5004882812, -1056308.700012207)"
      ]
     },
     "execution_count": 6,
     "metadata": {},
     "output_type": "execute_result"
    }
   ],
   "source": [
    "res.nodes[\"101\"].xcoord, res.nodes[\"101\"].ycoord"
   ]
  },
  {
   "cell_type": "code",
   "execution_count": 7,
   "metadata": {
    "execution": {
     "iopub.execute_input": "2024-11-06T14:20:24.517833Z",
     "iopub.status.busy": "2024-11-06T14:20:24.517333Z",
     "iopub.status.idle": "2024-11-06T14:20:24.521406Z",
     "shell.execute_reply": "2024-11-06T14:20:24.520770Z"
    }
   },
   "outputs": [
    {
     "data": {
      "text/plain": [
       "(196.67999267578125, 195.92999267578125)"
      ]
     },
     "execution_count": 7,
     "metadata": {},
     "output_type": "execute_result"
    }
   ],
   "source": [
    "res.nodes[\"101\"].ground_level, res.nodes[\"101\"].bottom_level"
   ]
  },
  {
   "cell_type": "code",
   "execution_count": 8,
   "metadata": {
    "execution": {
     "iopub.execute_input": "2024-11-06T14:20:24.522984Z",
     "iopub.status.busy": "2024-11-06T14:20:24.522649Z",
     "iopub.status.idle": "2024-11-06T14:20:24.526634Z",
     "shell.execute_reply": "2024-11-06T14:20:24.526173Z"
    }
   },
   "outputs": [
    {
     "data": {
      "text/html": [
       "&lt;Reach: 100l1&gt;\n",
       "    <style>\n",
       "        ul {\n",
       "            margin: 0px;\n",
       "            padding: 0px;\n",
       "            padding-left: 2em;\n",
       "        }\n",
       "    </style>\n",
       "    <details><summary>Attributes (9)</summary><ul><li>name: 100l1</li><li>length: 47.6827148432828</li><li>start_chainage: 0.0</li><li>end_chainage: 47.6827148432828</li><li>n_gridpoints: 3</li><li>start_node: 100</li><li>end_node: 99</li><li>height: 0.30000001192092896</li><li>full_flow_discharge: 0.12058743359507902</li></ul></details><details><summary>Quantities (2)</summary><ul><li>Water level (m)</li><li>Discharge (m^3/s)</li></ul></details><details><summary>Derived Quantities (6)</summary><ul><li>ReachAbsoluteDischarge</li><li>ReachFilling</li><li>ReachFlooding</li><li>ReachQQManning</li><li>ReachWaterDepth</li><li>ReachWaterLevelAboveCritical</li></ul></details>"
      ],
      "text/plain": [
       "<Reach: 100l1>"
      ]
     },
     "execution_count": 8,
     "metadata": {},
     "output_type": "execute_result"
    }
   ],
   "source": [
    "res.reaches[\"100l1\"]"
   ]
  },
  {
   "cell_type": "code",
   "execution_count": 9,
   "metadata": {
    "execution": {
     "iopub.execute_input": "2024-11-06T14:20:24.528051Z",
     "iopub.status.busy": "2024-11-06T14:20:24.527813Z",
     "iopub.status.idle": "2024-11-06T14:20:24.531666Z",
     "shell.execute_reply": "2024-11-06T14:20:24.531217Z"
    }
   },
   "outputs": [
    {
     "data": {
      "text/plain": [
       "['0.000', '23.841', '47.683']"
      ]
     },
     "execution_count": 9,
     "metadata": {},
     "output_type": "execute_result"
    }
   ],
   "source": [
    "res.reaches[\"100l1\"].chainages"
   ]
  },
  {
   "cell_type": "code",
   "execution_count": 10,
   "metadata": {
    "execution": {
     "iopub.execute_input": "2024-11-06T14:20:24.533289Z",
     "iopub.status.busy": "2024-11-06T14:20:24.532966Z",
     "iopub.status.idle": "2024-11-06T14:20:24.536485Z",
     "shell.execute_reply": "2024-11-06T14:20:24.536002Z"
    }
   },
   "outputs": [
    {
     "data": {
      "text/plain": [
       "'100'"
      ]
     },
     "execution_count": 10,
     "metadata": {},
     "output_type": "execute_result"
    }
   ],
   "source": [
    "res.reaches[\"100l1\"].start_node"
   ]
  },
  {
   "cell_type": "code",
   "execution_count": 11,
   "metadata": {
    "execution": {
     "iopub.execute_input": "2024-11-06T14:20:24.538055Z",
     "iopub.status.busy": "2024-11-06T14:20:24.537639Z",
     "iopub.status.idle": "2024-11-06T14:20:24.541015Z",
     "shell.execute_reply": "2024-11-06T14:20:24.540559Z"
    }
   },
   "outputs": [
    {
     "data": {
      "text/plain": [
       "'99'"
      ]
     },
     "execution_count": 11,
     "metadata": {},
     "output_type": "execute_result"
    }
   ],
   "source": [
    "res.reaches[\"100l1\"].end_node"
   ]
  },
  {
   "cell_type": "code",
   "execution_count": 12,
   "metadata": {
    "execution": {
     "iopub.execute_input": "2024-11-06T14:20:24.542422Z",
     "iopub.status.busy": "2024-11-06T14:20:24.542057Z",
     "iopub.status.idle": "2024-11-06T14:20:24.545538Z",
     "shell.execute_reply": "2024-11-06T14:20:24.544980Z"
    }
   },
   "outputs": [
    {
     "data": {
      "text/plain": [
       "0.12058743359507902"
      ]
     },
     "execution_count": 12,
     "metadata": {},
     "output_type": "execute_result"
    }
   ],
   "source": [
    "res.reaches[\"100l1\"].full_flow_discharge"
   ]
  },
  {
   "cell_type": "code",
   "execution_count": 13,
   "metadata": {
    "execution": {
     "iopub.execute_input": "2024-11-06T14:20:24.547249Z",
     "iopub.status.busy": "2024-11-06T14:20:24.546874Z",
     "iopub.status.idle": "2024-11-06T14:20:24.550400Z",
     "shell.execute_reply": "2024-11-06T14:20:24.549890Z"
    }
   },
   "outputs": [
    {
     "data": {
      "text/html": [
       "&lt;ResultGridPoint&gt;\n",
       "    <style>\n",
       "        ul {\n",
       "            margin: 0px;\n",
       "            padding: 0px;\n",
       "            padding-left: 2em;\n",
       "        }\n",
       "    </style>\n",
       "    <details><summary>Attributes (5)</summary><ul><li>reach_name: 100l1</li><li>chainage: 47.6827148432828</li><li>xcoord: -687907.999206543</li><li>ycoord: -1056412.0</li><li>bottom_level: 194.66000366210938</li></ul></details><details><summary>Quantities (1)</summary><ul><li>Water level (m)</li></ul></details><details><summary>Derived Quantities (0)</summary><ul></ul></details>"
      ],
      "text/plain": [
       "<ResultGridPoint>"
      ]
     },
     "execution_count": 13,
     "metadata": {},
     "output_type": "execute_result"
    }
   ],
   "source": [
    "res.reaches[\"100l1\"][-1]"
   ]
  },
  {
   "cell_type": "code",
   "execution_count": 14,
   "metadata": {
    "execution": {
     "iopub.execute_input": "2024-11-06T14:20:24.552497Z",
     "iopub.status.busy": "2024-11-06T14:20:24.552246Z",
     "iopub.status.idle": "2024-11-06T14:20:24.555917Z",
     "shell.execute_reply": "2024-11-06T14:20:24.555377Z"
    }
   },
   "outputs": [
    {
     "data": {
      "text/plain": [
       "47.6827148432828"
      ]
     },
     "execution_count": 14,
     "metadata": {},
     "output_type": "execute_result"
    }
   ],
   "source": [
    "res.reaches[\"100l1\"][-1].chainage"
   ]
  },
  {
   "cell_type": "code",
   "execution_count": 15,
   "metadata": {
    "execution": {
     "iopub.execute_input": "2024-11-06T14:20:24.557454Z",
     "iopub.status.busy": "2024-11-06T14:20:24.557152Z",
     "iopub.status.idle": "2024-11-06T14:20:24.560553Z",
     "shell.execute_reply": "2024-11-06T14:20:24.560118Z"
    }
   },
   "outputs": [
    {
     "data": {
      "text/plain": [
       "(-687907.999206543, -1056412.0)"
      ]
     },
     "execution_count": 15,
     "metadata": {},
     "output_type": "execute_result"
    }
   ],
   "source": [
    "res.reaches[\"100l1\"][-1].xcoord, res.reaches[\"100l1\"][-1].ycoord"
   ]
  },
  {
   "cell_type": "code",
   "execution_count": 16,
   "metadata": {
    "execution": {
     "iopub.execute_input": "2024-11-06T14:20:24.562010Z",
     "iopub.status.busy": "2024-11-06T14:20:24.561861Z",
     "iopub.status.idle": "2024-11-06T14:20:24.565903Z",
     "shell.execute_reply": "2024-11-06T14:20:24.564932Z"
    }
   },
   "outputs": [
    {
     "data": {
      "text/plain": [
       "194.66000366210938"
      ]
     },
     "execution_count": 16,
     "metadata": {},
     "output_type": "execute_result"
    }
   ],
   "source": [
    "res.reaches[\"100l1\"][-1].bottom_level"
   ]
  }
 ],
 "metadata": {
  "kernelspec": {
   "display_name": ".venv",
   "language": "python",
   "name": "python3"
  },
  "language_info": {
   "codemirror_mode": {
    "name": "ipython",
    "version": 3
   },
   "file_extension": ".py",
   "mimetype": "text/x-python",
   "name": "python",
   "nbconvert_exporter": "python",
   "pygments_lexer": "ipython3",
   "version": "3.12.7"
  }
 },
 "nbformat": 4,
 "nbformat_minor": 2
}
