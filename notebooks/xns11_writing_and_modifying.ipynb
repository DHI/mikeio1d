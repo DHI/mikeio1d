{
 "cells": [
  {
   "cell_type": "markdown",
   "metadata": {},
   "source": [
    "# Xns11 Examples - Basic writing and modifying of cross sections"
   ]
  },
  {
   "cell_type": "code",
   "execution_count": null,
   "metadata": {},
   "outputs": [],
   "source": [
    "from mikeio1d import Xns11\n",
    "from mikeio1d.cross_sections import CrossSection\n",
    "from mikeio1d.cross_sections import Marker\n",
    "import numpy as np\n",
    "import matplotlib.pyplot as plt"
   ]
  },
  {
   "cell_type": "markdown",
   "metadata": {},
   "source": [
    "#### Create a custom cross section from raw x, z points."
   ]
  },
  {
   "cell_type": "code",
   "execution_count": null,
   "metadata": {},
   "outputs": [],
   "source": [
    "# Create some imaginary cross section data. You can use your own data here.\n",
    "n_points = 11\n",
    "x = np.linspace(0, 100, n_points)\n",
    "z = 10**-3 * (x-50)**2\n",
    "plt.plot(x, z);"
   ]
  },
  {
   "cell_type": "code",
   "execution_count": null,
   "metadata": {},
   "outputs": [],
   "source": [
    "# Create a CrossSection object from the xz data. Every cross section must have a location id, chainage, and topo id.\n",
    "location_id = \"my_reach\"\n",
    "chainage = 100.0\n",
    "topo_id = \"my_topo\"\n",
    "\n",
    "xs = CrossSection.from_xz(x, z, location_id, chainage, topo_id)\n",
    "xs"
   ]
  },
  {
   "cell_type": "code",
   "execution_count": null,
   "metadata": {},
   "outputs": [],
   "source": [
    "# Plot the cross section to verify that it looks correct. \n",
    "# Notice that default markers are placed (to disable, use default_markers=False when calling create_from_xz).\n",
    "xs.plot()"
   ]
  },
  {
   "cell_type": "code",
   "execution_count": null,
   "metadata": {},
   "outputs": [],
   "source": [
    "# Explore the raw data of the cross section to verify it looks correct.\n",
    "xs.raw"
   ]
  },
  {
   "cell_type": "code",
   "execution_count": null,
   "metadata": {},
   "outputs": [],
   "source": [
    "# Similarly, look at the processed data.\n",
    "xs.processed"
   ]
  },
  {
   "cell_type": "markdown",
   "metadata": {},
   "source": [
    "#### Create an Xns11 file and add a cross section."
   ]
  },
  {
   "cell_type": "code",
   "execution_count": null,
   "metadata": {},
   "outputs": [],
   "source": [
    "# Create an empty Xns11 object.\n",
    "xns = Xns11()\n",
    "xns.info()"
   ]
  },
  {
   "cell_type": "code",
   "execution_count": null,
   "metadata": {},
   "outputs": [],
   "source": [
    "# Add a cross section to the Xns11 object.\n",
    "xns.add_xsection(xs)\n",
    "xns.info()"
   ]
  },
  {
   "cell_type": "code",
   "execution_count": null,
   "metadata": {},
   "outputs": [],
   "source": [
    "# Save the Xns11 object to a file.\n",
    "xns.write(\"my_xns11.xns11\")"
   ]
  },
  {
   "cell_type": "code",
   "execution_count": null,
   "metadata": {},
   "outputs": [],
   "source": [
    "# Open the file and read the cross section from it as a test\n",
    "xns2 = Xns11(\"my_xns11.xns11\")\n",
    "xs = xns2.xsections.sel(location_id=\"my_reach\", chainage=100, topo_id=\"my_topo\")\n",
    "xs.plot()"
   ]
  },
  {
   "cell_type": "markdown",
   "metadata": {},
   "source": [
    "#### Extract a subset of cross sections and save to another xns11 file."
   ]
  },
  {
   "cell_type": "code",
   "execution_count": null,
   "metadata": {},
   "outputs": [],
   "source": [
    "# Open an existing Xns11 file and extract a slice from it\n",
    "xns = Xns11(\"../tests/testdata/mikep_cs_demo.xns11\")\n",
    "sections = xns.xsections['basin_left1']\n",
    "sections.to_dataframe()"
   ]
  },
  {
   "cell_type": "code",
   "execution_count": null,
   "metadata": {},
   "outputs": [],
   "source": [
    "# Create a new Xns11 object based on these cross sections.\n",
    "xns = Xns11.from_cross_section_collection(sections)\n",
    "xns.info()"
   ]
  },
  {
   "cell_type": "code",
   "execution_count": null,
   "metadata": {},
   "outputs": [],
   "source": [
    "# Save the new Xns11 object to a file\n",
    "xns.write(\"basin_left1_sections.xns11\")"
   ]
  },
  {
   "cell_type": "markdown",
   "metadata": {},
   "source": [
    "#### Update an existing cross section's raw data."
   ]
  },
  {
   "cell_type": "code",
   "execution_count": null,
   "metadata": {},
   "outputs": [],
   "source": [
    "# Get the current raw data as a DataFrame to use for further processing.\n",
    "raw_modified = xns.xsections['basin_left1','122.042','1'].raw\n",
    "raw_modified"
   ]
  },
  {
   "cell_type": "code",
   "execution_count": null,
   "metadata": {},
   "outputs": [],
   "source": [
    "# Add 1000 to all 'z' elevations.\n",
    "raw_modified.z += 1000\n",
    "raw_modified"
   ]
  },
  {
   "cell_type": "code",
   "execution_count": null,
   "metadata": {},
   "outputs": [],
   "source": [
    "# Assign the modified raw data back to the cross section.\n",
    "xns.xsections['basin_left1','122.042','1'].raw = raw_modified"
   ]
  },
  {
   "cell_type": "code",
   "execution_count": null,
   "metadata": {},
   "outputs": [],
   "source": [
    "# Write the changes to the file, otherwise they will be lost.\n",
    "xns.write()"
   ]
  },
  {
   "cell_type": "code",
   "execution_count": null,
   "metadata": {},
   "outputs": [],
   "source": [
    "# Confirm the raw data was saved.\n",
    "xns = Xns11(\"basin_left1_sections.xns11\")\n",
    "xns.xsections['basin_left1','122.042','1'].raw"
   ]
  },
  {
   "cell_type": "code",
   "execution_count": null,
   "metadata": {},
   "outputs": [],
   "source": [
    "# Update the coordinate markers. Start by getting the current markers.\n",
    "xns.xsections['basin_left1','122.042','1'].plot()\n",
    "df = xns.xsections['basin_left1','122.042','1'].markers\n",
    "df"
   ]
  },
  {
   "cell_type": "code",
   "execution_count": null,
   "metadata": {},
   "outputs": [],
   "source": [
    "# Set the left and right low flow banks markers, and plot the cross section to verify the changes.\n",
    "xns.xsections['basin_left1','122.042','1'].set_marker(Marker.LEFT_LOW_FLOW_BANK, x=70)\n",
    "xns.xsections['basin_left1','122.042','1'].set_marker(Marker.RIGHT_LOW_FLOW_BANK, x=74)\n",
    "xns.xsections['basin_left1','122.042','1'].plot(with_marker_labels=False)\n",
    "xns.xsections['basin_left1','122.042','1'].markers"
   ]
  },
  {
   "cell_type": "code",
   "execution_count": null,
   "metadata": {},
   "outputs": [],
   "source": [
    "# Add a user defined marker.\n",
    "xns.xsections['basin_left1','122.042','1'].set_marker(42, x=150)\n",
    "xns.xsections['basin_left1','122.042','1'].plot(with_marker_labels=False)\n",
    "xns.xsections['basin_left1','122.042','1'].markers"
   ]
  },
  {
   "cell_type": "code",
   "execution_count": null,
   "metadata": {},
   "outputs": [],
   "source": [
    "# You can also modify the markers by directly modifying the DataFrame and reassigning it.\n",
    "df = xns.xsections['basin_left1','122.042','1'].markers\n",
    "df = df[~df.marker.isin([Marker.LEFT_LEVEE_BANK.value, Marker.RIGHT_LEVEE_BANK.value])]\n",
    "xns.xsections['basin_left1','122.042','1'].markers = df\n",
    "xns.xsections['basin_left1','122.042','1'].recompute_processed()\n",
    "xns.xsections['basin_left1','122.042','1'].plot();"
   ]
  },
  {
   "cell_type": "code",
   "execution_count": null,
   "metadata": {},
   "outputs": [],
   "source": [
    "# Save the changes to the file.\n",
    "xns.write()"
   ]
  },
  {
   "cell_type": "code",
   "execution_count": null,
   "metadata": {},
   "outputs": [],
   "source": [
    "# Similarly, you can update the raw data by reassigning a modified DataFrame.\n",
    "raw_modified = xns.xsections['basin_left1','122.042','1'].raw\n",
    "raw_modified.resistance = 50\n",
    "xns.xsections['basin_left1','122.042','1'].raw = raw_modified\n",
    "xns.xsections['basin_left1','122.042','1'].raw"
   ]
  },
  {
   "cell_type": "code",
   "execution_count": null,
   "metadata": {},
   "outputs": [],
   "source": [
    "xns.write()"
   ]
  },
  {
   "cell_type": "code",
   "execution_count": null,
   "metadata": {},
   "outputs": [],
   "source": [
    "xns.xsections['basin_left1','122.042','1'].resistance_distribution"
   ]
  },
  {
   "cell_type": "code",
   "execution_count": null,
   "metadata": {},
   "outputs": [],
   "source": [
    "xns.xsections['basin_left1','122.042','1'].resistance_distribution = 1\n",
    "xns.xsections['basin_left1','122.042','1'].raw"
   ]
  },
  {
   "cell_type": "code",
   "execution_count": null,
   "metadata": {},
   "outputs": [],
   "source": [
    "xns.xsections['basin_left1','122.042','1'].resistance_left_high_flow"
   ]
  },
  {
   "cell_type": "code",
   "execution_count": null,
   "metadata": {},
   "outputs": [],
   "source": [
    "xns.xsections['basin_left1','122.042','1'].resistance_distribution = 1\n",
    "xns.xsections['basin_left1','122.042','1'].raw"
   ]
  },
  {
   "cell_type": "code",
   "execution_count": null,
   "metadata": {},
   "outputs": [],
   "source": [
    "xns.xsections['basin_left1','122.042','1'].resistance_left_high_flow"
   ]
  },
  {
   "cell_type": "code",
   "execution_count": null,
   "metadata": {},
   "outputs": [],
   "source": [
    "xns.xsections['basin_left1','122.042','1'].resistance_distribution = 0\n",
    "xns.xsections['basin_left1','122.042','1'].resistance_left_high_flow = 25\n",
    "xns.xsections['basin_left1','122.042','1'].resistance_low_flow = 5\n",
    "xns.xsections['basin_left1','122.042','1'].resistance_right_low_flow = 30\n",
    "xns.xsections['basin_left1','122.042','1'].raw.iloc[20:70]"
   ]
  },
  {
   "cell_type": "code",
   "execution_count": null,
   "metadata": {},
   "outputs": [],
   "source": [
    "xns.xsections['basin_left1','122.042','1'].plot()"
   ]
  },
  {
   "cell_type": "markdown",
   "metadata": {},
   "source": [
    "#### Clean up files we created."
   ]
  },
  {
   "cell_type": "code",
   "execution_count": null,
   "metadata": {},
   "outputs": [],
   "source": [
    "import os\n",
    "os.remove(\"my_xns11.xns11\")\n",
    "os.remove(\"basin_left1_sections.xns11\")"
   ]
  },
  {
   "cell_type": "code",
   "execution_count": null,
   "metadata": {},
   "outputs": [],
   "source": []
  }
 ],
 "metadata": {
  "kernelspec": {
   "display_name": "mikeio1d-dev",
   "language": "python",
   "name": "python3"
  },
  "language_info": {
   "codemirror_mode": {
    "name": "ipython",
    "version": 3
   },
   "file_extension": ".py",
   "mimetype": "text/x-python",
   "name": "python",
   "nbconvert_exporter": "python",
   "pygments_lexer": "ipython3",
   "version": "3.12.1"
  }
 },
 "nbformat": 4,
 "nbformat_minor": 2
}
