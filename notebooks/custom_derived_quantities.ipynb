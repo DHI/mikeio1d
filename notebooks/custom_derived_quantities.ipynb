{
 "cells": [
  {
   "cell_type": "markdown",
   "metadata": {},
   "source": [
    "# Custom derived quantities\n",
    "This notebook demonstrates how to extent MIKE IO 1D with your own reuseable derived quantity."
   ]
  },
  {
   "cell_type": "markdown",
   "metadata": {},
   "source": [
    "#### 1 - Exploratory design of the derived quantity"
   ]
  },
  {
   "cell_type": "code",
   "execution_count": null,
   "metadata": {},
   "outputs": [],
   "source": [
    "# Let's open a Res1D file.\n",
    "from mikeio1d import Res1D\n",
    "res = Res1D(\"../tests/testdata/network.res1d\")\n",
    "res"
   ]
  },
  {
   "cell_type": "code",
   "execution_count": null,
   "metadata": {},
   "outputs": [],
   "source": [
    "# We will make a derived quantity that detects instabilities in discharge. Let's first read the discharge at a sample point.\n",
    "res.nodes['1'].WaterLevel.plot()"
   ]
  },
  {
   "cell_type": "code",
   "execution_count": null,
   "metadata": {},
   "outputs": [],
   "source": [
    "# We'll use a simple approach of taking the rolling standard deviation as an indicator of instability.\n",
    "df = res.nodes['1'].WaterLevel.read()\n",
    "df.rolling(3).std().plot()"
   ]
  },
  {
   "cell_type": "code",
   "execution_count": null,
   "metadata": {},
   "outputs": [],
   "source": [
    "# Let's find the node with the highest instability per out definition.\n",
    "(\n",
    "    res.nodes.WaterLevel.read()\n",
    "    .rolling(3)\n",
    "    .std()\n",
    "    .max()\n",
    "    .idxmax()\n",
    ")"
   ]
  },
  {
   "cell_type": "code",
   "execution_count": null,
   "metadata": {},
   "outputs": [],
   "source": [
    "# Let's plot the node found to have the highest instability. Indeed, we found something fishy.\n",
    "res.nodes['Weir Outlet:119w1'].WaterLevel.plot()"
   ]
  },
  {
   "cell_type": "markdown",
   "metadata": {},
   "source": [
    "#### 2 - Create a reuseable derived quantity"
   ]
  },
  {
   "cell_type": "code",
   "execution_count": null,
   "metadata": {},
   "outputs": [],
   "source": [
    "# We'll need some imports\n",
    "from mikeio1d.quantities import DerivedQuantity\n",
    "from mikeio1d.quantities import TimeSeriesIdGroup"
   ]
  },
  {
   "cell_type": "code",
   "execution_count": null,
   "metadata": {},
   "outputs": [],
   "source": [
    "# Now let's build our derived quantity. For that, we need to create a class that inherits from DerivedQuantity.\n",
    "\n",
    "class NodeWaterLevelInstability(DerivedQuantity):\n",
    "    # This is the name of our derived quantity\n",
    "    _NAME = \"NodeWaterLevelInstability\"\n",
    "    # These are the groups the quantity belongs to. Since we're looking at nodes, we put it in the NODE group.\n",
    "    _GROUPS = {TimeSeriesIdGroup.NODE}\n",
    "    # This is the actual quantity we're deriving from. In this case, it's the water level.\n",
    "    _SOURCE_QUANTITY = \"WaterLevel\"\n",
    "\n",
    "    # This contains the logic we created in the last step.\n",
    "    def derive(self, df_source, locations):\n",
    "        return df_source.rolling(3).std()"
   ]
  },
  {
   "cell_type": "code",
   "execution_count": null,
   "metadata": {},
   "outputs": [],
   "source": [
    "# We need to tell MIKE IO 1D that we have a new derived quantity.\n",
    "from mikeio1d.res1d import derived_quantity_manager as dqm\n",
    "dqm.register(NodeWaterLevelInstability)"
   ]
  },
  {
   "cell_type": "markdown",
   "metadata": {},
   "source": [
    "#### 3 - Test our new derived quantity"
   ]
  },
  {
   "cell_type": "code",
   "execution_count": null,
   "metadata": {},
   "outputs": [],
   "source": [
    "# We need to reload our result file.\n",
    "res = Res1D(\"../tests/testdata/network.res1d\")\n",
    "res"
   ]
  },
  {
   "cell_type": "code",
   "execution_count": null,
   "metadata": {},
   "outputs": [],
   "source": [
    "# Let's check out the node we know to be instable. Notice our new derived quantity is listed in the repr below.\n",
    "instable_node = res.nodes['Weir Outlet:119w1']\n",
    "instable_node"
   ]
  },
  {
   "cell_type": "code",
   "execution_count": null,
   "metadata": {},
   "outputs": [],
   "source": [
    "# Let's plot the derived quantity. It looks reasonable.\n",
    "instable_node.NodeWaterLevelInstability.plot(legend=False)"
   ]
  },
  {
   "cell_type": "code",
   "execution_count": null,
   "metadata": {},
   "outputs": [],
   "source": [
    "# Let's read the derived quantity for all nodes.\n",
    "res.nodes.NodeWaterLevelInstability.read().head(5)"
   ]
  }
 ],
 "metadata": {
  "kernelspec": {
   "display_name": "Python 3",
   "language": "python",
   "name": "python3"
  },
  "language_info": {
   "codemirror_mode": {
    "name": "ipython",
    "version": 3
   },
   "file_extension": ".py",
   "mimetype": "text/x-python",
   "name": "python",
   "nbconvert_exporter": "python",
   "pygments_lexer": "ipython3",
   "version": "3.12.1"
  }
 },
 "nbformat": 4,
 "nbformat_minor": 2
}
