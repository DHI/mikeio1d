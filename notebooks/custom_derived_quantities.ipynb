{
 "cells": [
  {
   "cell_type": "markdown",
   "metadata": {},
   "source": [
    "# Custom derived quantities\n",
    "This notebook demonstrates how to extent MIKE IO 1D with your own reuseable derived quantity."
   ]
  },
  {
   "cell_type": "markdown",
   "metadata": {},
   "source": [
    "#### 1 - Exploratory design of the derived quantity"
   ]
  },
  {
   "cell_type": "code",
   "execution_count": null,
   "metadata": {
    "execution": {
     "iopub.execute_input": "2024-10-07T08:52:04.218085Z",
     "iopub.status.busy": "2024-10-07T08:52:04.217744Z",
     "iopub.status.idle": "2024-10-07T08:52:06.617212Z",
     "shell.execute_reply": "2024-10-07T08:52:06.616015Z"
    }
   },
   "outputs": [],
   "source": [
    "# Let's open a Res1D file.\n",
    "from mikeio1d import Res1D\n",
    "res = Res1D(\"../tests/testdata/network.res1d\")\n",
    "res"
   ]
  },
  {
   "cell_type": "code",
   "execution_count": null,
   "metadata": {
    "execution": {
     "iopub.execute_input": "2024-10-07T08:52:06.620495Z",
     "iopub.status.busy": "2024-10-07T08:52:06.620105Z",
     "iopub.status.idle": "2024-10-07T08:52:06.848916Z",
     "shell.execute_reply": "2024-10-07T08:52:06.847452Z"
    }
   },
   "outputs": [],
   "source": [
    "# We will make a derived quantity that detects instabilities in discharge. Let's first read the discharge at a sample point.\n",
    "res.nodes['1'].WaterLevel.plot()"
   ]
  },
  {
   "cell_type": "code",
   "execution_count": null,
   "metadata": {
    "execution": {
     "iopub.execute_input": "2024-10-07T08:52:06.851392Z",
     "iopub.status.busy": "2024-10-07T08:52:06.850928Z",
     "iopub.status.idle": "2024-10-07T08:52:07.054818Z",
     "shell.execute_reply": "2024-10-07T08:52:07.053185Z"
    }
   },
   "outputs": [],
   "source": [
    "# We'll use a simple approach of taking the rolling standard deviation as an indicator of instability.\n",
    "df = res.nodes['1'].WaterLevel.read()\n",
    "df.rolling(3).std().plot()"
   ]
  },
  {
   "cell_type": "code",
   "execution_count": null,
   "metadata": {
    "execution": {
     "iopub.execute_input": "2024-10-07T08:52:07.059752Z",
     "iopub.status.busy": "2024-10-07T08:52:07.058634Z",
     "iopub.status.idle": "2024-10-07T08:52:07.082794Z",
     "shell.execute_reply": "2024-10-07T08:52:07.081162Z"
    }
   },
   "outputs": [],
   "source": [
    "# Let's find the node with the highest instability per out definition.\n",
    "(\n",
    "    res.nodes.WaterLevel.read()\n",
    "    .rolling(3)\n",
    "    .std()\n",
    "    .max()\n",
    "    .idxmax()\n",
    ")"
   ]
  },
  {
   "cell_type": "code",
   "execution_count": null,
   "metadata": {
    "execution": {
     "iopub.execute_input": "2024-10-07T08:52:07.087483Z",
     "iopub.status.busy": "2024-10-07T08:52:07.086232Z",
     "iopub.status.idle": "2024-10-07T08:52:07.248799Z",
     "shell.execute_reply": "2024-10-07T08:52:07.247547Z"
    }
   },
   "outputs": [],
   "source": [
    "# Let's plot the node found to have the highest instability. Indeed, we found something fishy.\n",
    "res.nodes['Weir Outlet:119w1'].WaterLevel.plot()"
   ]
  },
  {
   "cell_type": "markdown",
   "metadata": {},
   "source": [
    "#### 2 - Create a reuseable derived quantity"
   ]
  },
  {
   "cell_type": "code",
   "execution_count": 6,
   "metadata": {
    "execution": {
     "iopub.execute_input": "2024-10-07T08:52:07.251761Z",
     "iopub.status.busy": "2024-10-07T08:52:07.251493Z",
     "iopub.status.idle": "2024-10-07T08:52:07.256288Z",
     "shell.execute_reply": "2024-10-07T08:52:07.255130Z"
    }
   },
   "outputs": [],
   "source": [
    "# We'll need some imports\n",
    "from mikeio1d.quantities import DerivedQuantity\n",
    "from mikeio1d.quantities import TimeSeriesIdGroup"
   ]
  },
  {
   "cell_type": "code",
   "execution_count": 7,
   "metadata": {
    "execution": {
     "iopub.execute_input": "2024-10-07T08:52:07.258701Z",
     "iopub.status.busy": "2024-10-07T08:52:07.258458Z",
     "iopub.status.idle": "2024-10-07T08:52:07.263689Z",
     "shell.execute_reply": "2024-10-07T08:52:07.262520Z"
    }
   },
   "outputs": [],
   "source": [
    "# Now let's build our derived quantity. For that, we need to create a class that inherits from DerivedQuantity.\n",
    "\n",
    "class NodeWaterLevelInstability(DerivedQuantity):\n",
    "    # This is the name of our derived quantity\n",
    "    _NAME = \"NodeWaterLevelInstability\"\n",
    "    # These are the groups the quantity belongs to. Since we're looking at nodes, we put it in the NODE group.\n",
    "    _GROUPS = {TimeSeriesIdGroup.NODE}\n",
    "    # This is the actual quantity we're deriving from. In this case, it's the water level.\n",
    "    _SOURCE_QUANTITY = \"WaterLevel\"\n",
    "\n",
    "    # This contains the logic we created in the last step.\n",
    "    def derive(self, df_source, locations):\n",
    "        return df_source.rolling(3).std()"
   ]
  },
  {
   "cell_type": "markdown",
   "metadata": {},
   "source": [
    "#### 3 - Test our new derived quantity"
   ]
  },
  {
   "cell_type": "code",
   "execution_count": null,
   "metadata": {
    "execution": {
     "iopub.execute_input": "2024-10-07T08:52:07.273515Z",
     "iopub.status.busy": "2024-10-07T08:52:07.273231Z",
     "iopub.status.idle": "2024-10-07T08:52:07.606267Z",
     "shell.execute_reply": "2024-10-07T08:52:07.605331Z"
    }
   },
   "outputs": [],
   "source": [
    "# We need to reload our result file.\n",
    "res = Res1D(\"../tests/testdata/network.res1d\")\n",
    "res"
   ]
  },
  {
   "cell_type": "code",
   "execution_count": 11,
   "metadata": {},
   "outputs": [],
   "source": [
    "# We need to tell MIKE IO 1D that we have a new derived quantity.\n",
    "dqm = res.derived_quantity_manager\n",
    "dqm.register(NodeWaterLevelInstability)"
   ]
  },
  {
   "cell_type": "code",
   "execution_count": null,
   "metadata": {
    "execution": {
     "iopub.execute_input": "2024-10-07T08:52:07.610230Z",
     "iopub.status.busy": "2024-10-07T08:52:07.609139Z",
     "iopub.status.idle": "2024-10-07T08:52:07.616809Z",
     "shell.execute_reply": "2024-10-07T08:52:07.615912Z"
    }
   },
   "outputs": [],
   "source": [
    "# Let's check out the node we know to be instable. Notice our new derived quantity is listed in the repr below.\n",
    "instable_node = res.nodes['Weir Outlet:119w1']\n",
    "instable_node"
   ]
  },
  {
   "cell_type": "code",
   "execution_count": null,
   "metadata": {
    "execution": {
     "iopub.execute_input": "2024-10-07T08:52:07.619825Z",
     "iopub.status.busy": "2024-10-07T08:52:07.619426Z",
     "iopub.status.idle": "2024-10-07T08:52:07.818305Z",
     "shell.execute_reply": "2024-10-07T08:52:07.817093Z"
    }
   },
   "outputs": [],
   "source": [
    "# Let's plot the derived quantity. It looks reasonable.\n",
    "instable_node.NodeWaterLevelInstability.plot(legend=False)"
   ]
  },
  {
   "cell_type": "code",
   "execution_count": null,
   "metadata": {
    "execution": {
     "iopub.execute_input": "2024-10-07T08:52:07.821439Z",
     "iopub.status.busy": "2024-10-07T08:52:07.821137Z",
     "iopub.status.idle": "2024-10-07T08:52:07.880903Z",
     "shell.execute_reply": "2024-10-07T08:52:07.879368Z"
    }
   },
   "outputs": [],
   "source": [
    "# Let's read the derived quantity for all nodes.\n",
    "res.nodes.NodeWaterLevelInstability.read().head(5)"
   ]
  }
 ],
 "metadata": {
  "kernelspec": {
   "display_name": "Python 3",
   "language": "python",
   "name": "python3"
  },
  "language_info": {
   "codemirror_mode": {
    "name": "ipython",
    "version": 3
   },
   "file_extension": ".py",
   "mimetype": "text/x-python",
   "name": "python",
   "nbconvert_exporter": "python",
   "pygments_lexer": "ipython3",
   "version": "3.12.5"
  }
 },
 "nbformat": 4,
 "nbformat_minor": 2
}
