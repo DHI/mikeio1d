{
 "cells": [
  {
   "cell_type": "markdown",
   "metadata": {},
   "source": [
    "# Res1D - Strategies for handling large files"
   ]
  },
  {
   "cell_type": "code",
   "execution_count": 1,
   "metadata": {},
   "outputs": [],
   "source": [
    "import mikeio1d"
   ]
  },
  {
   "cell_type": "markdown",
   "metadata": {},
   "source": [
    "All static network data is loaded into memory by default. Dynamic result data is only loaded when required."
   ]
  },
  {
   "cell_type": "code",
   "execution_count": 2,
   "metadata": {},
   "outputs": [
    {
     "data": {
      "text/plain": [
       "0"
      ]
     },
     "execution_count": 2,
     "metadata": {},
     "output_type": "execute_result"
    }
   ],
   "source": [
    "res = mikeio1d.open(\"../tests/testdata/network.res1d\")\n",
    "loaded_time_steps = res.data.NumberOfTimeSteps\n",
    "loaded_time_steps"
   ]
  },
  {
   "cell_type": "markdown",
   "metadata": {},
   "source": [
    "Calling read() loads dynamic data for the entire network."
   ]
  },
  {
   "cell_type": "code",
   "execution_count": 3,
   "metadata": {},
   "outputs": [
    {
     "data": {
      "text/plain": [
       "110"
      ]
     },
     "execution_count": 3,
     "metadata": {},
     "output_type": "execute_result"
    }
   ],
   "source": [
    "res.read()\n",
    "loaded_time_steps = res.data.NumberOfTimeSteps\n",
    "loaded_time_steps"
   ]
  },
  {
   "cell_type": "markdown",
   "metadata": {},
   "source": [
    "All network dynamic data is loaded into memory regardless of how read() is called. In the future, it would nice to make this work lazily."
   ]
  },
  {
   "cell_type": "code",
   "execution_count": 4,
   "metadata": {},
   "outputs": [
    {
     "data": {
      "text/html": [
       "<div>\n",
       "<style scoped>\n",
       "    .dataframe tbody tr th:only-of-type {\n",
       "        vertical-align: middle;\n",
       "    }\n",
       "\n",
       "    .dataframe tbody tr th {\n",
       "        vertical-align: top;\n",
       "    }\n",
       "\n",
       "    .dataframe thead th {\n",
       "        text-align: right;\n",
       "    }\n",
       "</style>\n",
       "<table border=\"1\" class=\"dataframe\">\n",
       "  <thead>\n",
       "    <tr style=\"text-align: right;\">\n",
       "      <th></th>\n",
       "      <th>WaterLevel:1</th>\n",
       "    </tr>\n",
       "  </thead>\n",
       "  <tbody>\n",
       "    <tr>\n",
       "      <th>1994-08-07 16:35:00.000</th>\n",
       "      <td>195.052994</td>\n",
       "    </tr>\n",
       "    <tr>\n",
       "      <th>1994-08-07 16:36:01.870</th>\n",
       "      <td>195.052994</td>\n",
       "    </tr>\n",
       "    <tr>\n",
       "      <th>1994-08-07 16:37:07.560</th>\n",
       "      <td>195.052994</td>\n",
       "    </tr>\n",
       "    <tr>\n",
       "      <th>1994-08-07 16:38:55.828</th>\n",
       "      <td>195.052994</td>\n",
       "    </tr>\n",
       "    <tr>\n",
       "      <th>1994-08-07 16:39:55.828</th>\n",
       "      <td>195.052994</td>\n",
       "    </tr>\n",
       "  </tbody>\n",
       "</table>\n",
       "</div>"
      ],
      "text/plain": [
       "                         WaterLevel:1\n",
       "1994-08-07 16:35:00.000    195.052994\n",
       "1994-08-07 16:36:01.870    195.052994\n",
       "1994-08-07 16:37:07.560    195.052994\n",
       "1994-08-07 16:38:55.828    195.052994\n",
       "1994-08-07 16:39:55.828    195.052994"
      ]
     },
     "execution_count": 4,
     "metadata": {},
     "output_type": "execute_result"
    }
   ],
   "source": [
    "res = mikeio1d.open(\"../tests/testdata/network.res1d\")\n",
    "# this still reads all network data, but only creates a DataFrame with the requested data\n",
    "res.nodes[\"1\"].WaterLevel.read().head()"
   ]
  },
  {
   "cell_type": "markdown",
   "metadata": {},
   "source": [
    "To avoid loading the entire network's dynamic data into memory, you can specify which IDs to load when opening the file."
   ]
  },
  {
   "cell_type": "code",
   "execution_count": 5,
   "metadata": {},
   "outputs": [
    {
     "data": {
      "text/html": [
       "&lt;ResultNodes&gt; (1)\n",
       "    <style>\n",
       "        ul {\n",
       "            margin: 0px;\n",
       "            padding: 0px;\n",
       "            padding-left: 2em;\n",
       "        }\n",
       "    </style>\n",
       "    <details><summary>Quantities (1)</summary><ul><li>Water level (m)</li></ul></details><details><summary>Derived Quantities (3)</summary><ul><li>NodeFlooding</li><li>NodeWaterDepth</li><li>NodeWaterLevelAboveCritical</li></ul></details>"
      ],
      "text/plain": [
       "<ResultNodes> (1)"
      ]
     },
     "execution_count": 5,
     "metadata": {},
     "output_type": "execute_result"
    }
   ],
   "source": [
    "res = mikeio1d.open(\"../tests/testdata/network.res1d\", nodes=[\"1\"], reaches=[\"100l1\"])\n",
    "res.nodes"
   ]
  },
  {
   "cell_type": "code",
   "execution_count": 6,
   "metadata": {},
   "outputs": [
    {
     "data": {
      "text/html": [
       "&lt;ResultReaches&gt; (1)\n",
       "    <style>\n",
       "        ul {\n",
       "            margin: 0px;\n",
       "            padding: 0px;\n",
       "            padding-left: 2em;\n",
       "        }\n",
       "    </style>\n",
       "    <details><summary>Quantities (2)</summary><ul><li>Water level (m)</li><li>Discharge (m^3/s)</li></ul></details><details><summary>Derived Quantities (6)</summary><ul><li>ReachAbsoluteDischarge</li><li>ReachFilling</li><li>ReachFlooding</li><li>ReachQQManning</li><li>ReachWaterDepth</li><li>ReachWaterLevelAboveCritical</li></ul></details>"
      ],
      "text/plain": [
       "<ResultReaches> (1)"
      ]
     },
     "execution_count": 6,
     "metadata": {},
     "output_type": "execute_result"
    }
   ],
   "source": [
    "res.reaches"
   ]
  },
  {
   "cell_type": "code",
   "execution_count": 7,
   "metadata": {},
   "outputs": [
    {
     "data": {
      "text/html": [
       "<div>\n",
       "<style scoped>\n",
       "    .dataframe tbody tr th:only-of-type {\n",
       "        vertical-align: middle;\n",
       "    }\n",
       "\n",
       "    .dataframe tbody tr th {\n",
       "        vertical-align: top;\n",
       "    }\n",
       "\n",
       "    .dataframe thead th {\n",
       "        text-align: right;\n",
       "    }\n",
       "</style>\n",
       "<table border=\"1\" class=\"dataframe\">\n",
       "  <thead>\n",
       "    <tr style=\"text-align: right;\">\n",
       "      <th></th>\n",
       "      <th>WaterLevel:1</th>\n",
       "      <th>WaterLevel:100l1:0</th>\n",
       "      <th>WaterLevel:100l1:47.6827</th>\n",
       "      <th>Discharge:100l1:23.8414</th>\n",
       "    </tr>\n",
       "  </thead>\n",
       "  <tbody>\n",
       "    <tr>\n",
       "      <th>1994-08-07 16:35:00.000</th>\n",
       "      <td>195.052994</td>\n",
       "      <td>195.441498</td>\n",
       "      <td>194.661499</td>\n",
       "      <td>0.000006</td>\n",
       "    </tr>\n",
       "    <tr>\n",
       "      <th>1994-08-07 16:36:01.870</th>\n",
       "      <td>195.052994</td>\n",
       "      <td>195.441498</td>\n",
       "      <td>194.661621</td>\n",
       "      <td>0.000006</td>\n",
       "    </tr>\n",
       "    <tr>\n",
       "      <th>1994-08-07 16:37:07.560</th>\n",
       "      <td>195.052994</td>\n",
       "      <td>195.441498</td>\n",
       "      <td>194.661728</td>\n",
       "      <td>0.000006</td>\n",
       "    </tr>\n",
       "    <tr>\n",
       "      <th>1994-08-07 16:38:55.828</th>\n",
       "      <td>195.052994</td>\n",
       "      <td>195.441498</td>\n",
       "      <td>194.661804</td>\n",
       "      <td>0.000006</td>\n",
       "    </tr>\n",
       "    <tr>\n",
       "      <th>1994-08-07 16:39:55.828</th>\n",
       "      <td>195.052994</td>\n",
       "      <td>195.441498</td>\n",
       "      <td>194.661972</td>\n",
       "      <td>0.000006</td>\n",
       "    </tr>\n",
       "    <tr>\n",
       "      <th>...</th>\n",
       "      <td>...</td>\n",
       "      <td>...</td>\n",
       "      <td>...</td>\n",
       "      <td>...</td>\n",
       "    </tr>\n",
       "    <tr>\n",
       "      <th>1994-08-07 18:30:07.967</th>\n",
       "      <td>195.119919</td>\n",
       "      <td>195.455109</td>\n",
       "      <td>194.689072</td>\n",
       "      <td>0.000588</td>\n",
       "    </tr>\n",
       "    <tr>\n",
       "      <th>1994-08-07 18:31:07.967</th>\n",
       "      <td>195.118607</td>\n",
       "      <td>195.455063</td>\n",
       "      <td>194.688934</td>\n",
       "      <td>0.000583</td>\n",
       "    </tr>\n",
       "    <tr>\n",
       "      <th>1994-08-07 18:32:07.967</th>\n",
       "      <td>195.117310</td>\n",
       "      <td>195.455002</td>\n",
       "      <td>194.688812</td>\n",
       "      <td>0.000579</td>\n",
       "    </tr>\n",
       "    <tr>\n",
       "      <th>1994-08-07 18:33:07.967</th>\n",
       "      <td>195.115753</td>\n",
       "      <td>195.453049</td>\n",
       "      <td>194.688354</td>\n",
       "      <td>0.000526</td>\n",
       "    </tr>\n",
       "    <tr>\n",
       "      <th>1994-08-07 18:35:00.000</th>\n",
       "      <td>195.112534</td>\n",
       "      <td>195.450409</td>\n",
       "      <td>194.686172</td>\n",
       "      <td>0.000343</td>\n",
       "    </tr>\n",
       "  </tbody>\n",
       "</table>\n",
       "<p>110 rows × 4 columns</p>\n",
       "</div>"
      ],
      "text/plain": [
       "                         WaterLevel:1  WaterLevel:100l1:0  \\\n",
       "1994-08-07 16:35:00.000    195.052994          195.441498   \n",
       "1994-08-07 16:36:01.870    195.052994          195.441498   \n",
       "1994-08-07 16:37:07.560    195.052994          195.441498   \n",
       "1994-08-07 16:38:55.828    195.052994          195.441498   \n",
       "1994-08-07 16:39:55.828    195.052994          195.441498   \n",
       "...                               ...                 ...   \n",
       "1994-08-07 18:30:07.967    195.119919          195.455109   \n",
       "1994-08-07 18:31:07.967    195.118607          195.455063   \n",
       "1994-08-07 18:32:07.967    195.117310          195.455002   \n",
       "1994-08-07 18:33:07.967    195.115753          195.453049   \n",
       "1994-08-07 18:35:00.000    195.112534          195.450409   \n",
       "\n",
       "                         WaterLevel:100l1:47.6827  Discharge:100l1:23.8414  \n",
       "1994-08-07 16:35:00.000                194.661499                 0.000006  \n",
       "1994-08-07 16:36:01.870                194.661621                 0.000006  \n",
       "1994-08-07 16:37:07.560                194.661728                 0.000006  \n",
       "1994-08-07 16:38:55.828                194.661804                 0.000006  \n",
       "1994-08-07 16:39:55.828                194.661972                 0.000006  \n",
       "...                                           ...                      ...  \n",
       "1994-08-07 18:30:07.967                194.689072                 0.000588  \n",
       "1994-08-07 18:31:07.967                194.688934                 0.000583  \n",
       "1994-08-07 18:32:07.967                194.688812                 0.000579  \n",
       "1994-08-07 18:33:07.967                194.688354                 0.000526  \n",
       "1994-08-07 18:35:00.000                194.686172                 0.000343  \n",
       "\n",
       "[110 rows x 4 columns]"
      ]
     },
     "execution_count": 7,
     "metadata": {},
     "output_type": "execute_result"
    }
   ],
   "source": [
    "res.read()"
   ]
  },
  {
   "cell_type": "markdown",
   "metadata": {},
   "source": [
    "Similarly, you can also specify the time range to read."
   ]
  },
  {
   "cell_type": "code",
   "execution_count": 8,
   "metadata": {},
   "outputs": [
    {
     "data": {
      "text/plain": [
       "0"
      ]
     },
     "execution_count": 8,
     "metadata": {},
     "output_type": "execute_result"
    }
   ],
   "source": [
    "start, end = \"1994-08-07 18:30:07.967\", \"1994-08-07 18:33:07.967\"\n",
    "res = mikeio1d.open(\n",
    "    \"../tests/testdata/network.res1d\", nodes=[\"1\"], reaches=[\"100l1\"], time=(start, end)\n",
    ")\n",
    "loaded_time_steps = res.data.NumberOfTimeSteps\n",
    "loaded_time_steps"
   ]
  },
  {
   "cell_type": "code",
   "execution_count": 9,
   "metadata": {},
   "outputs": [
    {
     "data": {
      "text/plain": [
       "4"
      ]
     },
     "execution_count": 9,
     "metadata": {},
     "output_type": "execute_result"
    }
   ],
   "source": [
    "res.read()\n",
    "loaded_time_steps = res.data.NumberOfTimeSteps\n",
    "loaded_time_steps"
   ]
  },
  {
   "cell_type": "code",
   "execution_count": 10,
   "metadata": {},
   "outputs": [
    {
     "data": {
      "text/html": [
       "<div>\n",
       "<style scoped>\n",
       "    .dataframe tbody tr th:only-of-type {\n",
       "        vertical-align: middle;\n",
       "    }\n",
       "\n",
       "    .dataframe tbody tr th {\n",
       "        vertical-align: top;\n",
       "    }\n",
       "\n",
       "    .dataframe thead th {\n",
       "        text-align: right;\n",
       "    }\n",
       "</style>\n",
       "<table border=\"1\" class=\"dataframe\">\n",
       "  <thead>\n",
       "    <tr style=\"text-align: right;\">\n",
       "      <th></th>\n",
       "      <th>WaterLevel:1</th>\n",
       "      <th>WaterLevel:100l1:0</th>\n",
       "      <th>WaterLevel:100l1:47.6827</th>\n",
       "      <th>Discharge:100l1:23.8414</th>\n",
       "    </tr>\n",
       "  </thead>\n",
       "  <tbody>\n",
       "    <tr>\n",
       "      <th>1994-08-07 18:30:07.967</th>\n",
       "      <td>195.119919</td>\n",
       "      <td>195.455109</td>\n",
       "      <td>194.689072</td>\n",
       "      <td>0.000588</td>\n",
       "    </tr>\n",
       "    <tr>\n",
       "      <th>1994-08-07 18:31:07.967</th>\n",
       "      <td>195.118607</td>\n",
       "      <td>195.455063</td>\n",
       "      <td>194.688934</td>\n",
       "      <td>0.000583</td>\n",
       "    </tr>\n",
       "    <tr>\n",
       "      <th>1994-08-07 18:32:07.967</th>\n",
       "      <td>195.117310</td>\n",
       "      <td>195.455002</td>\n",
       "      <td>194.688812</td>\n",
       "      <td>0.000579</td>\n",
       "    </tr>\n",
       "    <tr>\n",
       "      <th>1994-08-07 18:33:07.967</th>\n",
       "      <td>195.115753</td>\n",
       "      <td>195.453049</td>\n",
       "      <td>194.688354</td>\n",
       "      <td>0.000526</td>\n",
       "    </tr>\n",
       "  </tbody>\n",
       "</table>\n",
       "</div>"
      ],
      "text/plain": [
       "                         WaterLevel:1  WaterLevel:100l1:0  \\\n",
       "1994-08-07 18:30:07.967    195.119919          195.455109   \n",
       "1994-08-07 18:31:07.967    195.118607          195.455063   \n",
       "1994-08-07 18:32:07.967    195.117310          195.455002   \n",
       "1994-08-07 18:33:07.967    195.115753          195.453049   \n",
       "\n",
       "                         WaterLevel:100l1:47.6827  Discharge:100l1:23.8414  \n",
       "1994-08-07 18:30:07.967                194.689072                 0.000588  \n",
       "1994-08-07 18:31:07.967                194.688934                 0.000583  \n",
       "1994-08-07 18:32:07.967                194.688812                 0.000579  \n",
       "1994-08-07 18:33:07.967                194.688354                 0.000526  "
      ]
     },
     "execution_count": 10,
     "metadata": {},
     "output_type": "execute_result"
    }
   ],
   "source": [
    "res.read().head()"
   ]
  },
  {
   "cell_type": "markdown",
   "metadata": {},
   "source": [
    "It's also possible to load every 'nth' time step with the 'step_every' parameter."
   ]
  },
  {
   "cell_type": "code",
   "execution_count": 42,
   "metadata": {},
   "outputs": [
    {
     "data": {
      "text/plain": [
       "(np.float64(8984.71875), np.float64(8984.743055555555))"
      ]
     },
     "execution_count": 42,
     "metadata": {},
     "output_type": "execute_result"
    },
    {
     "data": {
      "image/png": "[encoded data removed]",
      "text/plain": [
       "<Figure size 640x480 with 1 Axes>"
      ]
     },
     "metadata": {},
     "output_type": "display_data"
    }
   ],
   "source": [
    "# First plot the full time series for a comparison\n",
    "res = mikeio1d.open(\n",
    "    \"../tests/testdata/network.res1d\", reaches=[\"100l1\"]\n",
    ")\n",
    "ax = res.reaches['100l1'][0].WaterLevel.plot(linestyle='-', marker='x')\n",
    "\n",
    "# Then plot with every 5th time step\n",
    "\n",
    "res = mikeio1d.open(\n",
    "    \"../tests/testdata/network.res1d\", reaches=[\"100l1\"], step_every=5,\n",
    ")\n",
    "ax = res.reaches['100l1'][0].WaterLevel.plot(ax=ax, linestyle='--', marker='o', color='g')\n",
    "\n",
    "ax.legend([\"all steps\", \"step_every=5\"])\n",
    "ax.set_xlim(\"1994-08-07 17:15\", \"1994-08-07 17:50\")"
   ]
  },
  {
   "cell_type": "code",
   "execution_count": 43,
   "metadata": {},
   "outputs": [
    {
     "name": "stderr",
     "output_type": "stream",
     "text": [
      "/home/ryan/mikeio1d/mikeio1d/res1d.py:602: FutureWarning: The 'data' parameter will be deprecated in 1.0. Use 'result_data' instead.\n",
      "  warnings.warn(\n"
     ]
    },
    {
     "data": {
      "text/plain": [
       "22"
      ]
     },
     "execution_count": 43,
     "metadata": {},
     "output_type": "execute_result"
    }
   ],
   "source": [
    "res.data.NumberOfTimeSteps"
   ]
  },
  {
   "cell_type": "markdown",
   "metadata": {},
   "source": [
    "Lastly you can also specify which quantities to include."
   ]
  },
  {
   "cell_type": "code",
   "execution_count": 45,
   "metadata": {},
   "outputs": [
    {
     "data": {
      "text/html": [
       "<div>\n",
       "<style scoped>\n",
       "    .dataframe tbody tr th:only-of-type {\n",
       "        vertical-align: middle;\n",
       "    }\n",
       "\n",
       "    .dataframe tbody tr th {\n",
       "        vertical-align: top;\n",
       "    }\n",
       "\n",
       "    .dataframe thead th {\n",
       "        text-align: right;\n",
       "    }\n",
       "</style>\n",
       "<table border=\"1\" class=\"dataframe\">\n",
       "  <thead>\n",
       "    <tr style=\"text-align: right;\">\n",
       "      <th></th>\n",
       "      <th>Discharge:100l1:23.8414</th>\n",
       "    </tr>\n",
       "  </thead>\n",
       "  <tbody>\n",
       "    <tr>\n",
       "      <th>1994-08-07 16:35:00.000</th>\n",
       "      <td>0.000006</td>\n",
       "    </tr>\n",
       "    <tr>\n",
       "      <th>1994-08-07 16:45:55.828</th>\n",
       "      <td>0.000006</td>\n",
       "    </tr>\n",
       "    <tr>\n",
       "      <th>1994-08-07 16:58:12.888</th>\n",
       "      <td>0.001852</td>\n",
       "    </tr>\n",
       "    <tr>\n",
       "      <th>1994-08-07 17:08:12.888</th>\n",
       "      <td>0.000951</td>\n",
       "    </tr>\n",
       "    <tr>\n",
       "      <th>1994-08-07 17:18:12.888</th>\n",
       "      <td>0.000674</td>\n",
       "    </tr>\n",
       "    <tr>\n",
       "      <th>1994-08-07 17:28:31.543</th>\n",
       "      <td>0.099751</td>\n",
       "    </tr>\n",
       "    <tr>\n",
       "      <th>1994-08-07 17:38:31.543</th>\n",
       "      <td>0.056495</td>\n",
       "    </tr>\n",
       "    <tr>\n",
       "      <th>1994-08-07 17:48:52.376</th>\n",
       "      <td>0.006408</td>\n",
       "    </tr>\n",
       "    <tr>\n",
       "      <th>1994-08-07 18:00:56.369</th>\n",
       "      <td>0.001234</td>\n",
       "    </tr>\n",
       "    <tr>\n",
       "      <th>1994-08-07 18:13:18.518</th>\n",
       "      <td>0.000740</td>\n",
       "    </tr>\n",
       "    <tr>\n",
       "      <th>1994-08-07 18:25:07.967</th>\n",
       "      <td>0.000612</td>\n",
       "    </tr>\n",
       "  </tbody>\n",
       "</table>\n",
       "</div>"
      ],
      "text/plain": [
       "                         Discharge:100l1:23.8414\n",
       "1994-08-07 16:35:00.000                 0.000006\n",
       "1994-08-07 16:45:55.828                 0.000006\n",
       "1994-08-07 16:58:12.888                 0.001852\n",
       "1994-08-07 17:08:12.888                 0.000951\n",
       "1994-08-07 17:18:12.888                 0.000674\n",
       "1994-08-07 17:28:31.543                 0.099751\n",
       "1994-08-07 17:38:31.543                 0.056495\n",
       "1994-08-07 17:48:52.376                 0.006408\n",
       "1994-08-07 18:00:56.369                 0.001234\n",
       "1994-08-07 18:13:18.518                 0.000740\n",
       "1994-08-07 18:25:07.967                 0.000612"
      ]
     },
     "execution_count": 45,
     "metadata": {},
     "output_type": "execute_result"
    }
   ],
   "source": [
    "res = mikeio1d.open(\n",
    "    \"../tests/testdata/network.res1d\", nodes=[\"1\"], reaches=[\"100l1\"], step_every=10, quantities=[\"Discharge\"]\n",
    ")\n",
    "res.read()"
   ]
  }
 ],
 "metadata": {
  "kernelspec": {
   "display_name": ".venv",
   "language": "python",
   "name": "python3"
  },
  "language_info": {
   "codemirror_mode": {
    "name": "ipython",
    "version": 3
   },
   "file_extension": ".py",
   "mimetype": "text/x-python",
   "name": "python",
   "nbconvert_exporter": "python",
   "pygments_lexer": "ipython3",
   "version": "3.12.7"
  }
 },
 "nbformat": 4,
 "nbformat_minor": 2
}
