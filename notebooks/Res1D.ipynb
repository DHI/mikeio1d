{
 "cells": [
  {
   "cell_type": "markdown",
   "metadata": {},
   "source": [
    "# Read a Res1D file"
   ]
  },
  {
   "cell_type": "code",
   "execution_count": 1,
   "metadata": {},
   "outputs": [],
   "source": [
    "from mikeio1d.res1d import Res1D"
   ]
  },
  {
   "cell_type": "code",
   "execution_count": 2,
   "metadata": {},
   "outputs": [],
   "source": [
    "file_path = \"../tests/testdata/Exam6Base.res1d\""
   ]
  },
  {
   "cell_type": "code",
   "execution_count": 3,
   "metadata": {},
   "outputs": [],
   "source": [
    "res1d = Res1D(file_path)\n",
    "df = res1d.read()"
   ]
  },
  {
   "cell_type": "code",
   "execution_count": 4,
   "metadata": {},
   "outputs": [
    {
     "output_type": "execute_result",
     "data": {
      "text/plain": [
       "                     Discharge:100l1:23.8414  Discharge:101l1:33.218  \\\n",
       "1994-08-07 16:35:00                 0.000006                0.000004   \n",
       "1994-08-07 16:36:01                 0.000006                0.000004   \n",
       "1994-08-07 16:37:07                 0.000006                0.000004   \n",
       "1994-08-07 16:38:55                 0.000006                0.000004   \n",
       "1994-08-07 16:39:55                 0.000006                0.000004   \n",
       "\n",
       "                     Discharge:102l1:5.46832  Discharge:103l1:13.0327  \\\n",
       "1994-08-07 16:35:00                 0.000000                 0.000003   \n",
       "1994-08-07 16:36:01                 0.000008                 0.000003   \n",
       "1994-08-07 16:37:07                 0.000016                 0.000003   \n",
       "1994-08-07 16:38:55                 0.000022                 0.000003   \n",
       "1994-08-07 16:39:55                 0.000024                 0.000003   \n",
       "\n",
       "                     Discharge:104l1:17.2065  Discharge:105l1:13.4997  \\\n",
       "1994-08-07 16:35:00                 0.000005                 0.000003   \n",
       "1994-08-07 16:36:01                 0.000005                 0.000003   \n",
       "1994-08-07 16:37:07                 0.000005                 0.000003   \n",
       "1994-08-07 16:38:55                 0.000005                 0.000003   \n",
       "1994-08-07 16:39:55                 0.000005                 0.000003   \n",
       "\n",
       "                     Discharge:106l1:11.4056  Discharge:107l1:8.46476  \\\n",
       "1994-08-07 16:35:00                 0.000005                 0.000005   \n",
       "1994-08-07 16:36:01                 0.000005                 0.000005   \n",
       "1994-08-07 16:37:07                 0.000005                 0.000005   \n",
       "1994-08-07 16:38:55                 0.000004                 0.000004   \n",
       "1994-08-07 16:39:55                 0.000004                 0.000004   \n",
       "\n",
       "                     Discharge:108l1:15.3589  Discharge:109l1:13.546  ...  \\\n",
       "1994-08-07 16:35:00                 0.000003                0.000002  ...   \n",
       "1994-08-07 16:36:01                 0.000003                0.000002  ...   \n",
       "1994-08-07 16:37:07                 0.000003                0.000002  ...   \n",
       "1994-08-07 16:38:55                 0.000003                0.000002  ...   \n",
       "1994-08-07 16:39:55                 0.000003                0.000002  ...   \n",
       "\n",
       "                     WaterLevel:99  WaterLevel:99l1:0  \\\n",
       "1994-08-07 16:35:00       194.6615           194.6615   \n",
       "1994-08-07 16:36:01       194.6616           194.6616   \n",
       "1994-08-07 16:37:07       194.6617           194.6617   \n",
       "1994-08-07 16:38:55       194.6619           194.6619   \n",
       "1994-08-07 16:39:55       194.6620           194.6619   \n",
       "\n",
       "                     WaterLevel:99l1:44.5016  WaterLevel:9l1:0  \\\n",
       "1994-08-07 16:35:00                 194.5815          193.7750   \n",
       "1994-08-07 16:36:01                 194.5815          193.7751   \n",
       "1994-08-07 16:37:07                 194.5815          193.7754   \n",
       "1994-08-07 16:38:55                 194.5815          193.7759   \n",
       "1994-08-07 16:39:55                 194.5815          193.7762   \n",
       "\n",
       "                     WaterLevel:9l1:10  WaterLevel:Pump:115p1:0  \\\n",
       "1994-08-07 16:35:00           193.7650                 193.3050   \n",
       "1994-08-07 16:36:01           193.7651                 193.3061   \n",
       "1994-08-07 16:37:07           193.7651                 193.3071   \n",
       "1994-08-07 16:38:55           193.7652                 193.3089   \n",
       "1994-08-07 16:39:55           193.7653                 193.3099   \n",
       "\n",
       "                     WaterLevel:Pump:115p1:82.4281  \\\n",
       "1994-08-07 16:35:00                        195.005   \n",
       "1994-08-07 16:36:01                        195.005   \n",
       "1994-08-07 16:37:07                        195.005   \n",
       "1994-08-07 16:38:55                        195.005   \n",
       "1994-08-07 16:39:55                        195.005   \n",
       "\n",
       "                     WaterLevel:Weir Outlet:119w1  WaterLevel:Weir:119w1:0  \\\n",
       "1994-08-07 16:35:00                        193.78                 193.5500   \n",
       "1994-08-07 16:36:01                        188.48                 193.5500   \n",
       "1994-08-07 16:37:07                        188.48                 193.5500   \n",
       "1994-08-07 16:38:55                        188.48                 193.5501   \n",
       "1994-08-07 16:39:55                        188.48                 193.5501   \n",
       "\n",
       "                     WaterLevel:Weir:119w1:1  \n",
       "1994-08-07 16:35:00                   188.48  \n",
       "1994-08-07 16:36:01                   188.48  \n",
       "1994-08-07 16:37:07                   188.48  \n",
       "1994-08-07 16:38:55                   188.48  \n",
       "1994-08-07 16:39:55                   188.48  \n",
       "\n",
       "[5 rows x 495 columns]"
      ],
      "text/html": "<div>\n<style scoped>\n    .dataframe tbody tr th:only-of-type {\n        vertical-align: middle;\n    }\n\n    .dataframe tbody tr th {\n        vertical-align: top;\n    }\n\n    .dataframe thead th {\n        text-align: right;\n    }\n</style>\n<table border=\"1\" class=\"dataframe\">\n  <thead>\n    <tr style=\"text-align: right;\">\n      <th></th>\n      <th>Discharge:100l1:23.8414</th>\n      <th>Discharge:101l1:33.218</th>\n      <th>Discharge:102l1:5.46832</th>\n      <th>Discharge:103l1:13.0327</th>\n      <th>Discharge:104l1:17.2065</th>\n      <th>Discharge:105l1:13.4997</th>\n      <th>Discharge:106l1:11.4056</th>\n      <th>Discharge:107l1:8.46476</th>\n      <th>Discharge:108l1:15.3589</th>\n      <th>Discharge:109l1:13.546</th>\n      <th>...</th>\n      <th>WaterLevel:99</th>\n      <th>WaterLevel:99l1:0</th>\n      <th>WaterLevel:99l1:44.5016</th>\n      <th>WaterLevel:9l1:0</th>\n      <th>WaterLevel:9l1:10</th>\n      <th>WaterLevel:Pump:115p1:0</th>\n      <th>WaterLevel:Pump:115p1:82.4281</th>\n      <th>WaterLevel:Weir Outlet:119w1</th>\n      <th>WaterLevel:Weir:119w1:0</th>\n      <th>WaterLevel:Weir:119w1:1</th>\n    </tr>\n  </thead>\n  <tbody>\n    <tr>\n      <th>1994-08-07 16:35:00</th>\n      <td>0.000006</td>\n      <td>0.000004</td>\n      <td>0.000000</td>\n      <td>0.000003</td>\n      <td>0.000005</td>\n      <td>0.000003</td>\n      <td>0.000005</td>\n      <td>0.000005</td>\n      <td>0.000003</td>\n      <td>0.000002</td>\n      <td>...</td>\n      <td>194.6615</td>\n      <td>194.6615</td>\n      <td>194.5815</td>\n      <td>193.7750</td>\n      <td>193.7650</td>\n      <td>193.3050</td>\n      <td>195.005</td>\n      <td>193.78</td>\n      <td>193.5500</td>\n      <td>188.48</td>\n    </tr>\n    <tr>\n      <th>1994-08-07 16:36:01</th>\n      <td>0.000006</td>\n      <td>0.000004</td>\n      <td>0.000008</td>\n      <td>0.000003</td>\n      <td>0.000005</td>\n      <td>0.000003</td>\n      <td>0.000005</td>\n      <td>0.000005</td>\n      <td>0.000003</td>\n      <td>0.000002</td>\n      <td>...</td>\n      <td>194.6616</td>\n      <td>194.6616</td>\n      <td>194.5815</td>\n      <td>193.7751</td>\n      <td>193.7651</td>\n      <td>193.3061</td>\n      <td>195.005</td>\n      <td>188.48</td>\n      <td>193.5500</td>\n      <td>188.48</td>\n    </tr>\n    <tr>\n      <th>1994-08-07 16:37:07</th>\n      <td>0.000006</td>\n      <td>0.000004</td>\n      <td>0.000016</td>\n      <td>0.000003</td>\n      <td>0.000005</td>\n      <td>0.000003</td>\n      <td>0.000005</td>\n      <td>0.000005</td>\n      <td>0.000003</td>\n      <td>0.000002</td>\n      <td>...</td>\n      <td>194.6617</td>\n      <td>194.6617</td>\n      <td>194.5815</td>\n      <td>193.7754</td>\n      <td>193.7651</td>\n      <td>193.3071</td>\n      <td>195.005</td>\n      <td>188.48</td>\n      <td>193.5500</td>\n      <td>188.48</td>\n    </tr>\n    <tr>\n      <th>1994-08-07 16:38:55</th>\n      <td>0.000006</td>\n      <td>0.000004</td>\n      <td>0.000022</td>\n      <td>0.000003</td>\n      <td>0.000005</td>\n      <td>0.000003</td>\n      <td>0.000004</td>\n      <td>0.000004</td>\n      <td>0.000003</td>\n      <td>0.000002</td>\n      <td>...</td>\n      <td>194.6619</td>\n      <td>194.6619</td>\n      <td>194.5815</td>\n      <td>193.7759</td>\n      <td>193.7652</td>\n      <td>193.3089</td>\n      <td>195.005</td>\n      <td>188.48</td>\n      <td>193.5501</td>\n      <td>188.48</td>\n    </tr>\n    <tr>\n      <th>1994-08-07 16:39:55</th>\n      <td>0.000006</td>\n      <td>0.000004</td>\n      <td>0.000024</td>\n      <td>0.000003</td>\n      <td>0.000005</td>\n      <td>0.000003</td>\n      <td>0.000004</td>\n      <td>0.000004</td>\n      <td>0.000003</td>\n      <td>0.000002</td>\n      <td>...</td>\n      <td>194.6620</td>\n      <td>194.6619</td>\n      <td>194.5815</td>\n      <td>193.7762</td>\n      <td>193.7653</td>\n      <td>193.3099</td>\n      <td>195.005</td>\n      <td>188.48</td>\n      <td>193.5501</td>\n      <td>188.48</td>\n    </tr>\n  </tbody>\n</table>\n<p>5 rows × 495 columns</p>\n</div>"
     },
     "metadata": {},
     "execution_count": 4
    }
   ],
   "source": [
    "df.head()"
   ]
  },
  {
   "cell_type": "code",
   "execution_count": 5,
   "metadata": {},
   "outputs": [
    {
     "output_type": "error",
     "ename": "KeyError",
     "evalue": "\"['WaterLevel:100l1:1'] not in index\"",
     "traceback": [
      "\u001b[1;31m---------------------------------------------------------------------------\u001b[0m",
      "\u001b[1;31mKeyError\u001b[0m                                  Traceback (most recent call last)",
      "\u001b[1;32m<ipython-input-5-31b9e6ce70e9>\u001b[0m in \u001b[0;36m<module>\u001b[1;34m\u001b[0m\n\u001b[1;32m----> 1\u001b[1;33m \u001b[0mdf\u001b[0m\u001b[1;33m[\u001b[0m\u001b[1;33m[\u001b[0m\u001b[1;34m'WaterLevel:100l1:0'\u001b[0m\u001b[1;33m,\u001b[0m \u001b[1;34m'WaterLevel:100l1:1'\u001b[0m\u001b[1;33m]\u001b[0m\u001b[1;33m]\u001b[0m\u001b[1;33m.\u001b[0m\u001b[0mplot\u001b[0m\u001b[1;33m(\u001b[0m\u001b[1;33m)\u001b[0m\u001b[1;33m\u001b[0m\u001b[1;33m\u001b[0m\u001b[0m\n\u001b[0m",
      "\u001b[1;32m~\\Anaconda3\\lib\\site-packages\\pandas\\core\\frame.py\u001b[0m in \u001b[0;36m__getitem__\u001b[1;34m(self, key)\u001b[0m\n\u001b[0;32m   3028\u001b[0m             \u001b[1;32mif\u001b[0m \u001b[0mis_iterator\u001b[0m\u001b[1;33m(\u001b[0m\u001b[0mkey\u001b[0m\u001b[1;33m)\u001b[0m\u001b[1;33m:\u001b[0m\u001b[1;33m\u001b[0m\u001b[1;33m\u001b[0m\u001b[0m\n\u001b[0;32m   3029\u001b[0m                 \u001b[0mkey\u001b[0m \u001b[1;33m=\u001b[0m \u001b[0mlist\u001b[0m\u001b[1;33m(\u001b[0m\u001b[0mkey\u001b[0m\u001b[1;33m)\u001b[0m\u001b[1;33m\u001b[0m\u001b[1;33m\u001b[0m\u001b[0m\n\u001b[1;32m-> 3030\u001b[1;33m             \u001b[0mindexer\u001b[0m \u001b[1;33m=\u001b[0m \u001b[0mself\u001b[0m\u001b[1;33m.\u001b[0m\u001b[0mloc\u001b[0m\u001b[1;33m.\u001b[0m\u001b[0m_get_listlike_indexer\u001b[0m\u001b[1;33m(\u001b[0m\u001b[0mkey\u001b[0m\u001b[1;33m,\u001b[0m \u001b[0maxis\u001b[0m\u001b[1;33m=\u001b[0m\u001b[1;36m1\u001b[0m\u001b[1;33m,\u001b[0m \u001b[0mraise_missing\u001b[0m\u001b[1;33m=\u001b[0m\u001b[1;32mTrue\u001b[0m\u001b[1;33m)\u001b[0m\u001b[1;33m[\u001b[0m\u001b[1;36m1\u001b[0m\u001b[1;33m]\u001b[0m\u001b[1;33m\u001b[0m\u001b[1;33m\u001b[0m\u001b[0m\n\u001b[0m\u001b[0;32m   3031\u001b[0m \u001b[1;33m\u001b[0m\u001b[0m\n\u001b[0;32m   3032\u001b[0m         \u001b[1;31m# take() does not accept boolean indexers\u001b[0m\u001b[1;33m\u001b[0m\u001b[1;33m\u001b[0m\u001b[1;33m\u001b[0m\u001b[0m\n",
      "\u001b[1;32m~\\Anaconda3\\lib\\site-packages\\pandas\\core\\indexing.py\u001b[0m in \u001b[0;36m_get_listlike_indexer\u001b[1;34m(self, key, axis, raise_missing)\u001b[0m\n\u001b[0;32m   1264\u001b[0m             \u001b[0mkeyarr\u001b[0m\u001b[1;33m,\u001b[0m \u001b[0mindexer\u001b[0m\u001b[1;33m,\u001b[0m \u001b[0mnew_indexer\u001b[0m \u001b[1;33m=\u001b[0m \u001b[0max\u001b[0m\u001b[1;33m.\u001b[0m\u001b[0m_reindex_non_unique\u001b[0m\u001b[1;33m(\u001b[0m\u001b[0mkeyarr\u001b[0m\u001b[1;33m)\u001b[0m\u001b[1;33m\u001b[0m\u001b[1;33m\u001b[0m\u001b[0m\n\u001b[0;32m   1265\u001b[0m \u001b[1;33m\u001b[0m\u001b[0m\n\u001b[1;32m-> 1266\u001b[1;33m         \u001b[0mself\u001b[0m\u001b[1;33m.\u001b[0m\u001b[0m_validate_read_indexer\u001b[0m\u001b[1;33m(\u001b[0m\u001b[0mkeyarr\u001b[0m\u001b[1;33m,\u001b[0m \u001b[0mindexer\u001b[0m\u001b[1;33m,\u001b[0m \u001b[0maxis\u001b[0m\u001b[1;33m,\u001b[0m \u001b[0mraise_missing\u001b[0m\u001b[1;33m=\u001b[0m\u001b[0mraise_missing\u001b[0m\u001b[1;33m)\u001b[0m\u001b[1;33m\u001b[0m\u001b[1;33m\u001b[0m\u001b[0m\n\u001b[0m\u001b[0;32m   1267\u001b[0m         \u001b[1;32mreturn\u001b[0m \u001b[0mkeyarr\u001b[0m\u001b[1;33m,\u001b[0m \u001b[0mindexer\u001b[0m\u001b[1;33m\u001b[0m\u001b[1;33m\u001b[0m\u001b[0m\n\u001b[0;32m   1268\u001b[0m \u001b[1;33m\u001b[0m\u001b[0m\n",
      "\u001b[1;32m~\\Anaconda3\\lib\\site-packages\\pandas\\core\\indexing.py\u001b[0m in \u001b[0;36m_validate_read_indexer\u001b[1;34m(self, key, indexer, axis, raise_missing)\u001b[0m\n\u001b[0;32m   1314\u001b[0m             \u001b[1;32mif\u001b[0m \u001b[0mraise_missing\u001b[0m\u001b[1;33m:\u001b[0m\u001b[1;33m\u001b[0m\u001b[1;33m\u001b[0m\u001b[0m\n\u001b[0;32m   1315\u001b[0m                 \u001b[0mnot_found\u001b[0m \u001b[1;33m=\u001b[0m \u001b[0mlist\u001b[0m\u001b[1;33m(\u001b[0m\u001b[0mset\u001b[0m\u001b[1;33m(\u001b[0m\u001b[0mkey\u001b[0m\u001b[1;33m)\u001b[0m \u001b[1;33m-\u001b[0m \u001b[0mset\u001b[0m\u001b[1;33m(\u001b[0m\u001b[0max\u001b[0m\u001b[1;33m)\u001b[0m\u001b[1;33m)\u001b[0m\u001b[1;33m\u001b[0m\u001b[1;33m\u001b[0m\u001b[0m\n\u001b[1;32m-> 1316\u001b[1;33m                 \u001b[1;32mraise\u001b[0m \u001b[0mKeyError\u001b[0m\u001b[1;33m(\u001b[0m\u001b[1;34mf\"{not_found} not in index\"\u001b[0m\u001b[1;33m)\u001b[0m\u001b[1;33m\u001b[0m\u001b[1;33m\u001b[0m\u001b[0m\n\u001b[0m\u001b[0;32m   1317\u001b[0m \u001b[1;33m\u001b[0m\u001b[0m\n\u001b[0;32m   1318\u001b[0m             \u001b[0mnot_found\u001b[0m \u001b[1;33m=\u001b[0m \u001b[0mkey\u001b[0m\u001b[1;33m[\u001b[0m\u001b[0mmissing_mask\u001b[0m\u001b[1;33m]\u001b[0m\u001b[1;33m\u001b[0m\u001b[1;33m\u001b[0m\u001b[0m\n",
      "\u001b[1;31mKeyError\u001b[0m: \"['WaterLevel:100l1:1'] not in index\""
     ]
    }
   ],
   "source": [
    "df[['WaterLevel:100l1:0', 'WaterLevel:100l1:1']].plot()"
   ]
  },
  {
   "cell_type": "markdown",
   "metadata": {},
   "source": [
    "# Explore other metadata"
   ]
  },
  {
   "cell_type": "code",
   "execution_count": 6,
   "metadata": {},
   "outputs": [
    {
     "output_type": "execute_result",
     "data": {
      "text/plain": [
       "'1994-08-07 16:35:00'"
      ]
     },
     "metadata": {},
     "execution_count": 6
    }
   ],
   "source": [
    "str(res1d.start_time)"
   ]
  },
  {
   "cell_type": "code",
   "execution_count": 7,
   "metadata": {},
   "outputs": [
    {
     "output_type": "execute_result",
     "data": {
      "text/plain": [
       "['WaterLevel', 'Discharge']"
      ]
     },
     "metadata": {},
     "execution_count": 7
    }
   ],
   "source": [
    "res1d.quantities # list quantities found in file"
   ]
  },
  {
   "cell_type": "code",
   "execution_count": 21,
   "metadata": {},
   "outputs": [
    {
     "output_type": "execute_result",
     "data": {
      "text/plain": [
       "['WaterLevel',\n",
       " 'WaterLevelChange',\n",
       " 'WaterLevelCorrection',\n",
       " 'WaterDepth',\n",
       " 'WaterVolume',\n",
       " 'WaterVolumeAboveGround',\n",
       " 'WaterFlowRateAboveGround',\n",
       " 'WaterVolumeRetainedInMaxInflow',\n",
       " 'WaterVolumeM11',\n",
       " 'WaterVolumeChange',\n",
       " 'MassError',\n",
       " 'MassErrorM11Comp',\n",
       " 'MassErrorAccumulated',\n",
       " 'MassErrorAbsAccumulated',\n",
       " 'MassErrorChecksum',\n",
       " 'MassErrorAccumulatedChecksum',\n",
       " 'FlowArea',\n",
       " 'FlowAreaTsMean',\n",
       " 'FlowAreaInStructure',\n",
       " 'FloodedArea',\n",
       " 'GateLevel',\n",
       " 'Discharge',\n",
       " 'DischargeCorrection',\n",
       " 'DischargePerLength',\n",
       " 'DischargePerArea',\n",
       " 'DischargeInStructure',\n",
       " 'DischargeFromSurface',\n",
       " 'DischargeOutflow',\n",
       " 'DischargeStepAveraged',\n",
       " 'LateralSources',\n",
       " 'LateralInflow',\n",
       " 'LateralOutflow',\n",
       " 'LateralOutflowReduction',\n",
       " 'TimestepInflow',\n",
       " 'TimestepOutflow',\n",
       " 'TotalInflow',\n",
       " 'TotalOutflow',\n",
       " 'NodeInfiltration',\n",
       " 'DischargeHPoints',\n",
       " 'FlowVelocity',\n",
       " 'FlowVelocityInStructure',\n",
       " 'WindVelocity',\n",
       " 'WindDirection',\n",
       " 'FlowWidth',\n",
       " 'FlowWidthTsMean',\n",
       " 'Time',\n",
       " 'TimeStep',\n",
       " 'NumberOfTriesForTimeStep',\n",
       " 'TotalRunOff',\n",
       " 'HydraulicRadius',\n",
       " 'ManningResistanceNumber',\n",
       " 'ChezyResistanceNumber',\n",
       " 'BedLevel',\n",
       " 'BedShearStress',\n",
       " 'CourantNumber',\n",
       " 'Froude',\n",
       " 'WaterLevelSlope',\n",
       " 'EnergyLevelSlope',\n",
       " 'EnergyLevel',\n",
       " 'Conveyance',\n",
       " 'NetRainfall',\n",
       " 'CatchmentDischarge',\n",
       " 'TotalLoad',\n",
       " 'WeirDischarge',\n",
       " 'PumpDischarge',\n",
       " 'PumpIsActive',\n",
       " 'OverlandFlow',\n",
       " 'InterFlow',\n",
       " 'TotalBaseFlow',\n",
       " 'BaseFlow',\n",
       " 'LowerBaseFlow',\n",
       " 'InterFlowAndBaseFlow',\n",
       " 'OverlandAndInterflow',\n",
       " 'ActualRainfall',\n",
       " 'ActualEvaporation',\n",
       " 'RootZoneStorage',\n",
       " 'SurfaceStorage',\n",
       " 'GroundWaterDepth',\n",
       " 'InfiltrationToGroundWater',\n",
       " 'InfiltrationFlow',\n",
       " 'TotalInfiltration',\n",
       " 'OverlandFlowFirstReservoir',\n",
       " 'InterFlowFirstReservoir',\n",
       " 'CapillaryFlux',\n",
       " 'OverlandFirstReservoirStorage',\n",
       " 'OverlandSecondReservoirStorage',\n",
       " 'IrrigationSupply',\n",
       " 'SnowStorage',\n",
       " 'Temperature',\n",
       " 'ZoneTemperature',\n",
       " 'ZoneRainfall',\n",
       " 'ZoneWaterRetention',\n",
       " 'ZoneMeltingCoeff',\n",
       " 'ZoneSnowAreaCoverage',\n",
       " 'ZoneMeltingWater',\n",
       " 'ValveOpening',\n",
       " 'CrestLevel',\n",
       " 'Force',\n",
       " 'GroundWaterLeakage',\n",
       " 'DamBreakBreachLevel',\n",
       " 'DamBreakBreachWidth',\n",
       " 'DamBreakBreachSlope',\n",
       " 'DamBreakPipeTopLevel',\n",
       " 'InfiltrationToGroundWaterMinusCapillaryFlux',\n",
       " 'ControlStrategyId',\n",
       " 'Concentration',\n",
       " 'CO1',\n",
       " 'CO2',\n",
       " 'CO3',\n",
       " 'CO4',\n",
       " 'WaterSpillDischarge',\n",
       " 'DamBreakBreachFlow',\n",
       " 'DamBreakCrestFlow',\n",
       " 'WaterSpillVolume',\n",
       " 'NodeSources',\n",
       " 'NodeInflow',\n",
       " 'NodeOutflow',\n",
       " 'NodeInflowVolume',\n",
       " 'NodeOutflowVolume',\n",
       " 'WaterSurcharge',\n",
       " 'FullReachDischarge',\n",
       " 'SurfacePreciEvapoTranspiration',\n",
       " 'ControlVariables',\n",
       " 'DischargeLTSContinuous',\n",
       " 'SourcesInflow',\n",
       " 'Undefined']"
      ]
     },
     "metadata": {},
     "execution_count": 21
    }
   ],
   "source": [
    "# Get a list of possible quantity names to use in query\n",
    "from mikeio1d.res1d import mike1d_quantities\n",
    "mike1d_quantities()"
   ]
  },
  {
   "cell_type": "code",
   "execution_count": 9,
   "metadata": {},
   "outputs": [
    {
     "output_type": "execute_result",
     "data": {
      "text/plain": [
       "['Res1DManhole: 1',\n",
       " 'Res1DManhole: 2',\n",
       " 'Res1DManhole: 3',\n",
       " 'Res1DManhole: 4',\n",
       " 'Res1DManhole: 5',\n",
       " 'Res1DManhole: 6',\n",
       " 'Res1DManhole: 7',\n",
       " 'Res1DManhole: 8',\n",
       " 'Res1DManhole: 9',\n",
       " 'Res1DManhole: 10',\n",
       " 'Res1DManhole: 11',\n",
       " 'Res1DManhole: 13',\n",
       " 'Res1DManhole: 14',\n",
       " 'Res1DManhole: 15',\n",
       " 'Res1DManhole: 17',\n",
       " 'Res1DManhole: 20',\n",
       " 'Res1DManhole: 21',\n",
       " 'Res1DManhole: 22',\n",
       " 'Res1DManhole: 23',\n",
       " 'Res1DManhole: 24',\n",
       " 'Res1DManhole: 25',\n",
       " 'Res1DManhole: 26',\n",
       " 'Res1DManhole: 27',\n",
       " 'Res1DManhole: 28',\n",
       " 'Res1DManhole: 29',\n",
       " 'Res1DManhole: 30',\n",
       " 'Res1DManhole: 31',\n",
       " 'Res1DManhole: 32',\n",
       " 'Res1DManhole: 33',\n",
       " 'Res1DManhole: 34',\n",
       " 'Res1DManhole: 35',\n",
       " 'Res1DManhole: 36',\n",
       " 'Res1DManhole: 37',\n",
       " 'Res1DManhole: 38',\n",
       " 'Res1DManhole: 39',\n",
       " 'Res1DManhole: 40',\n",
       " 'Res1DManhole: 41',\n",
       " 'Res1DManhole: 42',\n",
       " 'Res1DManhole: 43',\n",
       " 'Res1DManhole: 44',\n",
       " 'Res1DManhole: 45',\n",
       " 'Res1DManhole: 47',\n",
       " 'Res1DManhole: 48',\n",
       " 'Res1DManhole: 49',\n",
       " 'Res1DManhole: 50',\n",
       " 'Res1DManhole: 51',\n",
       " 'Res1DManhole: 52',\n",
       " 'Res1DManhole: 53',\n",
       " 'Res1DManhole: 54',\n",
       " 'Res1DManhole: 56',\n",
       " 'Res1DManhole: 57',\n",
       " 'Res1DManhole: 59',\n",
       " 'Res1DManhole: 60',\n",
       " 'Res1DManhole: 61',\n",
       " 'Res1DManhole: 62',\n",
       " 'Res1DManhole: 63',\n",
       " 'Res1DManhole: 64',\n",
       " 'Res1DManhole: 65',\n",
       " 'Res1DManhole: 66',\n",
       " 'Res1DManhole: 67',\n",
       " 'Res1DManhole: 68',\n",
       " 'Res1DManhole: 69',\n",
       " 'Res1DManhole: 70',\n",
       " 'Res1DManhole: 71',\n",
       " 'Res1DManhole: 72',\n",
       " 'Res1DManhole: 73',\n",
       " 'Res1DManhole: 74',\n",
       " 'Res1DManhole: 75',\n",
       " 'Res1DManhole: 76',\n",
       " 'Res1DManhole: 77',\n",
       " 'Res1DManhole: 78',\n",
       " 'Res1DManhole: 79',\n",
       " 'Res1DManhole: 80',\n",
       " 'Res1DManhole: 81',\n",
       " 'Res1DManhole: 82',\n",
       " 'Res1DManhole: 83',\n",
       " 'Res1DManhole: 84',\n",
       " 'Res1DManhole: 85',\n",
       " 'Res1DManhole: 86',\n",
       " 'Res1DManhole: 87',\n",
       " 'Res1DManhole: 88',\n",
       " 'Res1DManhole: 89',\n",
       " 'Res1DManhole: 90',\n",
       " 'Res1DManhole: 91',\n",
       " 'Res1DManhole: 92',\n",
       " 'Res1DManhole: 93',\n",
       " 'Res1DManhole: 94',\n",
       " 'Res1DManhole: 95',\n",
       " 'Res1DManhole: 96',\n",
       " 'Res1DManhole: 97',\n",
       " 'Res1DManhole: 98',\n",
       " 'Res1DManhole: 99',\n",
       " 'Res1DManhole: 100',\n",
       " 'Res1DManhole: 101',\n",
       " 'Res1DManhole: 102',\n",
       " 'Res1DManhole: 103',\n",
       " 'Res1DManhole: 104',\n",
       " 'Res1DManhole: 105',\n",
       " 'Res1DManhole: 106',\n",
       " 'Res1DManhole: 107',\n",
       " 'Res1DManhole: 108',\n",
       " 'Res1DManhole: 109',\n",
       " 'Res1DManhole: 110',\n",
       " 'Res1DManhole: 111',\n",
       " 'Res1DManhole: 112',\n",
       " 'Res1DManhole: 113',\n",
       " 'Res1DManhole: 114',\n",
       " 'Res1DManhole: 12',\n",
       " 'Res1DManhole: 16',\n",
       " 'Res1DManhole: 46',\n",
       " 'Res1DManhole: 55',\n",
       " 'Res1DManhole: 58',\n",
       " 'Res1DManhole: 116',\n",
       " 'Res1DManhole: 117',\n",
       " 'Res1DManhole: 118',\n",
       " 'Res1DBasin: 115',\n",
       " 'Res1DBasin: 119',\n",
       " 'Res1DOutlet: 120',\n",
       " 'Res1DOutlet: Weir Outlet:119w1']"
      ]
     },
     "metadata": {},
     "execution_count": 9
    }
   ],
   "source": [
    "# List nodes (type: name) \n",
    "[str(n) for n in res1d.data.Nodes]"
   ]
  },
  {
   "cell_type": "markdown",
   "metadata": {},
   "source": [
    "# Example: Query specific time series"
   ]
  },
  {
   "cell_type": "code",
   "execution_count": 11,
   "metadata": {},
   "outputs": [],
   "source": [
    "from mikeio1d.res1d import QueryDataNode, QueryDataReach"
   ]
  },
  {
   "cell_type": "code",
   "execution_count": 12,
   "metadata": {},
   "outputs": [],
   "source": [
    "# Read a specific reach\n",
    "query1 = QueryDataNode('WaterLevel', '1')\n",
    "\n",
    "# Read a specific reach and chainage\n",
    "query2 = QueryDataReach(\"WaterLevel\", \"104l1\", 34.4131)\n",
    "\n",
    "# Combine queries to extract in one go\n",
    "queries = [query1, query2]"
   ]
  },
  {
   "cell_type": "code",
   "execution_count": 13,
   "metadata": {},
   "outputs": [
    {
     "output_type": "execute_result",
     "data": {
      "text/plain": [
       "                     WaterLevel:1  WaterLevel:104l1:34.4131\n",
       "1994-08-07 16:35:00       195.053                  196.9620\n",
       "1994-08-07 16:36:01       195.053                  196.9621\n",
       "1994-08-07 16:37:07       195.053                  196.9621\n",
       "1994-08-07 16:38:55       195.053                  196.9621\n",
       "1994-08-07 16:39:55       195.053                  196.9621"
      ],
      "text/html": "<div>\n<style scoped>\n    .dataframe tbody tr th:only-of-type {\n        vertical-align: middle;\n    }\n\n    .dataframe tbody tr th {\n        vertical-align: top;\n    }\n\n    .dataframe thead th {\n        text-align: right;\n    }\n</style>\n<table border=\"1\" class=\"dataframe\">\n  <thead>\n    <tr style=\"text-align: right;\">\n      <th></th>\n      <th>WaterLevel:1</th>\n      <th>WaterLevel:104l1:34.4131</th>\n    </tr>\n  </thead>\n  <tbody>\n    <tr>\n      <th>1994-08-07 16:35:00</th>\n      <td>195.053</td>\n      <td>196.9620</td>\n    </tr>\n    <tr>\n      <th>1994-08-07 16:36:01</th>\n      <td>195.053</td>\n      <td>196.9621</td>\n    </tr>\n    <tr>\n      <th>1994-08-07 16:37:07</th>\n      <td>195.053</td>\n      <td>196.9621</td>\n    </tr>\n    <tr>\n      <th>1994-08-07 16:38:55</th>\n      <td>195.053</td>\n      <td>196.9621</td>\n    </tr>\n    <tr>\n      <th>1994-08-07 16:39:55</th>\n      <td>195.053</td>\n      <td>196.9621</td>\n    </tr>\n  </tbody>\n</table>\n</div>"
     },
     "metadata": {},
     "execution_count": 13
    }
   ],
   "source": [
    "df = res1d.read(queries)\n",
    "df.head()"
   ]
  },
  {
   "cell_type": "markdown",
   "metadata": {},
   "source": [
    "# Example: More data extraction examples"
   ]
  },
  {
   "cell_type": "code",
   "execution_count": 14,
   "metadata": {},
   "outputs": [],
   "source": [
    "# Get time series values at reach start or end chainage without specifying chainage number\n",
    "values_start = res1d.get_reach_start_values(\"9l1\", \"WaterLevel\")\n",
    "values_end = res1d.get_reach_end_values(\"9l1\", \"WaterLevel\") "
   ]
  },
  {
   "cell_type": "code",
   "execution_count": 15,
   "metadata": {},
   "outputs": [],
   "source": [
    "# Get time series values summed for all gridpoints in reach with given quantity, \n",
    "# i.e. useful for getting total volume in reach. \n",
    "values_sum = res1d.get_reach_sum_values(\"9l1\", \"WaterLevel\")"
   ]
  },
  {
   "cell_type": "code",
   "execution_count": 16,
   "metadata": {},
   "outputs": [],
   "source": [
    "import pandas as pd"
   ]
  },
  {
   "cell_type": "code",
   "execution_count": 17,
   "metadata": {},
   "outputs": [
    {
     "output_type": "execute_result",
     "data": {
      "text/plain": [
       "<AxesSubplot:ylabel='9l1: WaterLevel'>"
      ]
     },
     "metadata": {},
     "execution_count": 17
    },
    {
     "output_type": "display_data",
     "data": {
      "text/plain": "<Figure size 432x288 with 1 Axes>",
      "image/svg+xml": "<?xml version=\"1.0\" encoding=\"utf-8\" standalone=\"no\"?>\r\n<!DOCTYPE svg PUBLIC \"-//W3C//DTD SVG 1.1//EN\"\r\n  \"http://www.w3.org/Graphics/SVG/1.1/DTD/svg11.dtd\">\r\n<!-- Created with matplotlib (https://matplotlib.org/) -->\r\n<svg height=\"247.98244pt\" version=\"1.1\" viewBox=\"0 0 398.50625 247.98244\" width=\"398.50625pt\" xmlns=\"http://www.w3.org/2000/svg\" xmlns:xlink=\"http://www.w3.org/1999/xlink\">\r\n <metadata>\r\n  <rdf:RDF xmlns:cc=\"http://creativecommons.org/ns#\" xmlns:dc=\"http://purl.org/dc/elements/1.1/\" xmlns:rdf=\"http://www.w3.org/1999/02/22-rdf-syntax-ns#\">\r\n   <cc:Work>\r\n    <dc:type rdf:resource=\"http://purl.org/dc/dcmitype/StillImage\"/>\r\n    <dc:date>2021-05-05T09:05:20.081055</dc:date>\r\n    <dc:format>image/svg+xml</dc:format>\r\n    <dc:creator>\r\n     <cc:Agent>\r\n      <dc:title>Matplotlib v3.3.4, https://matplotlib.org/</dc:title>\r\n     </cc:Agent>\r\n    </dc:creator>\r\n   </cc:Work>\r\n  </rdf:RDF>\r\n </metadata>\r\n <defs>\r\n  <style type=\"text/css\">*{stroke-linecap:butt;stroke-linejoin:round;}</style>\r\n </defs>\r\n <g id=\"figure_1\">\r\n  <g id=\"patch_1\">\r\n   <path d=\"M 0 247.98244 \r\nL 398.50625 247.98244 \r\nL 398.50625 0 \r\nL 0 0 \r\nz\r\n\" style=\"fill:none;\"/>\r\n  </g>\r\n  <g id=\"axes_1\">\r\n   <g id=\"patch_2\">\r\n    <path d=\"M 56.50625 203.04 \r\nL 391.30625 203.04 \r\nL 391.30625 7.2 \r\nL 56.50625 7.2 \r\nz\r\n\" style=\"fill:#ffffff;\"/>\r\n   </g>\r\n   <g id=\"matplotlib.axis_1\">\r\n    <g id=\"xtick_1\">\r\n     <g id=\"line2d_1\">\r\n      <defs>\r\n       <path d=\"M 0 0 \r\nL 0 3.5 \r\n\" id=\"m64a9542e4b\" style=\"stroke:#000000;stroke-width:0.8;\"/>\r\n      </defs>\r\n      <g>\r\n       <use style=\"stroke:#000000;stroke-width:0.8;\" x=\"59.042614\" xlink:href=\"#m64a9542e4b\" y=\"203.04\"/>\r\n      </g>\r\n     </g>\r\n     <g id=\"text_1\">\r\n      <!-- 07 16:30 -->\r\n      <g transform=\"translate(19.27249 238.981377)rotate(-30)scale(0.1 -0.1)\">\r\n       <defs>\r\n        <path d=\"M 31.78125 66.40625 \r\nQ 24.171875 66.40625 20.328125 58.90625 \r\nQ 16.5 51.421875 16.5 36.375 \r\nQ 16.5 21.390625 20.328125 13.890625 \r\nQ 24.171875 6.390625 31.78125 6.390625 \r\nQ 39.453125 6.390625 43.28125 13.890625 \r\nQ 47.125 21.390625 47.125 36.375 \r\nQ 47.125 51.421875 43.28125 58.90625 \r\nQ 39.453125 66.40625 31.78125 66.40625 \r\nz\r\nM 31.78125 74.21875 \r\nQ 44.046875 74.21875 50.515625 64.515625 \r\nQ 56.984375 54.828125 56.984375 36.375 \r\nQ 56.984375 17.96875 50.515625 8.265625 \r\nQ 44.046875 -1.421875 31.78125 -1.421875 \r\nQ 19.53125 -1.421875 13.0625 8.265625 \r\nQ 6.59375 17.96875 6.59375 36.375 \r\nQ 6.59375 54.828125 13.0625 64.515625 \r\nQ 19.53125 74.21875 31.78125 74.21875 \r\nz\r\n\" id=\"DejaVuSans-48\"/>\r\n        <path d=\"M 8.203125 72.90625 \r\nL 55.078125 72.90625 \r\nL 55.078125 68.703125 \r\nL 28.609375 0 \r\nL 18.3125 0 \r\nL 43.21875 64.59375 \r\nL 8.203125 64.59375 \r\nz\r\n\" id=\"DejaVuSans-55\"/>\r\n        <path id=\"DejaVuSans-32\"/>\r\n        <path d=\"M 12.40625 8.296875 \r\nL 28.515625 8.296875 \r\nL 28.515625 63.921875 \r\nL 10.984375 60.40625 \r\nL 10.984375 69.390625 \r\nL 28.421875 72.90625 \r\nL 38.28125 72.90625 \r\nL 38.28125 8.296875 \r\nL 54.390625 8.296875 \r\nL 54.390625 0 \r\nL 12.40625 0 \r\nz\r\n\" id=\"DejaVuSans-49\"/>\r\n        <path d=\"M 33.015625 40.375 \r\nQ 26.375 40.375 22.484375 35.828125 \r\nQ 18.609375 31.296875 18.609375 23.390625 \r\nQ 18.609375 15.53125 22.484375 10.953125 \r\nQ 26.375 6.390625 33.015625 6.390625 \r\nQ 39.65625 6.390625 43.53125 10.953125 \r\nQ 47.40625 15.53125 47.40625 23.390625 \r\nQ 47.40625 31.296875 43.53125 35.828125 \r\nQ 39.65625 40.375 33.015625 40.375 \r\nz\r\nM 52.59375 71.296875 \r\nL 52.59375 62.3125 \r\nQ 48.875 64.0625 45.09375 64.984375 \r\nQ 41.3125 65.921875 37.59375 65.921875 \r\nQ 27.828125 65.921875 22.671875 59.328125 \r\nQ 17.53125 52.734375 16.796875 39.40625 \r\nQ 19.671875 43.65625 24.015625 45.921875 \r\nQ 28.375 48.1875 33.59375 48.1875 \r\nQ 44.578125 48.1875 50.953125 41.515625 \r\nQ 57.328125 34.859375 57.328125 23.390625 \r\nQ 57.328125 12.15625 50.6875 5.359375 \r\nQ 44.046875 -1.421875 33.015625 -1.421875 \r\nQ 20.359375 -1.421875 13.671875 8.265625 \r\nQ 6.984375 17.96875 6.984375 36.375 \r\nQ 6.984375 53.65625 15.1875 63.9375 \r\nQ 23.390625 74.21875 37.203125 74.21875 \r\nQ 40.921875 74.21875 44.703125 73.484375 \r\nQ 48.484375 72.75 52.59375 71.296875 \r\nz\r\n\" id=\"DejaVuSans-54\"/>\r\n        <path d=\"M 11.71875 12.40625 \r\nL 22.015625 12.40625 \r\nL 22.015625 0 \r\nL 11.71875 0 \r\nz\r\nM 11.71875 51.703125 \r\nL 22.015625 51.703125 \r\nL 22.015625 39.3125 \r\nL 11.71875 39.3125 \r\nz\r\n\" id=\"DejaVuSans-58\"/>\r\n        <path d=\"M 40.578125 39.3125 \r\nQ 47.65625 37.796875 51.625 33 \r\nQ 55.609375 28.21875 55.609375 21.1875 \r\nQ 55.609375 10.40625 48.1875 4.484375 \r\nQ 40.765625 -1.421875 27.09375 -1.421875 \r\nQ 22.515625 -1.421875 17.65625 -0.515625 \r\nQ 12.796875 0.390625 7.625 2.203125 \r\nL 7.625 11.71875 \r\nQ 11.71875 9.328125 16.59375 8.109375 \r\nQ 21.484375 6.890625 26.8125 6.890625 \r\nQ 36.078125 6.890625 40.9375 10.546875 \r\nQ 45.796875 14.203125 45.796875 21.1875 \r\nQ 45.796875 27.640625 41.28125 31.265625 \r\nQ 36.765625 34.90625 28.71875 34.90625 \r\nL 20.21875 34.90625 \r\nL 20.21875 43.015625 \r\nL 29.109375 43.015625 \r\nQ 36.375 43.015625 40.234375 45.921875 \r\nQ 44.09375 48.828125 44.09375 54.296875 \r\nQ 44.09375 59.90625 40.109375 62.90625 \r\nQ 36.140625 65.921875 28.71875 65.921875 \r\nQ 24.65625 65.921875 20.015625 65.03125 \r\nQ 15.375 64.15625 9.8125 62.3125 \r\nL 9.8125 71.09375 \r\nQ 15.4375 72.65625 20.34375 73.4375 \r\nQ 25.25 74.21875 29.59375 74.21875 \r\nQ 40.828125 74.21875 47.359375 69.109375 \r\nQ 53.90625 64.015625 53.90625 55.328125 \r\nQ 53.90625 49.265625 50.4375 45.09375 \r\nQ 46.96875 40.921875 40.578125 39.3125 \r\nz\r\n\" id=\"DejaVuSans-51\"/>\r\n       </defs>\r\n       <use xlink:href=\"#DejaVuSans-48\"/>\r\n       <use x=\"63.623047\" xlink:href=\"#DejaVuSans-55\"/>\r\n       <use x=\"127.246094\" xlink:href=\"#DejaVuSans-32\"/>\r\n       <use x=\"159.033203\" xlink:href=\"#DejaVuSans-49\"/>\r\n       <use x=\"222.65625\" xlink:href=\"#DejaVuSans-54\"/>\r\n       <use x=\"286.279297\" xlink:href=\"#DejaVuSans-58\"/>\r\n       <use x=\"319.970703\" xlink:href=\"#DejaVuSans-51\"/>\r\n       <use x=\"383.59375\" xlink:href=\"#DejaVuSans-48\"/>\r\n      </g>\r\n     </g>\r\n    </g>\r\n    <g id=\"xtick_2\">\r\n     <g id=\"line2d_2\">\r\n      <g>\r\n       <use style=\"stroke:#000000;stroke-width:0.8;\" x=\"97.088068\" xlink:href=\"#m64a9542e4b\" y=\"203.04\"/>\r\n      </g>\r\n     </g>\r\n     <g id=\"text_2\">\r\n      <!-- 07 16:45 -->\r\n      <g transform=\"translate(57.317945 238.981377)rotate(-30)scale(0.1 -0.1)\">\r\n       <defs>\r\n        <path d=\"M 37.796875 64.3125 \r\nL 12.890625 25.390625 \r\nL 37.796875 25.390625 \r\nz\r\nM 35.203125 72.90625 \r\nL 47.609375 72.90625 \r\nL 47.609375 25.390625 \r\nL 58.015625 25.390625 \r\nL 58.015625 17.1875 \r\nL 47.609375 17.1875 \r\nL 47.609375 0 \r\nL 37.796875 0 \r\nL 37.796875 17.1875 \r\nL 4.890625 17.1875 \r\nL 4.890625 26.703125 \r\nz\r\n\" id=\"DejaVuSans-52\"/>\r\n        <path d=\"M 10.796875 72.90625 \r\nL 49.515625 72.90625 \r\nL 49.515625 64.59375 \r\nL 19.828125 64.59375 \r\nL 19.828125 46.734375 \r\nQ 21.96875 47.46875 24.109375 47.828125 \r\nQ 26.265625 48.1875 28.421875 48.1875 \r\nQ 40.625 48.1875 47.75 41.5 \r\nQ 54.890625 34.8125 54.890625 23.390625 \r\nQ 54.890625 11.625 47.5625 5.09375 \r\nQ 40.234375 -1.421875 26.90625 -1.421875 \r\nQ 22.3125 -1.421875 17.546875 -0.640625 \r\nQ 12.796875 0.140625 7.71875 1.703125 \r\nL 7.71875 11.625 \r\nQ 12.109375 9.234375 16.796875 8.0625 \r\nQ 21.484375 6.890625 26.703125 6.890625 \r\nQ 35.15625 6.890625 40.078125 11.328125 \r\nQ 45.015625 15.765625 45.015625 23.390625 \r\nQ 45.015625 31 40.078125 35.4375 \r\nQ 35.15625 39.890625 26.703125 39.890625 \r\nQ 22.75 39.890625 18.8125 39.015625 \r\nQ 14.890625 38.140625 10.796875 36.28125 \r\nz\r\n\" id=\"DejaVuSans-53\"/>\r\n       </defs>\r\n       <use xlink:href=\"#DejaVuSans-48\"/>\r\n       <use x=\"63.623047\" xlink:href=\"#DejaVuSans-55\"/>\r\n       <use x=\"127.246094\" xlink:href=\"#DejaVuSans-32\"/>\r\n       <use x=\"159.033203\" xlink:href=\"#DejaVuSans-49\"/>\r\n       <use x=\"222.65625\" xlink:href=\"#DejaVuSans-54\"/>\r\n       <use x=\"286.279297\" xlink:href=\"#DejaVuSans-58\"/>\r\n       <use x=\"319.970703\" xlink:href=\"#DejaVuSans-52\"/>\r\n       <use x=\"383.59375\" xlink:href=\"#DejaVuSans-53\"/>\r\n      </g>\r\n     </g>\r\n    </g>\r\n    <g id=\"xtick_3\">\r\n     <g id=\"line2d_3\">\r\n      <g>\r\n       <use style=\"stroke:#000000;stroke-width:0.8;\" x=\"135.133523\" xlink:href=\"#m64a9542e4b\" y=\"203.04\"/>\r\n      </g>\r\n     </g>\r\n     <g id=\"text_3\">\r\n      <!-- 07 17:00 -->\r\n      <g transform=\"translate(95.363399 238.981377)rotate(-30)scale(0.1 -0.1)\">\r\n       <use xlink:href=\"#DejaVuSans-48\"/>\r\n       <use x=\"63.623047\" xlink:href=\"#DejaVuSans-55\"/>\r\n       <use x=\"127.246094\" xlink:href=\"#DejaVuSans-32\"/>\r\n       <use x=\"159.033203\" xlink:href=\"#DejaVuSans-49\"/>\r\n       <use x=\"222.65625\" xlink:href=\"#DejaVuSans-55\"/>\r\n       <use x=\"286.279297\" xlink:href=\"#DejaVuSans-58\"/>\r\n       <use x=\"319.970703\" xlink:href=\"#DejaVuSans-48\"/>\r\n       <use x=\"383.59375\" xlink:href=\"#DejaVuSans-48\"/>\r\n      </g>\r\n     </g>\r\n    </g>\r\n    <g id=\"xtick_4\">\r\n     <g id=\"line2d_4\">\r\n      <g>\r\n       <use style=\"stroke:#000000;stroke-width:0.8;\" x=\"173.178977\" xlink:href=\"#m64a9542e4b\" y=\"203.04\"/>\r\n      </g>\r\n     </g>\r\n     <g id=\"text_4\">\r\n      <!-- 07 17:15 -->\r\n      <g transform=\"translate(133.408854 238.981377)rotate(-30)scale(0.1 -0.1)\">\r\n       <use xlink:href=\"#DejaVuSans-48\"/>\r\n       <use x=\"63.623047\" xlink:href=\"#DejaVuSans-55\"/>\r\n       <use x=\"127.246094\" xlink:href=\"#DejaVuSans-32\"/>\r\n       <use x=\"159.033203\" xlink:href=\"#DejaVuSans-49\"/>\r\n       <use x=\"222.65625\" xlink:href=\"#DejaVuSans-55\"/>\r\n       <use x=\"286.279297\" xlink:href=\"#DejaVuSans-58\"/>\r\n       <use x=\"319.970703\" xlink:href=\"#DejaVuSans-49\"/>\r\n       <use x=\"383.59375\" xlink:href=\"#DejaVuSans-53\"/>\r\n      </g>\r\n     </g>\r\n    </g>\r\n    <g id=\"xtick_5\">\r\n     <g id=\"line2d_5\">\r\n      <g>\r\n       <use style=\"stroke:#000000;stroke-width:0.8;\" x=\"211.224432\" xlink:href=\"#m64a9542e4b\" y=\"203.04\"/>\r\n      </g>\r\n     </g>\r\n     <g id=\"text_5\">\r\n      <!-- 07 17:30 -->\r\n      <g transform=\"translate(171.454308 238.981377)rotate(-30)scale(0.1 -0.1)\">\r\n       <use xlink:href=\"#DejaVuSans-48\"/>\r\n       <use x=\"63.623047\" xlink:href=\"#DejaVuSans-55\"/>\r\n       <use x=\"127.246094\" xlink:href=\"#DejaVuSans-32\"/>\r\n       <use x=\"159.033203\" xlink:href=\"#DejaVuSans-49\"/>\r\n       <use x=\"222.65625\" xlink:href=\"#DejaVuSans-55\"/>\r\n       <use x=\"286.279297\" xlink:href=\"#DejaVuSans-58\"/>\r\n       <use x=\"319.970703\" xlink:href=\"#DejaVuSans-51\"/>\r\n       <use x=\"383.59375\" xlink:href=\"#DejaVuSans-48\"/>\r\n      </g>\r\n     </g>\r\n    </g>\r\n    <g id=\"xtick_6\">\r\n     <g id=\"line2d_6\">\r\n      <g>\r\n       <use style=\"stroke:#000000;stroke-width:0.8;\" x=\"249.269886\" xlink:href=\"#m64a9542e4b\" y=\"203.04\"/>\r\n      </g>\r\n     </g>\r\n     <g id=\"text_6\">\r\n      <!-- 07 17:45 -->\r\n      <g transform=\"translate(209.499763 238.981377)rotate(-30)scale(0.1 -0.1)\">\r\n       <use xlink:href=\"#DejaVuSans-48\"/>\r\n       <use x=\"63.623047\" xlink:href=\"#DejaVuSans-55\"/>\r\n       <use x=\"127.246094\" xlink:href=\"#DejaVuSans-32\"/>\r\n       <use x=\"159.033203\" xlink:href=\"#DejaVuSans-49\"/>\r\n       <use x=\"222.65625\" xlink:href=\"#DejaVuSans-55\"/>\r\n       <use x=\"286.279297\" xlink:href=\"#DejaVuSans-58\"/>\r\n       <use x=\"319.970703\" xlink:href=\"#DejaVuSans-52\"/>\r\n       <use x=\"383.59375\" xlink:href=\"#DejaVuSans-53\"/>\r\n      </g>\r\n     </g>\r\n    </g>\r\n    <g id=\"xtick_7\">\r\n     <g id=\"line2d_7\">\r\n      <g>\r\n       <use style=\"stroke:#000000;stroke-width:0.8;\" x=\"287.315341\" xlink:href=\"#m64a9542e4b\" y=\"203.04\"/>\r\n      </g>\r\n     </g>\r\n     <g id=\"text_7\">\r\n      <!-- 07 18:00 -->\r\n      <g transform=\"translate(247.545217 238.981377)rotate(-30)scale(0.1 -0.1)\">\r\n       <defs>\r\n        <path d=\"M 31.78125 34.625 \r\nQ 24.75 34.625 20.71875 30.859375 \r\nQ 16.703125 27.09375 16.703125 20.515625 \r\nQ 16.703125 13.921875 20.71875 10.15625 \r\nQ 24.75 6.390625 31.78125 6.390625 \r\nQ 38.8125 6.390625 42.859375 10.171875 \r\nQ 46.921875 13.96875 46.921875 20.515625 \r\nQ 46.921875 27.09375 42.890625 30.859375 \r\nQ 38.875 34.625 31.78125 34.625 \r\nz\r\nM 21.921875 38.8125 \r\nQ 15.578125 40.375 12.03125 44.71875 \r\nQ 8.5 49.078125 8.5 55.328125 \r\nQ 8.5 64.0625 14.71875 69.140625 \r\nQ 20.953125 74.21875 31.78125 74.21875 \r\nQ 42.671875 74.21875 48.875 69.140625 \r\nQ 55.078125 64.0625 55.078125 55.328125 \r\nQ 55.078125 49.078125 51.53125 44.71875 \r\nQ 48 40.375 41.703125 38.8125 \r\nQ 48.828125 37.15625 52.796875 32.3125 \r\nQ 56.78125 27.484375 56.78125 20.515625 \r\nQ 56.78125 9.90625 50.3125 4.234375 \r\nQ 43.84375 -1.421875 31.78125 -1.421875 \r\nQ 19.734375 -1.421875 13.25 4.234375 \r\nQ 6.78125 9.90625 6.78125 20.515625 \r\nQ 6.78125 27.484375 10.78125 32.3125 \r\nQ 14.796875 37.15625 21.921875 38.8125 \r\nz\r\nM 18.3125 54.390625 \r\nQ 18.3125 48.734375 21.84375 45.5625 \r\nQ 25.390625 42.390625 31.78125 42.390625 \r\nQ 38.140625 42.390625 41.71875 45.5625 \r\nQ 45.3125 48.734375 45.3125 54.390625 \r\nQ 45.3125 60.0625 41.71875 63.234375 \r\nQ 38.140625 66.40625 31.78125 66.40625 \r\nQ 25.390625 66.40625 21.84375 63.234375 \r\nQ 18.3125 60.0625 18.3125 54.390625 \r\nz\r\n\" id=\"DejaVuSans-56\"/>\r\n       </defs>\r\n       <use xlink:href=\"#DejaVuSans-48\"/>\r\n       <use x=\"63.623047\" xlink:href=\"#DejaVuSans-55\"/>\r\n       <use x=\"127.246094\" xlink:href=\"#DejaVuSans-32\"/>\r\n       <use x=\"159.033203\" xlink:href=\"#DejaVuSans-49\"/>\r\n       <use x=\"222.65625\" xlink:href=\"#DejaVuSans-56\"/>\r\n       <use x=\"286.279297\" xlink:href=\"#DejaVuSans-58\"/>\r\n       <use x=\"319.970703\" xlink:href=\"#DejaVuSans-48\"/>\r\n       <use x=\"383.59375\" xlink:href=\"#DejaVuSans-48\"/>\r\n      </g>\r\n     </g>\r\n    </g>\r\n    <g id=\"xtick_8\">\r\n     <g id=\"line2d_8\">\r\n      <g>\r\n       <use style=\"stroke:#000000;stroke-width:0.8;\" x=\"325.360795\" xlink:href=\"#m64a9542e4b\" y=\"203.04\"/>\r\n      </g>\r\n     </g>\r\n     <g id=\"text_8\">\r\n      <!-- 07 18:15 -->\r\n      <g transform=\"translate(285.590672 238.981377)rotate(-30)scale(0.1 -0.1)\">\r\n       <use xlink:href=\"#DejaVuSans-48\"/>\r\n       <use x=\"63.623047\" xlink:href=\"#DejaVuSans-55\"/>\r\n       <use x=\"127.246094\" xlink:href=\"#DejaVuSans-32\"/>\r\n       <use x=\"159.033203\" xlink:href=\"#DejaVuSans-49\"/>\r\n       <use x=\"222.65625\" xlink:href=\"#DejaVuSans-56\"/>\r\n       <use x=\"286.279297\" xlink:href=\"#DejaVuSans-58\"/>\r\n       <use x=\"319.970703\" xlink:href=\"#DejaVuSans-49\"/>\r\n       <use x=\"383.59375\" xlink:href=\"#DejaVuSans-53\"/>\r\n      </g>\r\n     </g>\r\n    </g>\r\n    <g id=\"xtick_9\">\r\n     <g id=\"line2d_9\">\r\n      <g>\r\n       <use style=\"stroke:#000000;stroke-width:0.8;\" x=\"363.40625\" xlink:href=\"#m64a9542e4b\" y=\"203.04\"/>\r\n      </g>\r\n     </g>\r\n     <g id=\"text_9\">\r\n      <!-- 07 18:30 -->\r\n      <g transform=\"translate(323.636126 238.981377)rotate(-30)scale(0.1 -0.1)\">\r\n       <use xlink:href=\"#DejaVuSans-48\"/>\r\n       <use x=\"63.623047\" xlink:href=\"#DejaVuSans-55\"/>\r\n       <use x=\"127.246094\" xlink:href=\"#DejaVuSans-32\"/>\r\n       <use x=\"159.033203\" xlink:href=\"#DejaVuSans-49\"/>\r\n       <use x=\"222.65625\" xlink:href=\"#DejaVuSans-56\"/>\r\n       <use x=\"286.279297\" xlink:href=\"#DejaVuSans-58\"/>\r\n       <use x=\"319.970703\" xlink:href=\"#DejaVuSans-51\"/>\r\n       <use x=\"383.59375\" xlink:href=\"#DejaVuSans-48\"/>\r\n      </g>\r\n     </g>\r\n    </g>\r\n   </g>\r\n   <g id=\"matplotlib.axis_2\">\r\n    <g id=\"ytick_1\">\r\n     <g id=\"line2d_10\">\r\n      <defs>\r\n       <path d=\"M 0 0 \r\nL -3.5 0 \r\n\" id=\"m74f0016882\" style=\"stroke:#000000;stroke-width:0.8;\"/>\r\n      </defs>\r\n      <g>\r\n       <use style=\"stroke:#000000;stroke-width:0.8;\" x=\"56.50625\" xlink:href=\"#m74f0016882\" y=\"196.67984\"/>\r\n      </g>\r\n     </g>\r\n     <g id=\"text_10\">\r\n      <!-- 387.5 -->\r\n      <g transform=\"translate(20.878125 200.479059)scale(0.1 -0.1)\">\r\n       <defs>\r\n        <path d=\"M 10.6875 12.40625 \r\nL 21 12.40625 \r\nL 21 0 \r\nL 10.6875 0 \r\nz\r\n\" id=\"DejaVuSans-46\"/>\r\n       </defs>\r\n       <use xlink:href=\"#DejaVuSans-51\"/>\r\n       <use x=\"63.623047\" xlink:href=\"#DejaVuSans-56\"/>\r\n       <use x=\"127.246094\" xlink:href=\"#DejaVuSans-55\"/>\r\n       <use x=\"190.869141\" xlink:href=\"#DejaVuSans-46\"/>\r\n       <use x=\"222.65625\" xlink:href=\"#DejaVuSans-53\"/>\r\n      </g>\r\n     </g>\r\n    </g>\r\n    <g id=\"ytick_2\">\r\n     <g id=\"line2d_11\">\r\n      <g>\r\n       <use style=\"stroke:#000000;stroke-width:0.8;\" x=\"56.50625\" xlink:href=\"#m74f0016882\" y=\"164.891651\"/>\r\n      </g>\r\n     </g>\r\n     <g id=\"text_11\">\r\n      <!-- 388.0 -->\r\n      <g transform=\"translate(20.878125 168.69087)scale(0.1 -0.1)\">\r\n       <use xlink:href=\"#DejaVuSans-51\"/>\r\n       <use x=\"63.623047\" xlink:href=\"#DejaVuSans-56\"/>\r\n       <use x=\"127.246094\" xlink:href=\"#DejaVuSans-56\"/>\r\n       <use x=\"190.869141\" xlink:href=\"#DejaVuSans-46\"/>\r\n       <use x=\"222.65625\" xlink:href=\"#DejaVuSans-48\"/>\r\n      </g>\r\n     </g>\r\n    </g>\r\n    <g id=\"ytick_3\">\r\n     <g id=\"line2d_12\">\r\n      <g>\r\n       <use style=\"stroke:#000000;stroke-width:0.8;\" x=\"56.50625\" xlink:href=\"#m74f0016882\" y=\"133.103462\"/>\r\n      </g>\r\n     </g>\r\n     <g id=\"text_12\">\r\n      <!-- 388.5 -->\r\n      <g transform=\"translate(20.878125 136.902681)scale(0.1 -0.1)\">\r\n       <use xlink:href=\"#DejaVuSans-51\"/>\r\n       <use x=\"63.623047\" xlink:href=\"#DejaVuSans-56\"/>\r\n       <use x=\"127.246094\" xlink:href=\"#DejaVuSans-56\"/>\r\n       <use x=\"190.869141\" xlink:href=\"#DejaVuSans-46\"/>\r\n       <use x=\"222.65625\" xlink:href=\"#DejaVuSans-53\"/>\r\n      </g>\r\n     </g>\r\n    </g>\r\n    <g id=\"ytick_4\">\r\n     <g id=\"line2d_13\">\r\n      <g>\r\n       <use style=\"stroke:#000000;stroke-width:0.8;\" x=\"56.50625\" xlink:href=\"#m74f0016882\" y=\"101.315274\"/>\r\n      </g>\r\n     </g>\r\n     <g id=\"text_13\">\r\n      <!-- 389.0 -->\r\n      <g transform=\"translate(20.878125 105.114492)scale(0.1 -0.1)\">\r\n       <defs>\r\n        <path d=\"M 10.984375 1.515625 \r\nL 10.984375 10.5 \r\nQ 14.703125 8.734375 18.5 7.8125 \r\nQ 22.3125 6.890625 25.984375 6.890625 \r\nQ 35.75 6.890625 40.890625 13.453125 \r\nQ 46.046875 20.015625 46.78125 33.40625 \r\nQ 43.953125 29.203125 39.59375 26.953125 \r\nQ 35.25 24.703125 29.984375 24.703125 \r\nQ 19.046875 24.703125 12.671875 31.3125 \r\nQ 6.296875 37.9375 6.296875 49.421875 \r\nQ 6.296875 60.640625 12.9375 67.421875 \r\nQ 19.578125 74.21875 30.609375 74.21875 \r\nQ 43.265625 74.21875 49.921875 64.515625 \r\nQ 56.59375 54.828125 56.59375 36.375 \r\nQ 56.59375 19.140625 48.40625 8.859375 \r\nQ 40.234375 -1.421875 26.421875 -1.421875 \r\nQ 22.703125 -1.421875 18.890625 -0.6875 \r\nQ 15.09375 0.046875 10.984375 1.515625 \r\nz\r\nM 30.609375 32.421875 \r\nQ 37.25 32.421875 41.125 36.953125 \r\nQ 45.015625 41.5 45.015625 49.421875 \r\nQ 45.015625 57.28125 41.125 61.84375 \r\nQ 37.25 66.40625 30.609375 66.40625 \r\nQ 23.96875 66.40625 20.09375 61.84375 \r\nQ 16.21875 57.28125 16.21875 49.421875 \r\nQ 16.21875 41.5 20.09375 36.953125 \r\nQ 23.96875 32.421875 30.609375 32.421875 \r\nz\r\n\" id=\"DejaVuSans-57\"/>\r\n       </defs>\r\n       <use xlink:href=\"#DejaVuSans-51\"/>\r\n       <use x=\"63.623047\" xlink:href=\"#DejaVuSans-56\"/>\r\n       <use x=\"127.246094\" xlink:href=\"#DejaVuSans-57\"/>\r\n       <use x=\"190.869141\" xlink:href=\"#DejaVuSans-46\"/>\r\n       <use x=\"222.65625\" xlink:href=\"#DejaVuSans-48\"/>\r\n      </g>\r\n     </g>\r\n    </g>\r\n    <g id=\"ytick_5\">\r\n     <g id=\"line2d_14\">\r\n      <g>\r\n       <use style=\"stroke:#000000;stroke-width:0.8;\" x=\"56.50625\" xlink:href=\"#m74f0016882\" y=\"69.527085\"/>\r\n      </g>\r\n     </g>\r\n     <g id=\"text_14\">\r\n      <!-- 389.5 -->\r\n      <g transform=\"translate(20.878125 73.326303)scale(0.1 -0.1)\">\r\n       <use xlink:href=\"#DejaVuSans-51\"/>\r\n       <use x=\"63.623047\" xlink:href=\"#DejaVuSans-56\"/>\r\n       <use x=\"127.246094\" xlink:href=\"#DejaVuSans-57\"/>\r\n       <use x=\"190.869141\" xlink:href=\"#DejaVuSans-46\"/>\r\n       <use x=\"222.65625\" xlink:href=\"#DejaVuSans-53\"/>\r\n      </g>\r\n     </g>\r\n    </g>\r\n    <g id=\"ytick_6\">\r\n     <g id=\"line2d_15\">\r\n      <g>\r\n       <use style=\"stroke:#000000;stroke-width:0.8;\" x=\"56.50625\" xlink:href=\"#m74f0016882\" y=\"37.738896\"/>\r\n      </g>\r\n     </g>\r\n     <g id=\"text_15\">\r\n      <!-- 390.0 -->\r\n      <g transform=\"translate(20.878125 41.538115)scale(0.1 -0.1)\">\r\n       <use xlink:href=\"#DejaVuSans-51\"/>\r\n       <use x=\"63.623047\" xlink:href=\"#DejaVuSans-57\"/>\r\n       <use x=\"127.246094\" xlink:href=\"#DejaVuSans-48\"/>\r\n       <use x=\"190.869141\" xlink:href=\"#DejaVuSans-46\"/>\r\n       <use x=\"222.65625\" xlink:href=\"#DejaVuSans-48\"/>\r\n      </g>\r\n     </g>\r\n    </g>\r\n    <g id=\"text_16\">\r\n     <!-- 9l1: WaterLevel -->\r\n     <g transform=\"translate(14.798437 144.12625)rotate(-90)scale(0.1 -0.1)\">\r\n      <defs>\r\n       <path d=\"M 9.421875 75.984375 \r\nL 18.40625 75.984375 \r\nL 18.40625 0 \r\nL 9.421875 0 \r\nz\r\n\" id=\"DejaVuSans-108\"/>\r\n       <path d=\"M 3.328125 72.90625 \r\nL 13.28125 72.90625 \r\nL 28.609375 11.28125 \r\nL 43.890625 72.90625 \r\nL 54.984375 72.90625 \r\nL 70.3125 11.28125 \r\nL 85.59375 72.90625 \r\nL 95.609375 72.90625 \r\nL 77.296875 0 \r\nL 64.890625 0 \r\nL 49.515625 63.28125 \r\nL 33.984375 0 \r\nL 21.578125 0 \r\nz\r\n\" id=\"DejaVuSans-87\"/>\r\n       <path d=\"M 34.28125 27.484375 \r\nQ 23.390625 27.484375 19.1875 25 \r\nQ 14.984375 22.515625 14.984375 16.5 \r\nQ 14.984375 11.71875 18.140625 8.90625 \r\nQ 21.296875 6.109375 26.703125 6.109375 \r\nQ 34.1875 6.109375 38.703125 11.40625 \r\nQ 43.21875 16.703125 43.21875 25.484375 \r\nL 43.21875 27.484375 \r\nz\r\nM 52.203125 31.203125 \r\nL 52.203125 0 \r\nL 43.21875 0 \r\nL 43.21875 8.296875 \r\nQ 40.140625 3.328125 35.546875 0.953125 \r\nQ 30.953125 -1.421875 24.3125 -1.421875 \r\nQ 15.921875 -1.421875 10.953125 3.296875 \r\nQ 6 8.015625 6 15.921875 \r\nQ 6 25.140625 12.171875 29.828125 \r\nQ 18.359375 34.515625 30.609375 34.515625 \r\nL 43.21875 34.515625 \r\nL 43.21875 35.40625 \r\nQ 43.21875 41.609375 39.140625 45 \r\nQ 35.0625 48.390625 27.6875 48.390625 \r\nQ 23 48.390625 18.546875 47.265625 \r\nQ 14.109375 46.140625 10.015625 43.890625 \r\nL 10.015625 52.203125 \r\nQ 14.9375 54.109375 19.578125 55.046875 \r\nQ 24.21875 56 28.609375 56 \r\nQ 40.484375 56 46.34375 49.84375 \r\nQ 52.203125 43.703125 52.203125 31.203125 \r\nz\r\n\" id=\"DejaVuSans-97\"/>\r\n       <path d=\"M 18.3125 70.21875 \r\nL 18.3125 54.6875 \r\nL 36.8125 54.6875 \r\nL 36.8125 47.703125 \r\nL 18.3125 47.703125 \r\nL 18.3125 18.015625 \r\nQ 18.3125 11.328125 20.140625 9.421875 \r\nQ 21.96875 7.515625 27.59375 7.515625 \r\nL 36.8125 7.515625 \r\nL 36.8125 0 \r\nL 27.59375 0 \r\nQ 17.1875 0 13.234375 3.875 \r\nQ 9.28125 7.765625 9.28125 18.015625 \r\nL 9.28125 47.703125 \r\nL 2.6875 47.703125 \r\nL 2.6875 54.6875 \r\nL 9.28125 54.6875 \r\nL 9.28125 70.21875 \r\nz\r\n\" id=\"DejaVuSans-116\"/>\r\n       <path d=\"M 56.203125 29.59375 \r\nL 56.203125 25.203125 \r\nL 14.890625 25.203125 \r\nQ 15.484375 15.921875 20.484375 11.0625 \r\nQ 25.484375 6.203125 34.421875 6.203125 \r\nQ 39.59375 6.203125 44.453125 7.46875 \r\nQ 49.3125 8.734375 54.109375 11.28125 \r\nL 54.109375 2.78125 \r\nQ 49.265625 0.734375 44.1875 -0.34375 \r\nQ 39.109375 -1.421875 33.890625 -1.421875 \r\nQ 20.796875 -1.421875 13.15625 6.1875 \r\nQ 5.515625 13.8125 5.515625 26.8125 \r\nQ 5.515625 40.234375 12.765625 48.109375 \r\nQ 20.015625 56 32.328125 56 \r\nQ 43.359375 56 49.78125 48.890625 \r\nQ 56.203125 41.796875 56.203125 29.59375 \r\nz\r\nM 47.21875 32.234375 \r\nQ 47.125 39.59375 43.09375 43.984375 \r\nQ 39.0625 48.390625 32.421875 48.390625 \r\nQ 24.90625 48.390625 20.390625 44.140625 \r\nQ 15.875 39.890625 15.1875 32.171875 \r\nz\r\n\" id=\"DejaVuSans-101\"/>\r\n       <path d=\"M 41.109375 46.296875 \r\nQ 39.59375 47.171875 37.8125 47.578125 \r\nQ 36.03125 48 33.890625 48 \r\nQ 26.265625 48 22.1875 43.046875 \r\nQ 18.109375 38.09375 18.109375 28.8125 \r\nL 18.109375 0 \r\nL 9.078125 0 \r\nL 9.078125 54.6875 \r\nL 18.109375 54.6875 \r\nL 18.109375 46.1875 \r\nQ 20.953125 51.171875 25.484375 53.578125 \r\nQ 30.03125 56 36.53125 56 \r\nQ 37.453125 56 38.578125 55.875 \r\nQ 39.703125 55.765625 41.0625 55.515625 \r\nz\r\n\" id=\"DejaVuSans-114\"/>\r\n       <path d=\"M 9.8125 72.90625 \r\nL 19.671875 72.90625 \r\nL 19.671875 8.296875 \r\nL 55.171875 8.296875 \r\nL 55.171875 0 \r\nL 9.8125 0 \r\nz\r\n\" id=\"DejaVuSans-76\"/>\r\n       <path d=\"M 2.984375 54.6875 \r\nL 12.5 54.6875 \r\nL 29.59375 8.796875 \r\nL 46.6875 54.6875 \r\nL 56.203125 54.6875 \r\nL 35.6875 0 \r\nL 23.484375 0 \r\nz\r\n\" id=\"DejaVuSans-118\"/>\r\n      </defs>\r\n      <use xlink:href=\"#DejaVuSans-57\"/>\r\n      <use x=\"63.623047\" xlink:href=\"#DejaVuSans-108\"/>\r\n      <use x=\"91.40625\" xlink:href=\"#DejaVuSans-49\"/>\r\n      <use x=\"155.029297\" xlink:href=\"#DejaVuSans-58\"/>\r\n      <use x=\"188.720703\" xlink:href=\"#DejaVuSans-32\"/>\r\n      <use x=\"220.507812\" xlink:href=\"#DejaVuSans-87\"/>\r\n      <use x=\"313.009766\" xlink:href=\"#DejaVuSans-97\"/>\r\n      <use x=\"374.289062\" xlink:href=\"#DejaVuSans-116\"/>\r\n      <use x=\"413.498047\" xlink:href=\"#DejaVuSans-101\"/>\r\n      <use x=\"475.021484\" xlink:href=\"#DejaVuSans-114\"/>\r\n      <use x=\"516.134766\" xlink:href=\"#DejaVuSans-76\"/>\r\n      <use x=\"570.097656\" xlink:href=\"#DejaVuSans-101\"/>\r\n      <use x=\"631.621094\" xlink:href=\"#DejaVuSans-118\"/>\r\n      <use x=\"690.800781\" xlink:href=\"#DejaVuSans-101\"/>\r\n      <use x=\"752.324219\" xlink:href=\"#DejaVuSans-108\"/>\r\n     </g>\r\n    </g>\r\n   </g>\r\n   <g id=\"line2d_16\">\r\n    <path clip-path=\"url(#pdc61d09873)\" d=\"M 71.724432 194.138182 \r\nL 74.303068 194.128481 \r\nL 77.093068 194.105198 \r\nL 81.658523 194.064454 \r\nL 84.194886 194.041172 \r\nL 86.73125 194.01983 \r\nL 89.267614 193.998488 \r\nL 91.803977 193.977145 \r\nL 94.340341 193.955803 \r\nL 96.876705 193.936401 \r\nL 99.413068 193.915059 \r\nL 101.949432 193.893717 \r\nL 104.485795 193.847152 \r\nL 107.275795 193.653133 \r\nL 110.234886 193.156442 \r\nL 113.532159 192.287234 \r\nL 116.913977 191.142518 \r\nL 120.845341 189.413802 \r\nL 125.495341 187.264064 \r\nL 128.031705 186.301726 \r\nL 130.568068 185.473262 \r\nL 133.104432 184.776731 \r\nL 135.640795 184.198552 \r\nL 138.177159 183.719324 \r\nL 140.713523 183.315763 \r\nL 143.249886 182.966527 \r\nL 145.78625 182.663856 \r\nL 148.322614 182.398049 \r\nL 150.858977 182.171046 \r\nL 153.395341 181.975086 \r\nL 155.931705 181.81017 \r\nL 158.468068 181.674356 \r\nL 161.004432 181.559884 \r\nL 163.540795 181.464815 \r\nL 166.077159 181.387207 \r\nL 168.613523 181.327061 \r\nL 171.149886 181.278556 \r\nL 173.68625 181.243632 \r\nL 176.222614 181.22035 \r\nL 178.758977 181.204828 \r\nL 181.295341 181.200948 \r\nL 183.831705 181.200948 \r\nL 186.833068 181.177665 \r\nL 189.707614 180.405467 \r\nL 192.243977 177.122654 \r\nL 194.780341 168.741002 \r\nL 197.316705 153.219426 \r\nL 199.853068 137.201159 \r\nL 202.389432 122.393575 \r\nL 204.925795 106.751706 \r\nL 207.462159 90.566582 \r\nL 209.998523 74.071026 \r\nL 212.534886 57.649198 \r\nL 215.07125 40.33488 \r\nL 217.607614 26.866032 \r\nL 220.143977 18.065298 \r\nL 222.680341 16.101818 \r\nL 225.216705 18.47856 \r\nL 227.753068 21.957333 \r\nL 230.289432 27.032888 \r\nL 232.825795 34.875165 \r\nL 235.362159 40.020568 \r\nL 237.898523 45.422076 \r\nL 240.434886 49.88841 \r\nL 242.97125 54.325641 \r\nL 245.634432 58.74735 \r\nL 248.382159 63.335916 \r\nL 251.256705 68.064176 \r\nL 253.793068 72.163813 \r\nL 256.45625 76.46717 \r\nL 259.077159 80.659936 \r\nL 261.698068 84.893446 \r\nL 264.783977 89.7614 \r\nL 267.61625 94.043415 \r\nL 270.913523 98.91719 \r\nL 273.830341 103.127418 \r\nL 276.831705 107.139745 \r\nL 279.663977 110.608818 \r\nL 283.088068 114.659949 \r\nL 287.14625 119.238814 \r\nL 289.682614 121.993894 \r\nL 292.810795 125.241784 \r\nL 297.672159 129.723639 \r\nL 300.208523 131.877258 \r\nL 302.744886 133.926106 \r\nL 305.28125 135.885705 \r\nL 307.817614 137.752175 \r\nL 310.353977 139.521634 \r\nL 312.890341 141.209606 \r\nL 317.033068 143.838573 \r\nL 321.048977 146.226955 \r\nL 325.107159 148.564893 \r\nL 328.108523 150.250924 \r\nL 331.109886 151.845766 \r\nL 335.802159 154.212806 \r\nL 338.338523 155.392446 \r\nL 340.874886 156.51582 \r\nL 343.41125 157.586809 \r\nL 345.947614 158.613173 \r\nL 348.483977 159.606554 \r\nL 351.020341 160.565012 \r\nL 353.556705 161.492426 \r\nL 356.093068 162.388797 \r\nL 358.629432 163.254125 \r\nL 361.165795 164.09229 \r\nL 363.702159 164.899412 \r\nL 366.238523 165.675491 \r\nL 368.774886 166.424407 \r\nL 371.31125 167.161682 \r\nL 376.088068 168.498478 \r\n\" style=\"fill:none;stroke:#1f77b4;stroke-linecap:square;stroke-width:1.5;\"/>\r\n   </g>\r\n   <g id=\"patch_3\">\r\n    <path d=\"M 56.50625 203.04 \r\nL 56.50625 7.2 \r\n\" style=\"fill:none;stroke:#000000;stroke-linecap:square;stroke-linejoin:miter;stroke-width:0.8;\"/>\r\n   </g>\r\n   <g id=\"patch_4\">\r\n    <path d=\"M 391.30625 203.04 \r\nL 391.30625 7.2 \r\n\" style=\"fill:none;stroke:#000000;stroke-linecap:square;stroke-linejoin:miter;stroke-width:0.8;\"/>\r\n   </g>\r\n   <g id=\"patch_5\">\r\n    <path d=\"M 56.50625 203.04 \r\nL 391.30625 203.04 \r\n\" style=\"fill:none;stroke:#000000;stroke-linecap:square;stroke-linejoin:miter;stroke-width:0.8;\"/>\r\n   </g>\r\n   <g id=\"patch_6\">\r\n    <path d=\"M 56.50625 7.2 \r\nL 391.30625 7.2 \r\n\" style=\"fill:none;stroke:#000000;stroke-linecap:square;stroke-linejoin:miter;stroke-width:0.8;\"/>\r\n   </g>\r\n  </g>\r\n </g>\r\n <defs>\r\n  <clipPath id=\"pdc61d09873\">\r\n   <rect height=\"195.84\" width=\"334.8\" x=\"56.50625\" y=\"7.2\"/>\r\n  </clipPath>\r\n </defs>\r\n</svg>\r\n",
      "image/png": "[encoded data removed]"
     },
     "metadata": {
      "needs_background": "light"
     }
    }
   ],
   "source": [
    "# Create pandas time series and plot\n",
    "pd.Series(values_sum, index = res1d.time_index).plot(ylabel=\"9l1: \" + \"WaterLevel\")"
   ]
  },
  {
   "cell_type": "markdown",
   "metadata": {},
   "source": [
    "# Alternative: Access underlying C# query class to extract data"
   ]
  },
  {
   "cell_type": "code",
   "execution_count": 18,
   "metadata": {},
   "outputs": [],
   "source": [
    "from mikeio1d.dotnet import to_numpy"
   ]
  },
  {
   "cell_type": "code",
   "execution_count": 19,
   "metadata": {},
   "outputs": [
    {
     "output_type": "execute_result",
     "data": {
      "text/plain": [
       "array([196.962  , 196.96205, 196.96208, 196.96211, 196.96213, 196.96214,\n",
       "       196.96216, 196.96217, 196.96219, 196.9622 , 196.96222, 196.96222,\n",
       "       196.9623 , 196.96275, 196.96391, 196.96538, 196.96637, 196.96707,\n",
       "       196.96747, 196.96756, 196.96759, 196.96759, 196.96756, 196.96753,\n",
       "       196.96747, 196.9674 , 196.96735, 196.96729, 196.96721, 196.96713,\n",
       "       196.96707, 196.967  , 196.96692, 196.96686, 196.96678, 196.96672,\n",
       "       196.96666, 196.9666 , 196.96654, 196.96648, 196.96643, 196.96637,\n",
       "       196.96657, 196.97063, 196.98033, 196.99182, 197.00194, 197.0102 ,\n",
       "       197.01689, 197.0226 , 197.02768, 197.03256, 197.03769, 197.04597,\n",
       "       197.03958, 197.03084, 197.02518, 197.0207 , 197.01746, 197.01495,\n",
       "       197.013  , 197.01141, 197.0101 , 197.00899, 197.00803, 197.00702,\n",
       "       197.00551, 197.00323, 197.00078, 196.99792, 196.99512, 196.99225,\n",
       "       196.98889, 196.98589, 196.98251, 196.97975, 196.97722, 196.97542,\n",
       "       196.97379, 196.97237, 196.97171, 196.97104, 196.9702 , 196.96985,\n",
       "       196.96956, 196.9693 , 196.96907, 196.96886, 196.96864, 196.96832,\n",
       "       196.96803, 196.9678 , 196.96767, 196.96756, 196.96742, 196.96736,\n",
       "       196.9673 , 196.96727, 196.96722, 196.9672 , 196.96716, 196.96715,\n",
       "       196.96712, 196.9671 , 196.96707, 196.96706, 196.96704, 196.96703,\n",
       "       196.96666, 196.96577], dtype=float32)"
      ]
     },
     "metadata": {},
     "execution_count": 19
    }
   ],
   "source": [
    "to_numpy(res1d.query.GetReachValues(\"104l1\", 34.4131, \"WaterLevel\"))"
   ]
  },
  {
   "cell_type": "code",
   "execution_count": 20,
   "metadata": {},
   "outputs": [],
   "source": [
    "values = res1d.query.GetReachEndValues(\"9l1\", \"WaterLevel\")  # avoid specifying chainage\n",
    "values = res1d.query.GetReachStartValues(\"9l1\", \"WaterLevel\")  # avoid specifying chainage\n",
    "values = res1d.query.GetReachSumValues(\"9l1\", \"WaterLevel\")  # useful for summing volume in reach (all grid points)"
   ]
  },
  {
   "cell_type": "code",
   "execution_count": 20,
   "metadata": {},
   "outputs": [],
   "source": [
    "# Extract catchment values (no catchments in this test file)\n",
    "# values = res1d.query.GetCatchmentValues(catchmentId, quantityId)"
   ]
  }
 ],
 "metadata": {
  "kernelspec": {
   "name": "python385jvsc74a57bd01b27a185e5e38addd349bee67c436665dc7832e161e2a923b2540665280bf8fe",
   "display_name": "Python 3.8.5 64-bit ('base': conda)"
  },
  "language_info": {
   "codemirror_mode": {
    "name": "ipython",
    "version": 3
   },
   "file_extension": ".py",
   "mimetype": "text/x-python",
   "name": "python",
   "nbconvert_exporter": "python",
   "pygments_lexer": "ipython3",
   "version": "3.8.5"
  }
 },
 "nbformat": 4,
 "nbformat_minor": 4
}