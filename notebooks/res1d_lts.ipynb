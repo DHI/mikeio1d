{
 "cells": [
  {
   "attachments": {},
   "cell_type": "markdown",
   "metadata": {},
   "source": [
    "# Read Long Term Statistics (LTS) statistics Res1D files\n",
    "\n",
    "In this notebook we give examples how to read LTS event and chronological statistics files. A lot of functionality is the same as reading the ordinary res1d files, which is described in [res1d.ipynb](res1d.ipynb). Here we outline the things specific to LTS results."
   ]
  },
  {
   "cell_type": "code",
   "execution_count": null,
   "metadata": {},
   "outputs": [],
   "source": [
    "from mikeio1d import Res1D"
   ]
  },
  {
   "attachments": {},
   "cell_type": "markdown",
   "metadata": {},
   "source": [
    "## LTS event statistics results"
   ]
  },
  {
   "attachments": {},
   "cell_type": "markdown",
   "metadata": {},
   "source": [
    "Read entire LTS event statistics file into a data frame."
   ]
  },
  {
   "cell_type": "code",
   "execution_count": null,
   "metadata": {},
   "outputs": [],
   "source": [
    "file_path_events = \"../tests/testdata/lts_event_statistics.res1d\"\n",
    "res1d_events = Res1D(file_path_events)\n",
    "df_events = res1d_events.read()"
   ]
  },
  {
   "attachments": {},
   "cell_type": "markdown",
   "metadata": {},
   "source": [
    "Let's look at the full data frame. Here the integer index of the data frame specifies label of the event. The events are ordered from having the largest value to smallest value.\n",
    "So the smallest integer label represents an event with largest value. Note that entries with delete value $-1\\times 10^{-35}$ specifies that there is no event."
   ]
  },
  {
   "cell_type": "code",
   "execution_count": null,
   "metadata": {},
   "outputs": [],
   "source": [
    "df_events"
   ]
  },
  {
   "attachments": {},
   "cell_type": "markdown",
   "metadata": {},
   "source": [
    "The available quantities in LTS event statistics result file are"
   ]
  },
  {
   "cell_type": "code",
   "execution_count": null,
   "metadata": {},
   "outputs": [],
   "source": [
    "res1d_events.quantities"
   ]
  },
  {
   "attachments": {},
   "cell_type": "markdown",
   "metadata": {},
   "source": [
    "The quantities ending with label **'...Time'** give the time of the correspoding quantity **'...'**. For example, quantity **'WaterLevelMaximum'** has the event time quantity **'WaterLevelMaximumTime'**. For example, water level maximum event statistics for node **'B4.1200'** can be retrieved as:"
   ]
  },
  {
   "cell_type": "code",
   "execution_count": null,
   "metadata": {},
   "outputs": [],
   "source": [
    "df_events[['WaterLevelMaximum:B4.1200', 'WaterLevelMaximumTime:B4.1200']]"
   ]
  },
  {
   "attachments": {},
   "cell_type": "markdown",
   "metadata": {},
   "source": [
    "Additionally, for flow type quantities like **Discharge** there are these LTS event quantities:\n",
    " * **DischargeMaximum** - maximum discharge of an event\n",
    " * **DischargeMaximumTime** - time of the maximum discharge\n",
    " * **DischargeDuration** - duration of the flow event\n",
    " * **DischargeDurationTime** - time when the duration is started to be calculated\n",
    " * **DischargeIntegrated** - event integrated over the whole duration\n",
    " * **DischargeIntegratedTime** - start time of the flow event\n",
    "\n",
    "Let's see the discharge statistics at the start of the pipe (reach) **B4.1200l1:0**"
   ]
  },
  {
   "cell_type": "code",
   "execution_count": null,
   "metadata": {},
   "outputs": [],
   "source": [
    "quantities = [c for c in df_events.columns if 'Discharge' in c and 'B4.1200l1:26.666' in c]\n",
    "df_events[quantities]"
   ]
  },
  {
   "attachments": {},
   "cell_type": "markdown",
   "metadata": {},
   "source": [
    "Note that entries with the same integer label for **DischargeIntegrated**, **DischargeMaximum**, **DischargeDuration** does not represent the same event."
   ]
  },
  {
   "attachments": {},
   "cell_type": "markdown",
   "metadata": {},
   "source": [
    "Let's plot the water level maximum for pipe (reach) **B4.1200l1** having chainages **(0, 479.999)** and connecting nodes start/end nodes **B4.1200**/**B4.1485**"
   ]
  },
  {
   "cell_type": "code",
   "execution_count": null,
   "metadata": {},
   "outputs": [],
   "source": [
    "df_events[['WaterLevelMaximum:B4.1200', 'WaterLevelMaximum:B4.1200l1:0', 'WaterLevelMaximum:B4.1200l1:479.999', 'WaterLevelMaximum:B4.1485']].plot();"
   ]
  },
  {
   "attachments": {},
   "cell_type": "markdown",
   "metadata": {},
   "source": [
    "## LTS chronological statistics results"
   ]
  },
  {
   "attachments": {},
   "cell_type": "markdown",
   "metadata": {},
   "source": [
    "Read entire LTS monthly statistics file into a data frame."
   ]
  },
  {
   "cell_type": "code",
   "execution_count": null,
   "metadata": {},
   "outputs": [],
   "source": [
    "file_path_monthly = \"../tests/testdata/lts_monthly_statistics.res1d\"\n",
    "res1d_monthly = Res1D(file_path_monthly)\n",
    "df_monthly = res1d_monthly.read()"
   ]
  },
  {
   "attachments": {},
   "cell_type": "markdown",
   "metadata": {},
   "source": [
    "For monthly/yearly statistics the time index has value for every month/year."
   ]
  },
  {
   "cell_type": "code",
   "execution_count": null,
   "metadata": {},
   "outputs": [],
   "source": [
    "df_monthly.head(10)"
   ]
  },
  {
   "attachments": {},
   "cell_type": "markdown",
   "metadata": {},
   "source": [
    "For flow type quantities like **Discharge** there are these LTS monthly (similary to yearly statistics) event quantities:\n",
    " * **DischargeIntegratedMonthly** - discharge integrated over the whole month\n",
    " * **DischargeIntegratedMonthlyCount** - number of events within a month\n",
    " * **DischargeIntegratedMonthlyDuration** - duration of all events in a month\n",
    "\n",
    "Let's see the discharge chronological statistics at the start of the pipe (reach) **B4.1200l1:0**"
   ]
  },
  {
   "cell_type": "code",
   "execution_count": null,
   "metadata": {},
   "outputs": [],
   "source": [
    "quantities = [c for c in df_monthly.columns if 'Discharge' in c and 'B4.1200l1:26.666' in c]\n",
    "df_monthly[quantities].head(10)"
   ]
  },
  {
   "attachments": {},
   "cell_type": "markdown",
   "metadata": {},
   "source": [
    "Some plots of LTS dsicharge monthly statistics"
   ]
  },
  {
   "cell_type": "code",
   "execution_count": null,
   "metadata": {},
   "outputs": [],
   "source": [
    "print(quantities[0])\n",
    "df_monthly[quantities[0]].plot();"
   ]
  },
  {
   "cell_type": "code",
   "execution_count": null,
   "metadata": {},
   "outputs": [],
   "source": [
    "print(quantities[1])\n",
    "df_monthly[quantities[1]].plot();"
   ]
  },
  {
   "cell_type": "code",
   "execution_count": null,
   "metadata": {},
   "outputs": [],
   "source": [
    "print(quantities[2])\n",
    "df_monthly[quantities[2]].plot();"
   ]
  },
  {
   "cell_type": "code",
   "execution_count": null,
   "metadata": {},
   "outputs": [],
   "source": []
  }
 ],
 "metadata": {
  "kernelspec": {
   "display_name": "Python 3",
   "language": "python",
   "name": "python3"
  },
  "language_info": {
   "codemirror_mode": {
    "name": "ipython",
    "version": 3
   },
   "file_extension": ".py",
   "mimetype": "text/x-python",
   "name": "python",
   "nbconvert_exporter": "python",
   "pygments_lexer": "ipython3",
   "version": "3.12.1"
  },
  "vscode": {
   "interpreter": {
    "hash": "52634da84371cba311ea128a5ea7cdc41ff074b781779e754b270ff9f8153cee"
   }
  }
 },
 "nbformat": 4,
 "nbformat_minor": 4
}
