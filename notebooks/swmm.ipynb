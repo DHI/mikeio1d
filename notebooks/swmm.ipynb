{
 "cells": [
  {
   "attachments": {},
   "cell_type": "markdown",
   "metadata": {},
   "source": [
    "# Read SWMM result files\n",
    "\n",
    "In this notebook we give examples how to read SWMM result files **out**. Most of the functionality is the same as reading res1d files, which is described in [res1d.ipynb](res1d.ipynb)."
   ]
  },
  {
   "cell_type": "code",
   "execution_count": 1,
   "metadata": {
    "execution": {
     "iopub.execute_input": "2024-10-07T08:51:06.124331Z",
     "iopub.status.busy": "2024-10-07T08:51:06.124119Z",
     "iopub.status.idle": "2024-10-07T08:51:08.379564Z",
     "shell.execute_reply": "2024-10-07T08:51:08.378471Z"
    }
   },
   "outputs": [],
   "source": [
    "from mikeio1d import Res1D\n",
    "from mikeio1d.query import QueryDataNode, QueryDataReach, QueryDataCatchment"
   ]
  },
  {
   "attachments": {},
   "cell_type": "markdown",
   "metadata": {},
   "source": [
    "## SWMM out file"
   ]
  },
  {
   "attachments": {},
   "cell_type": "markdown",
   "metadata": {},
   "source": [
    "Read entire res file into a data frame. Here we use results from a standard **Example1.inp** distributed together with EPA SWMM 5.1."
   ]
  },
  {
   "cell_type": "code",
   "execution_count": 2,
   "metadata": {
    "execution": {
     "iopub.execute_input": "2024-10-07T08:51:08.383247Z",
     "iopub.status.busy": "2024-10-07T08:51:08.382535Z",
     "iopub.status.idle": "2024-10-07T08:51:08.707339Z",
     "shell.execute_reply": "2024-10-07T08:51:08.706313Z"
    }
   },
   "outputs": [],
   "source": [
    "file_path = \"../tests/testdata/swmm.out\"\n",
    "res = Res1D(file_path)\n",
    "df = res.read()"
   ]
  },
  {
   "attachments": {},
   "cell_type": "markdown",
   "metadata": {},
   "source": [
    "Let's peek at the full data frame coming from EPANET result."
   ]
  },
  {
   "cell_type": "code",
   "execution_count": 3,
   "metadata": {
    "execution": {
     "iopub.execute_input": "2024-10-07T08:51:08.710425Z",
     "iopub.status.busy": "2024-10-07T08:51:08.710193Z",
     "iopub.status.idle": "2024-10-07T08:51:08.737526Z",
     "shell.execute_reply": "2024-10-07T08:51:08.736383Z"
    }
   },
   "outputs": [
    {
     "data": {
      "text/html": [
       "<div>\n",
       "<style scoped>\n",
       "    .dataframe tbody tr th:only-of-type {\n",
       "        vertical-align: middle;\n",
       "    }\n",
       "\n",
       "    .dataframe tbody tr th {\n",
       "        vertical-align: top;\n",
       "    }\n",
       "\n",
       "    .dataframe thead th {\n",
       "        text-align: right;\n",
       "    }\n",
       "</style>\n",
       "<table border=\"1\" class=\"dataframe\">\n",
       "  <thead>\n",
       "    <tr style=\"text-align: right;\">\n",
       "      <th></th>\n",
       "      <th>SWMM_NODE_DEPTH:9</th>\n",
       "      <th>SWMM_NODE_HEAD:9</th>\n",
       "      <th>SWMM_NODE_VOLUME:9</th>\n",
       "      <th>SWMM_NODE_LATFLOW:9</th>\n",
       "      <th>SWMM_NODE_INFLOW:9</th>\n",
       "      <th>SWMM_NODE_OVERFLOW:9</th>\n",
       "      <th>SWMM_NODE_QUAL:9</th>\n",
       "      <th>SWMM_NODE_QUAL:9</th>\n",
       "      <th>SWMM_NODE_DEPTH:10</th>\n",
       "      <th>SWMM_NODE_HEAD:10</th>\n",
       "      <th>...</th>\n",
       "      <th>SWMM_SYS_DWFLOW</th>\n",
       "      <th>SWMM_SYS_GWFLOW</th>\n",
       "      <th>SWMM_SYS_INFLOW</th>\n",
       "      <th>SWMM_SYS_EXFLOW</th>\n",
       "      <th>SWMM_SYS_INFLOW</th>\n",
       "      <th>SWMM_SYS_FLOODING</th>\n",
       "      <th>SWMM_SYS_OUTFLOW</th>\n",
       "      <th>SWMM_SYS_STORAGE</th>\n",
       "      <th>SWMM_SYS_EVAP</th>\n",
       "      <th>SWMM_SYS_PET</th>\n",
       "    </tr>\n",
       "  </thead>\n",
       "  <tbody>\n",
       "    <tr>\n",
       "      <th>1998-01-01 01:00:00.001</th>\n",
       "      <td>0.000000</td>\n",
       "      <td>1000.000000</td>\n",
       "      <td>0.0</td>\n",
       "      <td>0.000000</td>\n",
       "      <td>0.000000</td>\n",
       "      <td>0.0</td>\n",
       "      <td>0.000000</td>\n",
       "      <td>0.000000</td>\n",
       "      <td>0.000000</td>\n",
       "      <td>995.000000</td>\n",
       "      <td>...</td>\n",
       "      <td>0.0</td>\n",
       "      <td>0.0</td>\n",
       "      <td>0.0</td>\n",
       "      <td>0.0</td>\n",
       "      <td>0.000000</td>\n",
       "      <td>0.000000</td>\n",
       "      <td>0.000000</td>\n",
       "      <td>0.000000</td>\n",
       "      <td>0.0</td>\n",
       "      <td>0.0</td>\n",
       "    </tr>\n",
       "    <tr>\n",
       "      <th>1998-01-01 02:00:00.001</th>\n",
       "      <td>0.288774</td>\n",
       "      <td>1000.288757</td>\n",
       "      <td>0.0</td>\n",
       "      <td>1.239633</td>\n",
       "      <td>1.239633</td>\n",
       "      <td>0.0</td>\n",
       "      <td>15.720075</td>\n",
       "      <td>3.144015</td>\n",
       "      <td>0.520309</td>\n",
       "      <td>995.520325</td>\n",
       "      <td>...</td>\n",
       "      <td>0.0</td>\n",
       "      <td>0.0</td>\n",
       "      <td>0.0</td>\n",
       "      <td>0.0</td>\n",
       "      <td>6.216826</td>\n",
       "      <td>0.000000</td>\n",
       "      <td>6.128909</td>\n",
       "      <td>1656.397217</td>\n",
       "      <td>0.0</td>\n",
       "      <td>0.0</td>\n",
       "    </tr>\n",
       "    <tr>\n",
       "      <th>1998-01-01 03:00:00.001</th>\n",
       "      <td>0.418453</td>\n",
       "      <td>1000.418457</td>\n",
       "      <td>0.0</td>\n",
       "      <td>2.595429</td>\n",
       "      <td>2.595429</td>\n",
       "      <td>0.0</td>\n",
       "      <td>15.389509</td>\n",
       "      <td>3.077902</td>\n",
       "      <td>3.000000</td>\n",
       "      <td>998.000000</td>\n",
       "      <td>...</td>\n",
       "      <td>0.0</td>\n",
       "      <td>0.0</td>\n",
       "      <td>0.0</td>\n",
       "      <td>0.0</td>\n",
       "      <td>13.030855</td>\n",
       "      <td>0.521967</td>\n",
       "      <td>12.470544</td>\n",
       "      <td>2796.561035</td>\n",
       "      <td>0.0</td>\n",
       "      <td>0.0</td>\n",
       "    </tr>\n",
       "    <tr>\n",
       "      <th>1998-01-01 04:00:00.001</th>\n",
       "      <td>0.567633</td>\n",
       "      <td>1000.567627</td>\n",
       "      <td>0.0</td>\n",
       "      <td>4.645479</td>\n",
       "      <td>4.645479</td>\n",
       "      <td>0.0</td>\n",
       "      <td>14.810841</td>\n",
       "      <td>2.962168</td>\n",
       "      <td>3.000000</td>\n",
       "      <td>998.000000</td>\n",
       "      <td>...</td>\n",
       "      <td>0.0</td>\n",
       "      <td>0.0</td>\n",
       "      <td>0.0</td>\n",
       "      <td>0.0</td>\n",
       "      <td>24.252975</td>\n",
       "      <td>4.511855</td>\n",
       "      <td>19.521162</td>\n",
       "      <td>3780.683594</td>\n",
       "      <td>0.0</td>\n",
       "      <td>0.0</td>\n",
       "    </tr>\n",
       "    <tr>\n",
       "      <th>1998-01-01 05:00:00.001</th>\n",
       "      <td>0.425047</td>\n",
       "      <td>1000.425049</td>\n",
       "      <td>0.0</td>\n",
       "      <td>2.675368</td>\n",
       "      <td>2.675368</td>\n",
       "      <td>0.0</td>\n",
       "      <td>14.338782</td>\n",
       "      <td>2.867756</td>\n",
       "      <td>3.000000</td>\n",
       "      <td>998.000000</td>\n",
       "      <td>...</td>\n",
       "      <td>0.0</td>\n",
       "      <td>0.0</td>\n",
       "      <td>0.0</td>\n",
       "      <td>0.0</td>\n",
       "      <td>14.172027</td>\n",
       "      <td>0.555154</td>\n",
       "      <td>13.623661</td>\n",
       "      <td>2913.430420</td>\n",
       "      <td>0.0</td>\n",
       "      <td>0.0</td>\n",
       "    </tr>\n",
       "  </tbody>\n",
       "</table>\n",
       "<p>5 rows × 298 columns</p>\n",
       "</div>"
      ],
      "text/plain": [
       "                         SWMM_NODE_DEPTH:9  SWMM_NODE_HEAD:9  \\\n",
       "1998-01-01 01:00:00.001           0.000000       1000.000000   \n",
       "1998-01-01 02:00:00.001           0.288774       1000.288757   \n",
       "1998-01-01 03:00:00.001           0.418453       1000.418457   \n",
       "1998-01-01 04:00:00.001           0.567633       1000.567627   \n",
       "1998-01-01 05:00:00.001           0.425047       1000.425049   \n",
       "\n",
       "                         SWMM_NODE_VOLUME:9  SWMM_NODE_LATFLOW:9  \\\n",
       "1998-01-01 01:00:00.001                 0.0             0.000000   \n",
       "1998-01-01 02:00:00.001                 0.0             1.239633   \n",
       "1998-01-01 03:00:00.001                 0.0             2.595429   \n",
       "1998-01-01 04:00:00.001                 0.0             4.645479   \n",
       "1998-01-01 05:00:00.001                 0.0             2.675368   \n",
       "\n",
       "                         SWMM_NODE_INFLOW:9  SWMM_NODE_OVERFLOW:9  \\\n",
       "1998-01-01 01:00:00.001            0.000000                   0.0   \n",
       "1998-01-01 02:00:00.001            1.239633                   0.0   \n",
       "1998-01-01 03:00:00.001            2.595429                   0.0   \n",
       "1998-01-01 04:00:00.001            4.645479                   0.0   \n",
       "1998-01-01 05:00:00.001            2.675368                   0.0   \n",
       "\n",
       "                         SWMM_NODE_QUAL:9  SWMM_NODE_QUAL:9  \\\n",
       "1998-01-01 01:00:00.001          0.000000          0.000000   \n",
       "1998-01-01 02:00:00.001         15.720075          3.144015   \n",
       "1998-01-01 03:00:00.001         15.389509          3.077902   \n",
       "1998-01-01 04:00:00.001         14.810841          2.962168   \n",
       "1998-01-01 05:00:00.001         14.338782          2.867756   \n",
       "\n",
       "                         SWMM_NODE_DEPTH:10  SWMM_NODE_HEAD:10  ...  \\\n",
       "1998-01-01 01:00:00.001            0.000000         995.000000  ...   \n",
       "1998-01-01 02:00:00.001            0.520309         995.520325  ...   \n",
       "1998-01-01 03:00:00.001            3.000000         998.000000  ...   \n",
       "1998-01-01 04:00:00.001            3.000000         998.000000  ...   \n",
       "1998-01-01 05:00:00.001            3.000000         998.000000  ...   \n",
       "\n",
       "                         SWMM_SYS_DWFLOW  SWMM_SYS_GWFLOW  SWMM_SYS_INFLOW  \\\n",
       "1998-01-01 01:00:00.001              0.0              0.0              0.0   \n",
       "1998-01-01 02:00:00.001              0.0              0.0              0.0   \n",
       "1998-01-01 03:00:00.001              0.0              0.0              0.0   \n",
       "1998-01-01 04:00:00.001              0.0              0.0              0.0   \n",
       "1998-01-01 05:00:00.001              0.0              0.0              0.0   \n",
       "\n",
       "                         SWMM_SYS_EXFLOW  SWMM_SYS_INFLOW  SWMM_SYS_FLOODING  \\\n",
       "1998-01-01 01:00:00.001              0.0         0.000000           0.000000   \n",
       "1998-01-01 02:00:00.001              0.0         6.216826           0.000000   \n",
       "1998-01-01 03:00:00.001              0.0        13.030855           0.521967   \n",
       "1998-01-01 04:00:00.001              0.0        24.252975           4.511855   \n",
       "1998-01-01 05:00:00.001              0.0        14.172027           0.555154   \n",
       "\n",
       "                         SWMM_SYS_OUTFLOW  SWMM_SYS_STORAGE  SWMM_SYS_EVAP  \\\n",
       "1998-01-01 01:00:00.001          0.000000          0.000000            0.0   \n",
       "1998-01-01 02:00:00.001          6.128909       1656.397217            0.0   \n",
       "1998-01-01 03:00:00.001         12.470544       2796.561035            0.0   \n",
       "1998-01-01 04:00:00.001         19.521162       3780.683594            0.0   \n",
       "1998-01-01 05:00:00.001         13.623661       2913.430420            0.0   \n",
       "\n",
       "                         SWMM_SYS_PET  \n",
       "1998-01-01 01:00:00.001           0.0  \n",
       "1998-01-01 02:00:00.001           0.0  \n",
       "1998-01-01 03:00:00.001           0.0  \n",
       "1998-01-01 04:00:00.001           0.0  \n",
       "1998-01-01 05:00:00.001           0.0  \n",
       "\n",
       "[5 rows x 298 columns]"
      ]
     },
     "execution_count": 3,
     "metadata": {},
     "output_type": "execute_result"
    }
   ],
   "source": [
    "df.head()"
   ]
  },
  {
   "attachments": {},
   "cell_type": "markdown",
   "metadata": {},
   "source": [
    "For SWMM there quite a lot of available quantities:"
   ]
  },
  {
   "cell_type": "code",
   "execution_count": 4,
   "metadata": {
    "execution": {
     "iopub.execute_input": "2024-10-07T08:51:08.772890Z",
     "iopub.status.busy": "2024-10-07T08:51:08.772423Z",
     "iopub.status.idle": "2024-10-07T08:51:08.779001Z",
     "shell.execute_reply": "2024-10-07T08:51:08.778186Z"
    }
   },
   "outputs": [
    {
     "data": {
      "text/plain": [
       "['SWMM_NODE_DEPTH',\n",
       " 'SWMM_NODE_HEAD',\n",
       " 'SWMM_NODE_VOLUME',\n",
       " 'SWMM_NODE_LATFLOW',\n",
       " 'SWMM_NODE_INFLOW',\n",
       " 'SWMM_NODE_OVERFLOW',\n",
       " 'SWMM_NODE_QUAL',\n",
       " 'SWMM_LINK_FLOW',\n",
       " 'SWMM_LINK_DEPTH',\n",
       " 'SWMM_LINK_VELOCITY',\n",
       " 'SWMM_LINK_Froude_Number',\n",
       " 'SWMM_LINK_CAPACITY',\n",
       " 'SWMM_LINK_QUAL',\n",
       " 'SWMM_SUBCATCH_RAINFALL',\n",
       " 'SWMM_SUBCATCH_SNOWDEPTH',\n",
       " 'SWMM_SUBCATCH_EVAP',\n",
       " 'SWMM_SUBCATCH_INFIL',\n",
       " 'SWMM_SUBCATCH_RUNOFF',\n",
       " 'SWMM_SUBCATCH_GW_FLOW',\n",
       " 'SWMM_SUBCATCH_GW_ELEV',\n",
       " 'SWMM_SUBCATCH_SOIL_MOIST',\n",
       " 'SWMM_SUBCATCH_WASHOFF',\n",
       " 'SWMM_SYS_TEMPERATURE',\n",
       " 'SWMM_SYS_RAINFALL',\n",
       " 'SWMM_SYS_SNOWDEPTH',\n",
       " 'SWMM_SYS_INFIL',\n",
       " 'SWMM_SYS_RUNOFF',\n",
       " 'SWMM_SYS_DWFLOW',\n",
       " 'SWMM_SYS_GWFLOW',\n",
       " 'SWMM_SYS_INFLOW',\n",
       " 'SWMM_SYS_EXFLOW',\n",
       " 'SWMM_SYS_FLOODING',\n",
       " 'SWMM_SYS_OUTFLOW',\n",
       " 'SWMM_SYS_STORAGE',\n",
       " 'SWMM_SYS_EVAP',\n",
       " 'SWMM_SYS_PET']"
      ]
     },
     "execution_count": 4,
     "metadata": {},
     "output_type": "execute_result"
    }
   ],
   "source": [
    "res.quantities"
   ]
  },
  {
   "attachments": {},
   "cell_type": "markdown",
   "metadata": {},
   "source": [
    "Here we retrieve flow in a pipe with ID **10**, which has connecting junctions **17** and **18**. Note that in order to have network connectivity the corresponding setup **inp** file is needed, which has to be called the same as the result file, i.e., for **swmm.out** we need to have **Swmm.inp** with the relevant network information."
   ]
  },
  {
   "cell_type": "code",
   "execution_count": 5,
   "metadata": {
    "execution": {
     "iopub.execute_input": "2024-10-07T08:51:08.781236Z",
     "iopub.status.busy": "2024-10-07T08:51:08.780988Z",
     "iopub.status.idle": "2024-10-07T08:51:08.786863Z",
     "shell.execute_reply": "2024-10-07T08:51:08.785866Z"
    }
   },
   "outputs": [
    {
     "name": "stdout",
     "output_type": "stream",
     "text": [
      "Start node ID: 17\n",
      "End node ID: 18\n"
     ]
    }
   ],
   "source": [
    "pipe_id = '10'\n",
    "pipe_data_item = res.reaches[pipe_id]\n",
    "node_start = res.data.Nodes[pipe_data_item.reaches[0].StartNodeIndex]\n",
    "node_end = res.data.Nodes[pipe_data_item.reaches[0].EndNodeIndex]\n",
    "print(f'Start node ID: {node_start.ID}')\n",
    "print(f'End node ID: {node_end.ID}')"
   ]
  },
  {
   "cell_type": "code",
   "execution_count": 6,
   "metadata": {
    "execution": {
     "iopub.execute_input": "2024-10-07T08:51:08.789281Z",
     "iopub.status.busy": "2024-10-07T08:51:08.789063Z",
     "iopub.status.idle": "2024-10-07T08:51:08.798967Z",
     "shell.execute_reply": "2024-10-07T08:51:08.797910Z"
    }
   },
   "outputs": [
    {
     "data": {
      "text/html": [
       "<div>\n",
       "<style scoped>\n",
       "    .dataframe tbody tr th:only-of-type {\n",
       "        vertical-align: middle;\n",
       "    }\n",
       "\n",
       "    .dataframe tbody tr th {\n",
       "        vertical-align: top;\n",
       "    }\n",
       "\n",
       "    .dataframe thead th {\n",
       "        text-align: right;\n",
       "    }\n",
       "</style>\n",
       "<table border=\"1\" class=\"dataframe\">\n",
       "  <thead>\n",
       "    <tr style=\"text-align: right;\">\n",
       "      <th></th>\n",
       "      <th>SWMM_LINK_FLOW:10</th>\n",
       "      <th>SWMM_NODE_DEPTH:17</th>\n",
       "      <th>SWMM_NODE_DEPTH:18</th>\n",
       "    </tr>\n",
       "  </thead>\n",
       "  <tbody>\n",
       "    <tr>\n",
       "      <th>1998-01-01 01:00:00.001</th>\n",
       "      <td>0.000000</td>\n",
       "      <td>0.000000</td>\n",
       "      <td>0.000000</td>\n",
       "    </tr>\n",
       "    <tr>\n",
       "      <th>1998-01-01 02:00:00.001</th>\n",
       "      <td>5.876935</td>\n",
       "      <td>0.607021</td>\n",
       "      <td>0.572612</td>\n",
       "    </tr>\n",
       "    <tr>\n",
       "      <th>1998-01-01 03:00:00.001</th>\n",
       "      <td>11.923845</td>\n",
       "      <td>0.886635</td>\n",
       "      <td>0.833084</td>\n",
       "    </tr>\n",
       "    <tr>\n",
       "      <th>1998-01-01 04:00:00.001</th>\n",
       "      <td>18.203714</td>\n",
       "      <td>1.139519</td>\n",
       "      <td>1.063005</td>\n",
       "    </tr>\n",
       "    <tr>\n",
       "      <th>1998-01-01 05:00:00.001</th>\n",
       "      <td>12.643229</td>\n",
       "      <td>0.916358</td>\n",
       "      <td>0.860591</td>\n",
       "    </tr>\n",
       "  </tbody>\n",
       "</table>\n",
       "</div>"
      ],
      "text/plain": [
       "                         SWMM_LINK_FLOW:10  SWMM_NODE_DEPTH:17  \\\n",
       "1998-01-01 01:00:00.001           0.000000            0.000000   \n",
       "1998-01-01 02:00:00.001           5.876935            0.607021   \n",
       "1998-01-01 03:00:00.001          11.923845            0.886635   \n",
       "1998-01-01 04:00:00.001          18.203714            1.139519   \n",
       "1998-01-01 05:00:00.001          12.643229            0.916358   \n",
       "\n",
       "                         SWMM_NODE_DEPTH:18  \n",
       "1998-01-01 01:00:00.001            0.000000  \n",
       "1998-01-01 02:00:00.001            0.572612  \n",
       "1998-01-01 03:00:00.001            0.833084  \n",
       "1998-01-01 04:00:00.001            1.063005  \n",
       "1998-01-01 05:00:00.001            0.860591  "
      ]
     },
     "execution_count": 6,
     "metadata": {},
     "output_type": "execute_result"
    }
   ],
   "source": [
    "df[['SWMM_LINK_FLOW:10', 'SWMM_NODE_DEPTH:17', 'SWMM_NODE_DEPTH:18']].head()"
   ]
  },
  {
   "attachments": {},
   "cell_type": "markdown",
   "metadata": {},
   "source": [
    "Let's plot the above results, but this time we will retrieve the data using **QueryDataReach** and **QueryDataNode**. "
   ]
  },
  {
   "cell_type": "code",
   "execution_count": 7,
   "metadata": {
    "execution": {
     "iopub.execute_input": "2024-10-07T08:51:08.802435Z",
     "iopub.status.busy": "2024-10-07T08:51:08.801781Z",
     "iopub.status.idle": "2024-10-07T08:51:09.243801Z",
     "shell.execute_reply": "2024-10-07T08:51:09.242730Z"
    }
   },
   "outputs": [
    {
     "data": {
      "image/png": "[encoded data removed]",
      "text/plain": [
       "<Figure size 640x480 with 1 Axes>"
      ]
     },
     "metadata": {},
     "output_type": "display_data"
    },
    {
     "data": {
      "image/png": "[encoded data removed]",
      "text/plain": [
       "<Figure size 640x480 with 1 Axes>"
      ]
     },
     "metadata": {},
     "output_type": "display_data"
    }
   ],
   "source": [
    "pipe_query = QueryDataReach('SWMM_LINK_FLOW', pipe_id)\n",
    "df_pipe = res.read(queries=[pipe_query])\n",
    "df_pipe.plot();\n",
    "\n",
    "node_start_query = QueryDataNode('SWMM_NODE_DEPTH', node_start.ID)\n",
    "node_end_query = QueryDataNode('SWMM_NODE_DEPTH', node_end.ID)\n",
    "df_nodes = res.read(queries=[node_start_query, node_end_query])\n",
    "df_nodes.plot();"
   ]
  },
  {
   "attachments": {},
   "cell_type": "markdown",
   "metadata": {},
   "source": [
    "Finally, the catchment results are also stored in SWMM out file. The current result file has the following catchments:"
   ]
  },
  {
   "cell_type": "code",
   "execution_count": 8,
   "metadata": {
    "execution": {
     "iopub.execute_input": "2024-10-07T08:51:09.245930Z",
     "iopub.status.busy": "2024-10-07T08:51:09.245720Z",
     "iopub.status.idle": "2024-10-07T08:51:09.250983Z",
     "shell.execute_reply": "2024-10-07T08:51:09.250033Z"
    }
   },
   "outputs": [
    {
     "data": {
      "text/html": [
       "&lt;ResultCatchments&gt;\n",
       "    <style>\n",
       "        ul {\n",
       "            margin: 0px;\n",
       "            padding: 0px;\n",
       "            padding-left: 2em;\n",
       "        }\n",
       "    </style>\n",
       "    <details><summary>Names (8)</summary><ul><li>1</li><li>2</li><li>3</li><li>4</li><li>5</li><li>6</li><li>7</li><li>8</li></ul></details><details><summary>Quantities (9)</summary><ul><li>SWMM_SUBCATCH_RAINFALL</li><li>SWMM_SUBCATCH_SNOWDEPTH</li><li>SWMM_SUBCATCH_EVAP</li><li>SWMM_SUBCATCH_INFIL</li><li>SWMM_SUBCATCH_RUNOFF</li><li>SWMM_SUBCATCH_GW_FLOW</li><li>SWMM_SUBCATCH_GW_ELEV</li><li>SWMM_SUBCATCH_SOIL_MOIST</li><li>SWMM_SUBCATCH_WASHOFF</li></ul></details><details><summary>Derived Quantities (0)</summary><ul></ul></details>"
      ],
      "text/plain": [
       "<ResultCatchments>"
      ]
     },
     "execution_count": 8,
     "metadata": {},
     "output_type": "execute_result"
    }
   ],
   "source": [
    "res.catchments"
   ]
  },
  {
   "attachments": {},
   "cell_type": "markdown",
   "metadata": {},
   "source": [
    "Available quantities for catchments can be obtained from one of the catchments (for example, `ID='5'`) as"
   ]
  },
  {
   "cell_type": "code",
   "execution_count": 9,
   "metadata": {
    "execution": {
     "iopub.execute_input": "2024-10-07T08:51:09.254481Z",
     "iopub.status.busy": "2024-10-07T08:51:09.253322Z",
     "iopub.status.idle": "2024-10-07T08:51:09.258985Z",
     "shell.execute_reply": "2024-10-07T08:51:09.257869Z"
    }
   },
   "outputs": [
    {
     "name": "stdout",
     "output_type": "stream",
     "text": [
      "['SWMM_SUBCATCH_RAINFALL', 'SWMM_SUBCATCH_SNOWDEPTH', 'SWMM_SUBCATCH_EVAP', 'SWMM_SUBCATCH_INFIL', 'SWMM_SUBCATCH_RUNOFF', 'SWMM_SUBCATCH_GW_FLOW', 'SWMM_SUBCATCH_GW_ELEV', 'SWMM_SUBCATCH_SOIL_MOIST', 'SWMM_SUBCATCH_WASHOFF', 'SWMM_SUBCATCH_WASHOFF']\n"
     ]
    }
   ],
   "source": [
    "catchment_id = '5'\n",
    "swmm_catchment = res.catchments[catchment_id]\n",
    "catchment_quantities = [data_item.Quantity.Id for data_item in swmm_catchment._catchment.DataItems]\n",
    "print(catchment_quantities)"
   ]
  },
  {
   "attachments": {},
   "cell_type": "markdown",
   "metadata": {},
   "source": [
    "We can create quantity `'SWMM_SUBCATCH_RUNOFF'` queries for all catchments as"
   ]
  },
  {
   "cell_type": "code",
   "execution_count": 10,
   "metadata": {
    "execution": {
     "iopub.execute_input": "2024-10-07T08:51:09.262263Z",
     "iopub.status.busy": "2024-10-07T08:51:09.261499Z",
     "iopub.status.idle": "2024-10-07T08:51:09.269981Z",
     "shell.execute_reply": "2024-10-07T08:51:09.268921Z"
    }
   },
   "outputs": [],
   "source": [
    "catchment_queries = [QueryDataCatchment('SWMM_SUBCATCH_RUNOFF', catchment_id) for catchment_id in res.catchments]\n",
    "df_catchments = res.read(queries=catchment_queries)"
   ]
  },
  {
   "cell_type": "code",
   "execution_count": 11,
   "metadata": {
    "execution": {
     "iopub.execute_input": "2024-10-07T08:51:09.273521Z",
     "iopub.status.busy": "2024-10-07T08:51:09.272657Z",
     "iopub.status.idle": "2024-10-07T08:51:09.286156Z",
     "shell.execute_reply": "2024-10-07T08:51:09.285371Z"
    }
   },
   "outputs": [
    {
     "data": {
      "text/html": [
       "<div>\n",
       "<style scoped>\n",
       "    .dataframe tbody tr th:only-of-type {\n",
       "        vertical-align: middle;\n",
       "    }\n",
       "\n",
       "    .dataframe tbody tr th {\n",
       "        vertical-align: top;\n",
       "    }\n",
       "\n",
       "    .dataframe thead th {\n",
       "        text-align: right;\n",
       "    }\n",
       "</style>\n",
       "<table border=\"1\" class=\"dataframe\">\n",
       "  <thead>\n",
       "    <tr style=\"text-align: right;\">\n",
       "      <th></th>\n",
       "      <th>SWMM_SUBCATCH_RUNOFF:1</th>\n",
       "      <th>SWMM_SUBCATCH_RUNOFF:2</th>\n",
       "      <th>SWMM_SUBCATCH_RUNOFF:3</th>\n",
       "      <th>SWMM_SUBCATCH_RUNOFF:4</th>\n",
       "      <th>SWMM_SUBCATCH_RUNOFF:5</th>\n",
       "      <th>SWMM_SUBCATCH_RUNOFF:6</th>\n",
       "      <th>SWMM_SUBCATCH_RUNOFF:7</th>\n",
       "      <th>SWMM_SUBCATCH_RUNOFF:8</th>\n",
       "    </tr>\n",
       "  </thead>\n",
       "  <tbody>\n",
       "    <tr>\n",
       "      <th>1998-01-01 01:00:00.001</th>\n",
       "      <td>0.000000</td>\n",
       "      <td>0.000000</td>\n",
       "      <td>0.000000</td>\n",
       "      <td>0.000000</td>\n",
       "      <td>0.000000</td>\n",
       "      <td>0.000000</td>\n",
       "      <td>0.000000</td>\n",
       "      <td>0.000000</td>\n",
       "    </tr>\n",
       "    <tr>\n",
       "      <th>1998-01-01 02:00:00.001</th>\n",
       "      <td>1.243824</td>\n",
       "      <td>1.243824</td>\n",
       "      <td>0.629613</td>\n",
       "      <td>0.629613</td>\n",
       "      <td>1.814816</td>\n",
       "      <td>0.302342</td>\n",
       "      <td>0.100822</td>\n",
       "      <td>0.251970</td>\n",
       "    </tr>\n",
       "    <tr>\n",
       "      <th>1998-01-01 03:00:00.001</th>\n",
       "      <td>2.597976</td>\n",
       "      <td>2.563968</td>\n",
       "      <td>1.302650</td>\n",
       "      <td>1.302650</td>\n",
       "      <td>3.821663</td>\n",
       "      <td>0.649161</td>\n",
       "      <td>0.244563</td>\n",
       "      <td>0.548222</td>\n",
       "    </tr>\n",
       "    <tr>\n",
       "      <th>1998-01-01 04:00:00.001</th>\n",
       "      <td>4.656198</td>\n",
       "      <td>4.524055</td>\n",
       "      <td>2.449128</td>\n",
       "      <td>2.449128</td>\n",
       "      <td>6.562110</td>\n",
       "      <td>1.495427</td>\n",
       "      <td>0.789465</td>\n",
       "      <td>1.327465</td>\n",
       "    </tr>\n",
       "    <tr>\n",
       "      <th>1998-01-01 05:00:00.001</th>\n",
       "      <td>2.675617</td>\n",
       "      <td>2.511513</td>\n",
       "      <td>1.369764</td>\n",
       "      <td>1.369764</td>\n",
       "      <td>3.585666</td>\n",
       "      <td>1.082219</td>\n",
       "      <td>0.596153</td>\n",
       "      <td>0.981333</td>\n",
       "    </tr>\n",
       "  </tbody>\n",
       "</table>\n",
       "</div>"
      ],
      "text/plain": [
       "                         SWMM_SUBCATCH_RUNOFF:1  SWMM_SUBCATCH_RUNOFF:2  \\\n",
       "1998-01-01 01:00:00.001                0.000000                0.000000   \n",
       "1998-01-01 02:00:00.001                1.243824                1.243824   \n",
       "1998-01-01 03:00:00.001                2.597976                2.563968   \n",
       "1998-01-01 04:00:00.001                4.656198                4.524055   \n",
       "1998-01-01 05:00:00.001                2.675617                2.511513   \n",
       "\n",
       "                         SWMM_SUBCATCH_RUNOFF:3  SWMM_SUBCATCH_RUNOFF:4  \\\n",
       "1998-01-01 01:00:00.001                0.000000                0.000000   \n",
       "1998-01-01 02:00:00.001                0.629613                0.629613   \n",
       "1998-01-01 03:00:00.001                1.302650                1.302650   \n",
       "1998-01-01 04:00:00.001                2.449128                2.449128   \n",
       "1998-01-01 05:00:00.001                1.369764                1.369764   \n",
       "\n",
       "                         SWMM_SUBCATCH_RUNOFF:5  SWMM_SUBCATCH_RUNOFF:6  \\\n",
       "1998-01-01 01:00:00.001                0.000000                0.000000   \n",
       "1998-01-01 02:00:00.001                1.814816                0.302342   \n",
       "1998-01-01 03:00:00.001                3.821663                0.649161   \n",
       "1998-01-01 04:00:00.001                6.562110                1.495427   \n",
       "1998-01-01 05:00:00.001                3.585666                1.082219   \n",
       "\n",
       "                         SWMM_SUBCATCH_RUNOFF:7  SWMM_SUBCATCH_RUNOFF:8  \n",
       "1998-01-01 01:00:00.001                0.000000                0.000000  \n",
       "1998-01-01 02:00:00.001                0.100822                0.251970  \n",
       "1998-01-01 03:00:00.001                0.244563                0.548222  \n",
       "1998-01-01 04:00:00.001                0.789465                1.327465  \n",
       "1998-01-01 05:00:00.001                0.596153                0.981333  "
      ]
     },
     "execution_count": 11,
     "metadata": {},
     "output_type": "execute_result"
    }
   ],
   "source": [
    "df_catchments.head()"
   ]
  },
  {
   "attachments": {},
   "cell_type": "markdown",
   "metadata": {},
   "source": [
    "Let's plot the runoff for catchment `ID='5'`"
   ]
  },
  {
   "cell_type": "code",
   "execution_count": 12,
   "metadata": {
    "execution": {
     "iopub.execute_input": "2024-10-07T08:51:09.288737Z",
     "iopub.status.busy": "2024-10-07T08:51:09.288436Z",
     "iopub.status.idle": "2024-10-07T08:51:09.406497Z",
     "shell.execute_reply": "2024-10-07T08:51:09.405717Z"
    }
   },
   "outputs": [
    {
     "data": {
      "image/png": "[encoded data removed]",
      "text/plain": [
       "<Figure size 640x480 with 1 Axes>"
      ]
     },
     "metadata": {},
     "output_type": "display_data"
    }
   ],
   "source": [
    "df_catchments['SWMM_SUBCATCH_RUNOFF:5'].plot();"
   ]
  },
  {
   "cell_type": "code",
   "execution_count": null,
   "metadata": {},
   "outputs": [],
   "source": []
  }
 ],
 "metadata": {
  "kernelspec": {
   "display_name": "Python 3",
   "language": "python",
   "name": "python3"
  },
  "language_info": {
   "codemirror_mode": {
    "name": "ipython",
    "version": 3
   },
   "file_extension": ".py",
   "mimetype": "text/x-python",
   "name": "python",
   "nbconvert_exporter": "python",
   "pygments_lexer": "ipython3",
   "version": "3.12.5"
  },
  "vscode": {
   "interpreter": {
    "hash": "52634da84371cba311ea128a5ea7cdc41ff074b781779e754b270ff9f8153cee"
   }
  }
 },
 "nbformat": 4,
 "nbformat_minor": 4
}
