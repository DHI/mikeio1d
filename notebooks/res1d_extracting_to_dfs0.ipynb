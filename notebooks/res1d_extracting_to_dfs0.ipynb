{
 "cells": [
  {
   "cell_type": "markdown",
   "metadata": {},
   "source": [
    "# Res1D - Extracting to dfs0 (and other formats)"
   ]
  },
  {
   "cell_type": "code",
   "execution_count": 1,
   "metadata": {
    "execution": {
     "iopub.execute_input": "2024-11-06T14:20:27.861740Z",
     "iopub.status.busy": "2024-11-06T14:20:27.861086Z",
     "iopub.status.idle": "2024-11-06T14:20:29.241695Z",
     "shell.execute_reply": "2024-11-06T14:20:29.241195Z"
    }
   },
   "outputs": [],
   "source": [
    "import mikeio1d"
   ]
  },
  {
   "cell_type": "code",
   "execution_count": 2,
   "metadata": {
    "execution": {
     "iopub.execute_input": "2024-11-06T14:20:29.243754Z",
     "iopub.status.busy": "2024-11-06T14:20:29.243382Z",
     "iopub.status.idle": "2024-11-06T14:20:29.473616Z",
     "shell.execute_reply": "2024-11-06T14:20:29.473137Z"
    }
   },
   "outputs": [
    {
     "data": {
      "text/plain": [
       "<mikeio1d.Res1D>"
      ]
     },
     "execution_count": 2,
     "metadata": {},
     "output_type": "execute_result"
    }
   ],
   "source": [
    "res = mikeio1d.open('../tests/testdata/network.res1d')\n",
    "res"
   ]
  },
  {
   "cell_type": "markdown",
   "metadata": {},
   "source": [
    "Extract a subset of data into a tabular-like file format"
   ]
  },
  {
   "cell_type": "code",
   "execution_count": 3,
   "metadata": {
    "execution": {
     "iopub.execute_input": "2024-11-06T14:20:29.475220Z",
     "iopub.status.busy": "2024-11-06T14:20:29.474996Z",
     "iopub.status.idle": "2024-11-06T14:20:29.928785Z",
     "shell.execute_reply": "2024-11-06T14:20:29.928033Z"
    }
   },
   "outputs": [],
   "source": [
    "res.nodes.WaterLevel.to_dfs0('node_water_levels.dfs0')"
   ]
  },
  {
   "cell_type": "code",
   "execution_count": 4,
   "metadata": {
    "execution": {
     "iopub.execute_input": "2024-11-06T14:20:29.930979Z",
     "iopub.status.busy": "2024-11-06T14:20:29.930451Z",
     "iopub.status.idle": "2024-11-06T14:20:29.813282Z",
     "shell.execute_reply": "2024-11-06T14:20:29.812764Z"
    }
   },
   "outputs": [],
   "source": [
    "res.nodes.WaterLevel.to_csv('node_water_levels.csv')"
   ]
  },
  {
   "cell_type": "markdown",
   "metadata": {},
   "source": [
    "Clean up"
   ]
  },
  {
   "cell_type": "code",
   "execution_count": 5,
   "metadata": {
    "execution": {
     "iopub.execute_input": "2024-11-06T14:20:29.815250Z",
     "iopub.status.busy": "2024-11-06T14:20:29.814905Z",
     "iopub.status.idle": "2024-11-06T14:20:29.818023Z",
     "shell.execute_reply": "2024-11-06T14:20:29.817438Z"
    }
   },
   "outputs": [],
   "source": [
    "import os\n",
    "os.remove('node_water_levels.dfs0')\n",
    "os.remove('node_water_levels.csv')"
   ]
  }
 ],
 "metadata": {
  "kernelspec": {
   "display_name": ".venv",
   "language": "python",
   "name": "python3"
  },
  "language_info": {
   "codemirror_mode": {
    "name": "ipython",
    "version": 3
   },
   "file_extension": ".py",
   "mimetype": "text/x-python",
   "name": "python",
   "nbconvert_exporter": "python",
   "pygments_lexer": "ipython3",
   "version": "3.12.7"
  }
 },
 "nbformat": 4,
 "nbformat_minor": 2
}
