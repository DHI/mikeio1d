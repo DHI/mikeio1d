{
 "cells": [
  {
   "attachments": {},
   "cell_type": "markdown",
   "metadata": {},
   "source": [
    "# Read, modify, and extract data from network and catchment Res1D files"
   ]
  },
  {
   "attachments": {},
   "cell_type": "markdown",
   "metadata": {},
   "source": [
    "With mikeio1d it is possible:\n",
    "* Read res1d file data into pandas data frame\n",
    "* Modify the res1d file contents using data frame\n",
    "* Extract res1d time series data to `csv`, `dfs0`, or `txt` files\n",
    "\n",
    "Currently there are the following types of res1d files:\n",
    "* Network\n",
    "* Catchment\n",
    "* Long Term Statistics (events), see [res1d_lts.ipynb](res1d_lts.ipynb)\n",
    "* Long Term Statistics (chronological), see [res1d_lts.ipynb](res1d_lts.ipynb)\n",
    "* Simple statistics (not fully supported by mikeio1d)\n",
    "\n",
    "In this notebook we will give examples how to work with network and catchment res1d files."
   ]
  },
  {
   "cell_type": "code",
   "execution_count": 1,
   "metadata": {
    "execution": {
     "iopub.execute_input": "2024-10-08T08:56:09.668637Z",
     "iopub.status.busy": "2024-10-08T08:56:09.668063Z",
     "iopub.status.idle": "2024-10-08T08:56:11.157135Z",
     "shell.execute_reply": "2024-10-08T08:56:11.156674Z"
    }
   },
   "outputs": [],
   "source": [
    "from mikeio1d import Res1D"
   ]
  },
  {
   "attachments": {},
   "cell_type": "markdown",
   "metadata": {},
   "source": [
    "## Network result file"
   ]
  },
  {
   "attachments": {},
   "cell_type": "markdown",
   "metadata": {},
   "source": [
    "Load network result file into mikeio1d Res1D object and print basic information about the file:"
   ]
  },
  {
   "cell_type": "code",
   "execution_count": 2,
   "metadata": {
    "execution": {
     "iopub.execute_input": "2024-10-08T08:56:11.159882Z",
     "iopub.status.busy": "2024-10-08T08:56:11.159062Z",
     "iopub.status.idle": "2024-10-08T08:56:11.554908Z",
     "shell.execute_reply": "2024-10-08T08:56:11.554329Z"
    }
   },
   "outputs": [
    {
     "name": "stdout",
     "output_type": "stream",
     "text": [
      "Start time: 1994-08-07 16:35:00\n",
      "End time: 1994-08-07 18:35:00\n",
      "# Timesteps: 110\n",
      "# Catchments: 0\n",
      "# Nodes: 119\n",
      "# Reaches: 118\n",
      "# Globals: 0\n",
      "0 - Water level (m)\n",
      "1 - Discharge (m^3/s)\n"
     ]
    }
   ],
   "source": [
    "file_path_network = '../tests/testdata/network.res1d'\n",
    "res1d_network = Res1D(file_path_network)\n",
    "res1d_network.info()"
   ]
  },
  {
   "attachments": {},
   "cell_type": "markdown",
   "metadata": {},
   "source": [
    "Let's read the entire network res1d file time series data into a data frame and show just the first time steps:"
   ]
  },
  {
   "cell_type": "code",
   "execution_count": 3,
   "metadata": {
    "execution": {
     "iopub.execute_input": "2024-10-08T08:56:11.557069Z",
     "iopub.status.busy": "2024-10-08T08:56:11.556656Z",
     "iopub.status.idle": "2024-10-08T08:56:11.647923Z",
     "shell.execute_reply": "2024-10-08T08:56:11.645117Z"
    }
   },
   "outputs": [
    {
     "data": {
      "text/html": [
       "<div>\n",
       "<style scoped>\n",
       "    .dataframe tbody tr th:only-of-type {\n",
       "        vertical-align: middle;\n",
       "    }\n",
       "\n",
       "    .dataframe tbody tr th {\n",
       "        vertical-align: top;\n",
       "    }\n",
       "\n",
       "    .dataframe thead th {\n",
       "        text-align: right;\n",
       "    }\n",
       "</style>\n",
       "<table border=\"1\" class=\"dataframe\">\n",
       "  <thead>\n",
       "    <tr style=\"text-align: right;\">\n",
       "      <th></th>\n",
       "      <th>WaterLevel:1</th>\n",
       "      <th>WaterLevel:2</th>\n",
       "      <th>WaterLevel:3</th>\n",
       "      <th>WaterLevel:4</th>\n",
       "      <th>WaterLevel:5</th>\n",
       "      <th>WaterLevel:6</th>\n",
       "      <th>WaterLevel:7</th>\n",
       "      <th>WaterLevel:8</th>\n",
       "      <th>WaterLevel:9</th>\n",
       "      <th>WaterLevel:10</th>\n",
       "      <th>...</th>\n",
       "      <th>Discharge:99l1:22.2508</th>\n",
       "      <th>WaterLevel:9l1:0</th>\n",
       "      <th>WaterLevel:9l1:10</th>\n",
       "      <th>Discharge:9l1:5</th>\n",
       "      <th>WaterLevel:Weir:119w1:0</th>\n",
       "      <th>WaterLevel:Weir:119w1:1</th>\n",
       "      <th>Discharge:Weir:119w1:0.5</th>\n",
       "      <th>WaterLevel:Pump:115p1:0</th>\n",
       "      <th>WaterLevel:Pump:115p1:82.4281</th>\n",
       "      <th>Discharge:Pump:115p1:41.214</th>\n",
       "    </tr>\n",
       "  </thead>\n",
       "  <tbody>\n",
       "    <tr>\n",
       "      <th>1994-08-07 16:35:00.000</th>\n",
       "      <td>195.052994</td>\n",
       "      <td>195.821503</td>\n",
       "      <td>195.8815</td>\n",
       "      <td>193.604996</td>\n",
       "      <td>193.615005</td>\n",
       "      <td>193.625000</td>\n",
       "      <td>193.675003</td>\n",
       "      <td>193.764999</td>\n",
       "      <td>193.774994</td>\n",
       "      <td>193.804993</td>\n",
       "      <td>...</td>\n",
       "      <td>0.000002</td>\n",
       "      <td>193.774994</td>\n",
       "      <td>193.764999</td>\n",
       "      <td>0.000031</td>\n",
       "      <td>193.550003</td>\n",
       "      <td>188.479996</td>\n",
       "      <td>0.0</td>\n",
       "      <td>193.304993</td>\n",
       "      <td>195.005005</td>\n",
       "      <td>0.0</td>\n",
       "    </tr>\n",
       "    <tr>\n",
       "      <th>1994-08-07 16:36:01.870</th>\n",
       "      <td>195.052994</td>\n",
       "      <td>195.821701</td>\n",
       "      <td>195.8815</td>\n",
       "      <td>193.604996</td>\n",
       "      <td>193.615005</td>\n",
       "      <td>193.625320</td>\n",
       "      <td>193.675110</td>\n",
       "      <td>193.765060</td>\n",
       "      <td>193.775116</td>\n",
       "      <td>193.804993</td>\n",
       "      <td>...</td>\n",
       "      <td>0.000002</td>\n",
       "      <td>193.775070</td>\n",
       "      <td>193.765060</td>\n",
       "      <td>0.000031</td>\n",
       "      <td>193.550003</td>\n",
       "      <td>188.479996</td>\n",
       "      <td>0.0</td>\n",
       "      <td>193.306061</td>\n",
       "      <td>195.005005</td>\n",
       "      <td>0.0</td>\n",
       "    </tr>\n",
       "    <tr>\n",
       "      <th>1994-08-07 16:37:07.560</th>\n",
       "      <td>195.052994</td>\n",
       "      <td>195.821640</td>\n",
       "      <td>195.8815</td>\n",
       "      <td>193.604996</td>\n",
       "      <td>193.615005</td>\n",
       "      <td>193.625671</td>\n",
       "      <td>193.675369</td>\n",
       "      <td>193.765106</td>\n",
       "      <td>193.775513</td>\n",
       "      <td>193.804993</td>\n",
       "      <td>...</td>\n",
       "      <td>0.000002</td>\n",
       "      <td>193.775391</td>\n",
       "      <td>193.765106</td>\n",
       "      <td>0.000033</td>\n",
       "      <td>193.550034</td>\n",
       "      <td>188.479996</td>\n",
       "      <td>0.0</td>\n",
       "      <td>193.307144</td>\n",
       "      <td>195.005005</td>\n",
       "      <td>0.0</td>\n",
       "    </tr>\n",
       "    <tr>\n",
       "      <th>1994-08-07 16:38:55.828</th>\n",
       "      <td>195.052994</td>\n",
       "      <td>195.821503</td>\n",
       "      <td>195.8815</td>\n",
       "      <td>193.604996</td>\n",
       "      <td>193.615005</td>\n",
       "      <td>193.626236</td>\n",
       "      <td>193.675751</td>\n",
       "      <td>193.765228</td>\n",
       "      <td>193.776077</td>\n",
       "      <td>193.804993</td>\n",
       "      <td>...</td>\n",
       "      <td>0.000002</td>\n",
       "      <td>193.775894</td>\n",
       "      <td>193.765228</td>\n",
       "      <td>0.000037</td>\n",
       "      <td>193.550079</td>\n",
       "      <td>188.479996</td>\n",
       "      <td>0.0</td>\n",
       "      <td>193.308884</td>\n",
       "      <td>195.005005</td>\n",
       "      <td>0.0</td>\n",
       "    </tr>\n",
       "    <tr>\n",
       "      <th>1994-08-07 16:39:55.828</th>\n",
       "      <td>195.052994</td>\n",
       "      <td>195.821503</td>\n",
       "      <td>195.8815</td>\n",
       "      <td>193.604996</td>\n",
       "      <td>193.615005</td>\n",
       "      <td>193.626556</td>\n",
       "      <td>193.675949</td>\n",
       "      <td>193.765335</td>\n",
       "      <td>193.776352</td>\n",
       "      <td>193.804993</td>\n",
       "      <td>...</td>\n",
       "      <td>0.000002</td>\n",
       "      <td>193.776154</td>\n",
       "      <td>193.765335</td>\n",
       "      <td>0.000039</td>\n",
       "      <td>193.550095</td>\n",
       "      <td>188.479996</td>\n",
       "      <td>0.0</td>\n",
       "      <td>193.309860</td>\n",
       "      <td>195.005005</td>\n",
       "      <td>0.0</td>\n",
       "    </tr>\n",
       "  </tbody>\n",
       "</table>\n",
       "<p>5 rows × 495 columns</p>\n",
       "</div>"
      ],
      "text/plain": [
       "                         WaterLevel:1  WaterLevel:2  WaterLevel:3  \\\n",
       "1994-08-07 16:35:00.000    195.052994    195.821503      195.8815   \n",
       "1994-08-07 16:36:01.870    195.052994    195.821701      195.8815   \n",
       "1994-08-07 16:37:07.560    195.052994    195.821640      195.8815   \n",
       "1994-08-07 16:38:55.828    195.052994    195.821503      195.8815   \n",
       "1994-08-07 16:39:55.828    195.052994    195.821503      195.8815   \n",
       "\n",
       "                         WaterLevel:4  WaterLevel:5  WaterLevel:6  \\\n",
       "1994-08-07 16:35:00.000    193.604996    193.615005    193.625000   \n",
       "1994-08-07 16:36:01.870    193.604996    193.615005    193.625320   \n",
       "1994-08-07 16:37:07.560    193.604996    193.615005    193.625671   \n",
       "1994-08-07 16:38:55.828    193.604996    193.615005    193.626236   \n",
       "1994-08-07 16:39:55.828    193.604996    193.615005    193.626556   \n",
       "\n",
       "                         WaterLevel:7  WaterLevel:8  WaterLevel:9  \\\n",
       "1994-08-07 16:35:00.000    193.675003    193.764999    193.774994   \n",
       "1994-08-07 16:36:01.870    193.675110    193.765060    193.775116   \n",
       "1994-08-07 16:37:07.560    193.675369    193.765106    193.775513   \n",
       "1994-08-07 16:38:55.828    193.675751    193.765228    193.776077   \n",
       "1994-08-07 16:39:55.828    193.675949    193.765335    193.776352   \n",
       "\n",
       "                         WaterLevel:10  ...  Discharge:99l1:22.2508  \\\n",
       "1994-08-07 16:35:00.000     193.804993  ...                0.000002   \n",
       "1994-08-07 16:36:01.870     193.804993  ...                0.000002   \n",
       "1994-08-07 16:37:07.560     193.804993  ...                0.000002   \n",
       "1994-08-07 16:38:55.828     193.804993  ...                0.000002   \n",
       "1994-08-07 16:39:55.828     193.804993  ...                0.000002   \n",
       "\n",
       "                         WaterLevel:9l1:0  WaterLevel:9l1:10  Discharge:9l1:5  \\\n",
       "1994-08-07 16:35:00.000        193.774994         193.764999         0.000031   \n",
       "1994-08-07 16:36:01.870        193.775070         193.765060         0.000031   \n",
       "1994-08-07 16:37:07.560        193.775391         193.765106         0.000033   \n",
       "1994-08-07 16:38:55.828        193.775894         193.765228         0.000037   \n",
       "1994-08-07 16:39:55.828        193.776154         193.765335         0.000039   \n",
       "\n",
       "                         WaterLevel:Weir:119w1:0  WaterLevel:Weir:119w1:1  \\\n",
       "1994-08-07 16:35:00.000               193.550003               188.479996   \n",
       "1994-08-07 16:36:01.870               193.550003               188.479996   \n",
       "1994-08-07 16:37:07.560               193.550034               188.479996   \n",
       "1994-08-07 16:38:55.828               193.550079               188.479996   \n",
       "1994-08-07 16:39:55.828               193.550095               188.479996   \n",
       "\n",
       "                         Discharge:Weir:119w1:0.5  WaterLevel:Pump:115p1:0  \\\n",
       "1994-08-07 16:35:00.000                       0.0               193.304993   \n",
       "1994-08-07 16:36:01.870                       0.0               193.306061   \n",
       "1994-08-07 16:37:07.560                       0.0               193.307144   \n",
       "1994-08-07 16:38:55.828                       0.0               193.308884   \n",
       "1994-08-07 16:39:55.828                       0.0               193.309860   \n",
       "\n",
       "                         WaterLevel:Pump:115p1:82.4281  \\\n",
       "1994-08-07 16:35:00.000                     195.005005   \n",
       "1994-08-07 16:36:01.870                     195.005005   \n",
       "1994-08-07 16:37:07.560                     195.005005   \n",
       "1994-08-07 16:38:55.828                     195.005005   \n",
       "1994-08-07 16:39:55.828                     195.005005   \n",
       "\n",
       "                         Discharge:Pump:115p1:41.214  \n",
       "1994-08-07 16:35:00.000                          0.0  \n",
       "1994-08-07 16:36:01.870                          0.0  \n",
       "1994-08-07 16:37:07.560                          0.0  \n",
       "1994-08-07 16:38:55.828                          0.0  \n",
       "1994-08-07 16:39:55.828                          0.0  \n",
       "\n",
       "[5 rows x 495 columns]"
      ]
     },
     "execution_count": 3,
     "metadata": {},
     "output_type": "execute_result"
    }
   ],
   "source": [
    "df_network = res1d_network.read_all()\n",
    "df_network.head()"
   ]
  },
  {
   "attachments": {},
   "cell_type": "markdown",
   "metadata": {},
   "source": [
    "To retrieve water level in the link **l100l1** (the upstream **chainage=0** and the downstream **chainage=47.6827**) can be retrieved and plotted as:"
   ]
  },
  {
   "cell_type": "code",
   "execution_count": 4,
   "metadata": {
    "execution": {
     "iopub.execute_input": "2024-10-08T08:56:11.650143Z",
     "iopub.status.busy": "2024-10-08T08:56:11.649976Z",
     "iopub.status.idle": "2024-10-08T08:56:11.656832Z",
     "shell.execute_reply": "2024-10-08T08:56:11.656389Z"
    }
   },
   "outputs": [
    {
     "data": {
      "text/html": [
       "<div>\n",
       "<style scoped>\n",
       "    .dataframe tbody tr th:only-of-type {\n",
       "        vertical-align: middle;\n",
       "    }\n",
       "\n",
       "    .dataframe tbody tr th {\n",
       "        vertical-align: top;\n",
       "    }\n",
       "\n",
       "    .dataframe thead th {\n",
       "        text-align: right;\n",
       "    }\n",
       "</style>\n",
       "<table border=\"1\" class=\"dataframe\">\n",
       "  <thead>\n",
       "    <tr style=\"text-align: right;\">\n",
       "      <th></th>\n",
       "      <th>WaterLevel:100l1:0</th>\n",
       "      <th>WaterLevel:100l1:47.6827</th>\n",
       "    </tr>\n",
       "  </thead>\n",
       "  <tbody>\n",
       "    <tr>\n",
       "      <th>1994-08-07 16:35:00.000</th>\n",
       "      <td>195.441498</td>\n",
       "      <td>194.661499</td>\n",
       "    </tr>\n",
       "    <tr>\n",
       "      <th>1994-08-07 16:36:01.870</th>\n",
       "      <td>195.441498</td>\n",
       "      <td>194.661621</td>\n",
       "    </tr>\n",
       "    <tr>\n",
       "      <th>1994-08-07 16:37:07.560</th>\n",
       "      <td>195.441498</td>\n",
       "      <td>194.661728</td>\n",
       "    </tr>\n",
       "    <tr>\n",
       "      <th>1994-08-07 16:38:55.828</th>\n",
       "      <td>195.441498</td>\n",
       "      <td>194.661804</td>\n",
       "    </tr>\n",
       "    <tr>\n",
       "      <th>1994-08-07 16:39:55.828</th>\n",
       "      <td>195.441498</td>\n",
       "      <td>194.661972</td>\n",
       "    </tr>\n",
       "    <tr>\n",
       "      <th>...</th>\n",
       "      <td>...</td>\n",
       "      <td>...</td>\n",
       "    </tr>\n",
       "    <tr>\n",
       "      <th>1994-08-07 18:30:07.967</th>\n",
       "      <td>195.455109</td>\n",
       "      <td>194.689072</td>\n",
       "    </tr>\n",
       "    <tr>\n",
       "      <th>1994-08-07 18:31:07.967</th>\n",
       "      <td>195.455063</td>\n",
       "      <td>194.688934</td>\n",
       "    </tr>\n",
       "    <tr>\n",
       "      <th>1994-08-07 18:32:07.967</th>\n",
       "      <td>195.455002</td>\n",
       "      <td>194.688812</td>\n",
       "    </tr>\n",
       "    <tr>\n",
       "      <th>1994-08-07 18:33:07.967</th>\n",
       "      <td>195.453049</td>\n",
       "      <td>194.688354</td>\n",
       "    </tr>\n",
       "    <tr>\n",
       "      <th>1994-08-07 18:35:00.000</th>\n",
       "      <td>195.450409</td>\n",
       "      <td>194.686172</td>\n",
       "    </tr>\n",
       "  </tbody>\n",
       "</table>\n",
       "<p>110 rows × 2 columns</p>\n",
       "</div>"
      ],
      "text/plain": [
       "                         WaterLevel:100l1:0  WaterLevel:100l1:47.6827\n",
       "1994-08-07 16:35:00.000          195.441498                194.661499\n",
       "1994-08-07 16:36:01.870          195.441498                194.661621\n",
       "1994-08-07 16:37:07.560          195.441498                194.661728\n",
       "1994-08-07 16:38:55.828          195.441498                194.661804\n",
       "1994-08-07 16:39:55.828          195.441498                194.661972\n",
       "...                                     ...                       ...\n",
       "1994-08-07 18:30:07.967          195.455109                194.689072\n",
       "1994-08-07 18:31:07.967          195.455063                194.688934\n",
       "1994-08-07 18:32:07.967          195.455002                194.688812\n",
       "1994-08-07 18:33:07.967          195.453049                194.688354\n",
       "1994-08-07 18:35:00.000          195.450409                194.686172\n",
       "\n",
       "[110 rows x 2 columns]"
      ]
     },
     "execution_count": 4,
     "metadata": {},
     "output_type": "execute_result"
    }
   ],
   "source": [
    "df_network[['WaterLevel:100l1:0','WaterLevel:100l1:47.6827']]"
   ]
  },
  {
   "cell_type": "code",
   "execution_count": 5,
   "metadata": {
    "execution": {
     "iopub.execute_input": "2024-10-08T08:56:11.659308Z",
     "iopub.status.busy": "2024-10-08T08:56:11.658354Z",
     "iopub.status.idle": "2024-10-08T08:56:11.784242Z",
     "shell.execute_reply": "2024-10-08T08:56:11.783207Z"
    }
   },
   "outputs": [
    {
     "data": {
      "text/plain": [
       "<Axes: >"
      ]
     },
     "execution_count": 5,
     "metadata": {},
     "output_type": "execute_result"
    },
    {
     "data": {
      "image/png": "[encoded data removed]",
      "text/plain": [
       "<Figure size 640x480 with 1 Axes>"
      ]
     },
     "metadata": {},
     "output_type": "display_data"
    }
   ],
   "source": [
    "df_network[['WaterLevel:100l1:0','WaterLevel:100l1:47.6827']].plot()"
   ]
  },
  {
   "attachments": {},
   "cell_type": "markdown",
   "metadata": {},
   "source": [
    "## Catchment result file"
   ]
  },
  {
   "attachments": {},
   "cell_type": "markdown",
   "metadata": {},
   "source": [
    "Load network result file into mikeio1d Res1D object and print basic information about the file:"
   ]
  },
  {
   "cell_type": "code",
   "execution_count": 6,
   "metadata": {
    "execution": {
     "iopub.execute_input": "2024-10-08T08:56:11.786049Z",
     "iopub.status.busy": "2024-10-08T08:56:11.785883Z",
     "iopub.status.idle": "2024-10-08T08:56:11.836344Z",
     "shell.execute_reply": "2024-10-08T08:56:11.835735Z"
    }
   },
   "outputs": [
    {
     "name": "stdout",
     "output_type": "stream",
     "text": [
      "Start time: 1994-08-07 16:35:00\n",
      "End time: 1994-08-07 18:35:00\n",
      "# Timesteps: 108\n",
      "# Catchments: 31\n",
      "# Nodes: 0\n",
      "# Reaches: 0\n",
      "# Globals: 0\n",
      "0 - Total Runoff (m^3/s)\n",
      "1 - Actual Rainfall (m/s)\n",
      "2 - Zink, Load, RR (kg/s)\n",
      "3 - Zink, Mass, Accumulated, RR (kg)\n",
      "4 - Zink, RR (mg/l)\n"
     ]
    }
   ],
   "source": [
    "file_path_catchments = '../tests/testdata/catchments.res1d'\n",
    "res1d_catchments = Res1D(file_path_catchments)\n",
    "res1d_catchments.info()"
   ]
  },
  {
   "cell_type": "markdown",
   "metadata": {},
   "source": [
    "Let's read the entire network res1d file time series data into a data frame and show just the first time steps:"
   ]
  },
  {
   "cell_type": "code",
   "execution_count": 7,
   "metadata": {
    "execution": {
     "iopub.execute_input": "2024-10-08T08:56:11.838298Z",
     "iopub.status.busy": "2024-10-08T08:56:11.838164Z",
     "iopub.status.idle": "2024-10-08T08:56:11.862888Z",
     "shell.execute_reply": "2024-10-08T08:56:11.862332Z"
    }
   },
   "outputs": [
    {
     "data": {
      "text/html": [
       "<div>\n",
       "<style scoped>\n",
       "    .dataframe tbody tr th:only-of-type {\n",
       "        vertical-align: middle;\n",
       "    }\n",
       "\n",
       "    .dataframe tbody tr th {\n",
       "        vertical-align: top;\n",
       "    }\n",
       "\n",
       "    .dataframe thead th {\n",
       "        text-align: right;\n",
       "    }\n",
       "</style>\n",
       "<table border=\"1\" class=\"dataframe\">\n",
       "  <thead>\n",
       "    <tr style=\"text-align: right;\">\n",
       "      <th></th>\n",
       "      <th>TotalRunOff:100_16_16</th>\n",
       "      <th>ActualRainfall:100_16_16</th>\n",
       "      <th>ZinkLoadRR:100_16_16</th>\n",
       "      <th>ZinkMassAccumulatedRR:100_16_16</th>\n",
       "      <th>ZinkRR:100_16_16</th>\n",
       "      <th>TotalRunOff:105_1_1</th>\n",
       "      <th>ActualRainfall:105_1_1</th>\n",
       "      <th>ZinkLoadRR:105_1_1</th>\n",
       "      <th>ZinkMassAccumulatedRR:105_1_1</th>\n",
       "      <th>ZinkRR:105_1_1</th>\n",
       "      <th>...</th>\n",
       "      <th>TotalRunOff:94_9_9</th>\n",
       "      <th>ActualRainfall:94_9_9</th>\n",
       "      <th>ZinkLoadRR:94_9_9</th>\n",
       "      <th>ZinkMassAccumulatedRR:94_9_9</th>\n",
       "      <th>ZinkRR:94_9_9</th>\n",
       "      <th>TotalRunOff:9_3_3</th>\n",
       "      <th>ActualRainfall:9_3_3</th>\n",
       "      <th>ZinkLoadRR:9_3_3</th>\n",
       "      <th>ZinkMassAccumulatedRR:9_3_3</th>\n",
       "      <th>ZinkRR:9_3_3</th>\n",
       "    </tr>\n",
       "  </thead>\n",
       "  <tbody>\n",
       "    <tr>\n",
       "      <th>1994-08-07 16:35:00</th>\n",
       "      <td>0.0</td>\n",
       "      <td>3.333333e-07</td>\n",
       "      <td>0.0</td>\n",
       "      <td>0.0</td>\n",
       "      <td>100.0</td>\n",
       "      <td>0.0</td>\n",
       "      <td>3.333333e-07</td>\n",
       "      <td>0.0</td>\n",
       "      <td>0.0</td>\n",
       "      <td>100.0</td>\n",
       "      <td>...</td>\n",
       "      <td>0.0</td>\n",
       "      <td>3.333333e-07</td>\n",
       "      <td>0.0</td>\n",
       "      <td>0.0</td>\n",
       "      <td>100.0</td>\n",
       "      <td>0.0</td>\n",
       "      <td>3.333333e-07</td>\n",
       "      <td>0.0</td>\n",
       "      <td>0.0</td>\n",
       "      <td>100.0</td>\n",
       "    </tr>\n",
       "    <tr>\n",
       "      <th>1994-08-07 16:36:00</th>\n",
       "      <td>0.0</td>\n",
       "      <td>3.333333e-07</td>\n",
       "      <td>0.0</td>\n",
       "      <td>0.0</td>\n",
       "      <td>100.0</td>\n",
       "      <td>0.0</td>\n",
       "      <td>3.333333e-07</td>\n",
       "      <td>0.0</td>\n",
       "      <td>0.0</td>\n",
       "      <td>100.0</td>\n",
       "      <td>...</td>\n",
       "      <td>0.0</td>\n",
       "      <td>3.333333e-07</td>\n",
       "      <td>0.0</td>\n",
       "      <td>0.0</td>\n",
       "      <td>100.0</td>\n",
       "      <td>0.0</td>\n",
       "      <td>3.333333e-07</td>\n",
       "      <td>0.0</td>\n",
       "      <td>0.0</td>\n",
       "      <td>100.0</td>\n",
       "    </tr>\n",
       "    <tr>\n",
       "      <th>1994-08-07 16:37:00</th>\n",
       "      <td>0.0</td>\n",
       "      <td>3.333333e-07</td>\n",
       "      <td>0.0</td>\n",
       "      <td>0.0</td>\n",
       "      <td>100.0</td>\n",
       "      <td>0.0</td>\n",
       "      <td>3.333333e-07</td>\n",
       "      <td>0.0</td>\n",
       "      <td>0.0</td>\n",
       "      <td>100.0</td>\n",
       "      <td>...</td>\n",
       "      <td>0.0</td>\n",
       "      <td>3.333333e-07</td>\n",
       "      <td>0.0</td>\n",
       "      <td>0.0</td>\n",
       "      <td>100.0</td>\n",
       "      <td>0.0</td>\n",
       "      <td>3.333333e-07</td>\n",
       "      <td>0.0</td>\n",
       "      <td>0.0</td>\n",
       "      <td>100.0</td>\n",
       "    </tr>\n",
       "    <tr>\n",
       "      <th>1994-08-07 16:38:00</th>\n",
       "      <td>0.0</td>\n",
       "      <td>3.333333e-07</td>\n",
       "      <td>0.0</td>\n",
       "      <td>0.0</td>\n",
       "      <td>100.0</td>\n",
       "      <td>0.0</td>\n",
       "      <td>3.333333e-07</td>\n",
       "      <td>0.0</td>\n",
       "      <td>0.0</td>\n",
       "      <td>100.0</td>\n",
       "      <td>...</td>\n",
       "      <td>0.0</td>\n",
       "      <td>3.333333e-07</td>\n",
       "      <td>0.0</td>\n",
       "      <td>0.0</td>\n",
       "      <td>100.0</td>\n",
       "      <td>0.0</td>\n",
       "      <td>3.333333e-07</td>\n",
       "      <td>0.0</td>\n",
       "      <td>0.0</td>\n",
       "      <td>100.0</td>\n",
       "    </tr>\n",
       "    <tr>\n",
       "      <th>1994-08-07 16:39:00</th>\n",
       "      <td>0.0</td>\n",
       "      <td>3.333333e-07</td>\n",
       "      <td>0.0</td>\n",
       "      <td>0.0</td>\n",
       "      <td>100.0</td>\n",
       "      <td>0.0</td>\n",
       "      <td>3.333333e-07</td>\n",
       "      <td>0.0</td>\n",
       "      <td>0.0</td>\n",
       "      <td>100.0</td>\n",
       "      <td>...</td>\n",
       "      <td>0.0</td>\n",
       "      <td>3.333333e-07</td>\n",
       "      <td>0.0</td>\n",
       "      <td>0.0</td>\n",
       "      <td>100.0</td>\n",
       "      <td>0.0</td>\n",
       "      <td>3.333333e-07</td>\n",
       "      <td>0.0</td>\n",
       "      <td>0.0</td>\n",
       "      <td>100.0</td>\n",
       "    </tr>\n",
       "  </tbody>\n",
       "</table>\n",
       "<p>5 rows × 155 columns</p>\n",
       "</div>"
      ],
      "text/plain": [
       "                     TotalRunOff:100_16_16  ActualRainfall:100_16_16  \\\n",
       "1994-08-07 16:35:00                    0.0              3.333333e-07   \n",
       "1994-08-07 16:36:00                    0.0              3.333333e-07   \n",
       "1994-08-07 16:37:00                    0.0              3.333333e-07   \n",
       "1994-08-07 16:38:00                    0.0              3.333333e-07   \n",
       "1994-08-07 16:39:00                    0.0              3.333333e-07   \n",
       "\n",
       "                     ZinkLoadRR:100_16_16  ZinkMassAccumulatedRR:100_16_16  \\\n",
       "1994-08-07 16:35:00                   0.0                              0.0   \n",
       "1994-08-07 16:36:00                   0.0                              0.0   \n",
       "1994-08-07 16:37:00                   0.0                              0.0   \n",
       "1994-08-07 16:38:00                   0.0                              0.0   \n",
       "1994-08-07 16:39:00                   0.0                              0.0   \n",
       "\n",
       "                     ZinkRR:100_16_16  TotalRunOff:105_1_1  \\\n",
       "1994-08-07 16:35:00             100.0                  0.0   \n",
       "1994-08-07 16:36:00             100.0                  0.0   \n",
       "1994-08-07 16:37:00             100.0                  0.0   \n",
       "1994-08-07 16:38:00             100.0                  0.0   \n",
       "1994-08-07 16:39:00             100.0                  0.0   \n",
       "\n",
       "                     ActualRainfall:105_1_1  ZinkLoadRR:105_1_1  \\\n",
       "1994-08-07 16:35:00            3.333333e-07                 0.0   \n",
       "1994-08-07 16:36:00            3.333333e-07                 0.0   \n",
       "1994-08-07 16:37:00            3.333333e-07                 0.0   \n",
       "1994-08-07 16:38:00            3.333333e-07                 0.0   \n",
       "1994-08-07 16:39:00            3.333333e-07                 0.0   \n",
       "\n",
       "                     ZinkMassAccumulatedRR:105_1_1  ZinkRR:105_1_1  ...  \\\n",
       "1994-08-07 16:35:00                            0.0           100.0  ...   \n",
       "1994-08-07 16:36:00                            0.0           100.0  ...   \n",
       "1994-08-07 16:37:00                            0.0           100.0  ...   \n",
       "1994-08-07 16:38:00                            0.0           100.0  ...   \n",
       "1994-08-07 16:39:00                            0.0           100.0  ...   \n",
       "\n",
       "                     TotalRunOff:94_9_9  ActualRainfall:94_9_9  \\\n",
       "1994-08-07 16:35:00                 0.0           3.333333e-07   \n",
       "1994-08-07 16:36:00                 0.0           3.333333e-07   \n",
       "1994-08-07 16:37:00                 0.0           3.333333e-07   \n",
       "1994-08-07 16:38:00                 0.0           3.333333e-07   \n",
       "1994-08-07 16:39:00                 0.0           3.333333e-07   \n",
       "\n",
       "                     ZinkLoadRR:94_9_9  ZinkMassAccumulatedRR:94_9_9  \\\n",
       "1994-08-07 16:35:00                0.0                           0.0   \n",
       "1994-08-07 16:36:00                0.0                           0.0   \n",
       "1994-08-07 16:37:00                0.0                           0.0   \n",
       "1994-08-07 16:38:00                0.0                           0.0   \n",
       "1994-08-07 16:39:00                0.0                           0.0   \n",
       "\n",
       "                     ZinkRR:94_9_9  TotalRunOff:9_3_3  ActualRainfall:9_3_3  \\\n",
       "1994-08-07 16:35:00          100.0                0.0          3.333333e-07   \n",
       "1994-08-07 16:36:00          100.0                0.0          3.333333e-07   \n",
       "1994-08-07 16:37:00          100.0                0.0          3.333333e-07   \n",
       "1994-08-07 16:38:00          100.0                0.0          3.333333e-07   \n",
       "1994-08-07 16:39:00          100.0                0.0          3.333333e-07   \n",
       "\n",
       "                     ZinkLoadRR:9_3_3  ZinkMassAccumulatedRR:9_3_3  \\\n",
       "1994-08-07 16:35:00               0.0                          0.0   \n",
       "1994-08-07 16:36:00               0.0                          0.0   \n",
       "1994-08-07 16:37:00               0.0                          0.0   \n",
       "1994-08-07 16:38:00               0.0                          0.0   \n",
       "1994-08-07 16:39:00               0.0                          0.0   \n",
       "\n",
       "                     ZinkRR:9_3_3  \n",
       "1994-08-07 16:35:00         100.0  \n",
       "1994-08-07 16:36:00         100.0  \n",
       "1994-08-07 16:37:00         100.0  \n",
       "1994-08-07 16:38:00         100.0  \n",
       "1994-08-07 16:39:00         100.0  \n",
       "\n",
       "[5 rows x 155 columns]"
      ]
     },
     "execution_count": 7,
     "metadata": {},
     "output_type": "execute_result"
    }
   ],
   "source": [
    "df_catchments = res1d_catchments.read_all()\n",
    "df_catchments.head()"
   ]
  },
  {
   "attachments": {},
   "cell_type": "markdown",
   "metadata": {},
   "source": [
    "## Access quantity and network/catchment information"
   ]
  },
  {
   "attachments": {},
   "cell_type": "markdown",
   "metadata": {},
   "source": [
    "List quantities found in a network and catchment res1d files as a list of strings:"
   ]
  },
  {
   "cell_type": "code",
   "execution_count": 8,
   "metadata": {
    "execution": {
     "iopub.execute_input": "2024-10-08T08:56:11.864979Z",
     "iopub.status.busy": "2024-10-08T08:56:11.864758Z",
     "iopub.status.idle": "2024-10-08T08:56:11.869106Z",
     "shell.execute_reply": "2024-10-08T08:56:11.868641Z"
    }
   },
   "outputs": [
    {
     "data": {
      "text/plain": [
       "['WaterLevel', 'Discharge']"
      ]
     },
     "execution_count": 8,
     "metadata": {},
     "output_type": "execute_result"
    }
   ],
   "source": [
    "res1d_network.quantities"
   ]
  },
  {
   "cell_type": "code",
   "execution_count": 9,
   "metadata": {
    "execution": {
     "iopub.execute_input": "2024-10-08T08:56:11.871008Z",
     "iopub.status.busy": "2024-10-08T08:56:11.870510Z",
     "iopub.status.idle": "2024-10-08T08:56:11.874845Z",
     "shell.execute_reply": "2024-10-08T08:56:11.874158Z"
    }
   },
   "outputs": [
    {
     "data": {
      "text/plain": [
       "['TotalRunOff',\n",
       " 'ActualRainfall',\n",
       " 'ZinkLoadRR',\n",
       " 'ZinkMassAccumulatedRR',\n",
       " 'ZinkRR']"
      ]
     },
     "execution_count": 9,
     "metadata": {},
     "output_type": "execute_result"
    }
   ],
   "source": [
    "res1d_catchments.quantities"
   ]
  },
  {
   "attachments": {},
   "cell_type": "markdown",
   "metadata": {},
   "source": [
    "List of nodes/reaches/catchments and corresponding quantities on nodes/reaches/catchments in a file can be obtained using the below properties:"
   ]
  },
  {
   "cell_type": "code",
   "execution_count": 10,
   "metadata": {
    "execution": {
     "iopub.execute_input": "2024-10-08T08:56:11.877359Z",
     "iopub.status.busy": "2024-10-08T08:56:11.877098Z",
     "iopub.status.idle": "2024-10-08T08:56:11.881377Z",
     "shell.execute_reply": "2024-10-08T08:56:11.880939Z"
    }
   },
   "outputs": [
    {
     "data": {
      "text/html": [
       "&lt;ResultNodes&gt;\n",
       "    <style>\n",
       "        ul {\n",
       "            margin: 0px;\n",
       "            padding: 0px;\n",
       "            padding-left: 2em;\n",
       "        }\n",
       "    </style>\n",
       "    <details><summary>Names (119)</summary><ul><li>1</li><li>2</li><li>3</li><li>4</li><li>5</li><li>6</li><li>7</li><li>8</li><li>9</li><li>10</li><li>11</li><li>13</li><li>14</li><li>15</li><li>17</li><li>20</li><li>21</li><li>22</li><li>23</li><li>24</li><li>25</li><li>26</li><li>27</li><li>28</li><li>29</li><li>30</li><li>31</li><li>32</li><li>33</li><li>34</li><li>35</li><li>36</li><li>37</li><li>38</li><li>39</li><li>40</li><li>41</li><li>42</li><li>43</li><li>44</li><li>45</li><li>47</li><li>48</li><li>49</li><li>50</li><li>51</li><li>52</li><li>53</li><li>54</li><li>56</li><li>57</li><li>59</li><li>60</li><li>61</li><li>62</li><li>63</li><li>64</li><li>65</li><li>66</li><li>67</li><li>68</li><li>69</li><li>70</li><li>71</li><li>72</li><li>73</li><li>74</li><li>75</li><li>76</li><li>77</li><li>78</li><li>79</li><li>80</li><li>81</li><li>82</li><li>83</li><li>84</li><li>85</li><li>86</li><li>87</li><li>88</li><li>89</li><li>90</li><li>91</li><li>92</li><li>93</li><li>94</li><li>95</li><li>96</li><li>97</li><li>98</li><li>99</li><li>100</li><li>101</li><li>102</li><li>103</li><li>104</li><li>105</li><li>106</li><li>107</li><li>108</li><li>109</li><li>110</li><li>111</li><li>112</li><li>113</li><li>114</li><li>12</li><li>16</li><li>46</li><li>55</li><li>58</li><li>116</li><li>117</li><li>118</li><li>115</li><li>119</li><li>120</li><li>Weir Outlet:119w1</li></ul></details><details><summary>Quantities (1)</summary><ul><li>Water level (m)</li></ul></details>"
      ],
      "text/plain": [
       "<ResultNodes>"
      ]
     },
     "execution_count": 10,
     "metadata": {},
     "output_type": "execute_result"
    }
   ],
   "source": [
    "res1d_network.nodes"
   ]
  },
  {
   "cell_type": "code",
   "execution_count": 11,
   "metadata": {
    "execution": {
     "iopub.execute_input": "2024-10-08T08:56:11.883437Z",
     "iopub.status.busy": "2024-10-08T08:56:11.882717Z",
     "iopub.status.idle": "2024-10-08T08:56:11.886810Z",
     "shell.execute_reply": "2024-10-08T08:56:11.886370Z"
    }
   },
   "outputs": [
    {
     "data": {
      "text/html": [
       "&lt;ResultReaches&gt;\n",
       "    <style>\n",
       "        ul {\n",
       "            margin: 0px;\n",
       "            padding: 0px;\n",
       "            padding-left: 2em;\n",
       "        }\n",
       "    </style>\n",
       "    <details><summary>Names (118)</summary><ul><li>100l1</li><li>101l1</li><li>102l1</li><li>103l1</li><li>104l1</li><li>105l1</li><li>106l1</li><li>107l1</li><li>108l1</li><li>109l1</li><li>10l1</li><li>110l1</li><li>111l1</li><li>112l1</li><li>113l1</li><li>114l1</li><li>116l1</li><li>117l1</li><li>118l1</li><li>119l1</li><li>11l1</li><li>12l1</li><li>13l1</li><li>14l1</li><li>15l1</li><li>16l1</li><li>17l1</li><li>1l1</li><li>20l1</li><li>21l1</li><li>22l1</li><li>23l1</li><li>24l1</li><li>25l1</li><li>26l1</li><li>27l1</li><li>28l1</li><li>29l1</li><li>2l1</li><li>30l1</li><li>31l1</li><li>32l1</li><li>33l1</li><li>34l1</li><li>35l1</li><li>36l1</li><li>37l1</li><li>38l1</li><li>39l1</li><li>3l1</li><li>40l1</li><li>41l1</li><li>42l1</li><li>43l1</li><li>44l1</li><li>45l1</li><li>46l1</li><li>47l1</li><li>48l1</li><li>49l1</li><li>4l1</li><li>50l1</li><li>51l1</li><li>52l1</li><li>53l1</li><li>54l1</li><li>55l1</li><li>56l1</li><li>57l1</li><li>58l1</li><li>59l1</li><li>5l1</li><li>60l1</li><li>61l1</li><li>62l1</li><li>63l1</li><li>64l1</li><li>65l1</li><li>66l1</li><li>67l1</li><li>68l1</li><li>69l1</li><li>6l1</li><li>70l1</li><li>71l1</li><li>72l1</li><li>73l1</li><li>74l1</li><li>75l1</li><li>76l1</li><li>77l1</li><li>78l1</li><li>79l1</li><li>7l1</li><li>80l1</li><li>81l1</li><li>82l1</li><li>83l1</li><li>84l1</li><li>85l1</li><li>86l1</li><li>87l1</li><li>88l1</li><li>89l1</li><li>8l1</li><li>90l1</li><li>91l1</li><li>92l1</li><li>93l1</li><li>94l1</li><li>95l1</li><li>96l1</li><li>97l1</li><li>98l1</li><li>99l1</li><li>9l1</li><li>Weir:119w1</li><li>Pump:115p1</li></ul></details><details><summary>Quantities (2)</summary><ul><li>Water level (m)</li><li>Discharge (m^3/s)</li></ul></details>"
      ],
      "text/plain": [
       "<ResultReaches>"
      ]
     },
     "execution_count": 11,
     "metadata": {},
     "output_type": "execute_result"
    }
   ],
   "source": [
    "res1d_network.reaches"
   ]
  },
  {
   "cell_type": "code",
   "execution_count": 12,
   "metadata": {
    "execution": {
     "iopub.execute_input": "2024-10-08T08:56:11.888808Z",
     "iopub.status.busy": "2024-10-08T08:56:11.888278Z",
     "iopub.status.idle": "2024-10-08T08:56:11.893003Z",
     "shell.execute_reply": "2024-10-08T08:56:11.891898Z"
    }
   },
   "outputs": [
    {
     "data": {
      "text/html": [
       "&lt;ResultCatchments&gt;\n",
       "    <style>\n",
       "        ul {\n",
       "            margin: 0px;\n",
       "            padding: 0px;\n",
       "            padding-left: 2em;\n",
       "        }\n",
       "    </style>\n",
       "    <details><summary>Names (31)</summary><ul><li>100_16_16</li><li>105_1_1</li><li>10_22_22</li><li>113_21_21</li><li>118_30_30</li><li>119_32_32</li><li>14_20_20</li><li>20_2_2</li><li>22_8_8</li><li>25_26_26</li><li>28_6_6</li><li>29_4_4</li><li>32_19_19</li><li>33_24_24</li><li>34_23_23</li><li>40_29_29</li><li>43_11_11</li><li>48_13_13</li><li>51_14_14</li><li>57_17_17</li><li>5_31_31</li><li>64_12_12</li><li>67_18_18</li><li>6_25_25</li><li>76_7_7</li><li>79_10_10</li><li>82_27_27</li><li>84_15_15</li><li>90_28_28</li><li>94_9_9</li><li>9_3_3</li></ul></details><details><summary>Quantities (5)</summary><ul><li>Total Runoff (m^3/s)</li><li>Actual Rainfall (m/s)</li><li>Zink, Load, RR (kg/s)</li><li>Zink, Mass, Accumulated, RR (kg)</li><li>Zink, RR (mg/l)</li></ul></details>"
      ],
      "text/plain": [
       "<ResultCatchments>"
      ]
     },
     "execution_count": 12,
     "metadata": {},
     "output_type": "execute_result"
    }
   ],
   "source": [
    "res1d_catchments.catchments"
   ]
  },
  {
   "attachments": {},
   "cell_type": "markdown",
   "metadata": {},
   "source": [
    "## Query specific time series using query classes"
   ]
  },
  {
   "attachments": {},
   "cell_type": "markdown",
   "metadata": {},
   "source": [
    "In mikeio1d it is possible to load specific time series data using queries. Currently there are the following query classes:\n",
    "* `QueryDataCatchment`\n",
    "* `QueryDataNode`\n",
    "* `QueryDataReach`\n",
    "* `QueryDataStructure`\n",
    "* `QueryDataGlobal`"
   ]
  },
  {
   "cell_type": "code",
   "execution_count": 13,
   "metadata": {
    "execution": {
     "iopub.execute_input": "2024-10-08T08:56:11.895706Z",
     "iopub.status.busy": "2024-10-08T08:56:11.895429Z",
     "iopub.status.idle": "2024-10-08T08:56:11.900460Z",
     "shell.execute_reply": "2024-10-08T08:56:11.899639Z"
    }
   },
   "outputs": [],
   "source": [
    "from mikeio1d.res1d import QueryDataNode, QueryDataReach, QueryDataCatchment"
   ]
  },
  {
   "cell_type": "code",
   "execution_count": 14,
   "metadata": {
    "execution": {
     "iopub.execute_input": "2024-10-08T08:56:11.902616Z",
     "iopub.status.busy": "2024-10-08T08:56:11.902238Z",
     "iopub.status.idle": "2024-10-08T08:56:11.905263Z",
     "shell.execute_reply": "2024-10-08T08:56:11.904716Z"
    }
   },
   "outputs": [],
   "source": [
    "# Read a specific reach\n",
    "query1 = QueryDataNode('WaterLevel', '1')\n",
    "\n",
    "# Read a specific reach and chainage\n",
    "query2 = QueryDataReach('WaterLevel', '104l1', 34.4131)\n",
    "\n",
    "# Combine queries to extract in one go\n",
    "queries_network = [query1, query2]"
   ]
  },
  {
   "cell_type": "code",
   "execution_count": 15,
   "metadata": {
    "execution": {
     "iopub.execute_input": "2024-10-08T08:56:11.906996Z",
     "iopub.status.busy": "2024-10-08T08:56:11.906547Z",
     "iopub.status.idle": "2024-10-08T08:56:12.031187Z",
     "shell.execute_reply": "2024-10-08T08:56:12.029970Z"
    }
   },
   "outputs": [
    {
     "data": {
      "text/plain": [
       "<Axes: >"
      ]
     },
     "execution_count": 15,
     "metadata": {},
     "output_type": "execute_result"
    },
    {
     "data": {
      "image/png": "[encoded data removed]",
      "text/plain": [
       "<Figure size 640x480 with 1 Axes>"
      ]
     },
     "metadata": {},
     "output_type": "display_data"
    }
   ],
   "source": [
    "df_network_query = res1d_network.read(queries_network)\n",
    "df_network_query.plot()"
   ]
  },
  {
   "cell_type": "code",
   "execution_count": 16,
   "metadata": {
    "execution": {
     "iopub.execute_input": "2024-10-08T08:56:12.034028Z",
     "iopub.status.busy": "2024-10-08T08:56:12.033737Z",
     "iopub.status.idle": "2024-10-08T08:56:12.038226Z",
     "shell.execute_reply": "2024-10-08T08:56:12.037324Z"
    }
   },
   "outputs": [],
   "source": [
    "# Read a specific catchment\n",
    "query1 = QueryDataCatchment('TotalRunOff', '100_16_16')\n",
    "\n",
    "# Read another specific catchment\n",
    "query2 = QueryDataCatchment('TotalRunOff', '105_1_1')\n",
    "\n",
    "# Combine queries to extract in one go\n",
    "queries_catchments = [query1, query2]"
   ]
  },
  {
   "cell_type": "code",
   "execution_count": 17,
   "metadata": {
    "execution": {
     "iopub.execute_input": "2024-10-08T08:56:12.040704Z",
     "iopub.status.busy": "2024-10-08T08:56:12.040458Z",
     "iopub.status.idle": "2024-10-08T08:56:12.147547Z",
     "shell.execute_reply": "2024-10-08T08:56:12.146997Z"
    }
   },
   "outputs": [
    {
     "data": {
      "text/plain": [
       "<Axes: >"
      ]
     },
     "execution_count": 17,
     "metadata": {},
     "output_type": "execute_result"
    },
    {
     "data": {
      "image/png": "[encoded data removed]",
      "text/plain": [
       "<Figure size 640x480 with 1 Axes>"
      ]
     },
     "metadata": {},
     "output_type": "display_data"
    }
   ],
   "source": [
    "df_catchments_query = res1d_catchments.read(queries_catchments)\n",
    "df_catchments_query.plot()"
   ]
  },
  {
   "attachments": {},
   "cell_type": "markdown",
   "metadata": {},
   "source": [
    "## Querying specific time series using auto-completion"
   ]
  },
  {
   "attachments": {},
   "cell_type": "markdown",
   "metadata": {},
   "source": [
    "It is possible to query data with auto-completion using the following properties of the Res1D object:\n",
    "* `catchments`\n",
    "* `nodes`\n",
    "* `reaches`\n",
    "* `structures`\n",
    "* `global_data`"
   ]
  },
  {
   "attachments": {},
   "cell_type": "markdown",
   "metadata": {},
   "source": [
    "The variable name generated for auto-completion will have a particular string appended if the location id starts with a number or other special character not supported in Python variable names.\n",
    "The appended strings are:\n",
    "* catchments : `c_`\n",
    "* nodes: `n_`\n",
    "* reaches: `r_`\n",
    "* structures: `s_`\n",
    "* global data: `g_`\n",
    "* chainages: `m_`"
   ]
  },
  {
   "attachments": {},
   "cell_type": "markdown",
   "metadata": {},
   "source": [
    "Here is an example to query water level on the reach **100l1** (chainages **m=0**, **m=47.6827**) and node **100**"
   ]
  },
  {
   "cell_type": "code",
   "execution_count": 18,
   "metadata": {
    "execution": {
     "iopub.execute_input": "2024-10-08T08:56:12.149379Z",
     "iopub.status.busy": "2024-10-08T08:56:12.149068Z",
     "iopub.status.idle": "2024-10-08T08:56:12.253625Z",
     "shell.execute_reply": "2024-10-08T08:56:12.253132Z"
    }
   },
   "outputs": [
    {
     "data": {
      "text/plain": [
       "<Axes: >"
      ]
     },
     "execution_count": 18,
     "metadata": {},
     "output_type": "execute_result"
    },
    {
     "data": {
      "image/png": "[encoded data removed]",
      "text/plain": [
       "<Figure size 640x480 with 1 Axes>"
      ]
     },
     "metadata": {},
     "output_type": "display_data"
    }
   ],
   "source": [
    "# Assign aliases for reaches and nodes\n",
    "reaches = res1d_network.reaches\n",
    "nodes = res1d_network.nodes\n",
    "\n",
    "# Add to to current active queries\n",
    "reaches.r_100l1.m_0.WaterLevel.add()\n",
    "reaches.r_100l1.m_47_6827.WaterLevel.add()\n",
    "nodes.n_100.WaterLevel.add()\n",
    "\n",
    "# Read the current active query\n",
    "df_network_query = res1d_network.read()\n",
    "df_network_query.plot()"
   ]
  },
  {
   "cell_type": "code",
   "execution_count": 19,
   "metadata": {
    "execution": {
     "iopub.execute_input": "2024-10-08T08:56:12.255540Z",
     "iopub.status.busy": "2024-10-08T08:56:12.255309Z",
     "iopub.status.idle": "2024-10-08T08:56:12.352045Z",
     "shell.execute_reply": "2024-10-08T08:56:12.351535Z"
    }
   },
   "outputs": [
    {
     "data": {
      "text/plain": [
       "<Axes: >"
      ]
     },
     "execution_count": 19,
     "metadata": {},
     "output_type": "execute_result"
    },
    {
     "data": {
      "image/png": "[encoded data removed]",
      "text/plain": [
       "<Figure size 640x480 with 1 Axes>"
      ]
     },
     "metadata": {},
     "output_type": "display_data"
    }
   ],
   "source": [
    "# Assign alias for catchments\n",
    "catchments = res1d_catchments.catchments\n",
    "\n",
    "# Add to to current active queries\n",
    "catchments.c_100_16_16.TotalRunOff.add()\n",
    "catchments.c_105_1_1.TotalRunOff.add()\n",
    "\n",
    "# Read the current active query\n",
    "df_catchments_query = res1d_catchments.read()\n",
    "df_catchments_query.plot()"
   ]
  },
  {
   "attachments": {},
   "cell_type": "markdown",
   "metadata": {},
   "source": [
    "## Filtered reading of the result files"
   ]
  },
  {
   "attachments": {},
   "cell_type": "markdown",
   "metadata": {},
   "source": [
    "It is possible to load a res1d file in a filtered way, that only specified locations are loaded into memory. Let's load nodes **1**, **2**, **3**, and reach **99l1**."
   ]
  },
  {
   "cell_type": "code",
   "execution_count": 20,
   "metadata": {
    "execution": {
     "iopub.execute_input": "2024-10-08T08:56:12.354096Z",
     "iopub.status.busy": "2024-10-08T08:56:12.353645Z",
     "iopub.status.idle": "2024-10-08T08:56:12.569171Z",
     "shell.execute_reply": "2024-10-08T08:56:12.568174Z"
    }
   },
   "outputs": [
    {
     "data": {
      "text/html": [
       "<div>\n",
       "<style scoped>\n",
       "    .dataframe tbody tr th:only-of-type {\n",
       "        vertical-align: middle;\n",
       "    }\n",
       "\n",
       "    .dataframe tbody tr th {\n",
       "        vertical-align: top;\n",
       "    }\n",
       "\n",
       "    .dataframe thead th {\n",
       "        text-align: right;\n",
       "    }\n",
       "</style>\n",
       "<table border=\"1\" class=\"dataframe\">\n",
       "  <thead>\n",
       "    <tr style=\"text-align: right;\">\n",
       "      <th></th>\n",
       "      <th>WaterLevel:1</th>\n",
       "      <th>WaterLevel:2</th>\n",
       "      <th>WaterLevel:3</th>\n",
       "      <th>WaterLevel:99l1:0</th>\n",
       "      <th>WaterLevel:99l1:44.5016</th>\n",
       "      <th>Discharge:99l1:22.2508</th>\n",
       "    </tr>\n",
       "  </thead>\n",
       "  <tbody>\n",
       "    <tr>\n",
       "      <th>1994-08-07 16:35:00.000</th>\n",
       "      <td>195.052994</td>\n",
       "      <td>195.821503</td>\n",
       "      <td>195.8815</td>\n",
       "      <td>194.661499</td>\n",
       "      <td>194.581497</td>\n",
       "      <td>0.000002</td>\n",
       "    </tr>\n",
       "    <tr>\n",
       "      <th>1994-08-07 16:36:01.870</th>\n",
       "      <td>195.052994</td>\n",
       "      <td>195.821701</td>\n",
       "      <td>195.8815</td>\n",
       "      <td>194.661575</td>\n",
       "      <td>194.581497</td>\n",
       "      <td>0.000002</td>\n",
       "    </tr>\n",
       "    <tr>\n",
       "      <th>1994-08-07 16:37:07.560</th>\n",
       "      <td>195.052994</td>\n",
       "      <td>195.821640</td>\n",
       "      <td>195.8815</td>\n",
       "      <td>194.661667</td>\n",
       "      <td>194.581497</td>\n",
       "      <td>0.000002</td>\n",
       "    </tr>\n",
       "    <tr>\n",
       "      <th>1994-08-07 16:38:55.828</th>\n",
       "      <td>195.052994</td>\n",
       "      <td>195.821503</td>\n",
       "      <td>195.8815</td>\n",
       "      <td>194.661865</td>\n",
       "      <td>194.581497</td>\n",
       "      <td>0.000002</td>\n",
       "    </tr>\n",
       "    <tr>\n",
       "      <th>1994-08-07 16:39:55.828</th>\n",
       "      <td>195.052994</td>\n",
       "      <td>195.821503</td>\n",
       "      <td>195.8815</td>\n",
       "      <td>194.661911</td>\n",
       "      <td>194.581497</td>\n",
       "      <td>0.000002</td>\n",
       "    </tr>\n",
       "    <tr>\n",
       "      <th>...</th>\n",
       "      <td>...</td>\n",
       "      <td>...</td>\n",
       "      <td>...</td>\n",
       "      <td>...</td>\n",
       "      <td>...</td>\n",
       "      <td>...</td>\n",
       "    </tr>\n",
       "    <tr>\n",
       "      <th>1994-08-07 18:30:07.967</th>\n",
       "      <td>195.119919</td>\n",
       "      <td>195.822769</td>\n",
       "      <td>195.8815</td>\n",
       "      <td>194.685715</td>\n",
       "      <td>194.607559</td>\n",
       "      <td>0.000605</td>\n",
       "    </tr>\n",
       "    <tr>\n",
       "      <th>1994-08-07 18:31:07.967</th>\n",
       "      <td>195.118607</td>\n",
       "      <td>195.822769</td>\n",
       "      <td>195.8815</td>\n",
       "      <td>194.685608</td>\n",
       "      <td>194.607407</td>\n",
       "      <td>0.000600</td>\n",
       "    </tr>\n",
       "    <tr>\n",
       "      <th>1994-08-07 18:32:07.967</th>\n",
       "      <td>195.117310</td>\n",
       "      <td>195.822769</td>\n",
       "      <td>195.8815</td>\n",
       "      <td>194.685516</td>\n",
       "      <td>194.607254</td>\n",
       "      <td>0.000595</td>\n",
       "    </tr>\n",
       "    <tr>\n",
       "      <th>1994-08-07 18:33:07.967</th>\n",
       "      <td>195.115753</td>\n",
       "      <td>195.822769</td>\n",
       "      <td>195.8815</td>\n",
       "      <td>194.685074</td>\n",
       "      <td>194.607101</td>\n",
       "      <td>0.000589</td>\n",
       "    </tr>\n",
       "    <tr>\n",
       "      <th>1994-08-07 18:35:00.000</th>\n",
       "      <td>195.112534</td>\n",
       "      <td>195.822769</td>\n",
       "      <td>195.8815</td>\n",
       "      <td>194.682861</td>\n",
       "      <td>194.606323</td>\n",
       "      <td>0.000531</td>\n",
       "    </tr>\n",
       "  </tbody>\n",
       "</table>\n",
       "<p>110 rows × 6 columns</p>\n",
       "</div>"
      ],
      "text/plain": [
       "                         WaterLevel:1  WaterLevel:2  WaterLevel:3  \\\n",
       "1994-08-07 16:35:00.000    195.052994    195.821503      195.8815   \n",
       "1994-08-07 16:36:01.870    195.052994    195.821701      195.8815   \n",
       "1994-08-07 16:37:07.560    195.052994    195.821640      195.8815   \n",
       "1994-08-07 16:38:55.828    195.052994    195.821503      195.8815   \n",
       "1994-08-07 16:39:55.828    195.052994    195.821503      195.8815   \n",
       "...                               ...           ...           ...   \n",
       "1994-08-07 18:30:07.967    195.119919    195.822769      195.8815   \n",
       "1994-08-07 18:31:07.967    195.118607    195.822769      195.8815   \n",
       "1994-08-07 18:32:07.967    195.117310    195.822769      195.8815   \n",
       "1994-08-07 18:33:07.967    195.115753    195.822769      195.8815   \n",
       "1994-08-07 18:35:00.000    195.112534    195.822769      195.8815   \n",
       "\n",
       "                         WaterLevel:99l1:0  WaterLevel:99l1:44.5016  \\\n",
       "1994-08-07 16:35:00.000         194.661499               194.581497   \n",
       "1994-08-07 16:36:01.870         194.661575               194.581497   \n",
       "1994-08-07 16:37:07.560         194.661667               194.581497   \n",
       "1994-08-07 16:38:55.828         194.661865               194.581497   \n",
       "1994-08-07 16:39:55.828         194.661911               194.581497   \n",
       "...                                    ...                      ...   \n",
       "1994-08-07 18:30:07.967         194.685715               194.607559   \n",
       "1994-08-07 18:31:07.967         194.685608               194.607407   \n",
       "1994-08-07 18:32:07.967         194.685516               194.607254   \n",
       "1994-08-07 18:33:07.967         194.685074               194.607101   \n",
       "1994-08-07 18:35:00.000         194.682861               194.606323   \n",
       "\n",
       "                         Discharge:99l1:22.2508  \n",
       "1994-08-07 16:35:00.000                0.000002  \n",
       "1994-08-07 16:36:01.870                0.000002  \n",
       "1994-08-07 16:37:07.560                0.000002  \n",
       "1994-08-07 16:38:55.828                0.000002  \n",
       "1994-08-07 16:39:55.828                0.000002  \n",
       "...                                         ...  \n",
       "1994-08-07 18:30:07.967                0.000605  \n",
       "1994-08-07 18:31:07.967                0.000600  \n",
       "1994-08-07 18:32:07.967                0.000595  \n",
       "1994-08-07 18:33:07.967                0.000589  \n",
       "1994-08-07 18:35:00.000                0.000531  \n",
       "\n",
       "[110 rows x 6 columns]"
      ]
     },
     "execution_count": 20,
     "metadata": {},
     "output_type": "execute_result"
    }
   ],
   "source": [
    "file_path_network = '../tests/testdata/network.res1d'\n",
    "res1d_network_filtered = Res1D(file_path_network, nodes=['1', '2', '3'], reaches=['99l1'])\n",
    "df_network_filtered = res1d_network_filtered.read_all()\n",
    "df_network_filtered"
   ]
  },
  {
   "attachments": {},
   "cell_type": "markdown",
   "metadata": {},
   "source": [
    "Similarly for catchments. Let's load data for catchment **100_16_16**."
   ]
  },
  {
   "cell_type": "code",
   "execution_count": 21,
   "metadata": {
    "execution": {
     "iopub.execute_input": "2024-10-08T08:56:12.572292Z",
     "iopub.status.busy": "2024-10-08T08:56:12.571703Z",
     "iopub.status.idle": "2024-10-08T08:56:12.628070Z",
     "shell.execute_reply": "2024-10-08T08:56:12.627114Z"
    }
   },
   "outputs": [
    {
     "data": {
      "text/html": [
       "<div>\n",
       "<style scoped>\n",
       "    .dataframe tbody tr th:only-of-type {\n",
       "        vertical-align: middle;\n",
       "    }\n",
       "\n",
       "    .dataframe tbody tr th {\n",
       "        vertical-align: top;\n",
       "    }\n",
       "\n",
       "    .dataframe thead th {\n",
       "        text-align: right;\n",
       "    }\n",
       "</style>\n",
       "<table border=\"1\" class=\"dataframe\">\n",
       "  <thead>\n",
       "    <tr style=\"text-align: right;\">\n",
       "      <th></th>\n",
       "      <th>TotalRunOff:100_16_16</th>\n",
       "      <th>ActualRainfall:100_16_16</th>\n",
       "      <th>ZinkLoadRR:100_16_16</th>\n",
       "      <th>ZinkMassAccumulatedRR:100_16_16</th>\n",
       "      <th>ZinkRR:100_16_16</th>\n",
       "    </tr>\n",
       "  </thead>\n",
       "  <tbody>\n",
       "    <tr>\n",
       "      <th>1994-08-07 16:35:00</th>\n",
       "      <td>0.0</td>\n",
       "      <td>3.333333e-07</td>\n",
       "      <td>0.0</td>\n",
       "      <td>0.000000</td>\n",
       "      <td>100.0</td>\n",
       "    </tr>\n",
       "    <tr>\n",
       "      <th>1994-08-07 16:36:00</th>\n",
       "      <td>0.0</td>\n",
       "      <td>3.333333e-07</td>\n",
       "      <td>0.0</td>\n",
       "      <td>0.000000</td>\n",
       "      <td>100.0</td>\n",
       "    </tr>\n",
       "    <tr>\n",
       "      <th>1994-08-07 16:37:00</th>\n",
       "      <td>0.0</td>\n",
       "      <td>3.333333e-07</td>\n",
       "      <td>0.0</td>\n",
       "      <td>0.000000</td>\n",
       "      <td>100.0</td>\n",
       "    </tr>\n",
       "    <tr>\n",
       "      <th>1994-08-07 16:38:00</th>\n",
       "      <td>0.0</td>\n",
       "      <td>3.333333e-07</td>\n",
       "      <td>0.0</td>\n",
       "      <td>0.000000</td>\n",
       "      <td>100.0</td>\n",
       "    </tr>\n",
       "    <tr>\n",
       "      <th>1994-08-07 16:39:00</th>\n",
       "      <td>0.0</td>\n",
       "      <td>3.333333e-07</td>\n",
       "      <td>0.0</td>\n",
       "      <td>0.000000</td>\n",
       "      <td>100.0</td>\n",
       "    </tr>\n",
       "    <tr>\n",
       "      <th>...</th>\n",
       "      <td>...</td>\n",
       "      <td>...</td>\n",
       "      <td>...</td>\n",
       "      <td>...</td>\n",
       "      <td>...</td>\n",
       "    </tr>\n",
       "    <tr>\n",
       "      <th>1994-08-07 18:18:00</th>\n",
       "      <td>0.0</td>\n",
       "      <td>0.000000e+00</td>\n",
       "      <td>0.0</td>\n",
       "      <td>10.661672</td>\n",
       "      <td>100.0</td>\n",
       "    </tr>\n",
       "    <tr>\n",
       "      <th>1994-08-07 18:19:00</th>\n",
       "      <td>0.0</td>\n",
       "      <td>0.000000e+00</td>\n",
       "      <td>0.0</td>\n",
       "      <td>10.661672</td>\n",
       "      <td>100.0</td>\n",
       "    </tr>\n",
       "    <tr>\n",
       "      <th>1994-08-07 18:20:00</th>\n",
       "      <td>0.0</td>\n",
       "      <td>0.000000e+00</td>\n",
       "      <td>0.0</td>\n",
       "      <td>10.661672</td>\n",
       "      <td>100.0</td>\n",
       "    </tr>\n",
       "    <tr>\n",
       "      <th>1994-08-07 18:24:00</th>\n",
       "      <td>0.0</td>\n",
       "      <td>0.000000e+00</td>\n",
       "      <td>0.0</td>\n",
       "      <td>10.661672</td>\n",
       "      <td>100.0</td>\n",
       "    </tr>\n",
       "    <tr>\n",
       "      <th>1994-08-07 18:35:00</th>\n",
       "      <td>0.0</td>\n",
       "      <td>0.000000e+00</td>\n",
       "      <td>0.0</td>\n",
       "      <td>10.661672</td>\n",
       "      <td>100.0</td>\n",
       "    </tr>\n",
       "  </tbody>\n",
       "</table>\n",
       "<p>108 rows × 5 columns</p>\n",
       "</div>"
      ],
      "text/plain": [
       "                     TotalRunOff:100_16_16  ActualRainfall:100_16_16  \\\n",
       "1994-08-07 16:35:00                    0.0              3.333333e-07   \n",
       "1994-08-07 16:36:00                    0.0              3.333333e-07   \n",
       "1994-08-07 16:37:00                    0.0              3.333333e-07   \n",
       "1994-08-07 16:38:00                    0.0              3.333333e-07   \n",
       "1994-08-07 16:39:00                    0.0              3.333333e-07   \n",
       "...                                    ...                       ...   \n",
       "1994-08-07 18:18:00                    0.0              0.000000e+00   \n",
       "1994-08-07 18:19:00                    0.0              0.000000e+00   \n",
       "1994-08-07 18:20:00                    0.0              0.000000e+00   \n",
       "1994-08-07 18:24:00                    0.0              0.000000e+00   \n",
       "1994-08-07 18:35:00                    0.0              0.000000e+00   \n",
       "\n",
       "                     ZinkLoadRR:100_16_16  ZinkMassAccumulatedRR:100_16_16  \\\n",
       "1994-08-07 16:35:00                   0.0                         0.000000   \n",
       "1994-08-07 16:36:00                   0.0                         0.000000   \n",
       "1994-08-07 16:37:00                   0.0                         0.000000   \n",
       "1994-08-07 16:38:00                   0.0                         0.000000   \n",
       "1994-08-07 16:39:00                   0.0                         0.000000   \n",
       "...                                   ...                              ...   \n",
       "1994-08-07 18:18:00                   0.0                        10.661672   \n",
       "1994-08-07 18:19:00                   0.0                        10.661672   \n",
       "1994-08-07 18:20:00                   0.0                        10.661672   \n",
       "1994-08-07 18:24:00                   0.0                        10.661672   \n",
       "1994-08-07 18:35:00                   0.0                        10.661672   \n",
       "\n",
       "                     ZinkRR:100_16_16  \n",
       "1994-08-07 16:35:00             100.0  \n",
       "1994-08-07 16:36:00             100.0  \n",
       "1994-08-07 16:37:00             100.0  \n",
       "1994-08-07 16:38:00             100.0  \n",
       "1994-08-07 16:39:00             100.0  \n",
       "...                               ...  \n",
       "1994-08-07 18:18:00             100.0  \n",
       "1994-08-07 18:19:00             100.0  \n",
       "1994-08-07 18:20:00             100.0  \n",
       "1994-08-07 18:24:00             100.0  \n",
       "1994-08-07 18:35:00             100.0  \n",
       "\n",
       "[108 rows x 5 columns]"
      ]
     },
     "execution_count": 21,
     "metadata": {},
     "output_type": "execute_result"
    }
   ],
   "source": [
    "file_path_catchments = '../tests/testdata/catchments.res1d'\n",
    "res1d_catchments_filtered = Res1D(file_path_catchments, catchments=['100_16_16'])\n",
    "df_catchments_filtered = res1d_catchments_filtered.read_all()\n",
    "df_catchments_filtered"
   ]
  },
  {
   "attachments": {},
   "cell_type": "markdown",
   "metadata": {},
   "source": [
    "## Modifying a res1d file"
   ]
  },
  {
   "attachments": {},
   "cell_type": "markdown",
   "metadata": {},
   "source": [
    "Here we will show how to modify a res1d file. Such functionality is useful for modifications of a hotstart file."
   ]
  },
  {
   "cell_type": "code",
   "execution_count": 22,
   "metadata": {
    "execution": {
     "iopub.execute_input": "2024-10-08T08:56:12.630907Z",
     "iopub.status.busy": "2024-10-08T08:56:12.630697Z",
     "iopub.status.idle": "2024-10-08T08:56:12.935619Z",
     "shell.execute_reply": "2024-10-08T08:56:12.934283Z"
    }
   },
   "outputs": [],
   "source": [
    "file_path_network = '../tests/testdata/network.res1d'\n",
    "res1d_network_mod = Res1D(file_path_network)"
   ]
  },
  {
   "attachments": {},
   "cell_type": "markdown",
   "metadata": {},
   "source": [
    "Let's load all node water level time series:"
   ]
  },
  {
   "cell_type": "code",
   "execution_count": 23,
   "metadata": {
    "execution": {
     "iopub.execute_input": "2024-10-08T08:56:12.938312Z",
     "iopub.status.busy": "2024-10-08T08:56:12.938104Z",
     "iopub.status.idle": "2024-10-08T08:56:12.955605Z",
     "shell.execute_reply": "2024-10-08T08:56:12.954391Z"
    }
   },
   "outputs": [
    {
     "name": "stdout",
     "output_type": "stream",
     "text": [
      "Current maximum water level:  200.06491\n"
     ]
    }
   ],
   "source": [
    "res1d_network_mod.nodes.WaterLevel.add()\n",
    "df_network_mod = res1d_network_mod.read(column_mode='all')\n",
    "print('Current maximum water level: ', df_network_mod.max().max())"
   ]
  },
  {
   "attachments": {},
   "cell_type": "markdown",
   "metadata": {},
   "source": [
    "Multiply the water level data by a factor of 2 and write it to a new file"
   ]
  },
  {
   "cell_type": "code",
   "execution_count": 24,
   "metadata": {
    "execution": {
     "iopub.execute_input": "2024-10-08T08:56:12.958409Z",
     "iopub.status.busy": "2024-10-08T08:56:12.957834Z",
     "iopub.status.idle": "2024-10-08T08:56:13.106149Z",
     "shell.execute_reply": "2024-10-08T08:56:13.105677Z"
    }
   },
   "outputs": [],
   "source": [
    "df_network_mod = df_network_mod.multiply(2.0)\n",
    "file_path_new = file_path_network.replace('network.res1d', 'NetworkFactorTwo.res1d')\n",
    "res1d_network_mod.modify(df_network_mod, file_path=file_path_new)"
   ]
  },
  {
   "attachments": {},
   "cell_type": "markdown",
   "metadata": {},
   "source": [
    "Load the data again into a data frame"
   ]
  },
  {
   "cell_type": "code",
   "execution_count": 25,
   "metadata": {
    "execution": {
     "iopub.execute_input": "2024-10-08T08:56:13.108215Z",
     "iopub.status.busy": "2024-10-08T08:56:13.108008Z",
     "iopub.status.idle": "2024-10-08T08:56:13.116471Z",
     "shell.execute_reply": "2024-10-08T08:56:13.116023Z"
    }
   },
   "outputs": [
    {
     "name": "stdout",
     "output_type": "stream",
     "text": [
      "Current maximum water level:  400.12982\n"
     ]
    }
   ],
   "source": [
    "res1d_network_mod.nodes.WaterLevel.add()\n",
    "df_network_mod = res1d_network_mod.read()\n",
    "print('Current maximum water level: ', df_network_mod.max().max())"
   ]
  },
  {
   "attachments": {},
   "cell_type": "markdown",
   "metadata": {},
   "source": [
    "Load the newly written file"
   ]
  },
  {
   "cell_type": "code",
   "execution_count": 26,
   "metadata": {
    "execution": {
     "iopub.execute_input": "2024-10-08T08:56:13.118224Z",
     "iopub.status.busy": "2024-10-08T08:56:13.117951Z",
     "iopub.status.idle": "2024-10-08T08:56:13.242524Z",
     "shell.execute_reply": "2024-10-08T08:56:13.241631Z"
    }
   },
   "outputs": [
    {
     "name": "stdout",
     "output_type": "stream",
     "text": [
      "New file path: ../tests/testdata/NetworkFactorTwo.res1d\n"
     ]
    },
    {
     "name": "stdout",
     "output_type": "stream",
     "text": [
      "Current maximum water level: 400.12982\n"
     ]
    }
   ],
   "source": [
    "print('New file path:', file_path_new)\n",
    "res1d_network_new = Res1D(file_path_new)\n",
    "res1d_network_new.nodes.WaterLevel.add()\n",
    "df_network_new = res1d_network_new.read()\n",
    "print('Current maximum water level:', df_network_new.max().max())"
   ]
  },
  {
   "attachments": {},
   "cell_type": "markdown",
   "metadata": {},
   "source": [
    "## Extracting time series data to dfs0 file"
   ]
  },
  {
   "attachments": {},
   "cell_type": "markdown",
   "metadata": {},
   "source": [
    "It is possible to extract the res1d time series data to a dfs0 file. The idea is again to create queries, which are used to pick which time series to extract. Let's extract all node water level:"
   ]
  },
  {
   "cell_type": "code",
   "execution_count": 27,
   "metadata": {
    "execution": {
     "iopub.execute_input": "2024-10-08T08:56:13.244903Z",
     "iopub.status.busy": "2024-10-08T08:56:13.244467Z",
     "iopub.status.idle": "2024-10-08T08:56:13.412425Z",
     "shell.execute_reply": "2024-10-08T08:56:13.411086Z"
    }
   },
   "outputs": [],
   "source": [
    "res1d_network.nodes.WaterLevel.add()\n",
    "file_path_dfs0 = file_path_network.replace('network.res1d', 'NetworkNodeWaterLevel.dfs0')\n",
    "res1d_network.to_dfs0(file_path=file_path_dfs0)"
   ]
  },
  {
   "attachments": {},
   "cell_type": "markdown",
   "metadata": {},
   "source": [
    "## Extracting reach start, end, or sum values as numpy arrays"
   ]
  },
  {
   "attachments": {},
   "cell_type": "markdown",
   "metadata": {},
   "source": [
    "It is possbile to get time series values as numpy arrays at reach start or end chainage without specifying chainage number"
   ]
  },
  {
   "cell_type": "code",
   "execution_count": 28,
   "metadata": {
    "execution": {
     "iopub.execute_input": "2024-10-08T08:56:13.415582Z",
     "iopub.status.busy": "2024-10-08T08:56:13.414770Z",
     "iopub.status.idle": "2024-10-08T08:56:13.421360Z",
     "shell.execute_reply": "2024-10-08T08:56:13.420930Z"
    }
   },
   "outputs": [],
   "source": [
    "values_start = res1d_network.get_reach_start_values(\"9l1\", \"WaterLevel\")\n",
    "values_end = res1d_network.get_reach_end_values(\"9l1\", \"WaterLevel\") "
   ]
  },
  {
   "attachments": {},
   "cell_type": "markdown",
   "metadata": {},
   "source": [
    "Get time series values summed for all gridpoints in reach with given quantity, i.e. useful for getting total volume in reach. "
   ]
  },
  {
   "cell_type": "code",
   "execution_count": 29,
   "metadata": {
    "execution": {
     "iopub.execute_input": "2024-10-08T08:56:13.423906Z",
     "iopub.status.busy": "2024-10-08T08:56:13.423623Z",
     "iopub.status.idle": "2024-10-08T08:56:13.427231Z",
     "shell.execute_reply": "2024-10-08T08:56:13.426728Z"
    }
   },
   "outputs": [],
   "source": [
    "values_sum = res1d_network.get_reach_sum_values(\"9l1\", \"Discharge\")"
   ]
  },
  {
   "attachments": {},
   "cell_type": "markdown",
   "metadata": {},
   "source": [
    "Create pandas time series from `values_sum` and plot"
   ]
  },
  {
   "cell_type": "code",
   "execution_count": 30,
   "metadata": {
    "execution": {
     "iopub.execute_input": "2024-10-08T08:56:13.429186Z",
     "iopub.status.busy": "2024-10-08T08:56:13.428719Z",
     "iopub.status.idle": "2024-10-08T08:56:13.628682Z",
     "shell.execute_reply": "2024-10-08T08:56:13.628243Z"
    }
   },
   "outputs": [
    {
     "data": {
      "text/plain": [
       "<Axes: ylabel='9l1: Discharge'>"
      ]
     },
     "execution_count": 30,
     "metadata": {},
     "output_type": "execute_result"
    },
    {
     "data": {
      "image/png": "[encoded data removed]",
      "text/plain": [
       "<Figure size 640x480 with 1 Axes>"
      ]
     },
     "metadata": {},
     "output_type": "display_data"
    }
   ],
   "source": [
    "import pandas as pd\n",
    "pd.Series(values_sum, index = res1d_network.time_index).plot(ylabel=\"9l1: \" + \"Discharge\")"
   ]
  },
  {
   "cell_type": "code",
   "execution_count": null,
   "metadata": {},
   "outputs": [],
   "source": []
  }
 ],
 "metadata": {
  "kernelspec": {
   "display_name": "Python 3",
   "language": "python",
   "name": "python3"
  },
  "language_info": {
   "codemirror_mode": {
    "name": "ipython",
    "version": 3
   },
   "file_extension": ".py",
   "mimetype": "text/x-python",
   "name": "python",
   "nbconvert_exporter": "python",
   "pygments_lexer": "ipython3",
   "version": "3.12.5"
  }
 },
 "nbformat": 4,
 "nbformat_minor": 4
}
