{
 "cells": [
  {
   "attachments": {},
   "cell_type": "markdown",
   "metadata": {},
   "source": [
    "# Read, modify, and extract data from network and catchment Res1D files"
   ]
  },
  {
   "attachments": {},
   "cell_type": "markdown",
   "metadata": {},
   "source": [
    "With mikeio1d it is possible:\n",
    "* Read res1d file data into pandas data frame\n",
    "* Modify the res1d file contents using data frame\n",
    "* Extract res1d time series data to `csv`, `dfs0`, or `txt` files\n",
    "\n",
    "Currently there are the following types of res1d files:\n",
    "* Network\n",
    "* Catchment\n",
    "* Long Term Statistics (events), see [res1d_lts.ipynb](res1d_lts.ipynb)\n",
    "* Long Term Statistics (chronological), see [res1d_lts.ipynb](res1d_lts.ipynb)\n",
    "* Simple statistics (not fully supported by mikeio1d)\n",
    "\n",
    "In this notebook we will give examples how to work with network and catchment res1d files."
   ]
  },
  {
   "cell_type": "code",
   "execution_count": 1,
   "metadata": {},
   "outputs": [],
   "source": [
    "from mikeio1d import Res1D"
   ]
  },
  {
   "attachments": {},
   "cell_type": "markdown",
   "metadata": {},
   "source": [
    "## Network result file"
   ]
  },
  {
   "attachments": {},
   "cell_type": "markdown",
   "metadata": {},
   "source": [
    "Load network result file into mikeio1d Res1D object and print basic information about the file:"
   ]
  },
  {
   "cell_type": "code",
   "execution_count": 2,
   "metadata": {},
   "outputs": [
    {
     "data": {
      "text/plain": [
       "<mikeio1d.Res1D>\n",
       "Start time: 1994-08-07 16:35:00\n",
       "End time: 1994-08-07 18:35:00\n",
       "# Timesteps: 110\n",
       "# Catchments: 0\n",
       "# Nodes: 119\n",
       "# Reaches: 118\n",
       "# Globals: 0\n",
       "0 - WaterLevel <m>\n",
       "1 - Discharge <m^3/s>"
      ]
     },
     "execution_count": 2,
     "metadata": {},
     "output_type": "execute_result"
    }
   ],
   "source": [
    "file_path_network = '../tests/testdata/Network.res1d'\n",
    "res1d_network = Res1D(file_path_network)\n",
    "res1d_network"
   ]
  },
  {
   "attachments": {},
   "cell_type": "markdown",
   "metadata": {},
   "source": [
    "Let's read the entire network res1d file time series data into a data frame and show just the first time steps:"
   ]
  },
  {
   "cell_type": "code",
   "execution_count": 3,
   "metadata": {},
   "outputs": [
    {
     "data": {
      "text/html": [
       "<div>\n",
       "<style scoped>\n",
       "    .dataframe tbody tr th:only-of-type {\n",
       "        vertical-align: middle;\n",
       "    }\n",
       "\n",
       "    .dataframe tbody tr th {\n",
       "        vertical-align: top;\n",
       "    }\n",
       "\n",
       "    .dataframe thead th {\n",
       "        text-align: right;\n",
       "    }\n",
       "</style>\n",
       "<table border=\"1\" class=\"dataframe\">\n",
       "  <thead>\n",
       "    <tr style=\"text-align: right;\">\n",
       "      <th></th>\n",
       "      <th>WaterLevel:1</th>\n",
       "      <th>WaterLevel:2</th>\n",
       "      <th>WaterLevel:3</th>\n",
       "      <th>WaterLevel:4</th>\n",
       "      <th>WaterLevel:5</th>\n",
       "      <th>WaterLevel:6</th>\n",
       "      <th>WaterLevel:7</th>\n",
       "      <th>WaterLevel:8</th>\n",
       "      <th>WaterLevel:9</th>\n",
       "      <th>WaterLevel:10</th>\n",
       "      <th>...</th>\n",
       "      <th>Discharge:99l1:22.2508</th>\n",
       "      <th>WaterLevel:9l1:0</th>\n",
       "      <th>WaterLevel:9l1:10</th>\n",
       "      <th>Discharge:9l1:5</th>\n",
       "      <th>WaterLevel:Weir:119w1:0</th>\n",
       "      <th>WaterLevel:Weir:119w1:1</th>\n",
       "      <th>Discharge:Weir:119w1:0.5</th>\n",
       "      <th>WaterLevel:Pump:115p1:0</th>\n",
       "      <th>WaterLevel:Pump:115p1:82.4281</th>\n",
       "      <th>Discharge:Pump:115p1:41.214</th>\n",
       "    </tr>\n",
       "  </thead>\n",
       "  <tbody>\n",
       "    <tr>\n",
       "      <th>1994-08-07 16:35:00</th>\n",
       "      <td>195.053</td>\n",
       "      <td>195.8215</td>\n",
       "      <td>195.8815</td>\n",
       "      <td>193.605</td>\n",
       "      <td>193.615</td>\n",
       "      <td>193.6250</td>\n",
       "      <td>193.6750</td>\n",
       "      <td>193.7650</td>\n",
       "      <td>193.7750</td>\n",
       "      <td>193.805</td>\n",
       "      <td>...</td>\n",
       "      <td>0.000002</td>\n",
       "      <td>193.7750</td>\n",
       "      <td>193.7650</td>\n",
       "      <td>0.000031</td>\n",
       "      <td>193.5500</td>\n",
       "      <td>188.48</td>\n",
       "      <td>0.0</td>\n",
       "      <td>193.3050</td>\n",
       "      <td>195.005</td>\n",
       "      <td>0.0</td>\n",
       "    </tr>\n",
       "    <tr>\n",
       "      <th>1994-08-07 16:36:01</th>\n",
       "      <td>195.053</td>\n",
       "      <td>195.8217</td>\n",
       "      <td>195.8815</td>\n",
       "      <td>193.605</td>\n",
       "      <td>193.615</td>\n",
       "      <td>193.6253</td>\n",
       "      <td>193.6751</td>\n",
       "      <td>193.7651</td>\n",
       "      <td>193.7751</td>\n",
       "      <td>193.805</td>\n",
       "      <td>...</td>\n",
       "      <td>0.000002</td>\n",
       "      <td>193.7751</td>\n",
       "      <td>193.7651</td>\n",
       "      <td>0.000031</td>\n",
       "      <td>193.5500</td>\n",
       "      <td>188.48</td>\n",
       "      <td>0.0</td>\n",
       "      <td>193.3061</td>\n",
       "      <td>195.005</td>\n",
       "      <td>0.0</td>\n",
       "    </tr>\n",
       "    <tr>\n",
       "      <th>1994-08-07 16:37:07</th>\n",
       "      <td>195.053</td>\n",
       "      <td>195.8216</td>\n",
       "      <td>195.8815</td>\n",
       "      <td>193.605</td>\n",
       "      <td>193.615</td>\n",
       "      <td>193.6257</td>\n",
       "      <td>193.6754</td>\n",
       "      <td>193.7651</td>\n",
       "      <td>193.7755</td>\n",
       "      <td>193.805</td>\n",
       "      <td>...</td>\n",
       "      <td>0.000002</td>\n",
       "      <td>193.7754</td>\n",
       "      <td>193.7651</td>\n",
       "      <td>0.000033</td>\n",
       "      <td>193.5500</td>\n",
       "      <td>188.48</td>\n",
       "      <td>0.0</td>\n",
       "      <td>193.3071</td>\n",
       "      <td>195.005</td>\n",
       "      <td>0.0</td>\n",
       "    </tr>\n",
       "    <tr>\n",
       "      <th>1994-08-07 16:38:55</th>\n",
       "      <td>195.053</td>\n",
       "      <td>195.8215</td>\n",
       "      <td>195.8815</td>\n",
       "      <td>193.605</td>\n",
       "      <td>193.615</td>\n",
       "      <td>193.6262</td>\n",
       "      <td>193.6758</td>\n",
       "      <td>193.7652</td>\n",
       "      <td>193.7761</td>\n",
       "      <td>193.805</td>\n",
       "      <td>...</td>\n",
       "      <td>0.000002</td>\n",
       "      <td>193.7759</td>\n",
       "      <td>193.7652</td>\n",
       "      <td>0.000037</td>\n",
       "      <td>193.5501</td>\n",
       "      <td>188.48</td>\n",
       "      <td>0.0</td>\n",
       "      <td>193.3089</td>\n",
       "      <td>195.005</td>\n",
       "      <td>0.0</td>\n",
       "    </tr>\n",
       "    <tr>\n",
       "      <th>1994-08-07 16:39:55</th>\n",
       "      <td>195.053</td>\n",
       "      <td>195.8215</td>\n",
       "      <td>195.8815</td>\n",
       "      <td>193.605</td>\n",
       "      <td>193.615</td>\n",
       "      <td>193.6266</td>\n",
       "      <td>193.6759</td>\n",
       "      <td>193.7653</td>\n",
       "      <td>193.7764</td>\n",
       "      <td>193.805</td>\n",
       "      <td>...</td>\n",
       "      <td>0.000002</td>\n",
       "      <td>193.7762</td>\n",
       "      <td>193.7653</td>\n",
       "      <td>0.000039</td>\n",
       "      <td>193.5501</td>\n",
       "      <td>188.48</td>\n",
       "      <td>0.0</td>\n",
       "      <td>193.3099</td>\n",
       "      <td>195.005</td>\n",
       "      <td>0.0</td>\n",
       "    </tr>\n",
       "  </tbody>\n",
       "</table>\n",
       "<p>5 rows × 495 columns</p>\n",
       "</div>"
      ],
      "text/plain": [
       "                     WaterLevel:1  WaterLevel:2  WaterLevel:3  WaterLevel:4  \\\n",
       "1994-08-07 16:35:00       195.053      195.8215      195.8815       193.605   \n",
       "1994-08-07 16:36:01       195.053      195.8217      195.8815       193.605   \n",
       "1994-08-07 16:37:07       195.053      195.8216      195.8815       193.605   \n",
       "1994-08-07 16:38:55       195.053      195.8215      195.8815       193.605   \n",
       "1994-08-07 16:39:55       195.053      195.8215      195.8815       193.605   \n",
       "\n",
       "                     WaterLevel:5  WaterLevel:6  WaterLevel:7  WaterLevel:8  \\\n",
       "1994-08-07 16:35:00       193.615      193.6250      193.6750      193.7650   \n",
       "1994-08-07 16:36:01       193.615      193.6253      193.6751      193.7651   \n",
       "1994-08-07 16:37:07       193.615      193.6257      193.6754      193.7651   \n",
       "1994-08-07 16:38:55       193.615      193.6262      193.6758      193.7652   \n",
       "1994-08-07 16:39:55       193.615      193.6266      193.6759      193.7653   \n",
       "\n",
       "                     WaterLevel:9  WaterLevel:10  ...  Discharge:99l1:22.2508  \\\n",
       "1994-08-07 16:35:00      193.7750        193.805  ...                0.000002   \n",
       "1994-08-07 16:36:01      193.7751        193.805  ...                0.000002   \n",
       "1994-08-07 16:37:07      193.7755        193.805  ...                0.000002   \n",
       "1994-08-07 16:38:55      193.7761        193.805  ...                0.000002   \n",
       "1994-08-07 16:39:55      193.7764        193.805  ...                0.000002   \n",
       "\n",
       "                     WaterLevel:9l1:0  WaterLevel:9l1:10  Discharge:9l1:5  \\\n",
       "1994-08-07 16:35:00          193.7750           193.7650         0.000031   \n",
       "1994-08-07 16:36:01          193.7751           193.7651         0.000031   \n",
       "1994-08-07 16:37:07          193.7754           193.7651         0.000033   \n",
       "1994-08-07 16:38:55          193.7759           193.7652         0.000037   \n",
       "1994-08-07 16:39:55          193.7762           193.7653         0.000039   \n",
       "\n",
       "                     WaterLevel:Weir:119w1:0  WaterLevel:Weir:119w1:1  \\\n",
       "1994-08-07 16:35:00                 193.5500                   188.48   \n",
       "1994-08-07 16:36:01                 193.5500                   188.48   \n",
       "1994-08-07 16:37:07                 193.5500                   188.48   \n",
       "1994-08-07 16:38:55                 193.5501                   188.48   \n",
       "1994-08-07 16:39:55                 193.5501                   188.48   \n",
       "\n",
       "                     Discharge:Weir:119w1:0.5  WaterLevel:Pump:115p1:0  \\\n",
       "1994-08-07 16:35:00                       0.0                 193.3050   \n",
       "1994-08-07 16:36:01                       0.0                 193.3061   \n",
       "1994-08-07 16:37:07                       0.0                 193.3071   \n",
       "1994-08-07 16:38:55                       0.0                 193.3089   \n",
       "1994-08-07 16:39:55                       0.0                 193.3099   \n",
       "\n",
       "                     WaterLevel:Pump:115p1:82.4281  \\\n",
       "1994-08-07 16:35:00                        195.005   \n",
       "1994-08-07 16:36:01                        195.005   \n",
       "1994-08-07 16:37:07                        195.005   \n",
       "1994-08-07 16:38:55                        195.005   \n",
       "1994-08-07 16:39:55                        195.005   \n",
       "\n",
       "                     Discharge:Pump:115p1:41.214  \n",
       "1994-08-07 16:35:00                          0.0  \n",
       "1994-08-07 16:36:01                          0.0  \n",
       "1994-08-07 16:37:07                          0.0  \n",
       "1994-08-07 16:38:55                          0.0  \n",
       "1994-08-07 16:39:55                          0.0  \n",
       "\n",
       "[5 rows x 495 columns]"
      ]
     },
     "execution_count": 3,
     "metadata": {},
     "output_type": "execute_result"
    }
   ],
   "source": [
    "df_network = res1d_network.read_all()\n",
    "df_network.head()"
   ]
  },
  {
   "attachments": {},
   "cell_type": "markdown",
   "metadata": {},
   "source": [
    "To retrieve water level in the link **l100l1** (the upstream **chainage=0** and the downstream **chainage=47.6827**) can be retrieved and plotted as:"
   ]
  },
  {
   "cell_type": "code",
   "execution_count": 4,
   "metadata": {},
   "outputs": [
    {
     "data": {
      "text/html": [
       "<div>\n",
       "<style scoped>\n",
       "    .dataframe tbody tr th:only-of-type {\n",
       "        vertical-align: middle;\n",
       "    }\n",
       "\n",
       "    .dataframe tbody tr th {\n",
       "        vertical-align: top;\n",
       "    }\n",
       "\n",
       "    .dataframe thead th {\n",
       "        text-align: right;\n",
       "    }\n",
       "</style>\n",
       "<table border=\"1\" class=\"dataframe\">\n",
       "  <thead>\n",
       "    <tr style=\"text-align: right;\">\n",
       "      <th></th>\n",
       "      <th>WaterLevel:100l1:0</th>\n",
       "      <th>WaterLevel:100l1:47.6827</th>\n",
       "    </tr>\n",
       "  </thead>\n",
       "  <tbody>\n",
       "    <tr>\n",
       "      <th>1994-08-07 16:35:00</th>\n",
       "      <td>195.4415</td>\n",
       "      <td>194.6615</td>\n",
       "    </tr>\n",
       "    <tr>\n",
       "      <th>1994-08-07 16:36:01</th>\n",
       "      <td>195.4415</td>\n",
       "      <td>194.6616</td>\n",
       "    </tr>\n",
       "    <tr>\n",
       "      <th>1994-08-07 16:37:07</th>\n",
       "      <td>195.4415</td>\n",
       "      <td>194.6617</td>\n",
       "    </tr>\n",
       "    <tr>\n",
       "      <th>1994-08-07 16:38:55</th>\n",
       "      <td>195.4415</td>\n",
       "      <td>194.6618</td>\n",
       "    </tr>\n",
       "    <tr>\n",
       "      <th>1994-08-07 16:39:55</th>\n",
       "      <td>195.4415</td>\n",
       "      <td>194.6620</td>\n",
       "    </tr>\n",
       "    <tr>\n",
       "      <th>...</th>\n",
       "      <td>...</td>\n",
       "      <td>...</td>\n",
       "    </tr>\n",
       "    <tr>\n",
       "      <th>1994-08-07 18:30:07</th>\n",
       "      <td>195.4551</td>\n",
       "      <td>194.6891</td>\n",
       "    </tr>\n",
       "    <tr>\n",
       "      <th>1994-08-07 18:31:07</th>\n",
       "      <td>195.4551</td>\n",
       "      <td>194.6889</td>\n",
       "    </tr>\n",
       "    <tr>\n",
       "      <th>1994-08-07 18:32:07</th>\n",
       "      <td>195.4550</td>\n",
       "      <td>194.6888</td>\n",
       "    </tr>\n",
       "    <tr>\n",
       "      <th>1994-08-07 18:33:07</th>\n",
       "      <td>195.4530</td>\n",
       "      <td>194.6884</td>\n",
       "    </tr>\n",
       "    <tr>\n",
       "      <th>1994-08-07 18:35:00</th>\n",
       "      <td>195.4504</td>\n",
       "      <td>194.6862</td>\n",
       "    </tr>\n",
       "  </tbody>\n",
       "</table>\n",
       "<p>110 rows × 2 columns</p>\n",
       "</div>"
      ],
      "text/plain": [
       "                     WaterLevel:100l1:0  WaterLevel:100l1:47.6827\n",
       "1994-08-07 16:35:00            195.4415                  194.6615\n",
       "1994-08-07 16:36:01            195.4415                  194.6616\n",
       "1994-08-07 16:37:07            195.4415                  194.6617\n",
       "1994-08-07 16:38:55            195.4415                  194.6618\n",
       "1994-08-07 16:39:55            195.4415                  194.6620\n",
       "...                                 ...                       ...\n",
       "1994-08-07 18:30:07            195.4551                  194.6891\n",
       "1994-08-07 18:31:07            195.4551                  194.6889\n",
       "1994-08-07 18:32:07            195.4550                  194.6888\n",
       "1994-08-07 18:33:07            195.4530                  194.6884\n",
       "1994-08-07 18:35:00            195.4504                  194.6862\n",
       "\n",
       "[110 rows x 2 columns]"
      ]
     },
     "execution_count": 4,
     "metadata": {},
     "output_type": "execute_result"
    }
   ],
   "source": [
    "df_network[['WaterLevel:100l1:0','WaterLevel:100l1:47.6827']]"
   ]
  },
  {
   "cell_type": "code",
   "execution_count": 5,
   "metadata": {},
   "outputs": [
    {
     "data": {
      "text/plain": [
       "<AxesSubplot:>"
      ]
     },
     "execution_count": 5,
     "metadata": {},
     "output_type": "execute_result"
    },
    {
     "data": {
      "image/png": "[encoded data removed]",
      "text/plain": [
       "<Figure size 432x288 with 1 Axes>"
      ]
     },
     "metadata": {
      "needs_background": "light"
     },
     "output_type": "display_data"
    }
   ],
   "source": [
    "df_network[['WaterLevel:100l1:0','WaterLevel:100l1:47.6827']].plot()"
   ]
  },
  {
   "attachments": {},
   "cell_type": "markdown",
   "metadata": {},
   "source": [
    "## Catchment result file"
   ]
  },
  {
   "attachments": {},
   "cell_type": "markdown",
   "metadata": {},
   "source": [
    "Load network result file into mikeio1d Res1D object and print basic information about the file:"
   ]
  },
  {
   "cell_type": "code",
   "execution_count": 6,
   "metadata": {},
   "outputs": [
    {
     "data": {
      "text/plain": [
       "<mikeio1d.Res1D>\n",
       "Start time: 1994-08-07 16:35:00\n",
       "End time: 1994-08-07 18:35:00\n",
       "# Timesteps: 108\n",
       "# Catchments: 31\n",
       "# Nodes: 0\n",
       "# Reaches: 0\n",
       "# Globals: 0\n",
       "0 - TotalRunOff <m^3/s>\n",
       "1 - ActualRainfall <m/s>\n",
       "2 - ZinkLoadRR <kg/s>\n",
       "3 - ZinkMassAccumulatedRR <kg>\n",
       "4 - ZinkRR <mg/l>"
      ]
     },
     "execution_count": 6,
     "metadata": {},
     "output_type": "execute_result"
    }
   ],
   "source": [
    "file_path_catchments = '../tests/testdata/Catchments.res1d'\n",
    "res1d_catchments = Res1D(file_path_catchments)\n",
    "res1d_catchments"
   ]
  },
  {
   "cell_type": "markdown",
   "metadata": {},
   "source": [
    "Let's read the entire network res1d file time series data into a data frame and show just the first time steps:"
   ]
  },
  {
   "cell_type": "code",
   "execution_count": 7,
   "metadata": {},
   "outputs": [
    {
     "data": {
      "text/html": [
       "<div>\n",
       "<style scoped>\n",
       "    .dataframe tbody tr th:only-of-type {\n",
       "        vertical-align: middle;\n",
       "    }\n",
       "\n",
       "    .dataframe tbody tr th {\n",
       "        vertical-align: top;\n",
       "    }\n",
       "\n",
       "    .dataframe thead th {\n",
       "        text-align: right;\n",
       "    }\n",
       "</style>\n",
       "<table border=\"1\" class=\"dataframe\">\n",
       "  <thead>\n",
       "    <tr style=\"text-align: right;\">\n",
       "      <th></th>\n",
       "      <th>TotalRunOff:100_16_16</th>\n",
       "      <th>ActualRainfall:100_16_16</th>\n",
       "      <th>ZinkLoadRR:100_16_16</th>\n",
       "      <th>ZinkMassAccumulatedRR:100_16_16</th>\n",
       "      <th>ZinkRR:100_16_16</th>\n",
       "      <th>TotalRunOff:105_1_1</th>\n",
       "      <th>ActualRainfall:105_1_1</th>\n",
       "      <th>ZinkLoadRR:105_1_1</th>\n",
       "      <th>ZinkMassAccumulatedRR:105_1_1</th>\n",
       "      <th>ZinkRR:105_1_1</th>\n",
       "      <th>...</th>\n",
       "      <th>TotalRunOff:94_9_9</th>\n",
       "      <th>ActualRainfall:94_9_9</th>\n",
       "      <th>ZinkLoadRR:94_9_9</th>\n",
       "      <th>ZinkMassAccumulatedRR:94_9_9</th>\n",
       "      <th>ZinkRR:94_9_9</th>\n",
       "      <th>TotalRunOff:9_3_3</th>\n",
       "      <th>ActualRainfall:9_3_3</th>\n",
       "      <th>ZinkLoadRR:9_3_3</th>\n",
       "      <th>ZinkMassAccumulatedRR:9_3_3</th>\n",
       "      <th>ZinkRR:9_3_3</th>\n",
       "    </tr>\n",
       "  </thead>\n",
       "  <tbody>\n",
       "    <tr>\n",
       "      <th>1994-08-07 16:35:00</th>\n",
       "      <td>0.0</td>\n",
       "      <td>3.333333e-07</td>\n",
       "      <td>0.0</td>\n",
       "      <td>0.0</td>\n",
       "      <td>100.0</td>\n",
       "      <td>0.0</td>\n",
       "      <td>3.333333e-07</td>\n",
       "      <td>0.0</td>\n",
       "      <td>0.0</td>\n",
       "      <td>100.0</td>\n",
       "      <td>...</td>\n",
       "      <td>0.0</td>\n",
       "      <td>3.333333e-07</td>\n",
       "      <td>0.0</td>\n",
       "      <td>0.0</td>\n",
       "      <td>100.0</td>\n",
       "      <td>0.0</td>\n",
       "      <td>3.333333e-07</td>\n",
       "      <td>0.0</td>\n",
       "      <td>0.0</td>\n",
       "      <td>100.0</td>\n",
       "    </tr>\n",
       "    <tr>\n",
       "      <th>1994-08-07 16:36:00</th>\n",
       "      <td>0.0</td>\n",
       "      <td>3.333333e-07</td>\n",
       "      <td>0.0</td>\n",
       "      <td>0.0</td>\n",
       "      <td>100.0</td>\n",
       "      <td>0.0</td>\n",
       "      <td>3.333333e-07</td>\n",
       "      <td>0.0</td>\n",
       "      <td>0.0</td>\n",
       "      <td>100.0</td>\n",
       "      <td>...</td>\n",
       "      <td>0.0</td>\n",
       "      <td>3.333333e-07</td>\n",
       "      <td>0.0</td>\n",
       "      <td>0.0</td>\n",
       "      <td>100.0</td>\n",
       "      <td>0.0</td>\n",
       "      <td>3.333333e-07</td>\n",
       "      <td>0.0</td>\n",
       "      <td>0.0</td>\n",
       "      <td>100.0</td>\n",
       "    </tr>\n",
       "    <tr>\n",
       "      <th>1994-08-07 16:37:00</th>\n",
       "      <td>0.0</td>\n",
       "      <td>3.333333e-07</td>\n",
       "      <td>0.0</td>\n",
       "      <td>0.0</td>\n",
       "      <td>100.0</td>\n",
       "      <td>0.0</td>\n",
       "      <td>3.333333e-07</td>\n",
       "      <td>0.0</td>\n",
       "      <td>0.0</td>\n",
       "      <td>100.0</td>\n",
       "      <td>...</td>\n",
       "      <td>0.0</td>\n",
       "      <td>3.333333e-07</td>\n",
       "      <td>0.0</td>\n",
       "      <td>0.0</td>\n",
       "      <td>100.0</td>\n",
       "      <td>0.0</td>\n",
       "      <td>3.333333e-07</td>\n",
       "      <td>0.0</td>\n",
       "      <td>0.0</td>\n",
       "      <td>100.0</td>\n",
       "    </tr>\n",
       "    <tr>\n",
       "      <th>1994-08-07 16:38:00</th>\n",
       "      <td>0.0</td>\n",
       "      <td>3.333333e-07</td>\n",
       "      <td>0.0</td>\n",
       "      <td>0.0</td>\n",
       "      <td>100.0</td>\n",
       "      <td>0.0</td>\n",
       "      <td>3.333333e-07</td>\n",
       "      <td>0.0</td>\n",
       "      <td>0.0</td>\n",
       "      <td>100.0</td>\n",
       "      <td>...</td>\n",
       "      <td>0.0</td>\n",
       "      <td>3.333333e-07</td>\n",
       "      <td>0.0</td>\n",
       "      <td>0.0</td>\n",
       "      <td>100.0</td>\n",
       "      <td>0.0</td>\n",
       "      <td>3.333333e-07</td>\n",
       "      <td>0.0</td>\n",
       "      <td>0.0</td>\n",
       "      <td>100.0</td>\n",
       "    </tr>\n",
       "    <tr>\n",
       "      <th>1994-08-07 16:39:00</th>\n",
       "      <td>0.0</td>\n",
       "      <td>3.333333e-07</td>\n",
       "      <td>0.0</td>\n",
       "      <td>0.0</td>\n",
       "      <td>100.0</td>\n",
       "      <td>0.0</td>\n",
       "      <td>3.333333e-07</td>\n",
       "      <td>0.0</td>\n",
       "      <td>0.0</td>\n",
       "      <td>100.0</td>\n",
       "      <td>...</td>\n",
       "      <td>0.0</td>\n",
       "      <td>3.333333e-07</td>\n",
       "      <td>0.0</td>\n",
       "      <td>0.0</td>\n",
       "      <td>100.0</td>\n",
       "      <td>0.0</td>\n",
       "      <td>3.333333e-07</td>\n",
       "      <td>0.0</td>\n",
       "      <td>0.0</td>\n",
       "      <td>100.0</td>\n",
       "    </tr>\n",
       "  </tbody>\n",
       "</table>\n",
       "<p>5 rows × 155 columns</p>\n",
       "</div>"
      ],
      "text/plain": [
       "                     TotalRunOff:100_16_16  ActualRainfall:100_16_16  \\\n",
       "1994-08-07 16:35:00                    0.0              3.333333e-07   \n",
       "1994-08-07 16:36:00                    0.0              3.333333e-07   \n",
       "1994-08-07 16:37:00                    0.0              3.333333e-07   \n",
       "1994-08-07 16:38:00                    0.0              3.333333e-07   \n",
       "1994-08-07 16:39:00                    0.0              3.333333e-07   \n",
       "\n",
       "                     ZinkLoadRR:100_16_16  ZinkMassAccumulatedRR:100_16_16  \\\n",
       "1994-08-07 16:35:00                   0.0                              0.0   \n",
       "1994-08-07 16:36:00                   0.0                              0.0   \n",
       "1994-08-07 16:37:00                   0.0                              0.0   \n",
       "1994-08-07 16:38:00                   0.0                              0.0   \n",
       "1994-08-07 16:39:00                   0.0                              0.0   \n",
       "\n",
       "                     ZinkRR:100_16_16  TotalRunOff:105_1_1  \\\n",
       "1994-08-07 16:35:00             100.0                  0.0   \n",
       "1994-08-07 16:36:00             100.0                  0.0   \n",
       "1994-08-07 16:37:00             100.0                  0.0   \n",
       "1994-08-07 16:38:00             100.0                  0.0   \n",
       "1994-08-07 16:39:00             100.0                  0.0   \n",
       "\n",
       "                     ActualRainfall:105_1_1  ZinkLoadRR:105_1_1  \\\n",
       "1994-08-07 16:35:00            3.333333e-07                 0.0   \n",
       "1994-08-07 16:36:00            3.333333e-07                 0.0   \n",
       "1994-08-07 16:37:00            3.333333e-07                 0.0   \n",
       "1994-08-07 16:38:00            3.333333e-07                 0.0   \n",
       "1994-08-07 16:39:00            3.333333e-07                 0.0   \n",
       "\n",
       "                     ZinkMassAccumulatedRR:105_1_1  ZinkRR:105_1_1  ...  \\\n",
       "1994-08-07 16:35:00                            0.0           100.0  ...   \n",
       "1994-08-07 16:36:00                            0.0           100.0  ...   \n",
       "1994-08-07 16:37:00                            0.0           100.0  ...   \n",
       "1994-08-07 16:38:00                            0.0           100.0  ...   \n",
       "1994-08-07 16:39:00                            0.0           100.0  ...   \n",
       "\n",
       "                     TotalRunOff:94_9_9  ActualRainfall:94_9_9  \\\n",
       "1994-08-07 16:35:00                 0.0           3.333333e-07   \n",
       "1994-08-07 16:36:00                 0.0           3.333333e-07   \n",
       "1994-08-07 16:37:00                 0.0           3.333333e-07   \n",
       "1994-08-07 16:38:00                 0.0           3.333333e-07   \n",
       "1994-08-07 16:39:00                 0.0           3.333333e-07   \n",
       "\n",
       "                     ZinkLoadRR:94_9_9  ZinkMassAccumulatedRR:94_9_9  \\\n",
       "1994-08-07 16:35:00                0.0                           0.0   \n",
       "1994-08-07 16:36:00                0.0                           0.0   \n",
       "1994-08-07 16:37:00                0.0                           0.0   \n",
       "1994-08-07 16:38:00                0.0                           0.0   \n",
       "1994-08-07 16:39:00                0.0                           0.0   \n",
       "\n",
       "                     ZinkRR:94_9_9  TotalRunOff:9_3_3  ActualRainfall:9_3_3  \\\n",
       "1994-08-07 16:35:00          100.0                0.0          3.333333e-07   \n",
       "1994-08-07 16:36:00          100.0                0.0          3.333333e-07   \n",
       "1994-08-07 16:37:00          100.0                0.0          3.333333e-07   \n",
       "1994-08-07 16:38:00          100.0                0.0          3.333333e-07   \n",
       "1994-08-07 16:39:00          100.0                0.0          3.333333e-07   \n",
       "\n",
       "                     ZinkLoadRR:9_3_3  ZinkMassAccumulatedRR:9_3_3  \\\n",
       "1994-08-07 16:35:00               0.0                          0.0   \n",
       "1994-08-07 16:36:00               0.0                          0.0   \n",
       "1994-08-07 16:37:00               0.0                          0.0   \n",
       "1994-08-07 16:38:00               0.0                          0.0   \n",
       "1994-08-07 16:39:00               0.0                          0.0   \n",
       "\n",
       "                     ZinkRR:9_3_3  \n",
       "1994-08-07 16:35:00         100.0  \n",
       "1994-08-07 16:36:00         100.0  \n",
       "1994-08-07 16:37:00         100.0  \n",
       "1994-08-07 16:38:00         100.0  \n",
       "1994-08-07 16:39:00         100.0  \n",
       "\n",
       "[5 rows x 155 columns]"
      ]
     },
     "execution_count": 7,
     "metadata": {},
     "output_type": "execute_result"
    }
   ],
   "source": [
    "df_catchments = res1d_catchments.read_all()\n",
    "df_catchments.head()"
   ]
  },
  {
   "attachments": {},
   "cell_type": "markdown",
   "metadata": {},
   "source": [
    "## Access quantity and network/catchment information"
   ]
  },
  {
   "attachments": {},
   "cell_type": "markdown",
   "metadata": {},
   "source": [
    "List quantities found in a network and catchment res1d files as a list of strings:"
   ]
  },
  {
   "cell_type": "code",
   "execution_count": 8,
   "metadata": {},
   "outputs": [
    {
     "data": {
      "text/plain": [
       "['WaterLevel', 'Discharge']"
      ]
     },
     "execution_count": 8,
     "metadata": {},
     "output_type": "execute_result"
    }
   ],
   "source": [
    "res1d_network.quantities"
   ]
  },
  {
   "cell_type": "code",
   "execution_count": 9,
   "metadata": {},
   "outputs": [
    {
     "data": {
      "text/plain": [
       "['TotalRunOff',\n",
       " 'ActualRainfall',\n",
       " 'ZinkLoadRR',\n",
       " 'ZinkMassAccumulatedRR',\n",
       " 'ZinkRR']"
      ]
     },
     "execution_count": 9,
     "metadata": {},
     "output_type": "execute_result"
    }
   ],
   "source": [
    "res1d_catchments.quantities"
   ]
  },
  {
   "attachments": {},
   "cell_type": "markdown",
   "metadata": {},
   "source": [
    "List nodes/reaches in a file as dictionaries from node/reach id to an object representing the node/reach:"
   ]
  },
  {
   "cell_type": "code",
   "execution_count": 10,
   "metadata": {},
   "outputs": [
    {
     "data": {
      "text/plain": [
       "{'1': <DHI.Mike1D.ResultDataAccess.Res1DManhole object at 0x0000027376AF5E20>,\n",
       " '2': <DHI.Mike1D.ResultDataAccess.Res1DManhole object at 0x0000027376AE9AC0>,\n",
       " '3': <DHI.Mike1D.ResultDataAccess.Res1DManhole object at 0x000002731FF2CF10>,\n",
       " '4': <DHI.Mike1D.ResultDataAccess.Res1DManhole object at 0x000002731FF2CA90>,\n",
       " '5': <DHI.Mike1D.ResultDataAccess.Res1DManhole object at 0x000002731FF3F100>,\n",
       " '6': <DHI.Mike1D.ResultDataAccess.Res1DManhole object at 0x0000027376AF5D00>,\n",
       " '7': <DHI.Mike1D.ResultDataAccess.Res1DManhole object at 0x000002731FF2CF70>,\n",
       " '8': <DHI.Mike1D.ResultDataAccess.Res1DManhole object at 0x000002731FF3F400>,\n",
       " '9': <DHI.Mike1D.ResultDataAccess.Res1DManhole object at 0x000002731FF3F520>,\n",
       " '10': <DHI.Mike1D.ResultDataAccess.Res1DManhole object at 0x000002731FF3F640>,\n",
       " '11': <DHI.Mike1D.ResultDataAccess.Res1DManhole object at 0x000002731FF3F760>,\n",
       " '13': <DHI.Mike1D.ResultDataAccess.Res1DManhole object at 0x000002731FF3F880>,\n",
       " '14': <DHI.Mike1D.ResultDataAccess.Res1DManhole object at 0x000002731FF3F9A0>,\n",
       " '15': <DHI.Mike1D.ResultDataAccess.Res1DManhole object at 0x000002731FF3FAC0>,\n",
       " '17': <DHI.Mike1D.ResultDataAccess.Res1DManhole object at 0x000002731FF3FBE0>,\n",
       " '20': <DHI.Mike1D.ResultDataAccess.Res1DManhole object at 0x000002731FF3FD00>,\n",
       " '21': <DHI.Mike1D.ResultDataAccess.Res1DManhole object at 0x000002731FF3FE20>,\n",
       " '22': <DHI.Mike1D.ResultDataAccess.Res1DManhole object at 0x000002731FF3FF40>,\n",
       " '23': <DHI.Mike1D.ResultDataAccess.Res1DManhole object at 0x00000273204720A0>,\n",
       " '24': <DHI.Mike1D.ResultDataAccess.Res1DManhole object at 0x00000273204721C0>,\n",
       " '25': <DHI.Mike1D.ResultDataAccess.Res1DManhole object at 0x00000273204722E0>,\n",
       " '26': <DHI.Mike1D.ResultDataAccess.Res1DManhole object at 0x0000027320472400>,\n",
       " '27': <DHI.Mike1D.ResultDataAccess.Res1DManhole object at 0x0000027320472520>,\n",
       " '28': <DHI.Mike1D.ResultDataAccess.Res1DManhole object at 0x0000027320472640>,\n",
       " '29': <DHI.Mike1D.ResultDataAccess.Res1DManhole object at 0x0000027320472760>,\n",
       " '30': <DHI.Mike1D.ResultDataAccess.Res1DManhole object at 0x0000027320472880>,\n",
       " '31': <DHI.Mike1D.ResultDataAccess.Res1DManhole object at 0x00000273204729A0>,\n",
       " '32': <DHI.Mike1D.ResultDataAccess.Res1DManhole object at 0x0000027320472AC0>,\n",
       " '33': <DHI.Mike1D.ResultDataAccess.Res1DManhole object at 0x0000027320472BE0>,\n",
       " '34': <DHI.Mike1D.ResultDataAccess.Res1DManhole object at 0x0000027320472D00>,\n",
       " '35': <DHI.Mike1D.ResultDataAccess.Res1DManhole object at 0x0000027320472E20>,\n",
       " '36': <DHI.Mike1D.ResultDataAccess.Res1DManhole object at 0x0000027320472F40>,\n",
       " '37': <DHI.Mike1D.ResultDataAccess.Res1DManhole object at 0x00000273204750A0>,\n",
       " '38': <DHI.Mike1D.ResultDataAccess.Res1DManhole object at 0x00000273204751C0>,\n",
       " '39': <DHI.Mike1D.ResultDataAccess.Res1DManhole object at 0x00000273204752E0>,\n",
       " '40': <DHI.Mike1D.ResultDataAccess.Res1DManhole object at 0x0000027320475400>,\n",
       " '41': <DHI.Mike1D.ResultDataAccess.Res1DManhole object at 0x0000027320475520>,\n",
       " '42': <DHI.Mike1D.ResultDataAccess.Res1DManhole object at 0x0000027320475640>,\n",
       " '43': <DHI.Mike1D.ResultDataAccess.Res1DManhole object at 0x0000027320475760>,\n",
       " '44': <DHI.Mike1D.ResultDataAccess.Res1DManhole object at 0x0000027320475880>,\n",
       " '45': <DHI.Mike1D.ResultDataAccess.Res1DManhole object at 0x00000273204759A0>,\n",
       " '47': <DHI.Mike1D.ResultDataAccess.Res1DManhole object at 0x0000027320475AC0>,\n",
       " '48': <DHI.Mike1D.ResultDataAccess.Res1DManhole object at 0x0000027320475BE0>,\n",
       " '49': <DHI.Mike1D.ResultDataAccess.Res1DManhole object at 0x0000027320475D00>,\n",
       " '50': <DHI.Mike1D.ResultDataAccess.Res1DManhole object at 0x0000027320475E20>,\n",
       " '51': <DHI.Mike1D.ResultDataAccess.Res1DManhole object at 0x0000027320475F40>,\n",
       " '52': <DHI.Mike1D.ResultDataAccess.Res1DManhole object at 0x00000273204790A0>,\n",
       " '53': <DHI.Mike1D.ResultDataAccess.Res1DManhole object at 0x00000273204791C0>,\n",
       " '54': <DHI.Mike1D.ResultDataAccess.Res1DManhole object at 0x00000273204792E0>,\n",
       " '56': <DHI.Mike1D.ResultDataAccess.Res1DManhole object at 0x0000027320479400>,\n",
       " '57': <DHI.Mike1D.ResultDataAccess.Res1DManhole object at 0x0000027320479520>,\n",
       " '59': <DHI.Mike1D.ResultDataAccess.Res1DManhole object at 0x0000027320479640>,\n",
       " '60': <DHI.Mike1D.ResultDataAccess.Res1DManhole object at 0x0000027320479760>,\n",
       " '61': <DHI.Mike1D.ResultDataAccess.Res1DManhole object at 0x0000027320479880>,\n",
       " '62': <DHI.Mike1D.ResultDataAccess.Res1DManhole object at 0x00000273204799A0>,\n",
       " '63': <DHI.Mike1D.ResultDataAccess.Res1DManhole object at 0x0000027320479AC0>,\n",
       " '64': <DHI.Mike1D.ResultDataAccess.Res1DManhole object at 0x0000027320479BE0>,\n",
       " '65': <DHI.Mike1D.ResultDataAccess.Res1DManhole object at 0x0000027320479D00>,\n",
       " '66': <DHI.Mike1D.ResultDataAccess.Res1DManhole object at 0x0000027320479E20>,\n",
       " '67': <DHI.Mike1D.ResultDataAccess.Res1DManhole object at 0x0000027320479F40>,\n",
       " '68': <DHI.Mike1D.ResultDataAccess.Res1DManhole object at 0x000002732047D0A0>,\n",
       " '69': <DHI.Mike1D.ResultDataAccess.Res1DManhole object at 0x000002732047D1C0>,\n",
       " '70': <DHI.Mike1D.ResultDataAccess.Res1DManhole object at 0x000002732047D2E0>,\n",
       " '71': <DHI.Mike1D.ResultDataAccess.Res1DManhole object at 0x000002732047D400>,\n",
       " '72': <DHI.Mike1D.ResultDataAccess.Res1DManhole object at 0x000002732047D520>,\n",
       " '73': <DHI.Mike1D.ResultDataAccess.Res1DManhole object at 0x000002732047D640>,\n",
       " '74': <DHI.Mike1D.ResultDataAccess.Res1DManhole object at 0x000002732047D760>,\n",
       " '75': <DHI.Mike1D.ResultDataAccess.Res1DManhole object at 0x000002732047D880>,\n",
       " '76': <DHI.Mike1D.ResultDataAccess.Res1DManhole object at 0x000002732047D9A0>,\n",
       " '77': <DHI.Mike1D.ResultDataAccess.Res1DManhole object at 0x000002732047DAC0>,\n",
       " '78': <DHI.Mike1D.ResultDataAccess.Res1DManhole object at 0x000002732047DBE0>,\n",
       " '79': <DHI.Mike1D.ResultDataAccess.Res1DManhole object at 0x000002732047DD00>,\n",
       " '80': <DHI.Mike1D.ResultDataAccess.Res1DManhole object at 0x000002732047DE20>,\n",
       " '81': <DHI.Mike1D.ResultDataAccess.Res1DManhole object at 0x000002732047DF40>,\n",
       " '82': <DHI.Mike1D.ResultDataAccess.Res1DManhole object at 0x00000273204800A0>,\n",
       " '83': <DHI.Mike1D.ResultDataAccess.Res1DManhole object at 0x00000273204801C0>,\n",
       " '84': <DHI.Mike1D.ResultDataAccess.Res1DManhole object at 0x00000273204802E0>,\n",
       " '85': <DHI.Mike1D.ResultDataAccess.Res1DManhole object at 0x0000027320480400>,\n",
       " '86': <DHI.Mike1D.ResultDataAccess.Res1DManhole object at 0x0000027320480520>,\n",
       " '87': <DHI.Mike1D.ResultDataAccess.Res1DManhole object at 0x0000027320480640>,\n",
       " '88': <DHI.Mike1D.ResultDataAccess.Res1DManhole object at 0x0000027320480760>,\n",
       " '89': <DHI.Mike1D.ResultDataAccess.Res1DManhole object at 0x0000027320480880>,\n",
       " '90': <DHI.Mike1D.ResultDataAccess.Res1DManhole object at 0x00000273204809A0>,\n",
       " '91': <DHI.Mike1D.ResultDataAccess.Res1DManhole object at 0x0000027320480AC0>,\n",
       " '92': <DHI.Mike1D.ResultDataAccess.Res1DManhole object at 0x0000027320480BE0>,\n",
       " '93': <DHI.Mike1D.ResultDataAccess.Res1DManhole object at 0x0000027320480D00>,\n",
       " '94': <DHI.Mike1D.ResultDataAccess.Res1DManhole object at 0x0000027320480E20>,\n",
       " '95': <DHI.Mike1D.ResultDataAccess.Res1DManhole object at 0x0000027320480F40>,\n",
       " '96': <DHI.Mike1D.ResultDataAccess.Res1DManhole object at 0x00000273204830A0>,\n",
       " '97': <DHI.Mike1D.ResultDataAccess.Res1DManhole object at 0x00000273204831C0>,\n",
       " '98': <DHI.Mike1D.ResultDataAccess.Res1DManhole object at 0x00000273204832E0>,\n",
       " '99': <DHI.Mike1D.ResultDataAccess.Res1DManhole object at 0x0000027320483400>,\n",
       " '100': <DHI.Mike1D.ResultDataAccess.Res1DManhole object at 0x0000027320483520>,\n",
       " '101': <DHI.Mike1D.ResultDataAccess.Res1DManhole object at 0x0000027320483640>,\n",
       " '102': <DHI.Mike1D.ResultDataAccess.Res1DManhole object at 0x0000027320483760>,\n",
       " '103': <DHI.Mike1D.ResultDataAccess.Res1DManhole object at 0x0000027320483880>,\n",
       " '104': <DHI.Mike1D.ResultDataAccess.Res1DManhole object at 0x00000273204839A0>,\n",
       " '105': <DHI.Mike1D.ResultDataAccess.Res1DManhole object at 0x0000027320483AC0>,\n",
       " '106': <DHI.Mike1D.ResultDataAccess.Res1DManhole object at 0x0000027320483BE0>,\n",
       " '107': <DHI.Mike1D.ResultDataAccess.Res1DManhole object at 0x0000027320483D00>,\n",
       " '108': <DHI.Mike1D.ResultDataAccess.Res1DManhole object at 0x0000027320483E20>,\n",
       " '109': <DHI.Mike1D.ResultDataAccess.Res1DManhole object at 0x0000027320483F40>,\n",
       " '110': <DHI.Mike1D.ResultDataAccess.Res1DManhole object at 0x00000273204890A0>,\n",
       " '111': <DHI.Mike1D.ResultDataAccess.Res1DManhole object at 0x00000273204891C0>,\n",
       " '112': <DHI.Mike1D.ResultDataAccess.Res1DManhole object at 0x00000273204892E0>,\n",
       " '113': <DHI.Mike1D.ResultDataAccess.Res1DManhole object at 0x0000027320489400>,\n",
       " '114': <DHI.Mike1D.ResultDataAccess.Res1DManhole object at 0x0000027320489520>,\n",
       " '12': <DHI.Mike1D.ResultDataAccess.Res1DManhole object at 0x0000027320489640>,\n",
       " '16': <DHI.Mike1D.ResultDataAccess.Res1DManhole object at 0x0000027320489760>,\n",
       " '46': <DHI.Mike1D.ResultDataAccess.Res1DManhole object at 0x0000027320489880>,\n",
       " '55': <DHI.Mike1D.ResultDataAccess.Res1DManhole object at 0x00000273204899A0>,\n",
       " '58': <DHI.Mike1D.ResultDataAccess.Res1DManhole object at 0x0000027320489AC0>,\n",
       " '116': <DHI.Mike1D.ResultDataAccess.Res1DManhole object at 0x0000027320489BE0>,\n",
       " '117': <DHI.Mike1D.ResultDataAccess.Res1DManhole object at 0x0000027320489D00>,\n",
       " '118': <DHI.Mike1D.ResultDataAccess.Res1DManhole object at 0x0000027320489E20>,\n",
       " '115': <DHI.Mike1D.ResultDataAccess.Res1DBasin object at 0x0000027320489F40>,\n",
       " '119': <DHI.Mike1D.ResultDataAccess.Res1DBasin object at 0x000002732048C0A0>,\n",
       " '120': <DHI.Mike1D.ResultDataAccess.Res1DOutlet object at 0x000002732048C1C0>,\n",
       " 'Weir Outlet:119w1': <DHI.Mike1D.ResultDataAccess.Res1DOutlet object at 0x000002732048C2E0>}"
      ]
     },
     "execution_count": 10,
     "metadata": {},
     "output_type": "execute_result"
    }
   ],
   "source": [
    "res1d_network.nodes"
   ]
  },
  {
   "cell_type": "code",
   "execution_count": 11,
   "metadata": {},
   "outputs": [
    {
     "data": {
      "text/plain": [
       "{'100l1': <DHI.Mike1D.ResultDataAccess.Res1DReach object at 0x000002732048C430>,\n",
       " '101l1': <DHI.Mike1D.ResultDataAccess.Res1DReach object at 0x000002732048C4F0>,\n",
       " '102l1': <DHI.Mike1D.ResultDataAccess.Res1DReach object at 0x000002732048C8B0>,\n",
       " '103l1': <DHI.Mike1D.ResultDataAccess.Res1DReach object at 0x000002732048CC70>,\n",
       " '104l1': <DHI.Mike1D.ResultDataAccess.Res1DReach object at 0x000002732048CFD0>,\n",
       " '105l1': <DHI.Mike1D.ResultDataAccess.Res1DReach object at 0x0000027320494340>,\n",
       " '106l1': <DHI.Mike1D.ResultDataAccess.Res1DReach object at 0x00000273204946A0>,\n",
       " '107l1': <DHI.Mike1D.ResultDataAccess.Res1DReach object at 0x00000273204949D0>,\n",
       " '108l1': <DHI.Mike1D.ResultDataAccess.Res1DReach object at 0x0000027320494D30>,\n",
       " '109l1': <DHI.Mike1D.ResultDataAccess.Res1DReach object at 0x000002732049A0D0>,\n",
       " '10l1': <DHI.Mike1D.ResultDataAccess.Res1DReach object at 0x000002732049A430>,\n",
       " '110l1': <DHI.Mike1D.ResultDataAccess.Res1DReach object at 0x000002732049A790>,\n",
       " '111l1': <DHI.Mike1D.ResultDataAccess.Res1DReach object at 0x000002732049AAF0>,\n",
       " '112l1': <DHI.Mike1D.ResultDataAccess.Res1DReach object at 0x000002732049AE50>,\n",
       " '113l1': <DHI.Mike1D.ResultDataAccess.Res1DReach object at 0x00000273204A11F0>,\n",
       " '114l1': <DHI.Mike1D.ResultDataAccess.Res1DReach object at 0x00000273204A1550>,\n",
       " '116l1': <DHI.Mike1D.ResultDataAccess.Res1DReach object at 0x00000273204A1A90>,\n",
       " '117l1': <DHI.Mike1D.ResultDataAccess.Res1DReach object at 0x00000273204A1DC0>,\n",
       " '118l1': <DHI.Mike1D.ResultDataAccess.Res1DReach object at 0x00000273204A6160>,\n",
       " '119l1': <DHI.Mike1D.ResultDataAccess.Res1DReach object at 0x00000273204A66A0>,\n",
       " '11l1': <DHI.Mike1D.ResultDataAccess.Res1DReach object at 0x00000273204A6BB0>,\n",
       " '12l1': <DHI.Mike1D.ResultDataAccess.Res1DReach object at 0x00000273204A6EE0>,\n",
       " '13l1': <DHI.Mike1D.ResultDataAccess.Res1DReach object at 0x00000273204AC280>,\n",
       " '14l1': <DHI.Mike1D.ResultDataAccess.Res1DReach object at 0x00000273204AC5E0>,\n",
       " '15l1': <DHI.Mike1D.ResultDataAccess.Res1DReach object at 0x00000273204AC940>,\n",
       " '16l1': <DHI.Mike1D.ResultDataAccess.Res1DReach object at 0x00000273204ACCA0>,\n",
       " '17l1': <DHI.Mike1D.ResultDataAccess.Res1DReach object at 0x00000273204B3040>,\n",
       " '1l1': <DHI.Mike1D.ResultDataAccess.Res1DReach object at 0x00000273204B33A0>,\n",
       " '20l1': <DHI.Mike1D.ResultDataAccess.Res1DReach object at 0x00000273204B3700>,\n",
       " '21l1': <DHI.Mike1D.ResultDataAccess.Res1DReach object at 0x00000273204B3A60>,\n",
       " '22l1': <DHI.Mike1D.ResultDataAccess.Res1DReach object at 0x00000273204B3DC0>,\n",
       " '23l1': <DHI.Mike1D.ResultDataAccess.Res1DReach object at 0x00000273204B9160>,\n",
       " '24l1': <DHI.Mike1D.ResultDataAccess.Res1DReach object at 0x00000273204B94C0>,\n",
       " '25l1': <DHI.Mike1D.ResultDataAccess.Res1DReach object at 0x00000273204B9820>,\n",
       " '26l1': <DHI.Mike1D.ResultDataAccess.Res1DReach object at 0x00000273204B9B80>,\n",
       " '27l1': <DHI.Mike1D.ResultDataAccess.Res1DReach object at 0x00000273204B9EE0>,\n",
       " '28l1': <DHI.Mike1D.ResultDataAccess.Res1DReach object at 0x00000273204BF280>,\n",
       " '29l1': <DHI.Mike1D.ResultDataAccess.Res1DReach object at 0x00000273204BF5E0>,\n",
       " '2l1': <DHI.Mike1D.ResultDataAccess.Res1DReach object at 0x00000273204BF940>,\n",
       " '30l1': <DHI.Mike1D.ResultDataAccess.Res1DReach object at 0x00000273204BFCA0>,\n",
       " '31l1': <DHI.Mike1D.ResultDataAccess.Res1DReach object at 0x00000273204C5040>,\n",
       " '32l1': <DHI.Mike1D.ResultDataAccess.Res1DReach object at 0x00000273204C53A0>,\n",
       " '33l1': <DHI.Mike1D.ResultDataAccess.Res1DReach object at 0x00000273204C5700>,\n",
       " '34l1': <DHI.Mike1D.ResultDataAccess.Res1DReach object at 0x00000273204C5A60>,\n",
       " '35l1': <DHI.Mike1D.ResultDataAccess.Res1DReach object at 0x00000273204C5DC0>,\n",
       " '36l1': <DHI.Mike1D.ResultDataAccess.Res1DReach object at 0x00000273204CC160>,\n",
       " '37l1': <DHI.Mike1D.ResultDataAccess.Res1DReach object at 0x00000273204CC4C0>,\n",
       " '38l1': <DHI.Mike1D.ResultDataAccess.Res1DReach object at 0x00000273204CCA00>,\n",
       " '39l1': <DHI.Mike1D.ResultDataAccess.Res1DReach object at 0x00000273204CCD30>,\n",
       " '3l1': <DHI.Mike1D.ResultDataAccess.Res1DReach object at 0x00000273204D20D0>,\n",
       " '40l1': <DHI.Mike1D.ResultDataAccess.Res1DReach object at 0x00000273204D2430>,\n",
       " '41l1': <DHI.Mike1D.ResultDataAccess.Res1DReach object at 0x00000273204D2790>,\n",
       " '42l1': <DHI.Mike1D.ResultDataAccess.Res1DReach object at 0x00000273204D2AF0>,\n",
       " '43l1': <DHI.Mike1D.ResultDataAccess.Res1DReach object at 0x00000273204D2E50>,\n",
       " '44l1': <DHI.Mike1D.ResultDataAccess.Res1DReach object at 0x00000273204D91F0>,\n",
       " '45l1': <DHI.Mike1D.ResultDataAccess.Res1DReach object at 0x00000273204D9550>,\n",
       " '46l1': <DHI.Mike1D.ResultDataAccess.Res1DReach object at 0x00000273204D98B0>,\n",
       " '47l1': <DHI.Mike1D.ResultDataAccess.Res1DReach object at 0x00000273204D9C10>,\n",
       " '48l1': <DHI.Mike1D.ResultDataAccess.Res1DReach object at 0x00000273204D9F70>,\n",
       " '49l1': <DHI.Mike1D.ResultDataAccess.Res1DReach object at 0x00000273204E0310>,\n",
       " '4l1': <DHI.Mike1D.ResultDataAccess.Res1DReach object at 0x00000273204E0670>,\n",
       " '50l1': <DHI.Mike1D.ResultDataAccess.Res1DReach object at 0x00000273204E09D0>,\n",
       " '51l1': <DHI.Mike1D.ResultDataAccess.Res1DReach object at 0x00000273204E0D30>,\n",
       " '52l1': <DHI.Mike1D.ResultDataAccess.Res1DReach object at 0x00000273204E60D0>,\n",
       " '53l1': <DHI.Mike1D.ResultDataAccess.Res1DReach object at 0x00000273204E6430>,\n",
       " '54l1': <DHI.Mike1D.ResultDataAccess.Res1DReach object at 0x00000273204E6790>,\n",
       " '55l1': <DHI.Mike1D.ResultDataAccess.Res1DReach object at 0x00000273204E6AF0>,\n",
       " '56l1': <DHI.Mike1D.ResultDataAccess.Res1DReach object at 0x00000273204E6E50>,\n",
       " '57l1': <DHI.Mike1D.ResultDataAccess.Res1DReach object at 0x00000273204EC1F0>,\n",
       " '58l1': <DHI.Mike1D.ResultDataAccess.Res1DReach object at 0x00000273204EC730>,\n",
       " '59l1': <DHI.Mike1D.ResultDataAccess.Res1DReach object at 0x00000273204ECA60>,\n",
       " '5l1': <DHI.Mike1D.ResultDataAccess.Res1DReach object at 0x00000273204ECFA0>,\n",
       " '60l1': <DHI.Mike1D.ResultDataAccess.Res1DReach object at 0x0000027320702310>,\n",
       " '61l1': <DHI.Mike1D.ResultDataAccess.Res1DReach object at 0x0000027320702670>,\n",
       " '62l1': <DHI.Mike1D.ResultDataAccess.Res1DReach object at 0x00000273207029D0>,\n",
       " '63l1': <DHI.Mike1D.ResultDataAccess.Res1DReach object at 0x0000027320702D30>,\n",
       " '64l1': <DHI.Mike1D.ResultDataAccess.Res1DReach object at 0x00000273207090D0>,\n",
       " '65l1': <DHI.Mike1D.ResultDataAccess.Res1DReach object at 0x0000027320709430>,\n",
       " '66l1': <DHI.Mike1D.ResultDataAccess.Res1DReach object at 0x0000027320709790>,\n",
       " '67l1': <DHI.Mike1D.ResultDataAccess.Res1DReach object at 0x0000027320709AF0>,\n",
       " '68l1': <DHI.Mike1D.ResultDataAccess.Res1DReach object at 0x0000027320709E50>,\n",
       " '69l1': <DHI.Mike1D.ResultDataAccess.Res1DReach object at 0x000002732070F1F0>,\n",
       " '6l1': <DHI.Mike1D.ResultDataAccess.Res1DReach object at 0x000002732070F550>,\n",
       " '70l1': <DHI.Mike1D.ResultDataAccess.Res1DReach object at 0x000002732070F8B0>,\n",
       " '71l1': <DHI.Mike1D.ResultDataAccess.Res1DReach object at 0x000002732070FDF0>,\n",
       " '72l1': <DHI.Mike1D.ResultDataAccess.Res1DReach object at 0x0000027320715160>,\n",
       " '73l1': <DHI.Mike1D.ResultDataAccess.Res1DReach object at 0x00000273207154C0>,\n",
       " '74l1': <DHI.Mike1D.ResultDataAccess.Res1DReach object at 0x0000027320715820>,\n",
       " '75l1': <DHI.Mike1D.ResultDataAccess.Res1DReach object at 0x0000027320715B80>,\n",
       " '76l1': <DHI.Mike1D.ResultDataAccess.Res1DReach object at 0x0000027320715EE0>,\n",
       " '77l1': <DHI.Mike1D.ResultDataAccess.Res1DReach object at 0x000002732071B280>,\n",
       " '78l1': <DHI.Mike1D.ResultDataAccess.Res1DReach object at 0x000002732071B5E0>,\n",
       " '79l1': <DHI.Mike1D.ResultDataAccess.Res1DReach object at 0x000002732071B940>,\n",
       " '7l1': <DHI.Mike1D.ResultDataAccess.Res1DReach object at 0x000002732071BCA0>,\n",
       " '80l1': <DHI.Mike1D.ResultDataAccess.Res1DReach object at 0x0000027320721040>,\n",
       " '81l1': <DHI.Mike1D.ResultDataAccess.Res1DReach object at 0x00000273207213A0>,\n",
       " '82l1': <DHI.Mike1D.ResultDataAccess.Res1DReach object at 0x0000027320721700>,\n",
       " '83l1': <DHI.Mike1D.ResultDataAccess.Res1DReach object at 0x0000027320721C40>,\n",
       " '84l1': <DHI.Mike1D.ResultDataAccess.Res1DReach object at 0x0000027320721F70>,\n",
       " '85l1': <DHI.Mike1D.ResultDataAccess.Res1DReach object at 0x0000027320728310>,\n",
       " '86l1': <DHI.Mike1D.ResultDataAccess.Res1DReach object at 0x0000027320728850>,\n",
       " '87l1': <DHI.Mike1D.ResultDataAccess.Res1DReach object at 0x0000027320728D60>,\n",
       " '88l1': <DHI.Mike1D.ResultDataAccess.Res1DReach object at 0x00000273207300D0>,\n",
       " '89l1': <DHI.Mike1D.ResultDataAccess.Res1DReach object at 0x0000027320730430>,\n",
       " '8l1': <DHI.Mike1D.ResultDataAccess.Res1DReach object at 0x0000027320730790>,\n",
       " '90l1': <DHI.Mike1D.ResultDataAccess.Res1DReach object at 0x0000027320730AF0>,\n",
       " '91l1': <DHI.Mike1D.ResultDataAccess.Res1DReach object at 0x0000027320730E50>,\n",
       " '92l1': <DHI.Mike1D.ResultDataAccess.Res1DReach object at 0x00000273207353D0>,\n",
       " '93l1': <DHI.Mike1D.ResultDataAccess.Res1DReach object at 0x0000027320735700>,\n",
       " '94l1': <DHI.Mike1D.ResultDataAccess.Res1DReach object at 0x0000027320735A60>,\n",
       " '95l1': <DHI.Mike1D.ResultDataAccess.Res1DReach object at 0x0000027320735DC0>,\n",
       " '96l1': <DHI.Mike1D.ResultDataAccess.Res1DReach object at 0x000002732073B160>,\n",
       " '97l1': <DHI.Mike1D.ResultDataAccess.Res1DReach object at 0x000002732073B4C0>,\n",
       " '98l1': <DHI.Mike1D.ResultDataAccess.Res1DReach object at 0x000002732073B820>,\n",
       " '99l1': <DHI.Mike1D.ResultDataAccess.Res1DReach object at 0x000002732073BB80>,\n",
       " '9l1': <DHI.Mike1D.ResultDataAccess.Res1DReach object at 0x000002732073BEE0>,\n",
       " 'Weir:119w1': <DHI.Mike1D.ResultDataAccess.Res1DStructureReach object at 0x0000027320742280>,\n",
       " 'Pump:115p1': <DHI.Mike1D.ResultDataAccess.Res1DStructureReach object at 0x00000273207425E0>}"
      ]
     },
     "execution_count": 11,
     "metadata": {},
     "output_type": "execute_result"
    }
   ],
   "source": [
    "res1d_network.reaches"
   ]
  },
  {
   "attachments": {},
   "cell_type": "markdown",
   "metadata": {},
   "source": [
    "List catchments in a file as dictionaries from catchment id to an object representing the catchment:"
   ]
  },
  {
   "cell_type": "code",
   "execution_count": 12,
   "metadata": {},
   "outputs": [
    {
     "data": {
      "text/plain": [
       "{'100_16_16': <DHI.Mike1D.ResultDataAccess.Res1DCatchment object at 0x000002732272B790>,\n",
       " '105_1_1': <DHI.Mike1D.ResultDataAccess.Res1DCatchment object at 0x0000027376AE34F0>,\n",
       " '10_22_22': <DHI.Mike1D.ResultDataAccess.Res1DCatchment object at 0x00000273247C8B80>,\n",
       " '113_21_21': <DHI.Mike1D.ResultDataAccess.Res1DCatchment object at 0x000002732484EBE0>,\n",
       " '118_30_30': <DHI.Mike1D.ResultDataAccess.Res1DCatchment object at 0x000002732484EA00>,\n",
       " '119_32_32': <DHI.Mike1D.ResultDataAccess.Res1DCatchment object at 0x000002732484EDF0>,\n",
       " '14_20_20': <DHI.Mike1D.ResultDataAccess.Res1DCatchment object at 0x00000273247C8220>,\n",
       " '20_2_2': <DHI.Mike1D.ResultDataAccess.Res1DCatchment object at 0x000002732485A400>,\n",
       " '22_8_8': <DHI.Mike1D.ResultDataAccess.Res1DCatchment object at 0x000002732485A760>,\n",
       " '25_26_26': <DHI.Mike1D.ResultDataAccess.Res1DCatchment object at 0x000002732485AAC0>,\n",
       " '28_6_6': <DHI.Mike1D.ResultDataAccess.Res1DCatchment object at 0x000002732485AE20>,\n",
       " '29_4_4': <DHI.Mike1D.ResultDataAccess.Res1DCatchment object at 0x000002732485D1C0>,\n",
       " '32_19_19': <DHI.Mike1D.ResultDataAccess.Res1DCatchment object at 0x000002732485D520>,\n",
       " '33_24_24': <DHI.Mike1D.ResultDataAccess.Res1DCatchment object at 0x000002732485D880>,\n",
       " '34_23_23': <DHI.Mike1D.ResultDataAccess.Res1DCatchment object at 0x000002732485DBE0>,\n",
       " '40_29_29': <DHI.Mike1D.ResultDataAccess.Res1DCatchment object at 0x000002732485DF40>,\n",
       " '43_11_11': <DHI.Mike1D.ResultDataAccess.Res1DCatchment object at 0x00000273248602E0>,\n",
       " '48_13_13': <DHI.Mike1D.ResultDataAccess.Res1DCatchment object at 0x0000027324860640>,\n",
       " '51_14_14': <DHI.Mike1D.ResultDataAccess.Res1DCatchment object at 0x00000273248609A0>,\n",
       " '57_17_17': <DHI.Mike1D.ResultDataAccess.Res1DCatchment object at 0x0000027324860D00>,\n",
       " '5_31_31': <DHI.Mike1D.ResultDataAccess.Res1DCatchment object at 0x00000273248650A0>,\n",
       " '64_12_12': <DHI.Mike1D.ResultDataAccess.Res1DCatchment object at 0x0000027324865400>,\n",
       " '67_18_18': <DHI.Mike1D.ResultDataAccess.Res1DCatchment object at 0x0000027324865760>,\n",
       " '6_25_25': <DHI.Mike1D.ResultDataAccess.Res1DCatchment object at 0x0000027324865AC0>,\n",
       " '76_7_7': <DHI.Mike1D.ResultDataAccess.Res1DCatchment object at 0x0000027324865E20>,\n",
       " '79_10_10': <DHI.Mike1D.ResultDataAccess.Res1DCatchment object at 0x00000273248671C0>,\n",
       " '82_27_27': <DHI.Mike1D.ResultDataAccess.Res1DCatchment object at 0x0000027324867520>,\n",
       " '84_15_15': <DHI.Mike1D.ResultDataAccess.Res1DCatchment object at 0x0000027324867880>,\n",
       " '90_28_28': <DHI.Mike1D.ResultDataAccess.Res1DCatchment object at 0x0000027324867BE0>,\n",
       " '94_9_9': <DHI.Mike1D.ResultDataAccess.Res1DCatchment object at 0x0000027324867F40>,\n",
       " '9_3_3': <DHI.Mike1D.ResultDataAccess.Res1DCatchment object at 0x000002732486B2B0>}"
      ]
     },
     "execution_count": 12,
     "metadata": {},
     "output_type": "execute_result"
    }
   ],
   "source": [
    "res1d_catchments.catchments"
   ]
  },
  {
   "attachments": {},
   "cell_type": "markdown",
   "metadata": {},
   "source": [
    "## Query specific time series using query classes"
   ]
  },
  {
   "attachments": {},
   "cell_type": "markdown",
   "metadata": {},
   "source": [
    "In mikeio1d it is possible to load specific time series data using queries. Currently there are the following query classes:\n",
    "* `QueryDataCatchment`\n",
    "* `QueryDataNode`\n",
    "* `QueryDataReach`\n",
    "* `QueryDataStructure`\n",
    "* `QueryDataGlobal`"
   ]
  },
  {
   "cell_type": "code",
   "execution_count": 13,
   "metadata": {},
   "outputs": [],
   "source": [
    "from mikeio1d.res1d import QueryDataNode, QueryDataReach, QueryDataCatchment"
   ]
  },
  {
   "cell_type": "code",
   "execution_count": 14,
   "metadata": {},
   "outputs": [],
   "source": [
    "# Read a specific reach\n",
    "query1 = QueryDataNode('WaterLevel', '1')\n",
    "\n",
    "# Read a specific reach and chainage\n",
    "query2 = QueryDataReach('WaterLevel', '104l1', 34.4131)\n",
    "\n",
    "# Combine queries to extract in one go\n",
    "queries_network = [query1, query2]"
   ]
  },
  {
   "cell_type": "code",
   "execution_count": 15,
   "metadata": {},
   "outputs": [
    {
     "data": {
      "text/plain": [
       "<AxesSubplot:>"
      ]
     },
     "execution_count": 15,
     "metadata": {},
     "output_type": "execute_result"
    },
    {
     "data": {
      "image/png": "[encoded data removed]",
      "text/plain": [
       "<Figure size 432x288 with 1 Axes>"
      ]
     },
     "metadata": {
      "needs_background": "light"
     },
     "output_type": "display_data"
    }
   ],
   "source": [
    "df_network_query = res1d_network.read(queries_network)\n",
    "df_network_query.plot()"
   ]
  },
  {
   "cell_type": "code",
   "execution_count": 16,
   "metadata": {},
   "outputs": [],
   "source": [
    "# Read a specific catchment\n",
    "query1 = QueryDataCatchment('TotalRunOff', '100_16_16')\n",
    "\n",
    "# Read another specific catchment\n",
    "query2 = QueryDataCatchment('TotalRunOff', '105_1_1')\n",
    "\n",
    "# Combine queries to extract in one go\n",
    "queries_catchments = [query1, query2]"
   ]
  },
  {
   "cell_type": "code",
   "execution_count": 17,
   "metadata": {},
   "outputs": [
    {
     "data": {
      "text/plain": [
       "<AxesSubplot:>"
      ]
     },
     "execution_count": 17,
     "metadata": {},
     "output_type": "execute_result"
    },
    {
     "data": {
      "image/png": "[encoded data removed]",
      "text/plain": [
       "<Figure size 432x288 with 1 Axes>"
      ]
     },
     "metadata": {
      "needs_background": "light"
     },
     "output_type": "display_data"
    }
   ],
   "source": [
    "df_catchments_query = res1d_catchments.read(queries_catchments)\n",
    "df_catchments_query.plot()"
   ]
  },
  {
   "attachments": {},
   "cell_type": "markdown",
   "metadata": {},
   "source": [
    "## Querying specific time series using auto-completion"
   ]
  },
  {
   "attachments": {},
   "cell_type": "markdown",
   "metadata": {},
   "source": [
    "It is possible to query data with auto-completion using the following properties of the Res1D object:\n",
    "* `catchments`\n",
    "* `nodes`\n",
    "* `reaches`\n",
    "* `structures`\n",
    "* `global_data`"
   ]
  },
  {
   "attachments": {},
   "cell_type": "markdown",
   "metadata": {},
   "source": [
    "The variable name generated for auto-completion will have a particular string appended if the location id starts with a number or other special character not supported in Python variable names.\n",
    "The appended strings are:\n",
    "* catchments : `c_`\n",
    "* nodes: `n_`\n",
    "* reaches: `r_`\n",
    "* structures: `s_`\n",
    "* global data: `g_`\n",
    "* chainages: `m_`"
   ]
  },
  {
   "attachments": {},
   "cell_type": "markdown",
   "metadata": {},
   "source": [
    "Here is an example to query water level on the reach **100l1** (chainages **m=0**, **m=47.6827**) and node **100**"
   ]
  },
  {
   "cell_type": "code",
   "execution_count": 18,
   "metadata": {},
   "outputs": [
    {
     "data": {
      "text/plain": [
       "<AxesSubplot:>"
      ]
     },
     "execution_count": 18,
     "metadata": {},
     "output_type": "execute_result"
    },
    {
     "data": {
      "image/png": "[encoded data removed]",
      "text/plain": [
       "<Figure size 432x288 with 1 Axes>"
      ]
     },
     "metadata": {
      "needs_background": "light"
     },
     "output_type": "display_data"
    }
   ],
   "source": [
    "# Assign aliases for reaches and nodes\n",
    "reaches = res1d_network.reaches\n",
    "nodes = res1d_network.nodes\n",
    "\n",
    "# Add to to current active queries\n",
    "reaches.r_100l1.m_0.WaterLevel.add()\n",
    "reaches.r_100l1.m_47_6827.WaterLevel.add()\n",
    "nodes.n_100.WaterLevel.add()\n",
    "\n",
    "# Read the current active query\n",
    "df_network_query = res1d_network.read()\n",
    "df_network_query.plot()"
   ]
  },
  {
   "cell_type": "code",
   "execution_count": 19,
   "metadata": {},
   "outputs": [
    {
     "data": {
      "text/plain": [
       "<AxesSubplot:>"
      ]
     },
     "execution_count": 19,
     "metadata": {},
     "output_type": "execute_result"
    },
    {
     "data": {
      "image/png": "[encoded data removed]",
      "text/plain": [
       "<Figure size 432x288 with 1 Axes>"
      ]
     },
     "metadata": {
      "needs_background": "light"
     },
     "output_type": "display_data"
    }
   ],
   "source": [
    "# Assign alias for catchments\n",
    "catchments = res1d_catchments.catchments\n",
    "\n",
    "# Add to to current active queries\n",
    "catchments.c_100_16_16.TotalRunOff.add()\n",
    "catchments.c_105_1_1.TotalRunOff.add()\n",
    "\n",
    "# Read the current active query\n",
    "df_catchments_query = res1d_catchments.read()\n",
    "df_catchments_query.plot()"
   ]
  },
  {
   "attachments": {},
   "cell_type": "markdown",
   "metadata": {},
   "source": [
    "## Filtered reading of the result files"
   ]
  },
  {
   "attachments": {},
   "cell_type": "markdown",
   "metadata": {},
   "source": [
    "It is possible to load a res1d file in a filtered way, that only specified locations are loaded into memory. Let's load nodes **1**, **2**, **3**, and reach **99l1**."
   ]
  },
  {
   "cell_type": "code",
   "execution_count": 20,
   "metadata": {},
   "outputs": [
    {
     "data": {
      "text/html": [
       "<div>\n",
       "<style scoped>\n",
       "    .dataframe tbody tr th:only-of-type {\n",
       "        vertical-align: middle;\n",
       "    }\n",
       "\n",
       "    .dataframe tbody tr th {\n",
       "        vertical-align: top;\n",
       "    }\n",
       "\n",
       "    .dataframe thead th {\n",
       "        text-align: right;\n",
       "    }\n",
       "</style>\n",
       "<table border=\"1\" class=\"dataframe\">\n",
       "  <thead>\n",
       "    <tr style=\"text-align: right;\">\n",
       "      <th></th>\n",
       "      <th>WaterLevel:1</th>\n",
       "      <th>WaterLevel:2</th>\n",
       "      <th>WaterLevel:3</th>\n",
       "      <th>WaterLevel:99l1:0</th>\n",
       "      <th>WaterLevel:99l1:44.5016</th>\n",
       "      <th>Discharge:99l1:22.2508</th>\n",
       "    </tr>\n",
       "  </thead>\n",
       "  <tbody>\n",
       "    <tr>\n",
       "      <th>1994-08-07 16:35:00</th>\n",
       "      <td>195.0530</td>\n",
       "      <td>195.8215</td>\n",
       "      <td>195.8815</td>\n",
       "      <td>194.6615</td>\n",
       "      <td>194.5815</td>\n",
       "      <td>0.000002</td>\n",
       "    </tr>\n",
       "    <tr>\n",
       "      <th>1994-08-07 16:36:01</th>\n",
       "      <td>195.0530</td>\n",
       "      <td>195.8217</td>\n",
       "      <td>195.8815</td>\n",
       "      <td>194.6616</td>\n",
       "      <td>194.5815</td>\n",
       "      <td>0.000002</td>\n",
       "    </tr>\n",
       "    <tr>\n",
       "      <th>1994-08-07 16:37:07</th>\n",
       "      <td>195.0530</td>\n",
       "      <td>195.8216</td>\n",
       "      <td>195.8815</td>\n",
       "      <td>194.6617</td>\n",
       "      <td>194.5815</td>\n",
       "      <td>0.000002</td>\n",
       "    </tr>\n",
       "    <tr>\n",
       "      <th>1994-08-07 16:38:55</th>\n",
       "      <td>195.0530</td>\n",
       "      <td>195.8215</td>\n",
       "      <td>195.8815</td>\n",
       "      <td>194.6619</td>\n",
       "      <td>194.5815</td>\n",
       "      <td>0.000002</td>\n",
       "    </tr>\n",
       "    <tr>\n",
       "      <th>1994-08-07 16:39:55</th>\n",
       "      <td>195.0530</td>\n",
       "      <td>195.8215</td>\n",
       "      <td>195.8815</td>\n",
       "      <td>194.6619</td>\n",
       "      <td>194.5815</td>\n",
       "      <td>0.000002</td>\n",
       "    </tr>\n",
       "    <tr>\n",
       "      <th>...</th>\n",
       "      <td>...</td>\n",
       "      <td>...</td>\n",
       "      <td>...</td>\n",
       "      <td>...</td>\n",
       "      <td>...</td>\n",
       "      <td>...</td>\n",
       "    </tr>\n",
       "    <tr>\n",
       "      <th>1994-08-07 18:30:07</th>\n",
       "      <td>195.1199</td>\n",
       "      <td>195.8228</td>\n",
       "      <td>195.8815</td>\n",
       "      <td>194.6857</td>\n",
       "      <td>194.6076</td>\n",
       "      <td>0.000605</td>\n",
       "    </tr>\n",
       "    <tr>\n",
       "      <th>1994-08-07 18:31:07</th>\n",
       "      <td>195.1186</td>\n",
       "      <td>195.8228</td>\n",
       "      <td>195.8815</td>\n",
       "      <td>194.6856</td>\n",
       "      <td>194.6074</td>\n",
       "      <td>0.000600</td>\n",
       "    </tr>\n",
       "    <tr>\n",
       "      <th>1994-08-07 18:32:07</th>\n",
       "      <td>195.1173</td>\n",
       "      <td>195.8228</td>\n",
       "      <td>195.8815</td>\n",
       "      <td>194.6855</td>\n",
       "      <td>194.6073</td>\n",
       "      <td>0.000595</td>\n",
       "    </tr>\n",
       "    <tr>\n",
       "      <th>1994-08-07 18:33:07</th>\n",
       "      <td>195.1158</td>\n",
       "      <td>195.8228</td>\n",
       "      <td>195.8815</td>\n",
       "      <td>194.6851</td>\n",
       "      <td>194.6071</td>\n",
       "      <td>0.000589</td>\n",
       "    </tr>\n",
       "    <tr>\n",
       "      <th>1994-08-07 18:35:00</th>\n",
       "      <td>195.1125</td>\n",
       "      <td>195.8228</td>\n",
       "      <td>195.8815</td>\n",
       "      <td>194.6829</td>\n",
       "      <td>194.6063</td>\n",
       "      <td>0.000531</td>\n",
       "    </tr>\n",
       "  </tbody>\n",
       "</table>\n",
       "<p>110 rows × 6 columns</p>\n",
       "</div>"
      ],
      "text/plain": [
       "                     WaterLevel:1  WaterLevel:2  WaterLevel:3  \\\n",
       "1994-08-07 16:35:00      195.0530      195.8215      195.8815   \n",
       "1994-08-07 16:36:01      195.0530      195.8217      195.8815   \n",
       "1994-08-07 16:37:07      195.0530      195.8216      195.8815   \n",
       "1994-08-07 16:38:55      195.0530      195.8215      195.8815   \n",
       "1994-08-07 16:39:55      195.0530      195.8215      195.8815   \n",
       "...                           ...           ...           ...   \n",
       "1994-08-07 18:30:07      195.1199      195.8228      195.8815   \n",
       "1994-08-07 18:31:07      195.1186      195.8228      195.8815   \n",
       "1994-08-07 18:32:07      195.1173      195.8228      195.8815   \n",
       "1994-08-07 18:33:07      195.1158      195.8228      195.8815   \n",
       "1994-08-07 18:35:00      195.1125      195.8228      195.8815   \n",
       "\n",
       "                     WaterLevel:99l1:0  WaterLevel:99l1:44.5016  \\\n",
       "1994-08-07 16:35:00           194.6615                 194.5815   \n",
       "1994-08-07 16:36:01           194.6616                 194.5815   \n",
       "1994-08-07 16:37:07           194.6617                 194.5815   \n",
       "1994-08-07 16:38:55           194.6619                 194.5815   \n",
       "1994-08-07 16:39:55           194.6619                 194.5815   \n",
       "...                                ...                      ...   \n",
       "1994-08-07 18:30:07           194.6857                 194.6076   \n",
       "1994-08-07 18:31:07           194.6856                 194.6074   \n",
       "1994-08-07 18:32:07           194.6855                 194.6073   \n",
       "1994-08-07 18:33:07           194.6851                 194.6071   \n",
       "1994-08-07 18:35:00           194.6829                 194.6063   \n",
       "\n",
       "                     Discharge:99l1:22.2508  \n",
       "1994-08-07 16:35:00                0.000002  \n",
       "1994-08-07 16:36:01                0.000002  \n",
       "1994-08-07 16:37:07                0.000002  \n",
       "1994-08-07 16:38:55                0.000002  \n",
       "1994-08-07 16:39:55                0.000002  \n",
       "...                                     ...  \n",
       "1994-08-07 18:30:07                0.000605  \n",
       "1994-08-07 18:31:07                0.000600  \n",
       "1994-08-07 18:32:07                0.000595  \n",
       "1994-08-07 18:33:07                0.000589  \n",
       "1994-08-07 18:35:00                0.000531  \n",
       "\n",
       "[110 rows x 6 columns]"
      ]
     },
     "execution_count": 20,
     "metadata": {},
     "output_type": "execute_result"
    }
   ],
   "source": [
    "file_path_network = '../tests/testdata/Network.res1d'\n",
    "res1d_network_filtered = Res1D(file_path_network, nodes=['1', '2', '3'], reaches=['99l1'])\n",
    "df_network_filtered = res1d_network_filtered.read_all()\n",
    "df_network_filtered"
   ]
  },
  {
   "attachments": {},
   "cell_type": "markdown",
   "metadata": {},
   "source": [
    "Similarly for catchments. Let's load data for catchment **100_16_16**."
   ]
  },
  {
   "cell_type": "code",
   "execution_count": 21,
   "metadata": {},
   "outputs": [
    {
     "data": {
      "text/html": [
       "<div>\n",
       "<style scoped>\n",
       "    .dataframe tbody tr th:only-of-type {\n",
       "        vertical-align: middle;\n",
       "    }\n",
       "\n",
       "    .dataframe tbody tr th {\n",
       "        vertical-align: top;\n",
       "    }\n",
       "\n",
       "    .dataframe thead th {\n",
       "        text-align: right;\n",
       "    }\n",
       "</style>\n",
       "<table border=\"1\" class=\"dataframe\">\n",
       "  <thead>\n",
       "    <tr style=\"text-align: right;\">\n",
       "      <th></th>\n",
       "      <th>TotalRunOff:100_16_16</th>\n",
       "      <th>ActualRainfall:100_16_16</th>\n",
       "      <th>ZinkLoadRR:100_16_16</th>\n",
       "      <th>ZinkMassAccumulatedRR:100_16_16</th>\n",
       "      <th>ZinkRR:100_16_16</th>\n",
       "    </tr>\n",
       "  </thead>\n",
       "  <tbody>\n",
       "    <tr>\n",
       "      <th>1994-08-07 16:35:00</th>\n",
       "      <td>0.0</td>\n",
       "      <td>3.333333e-07</td>\n",
       "      <td>0.0</td>\n",
       "      <td>0.00000</td>\n",
       "      <td>100.0</td>\n",
       "    </tr>\n",
       "    <tr>\n",
       "      <th>1994-08-07 16:36:00</th>\n",
       "      <td>0.0</td>\n",
       "      <td>3.333333e-07</td>\n",
       "      <td>0.0</td>\n",
       "      <td>0.00000</td>\n",
       "      <td>100.0</td>\n",
       "    </tr>\n",
       "    <tr>\n",
       "      <th>1994-08-07 16:37:00</th>\n",
       "      <td>0.0</td>\n",
       "      <td>3.333333e-07</td>\n",
       "      <td>0.0</td>\n",
       "      <td>0.00000</td>\n",
       "      <td>100.0</td>\n",
       "    </tr>\n",
       "    <tr>\n",
       "      <th>1994-08-07 16:38:00</th>\n",
       "      <td>0.0</td>\n",
       "      <td>3.333333e-07</td>\n",
       "      <td>0.0</td>\n",
       "      <td>0.00000</td>\n",
       "      <td>100.0</td>\n",
       "    </tr>\n",
       "    <tr>\n",
       "      <th>1994-08-07 16:39:00</th>\n",
       "      <td>0.0</td>\n",
       "      <td>3.333333e-07</td>\n",
       "      <td>0.0</td>\n",
       "      <td>0.00000</td>\n",
       "      <td>100.0</td>\n",
       "    </tr>\n",
       "    <tr>\n",
       "      <th>...</th>\n",
       "      <td>...</td>\n",
       "      <td>...</td>\n",
       "      <td>...</td>\n",
       "      <td>...</td>\n",
       "      <td>...</td>\n",
       "    </tr>\n",
       "    <tr>\n",
       "      <th>1994-08-07 18:18:00</th>\n",
       "      <td>0.0</td>\n",
       "      <td>0.000000e+00</td>\n",
       "      <td>0.0</td>\n",
       "      <td>10.66167</td>\n",
       "      <td>100.0</td>\n",
       "    </tr>\n",
       "    <tr>\n",
       "      <th>1994-08-07 18:19:00</th>\n",
       "      <td>0.0</td>\n",
       "      <td>0.000000e+00</td>\n",
       "      <td>0.0</td>\n",
       "      <td>10.66167</td>\n",
       "      <td>100.0</td>\n",
       "    </tr>\n",
       "    <tr>\n",
       "      <th>1994-08-07 18:20:00</th>\n",
       "      <td>0.0</td>\n",
       "      <td>0.000000e+00</td>\n",
       "      <td>0.0</td>\n",
       "      <td>10.66167</td>\n",
       "      <td>100.0</td>\n",
       "    </tr>\n",
       "    <tr>\n",
       "      <th>1994-08-07 18:24:00</th>\n",
       "      <td>0.0</td>\n",
       "      <td>0.000000e+00</td>\n",
       "      <td>0.0</td>\n",
       "      <td>10.66167</td>\n",
       "      <td>100.0</td>\n",
       "    </tr>\n",
       "    <tr>\n",
       "      <th>1994-08-07 18:35:00</th>\n",
       "      <td>0.0</td>\n",
       "      <td>0.000000e+00</td>\n",
       "      <td>0.0</td>\n",
       "      <td>10.66167</td>\n",
       "      <td>100.0</td>\n",
       "    </tr>\n",
       "  </tbody>\n",
       "</table>\n",
       "<p>108 rows × 5 columns</p>\n",
       "</div>"
      ],
      "text/plain": [
       "                     TotalRunOff:100_16_16  ActualRainfall:100_16_16  \\\n",
       "1994-08-07 16:35:00                    0.0              3.333333e-07   \n",
       "1994-08-07 16:36:00                    0.0              3.333333e-07   \n",
       "1994-08-07 16:37:00                    0.0              3.333333e-07   \n",
       "1994-08-07 16:38:00                    0.0              3.333333e-07   \n",
       "1994-08-07 16:39:00                    0.0              3.333333e-07   \n",
       "...                                    ...                       ...   \n",
       "1994-08-07 18:18:00                    0.0              0.000000e+00   \n",
       "1994-08-07 18:19:00                    0.0              0.000000e+00   \n",
       "1994-08-07 18:20:00                    0.0              0.000000e+00   \n",
       "1994-08-07 18:24:00                    0.0              0.000000e+00   \n",
       "1994-08-07 18:35:00                    0.0              0.000000e+00   \n",
       "\n",
       "                     ZinkLoadRR:100_16_16  ZinkMassAccumulatedRR:100_16_16  \\\n",
       "1994-08-07 16:35:00                   0.0                          0.00000   \n",
       "1994-08-07 16:36:00                   0.0                          0.00000   \n",
       "1994-08-07 16:37:00                   0.0                          0.00000   \n",
       "1994-08-07 16:38:00                   0.0                          0.00000   \n",
       "1994-08-07 16:39:00                   0.0                          0.00000   \n",
       "...                                   ...                              ...   \n",
       "1994-08-07 18:18:00                   0.0                         10.66167   \n",
       "1994-08-07 18:19:00                   0.0                         10.66167   \n",
       "1994-08-07 18:20:00                   0.0                         10.66167   \n",
       "1994-08-07 18:24:00                   0.0                         10.66167   \n",
       "1994-08-07 18:35:00                   0.0                         10.66167   \n",
       "\n",
       "                     ZinkRR:100_16_16  \n",
       "1994-08-07 16:35:00             100.0  \n",
       "1994-08-07 16:36:00             100.0  \n",
       "1994-08-07 16:37:00             100.0  \n",
       "1994-08-07 16:38:00             100.0  \n",
       "1994-08-07 16:39:00             100.0  \n",
       "...                               ...  \n",
       "1994-08-07 18:18:00             100.0  \n",
       "1994-08-07 18:19:00             100.0  \n",
       "1994-08-07 18:20:00             100.0  \n",
       "1994-08-07 18:24:00             100.0  \n",
       "1994-08-07 18:35:00             100.0  \n",
       "\n",
       "[108 rows x 5 columns]"
      ]
     },
     "execution_count": 21,
     "metadata": {},
     "output_type": "execute_result"
    }
   ],
   "source": [
    "file_path_catchments = '../tests/testdata/Catchments.res1d'\n",
    "res1d_catchments_filtered = Res1D(file_path_catchments, catchments=['100_16_16'])\n",
    "df_catchments_filtered = res1d_catchments_filtered.read_all()\n",
    "df_catchments_filtered"
   ]
  },
  {
   "attachments": {},
   "cell_type": "markdown",
   "metadata": {},
   "source": [
    "## Modifying a res1d file"
   ]
  },
  {
   "attachments": {},
   "cell_type": "markdown",
   "metadata": {},
   "source": [
    "Here we will show how to modify a res1d file. Such functionality is useful for modifications of a hotstart file."
   ]
  },
  {
   "cell_type": "code",
   "execution_count": 22,
   "metadata": {},
   "outputs": [],
   "source": [
    "file_path_network = '../tests/testdata/Network.res1d'\n",
    "res1d_network_mod = Res1D(file_path_network)"
   ]
  },
  {
   "attachments": {},
   "cell_type": "markdown",
   "metadata": {},
   "source": [
    "Let's load all node water level time series:"
   ]
  },
  {
   "cell_type": "code",
   "execution_count": 23,
   "metadata": {},
   "outputs": [
    {
     "name": "stdout",
     "output_type": "stream",
     "text": [
      "Current maximum water level:  200.0649\n"
     ]
    }
   ],
   "source": [
    "res1d_network_mod.nodes.WaterLevel.add()\n",
    "df_network_mod = res1d_network_mod.read()\n",
    "print('Current maximum water level: ', df_network_mod.max().max())"
   ]
  },
  {
   "attachments": {},
   "cell_type": "markdown",
   "metadata": {},
   "source": [
    "Multiply the water level data by a factor of 2 and write it to a new file"
   ]
  },
  {
   "cell_type": "code",
   "execution_count": 24,
   "metadata": {},
   "outputs": [],
   "source": [
    "df_network_mod = df_network_mod.multiply(2.0)\n",
    "file_path_new = file_path_network.replace('Network.res1d', 'NetworkFactorTwo.res1d')\n",
    "res1d_network_mod.modify(df_network_mod, file_path=file_path_new)"
   ]
  },
  {
   "attachments": {},
   "cell_type": "markdown",
   "metadata": {},
   "source": [
    "Load the data again into a data frame"
   ]
  },
  {
   "cell_type": "code",
   "execution_count": 25,
   "metadata": {},
   "outputs": [
    {
     "name": "stdout",
     "output_type": "stream",
     "text": [
      "Current maximum water level:  400.1298\n"
     ]
    }
   ],
   "source": [
    "res1d_network_mod.nodes.WaterLevel.add()\n",
    "df_network_mod = res1d_network_mod.read()\n",
    "print('Current maximum water level: ', df_network_mod.max().max())"
   ]
  },
  {
   "attachments": {},
   "cell_type": "markdown",
   "metadata": {},
   "source": [
    "Load the newly written file"
   ]
  },
  {
   "cell_type": "code",
   "execution_count": 26,
   "metadata": {},
   "outputs": [
    {
     "name": "stdout",
     "output_type": "stream",
     "text": [
      "New file path: ../tests/testdata/NetworkFactorTwo.res1d\n",
      "Current maximum water level: 400.1298\n"
     ]
    }
   ],
   "source": [
    "print('New file path:', file_path_new)\n",
    "res1d_network_new = Res1D(file_path_new)\n",
    "res1d_network_new.nodes.WaterLevel.add()\n",
    "df_network_new = res1d_network_new.read()\n",
    "print('Current maximum water level:', df_network_new.max().max())"
   ]
  },
  {
   "attachments": {},
   "cell_type": "markdown",
   "metadata": {},
   "source": [
    "## Extracting time series data to dfs0 file"
   ]
  },
  {
   "attachments": {},
   "cell_type": "markdown",
   "metadata": {},
   "source": [
    "It is possible to extract the res1d time series data to a dfs0 file. The idea is again to create queries, which are used to pick which time series to extract. Let's extract all node water level:"
   ]
  },
  {
   "cell_type": "code",
   "execution_count": 27,
   "metadata": {},
   "outputs": [],
   "source": [
    "res1d_network.nodes.WaterLevel.add()\n",
    "file_path_dfs0 = file_path_network.replace('Network.res1d', 'NetworkNodeWaterLevel.dfs0')\n",
    "res1d_network.to_dfs0(file_path=file_path_dfs0)"
   ]
  },
  {
   "attachments": {},
   "cell_type": "markdown",
   "metadata": {},
   "source": [
    "## Extracting reach start, end, or sum values as numpy arrays"
   ]
  },
  {
   "attachments": {},
   "cell_type": "markdown",
   "metadata": {},
   "source": [
    "It is possbile to get time series values as numpy arrays at reach start or end chainage without specifying chainage number"
   ]
  },
  {
   "cell_type": "code",
   "execution_count": 28,
   "metadata": {},
   "outputs": [],
   "source": [
    "values_start = res1d_network.get_reach_start_values(\"9l1\", \"WaterLevel\")\n",
    "values_end = res1d_network.get_reach_end_values(\"9l1\", \"WaterLevel\") "
   ]
  },
  {
   "attachments": {},
   "cell_type": "markdown",
   "metadata": {},
   "source": [
    "Get time series values summed for all gridpoints in reach with given quantity, i.e. useful for getting total volume in reach. "
   ]
  },
  {
   "cell_type": "code",
   "execution_count": 29,
   "metadata": {},
   "outputs": [],
   "source": [
    "values_sum = res1d_network.get_reach_sum_values(\"9l1\", \"Discharge\")"
   ]
  },
  {
   "attachments": {},
   "cell_type": "markdown",
   "metadata": {},
   "source": [
    "Create pandas time series from `values_sum` and plot"
   ]
  },
  {
   "cell_type": "code",
   "execution_count": 30,
   "metadata": {},
   "outputs": [
    {
     "data": {
      "text/plain": [
       "<AxesSubplot:ylabel='9l1: Discharge'>"
      ]
     },
     "execution_count": 30,
     "metadata": {},
     "output_type": "execute_result"
    },
    {
     "data": {
      "image/png": "[encoded data removed]",
      "text/plain": [
       "<Figure size 432x288 with 1 Axes>"
      ]
     },
     "metadata": {
      "needs_background": "light"
     },
     "output_type": "display_data"
    }
   ],
   "source": [
    "import pandas as pd\n",
    "pd.Series(values_sum, index = res1d_network.time_index).plot(ylabel=\"9l1: \" + \"Discharge\")"
   ]
  },
  {
   "cell_type": "code",
   "execution_count": null,
   "metadata": {},
   "outputs": [],
   "source": []
  }
 ],
 "metadata": {
  "kernelspec": {
   "display_name": "Python 3",
   "language": "python",
   "name": "python3"
  },
  "language_info": {
   "codemirror_mode": {
    "name": "ipython",
    "version": 3
   },
   "file_extension": ".py",
   "mimetype": "text/x-python",
   "name": "python",
   "nbconvert_exporter": "python",
   "pygments_lexer": "ipython3",
   "version": "3.8.7"
  }
 },
 "nbformat": 4,
 "nbformat_minor": 4
}
