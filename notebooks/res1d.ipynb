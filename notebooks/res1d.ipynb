{
 "cells": [
  {
   "attachments": {},
   "cell_type": "markdown",
   "metadata": {},
   "source": [
    "# Read, modify, and extract data from network and catchment Res1D files"
   ]
  },
  {
   "attachments": {},
   "cell_type": "markdown",
   "metadata": {},
   "source": [
    "With mikeio1d it is possible:\n",
    "* Read res1d file data into pandas data frame\n",
    "* Modify the res1d file contents using data frame\n",
    "* Extract res1d time series data to `csv`, `dfs0`, or `txt` files\n",
    "\n",
    "Currently there are the following types of res1d files:\n",
    "* Network\n",
    "* Catchment\n",
    "* Long Term Statistics (events), see [res1d_lts.ipynb](res1d_lts.ipynb)\n",
    "* Long Term Statistics (chronological), see [res1d_lts.ipynb](res1d_lts.ipynb)\n",
    "* Simple statistics (not fully supported by mikeio1d)\n",
    "\n",
    "In this notebook we will give examples how to work with network and catchment res1d files."
   ]
  },
  {
   "cell_type": "code",
   "execution_count": null,
   "metadata": {},
   "outputs": [],
   "source": [
    "from mikeio1d import Res1D"
   ]
  },
  {
   "attachments": {},
   "cell_type": "markdown",
   "metadata": {},
   "source": [
    "## Network result file"
   ]
  },
  {
   "attachments": {},
   "cell_type": "markdown",
   "metadata": {},
   "source": [
    "Load network result file into mikeio1d Res1D object and print basic information about the file:"
   ]
  },
  {
   "cell_type": "code",
   "execution_count": null,
   "metadata": {},
   "outputs": [],
   "source": [
    "file_path_network = '../tests/testdata/network.res1d'\n",
    "res1d_network = Res1D(file_path_network)\n",
    "res1d_network.info()"
   ]
  },
  {
   "attachments": {},
   "cell_type": "markdown",
   "metadata": {},
   "source": [
    "Let's read the entire network res1d file time series data into a data frame and show just the first time steps:"
   ]
  },
  {
   "cell_type": "code",
   "execution_count": null,
   "metadata": {},
   "outputs": [],
   "source": [
    "df_network = res1d_network.read_all()\n",
    "df_network.head()"
   ]
  },
  {
   "attachments": {},
   "cell_type": "markdown",
   "metadata": {},
   "source": [
    "To retrieve water level in the link **l100l1** (the upstream **chainage=0** and the downstream **chainage=47.6827**) can be retrieved and plotted as:"
   ]
  },
  {
   "cell_type": "code",
   "execution_count": null,
   "metadata": {},
   "outputs": [],
   "source": [
    "df_network[['WaterLevel:100l1:0','WaterLevel:100l1:47.6827']]"
   ]
  },
  {
   "cell_type": "code",
   "execution_count": null,
   "metadata": {},
   "outputs": [],
   "source": [
    "df_network[['WaterLevel:100l1:0','WaterLevel:100l1:47.6827']].plot()"
   ]
  },
  {
   "attachments": {},
   "cell_type": "markdown",
   "metadata": {},
   "source": [
    "## Catchment result file"
   ]
  },
  {
   "attachments": {},
   "cell_type": "markdown",
   "metadata": {},
   "source": [
    "Load network result file into mikeio1d Res1D object and print basic information about the file:"
   ]
  },
  {
   "cell_type": "code",
   "execution_count": null,
   "metadata": {},
   "outputs": [],
   "source": [
    "file_path_catchments = '../tests/testdata/catchments.res1d'\n",
    "res1d_catchments = Res1D(file_path_catchments)\n",
    "res1d_catchments.info()"
   ]
  },
  {
   "cell_type": "markdown",
   "metadata": {},
   "source": [
    "Let's read the entire network res1d file time series data into a data frame and show just the first time steps:"
   ]
  },
  {
   "cell_type": "code",
   "execution_count": null,
   "metadata": {},
   "outputs": [],
   "source": [
    "df_catchments = res1d_catchments.read_all()\n",
    "df_catchments.head()"
   ]
  },
  {
   "attachments": {},
   "cell_type": "markdown",
   "metadata": {},
   "source": [
    "## Access quantity and network/catchment information"
   ]
  },
  {
   "attachments": {},
   "cell_type": "markdown",
   "metadata": {},
   "source": [
    "List quantities found in a network and catchment res1d files as a list of strings:"
   ]
  },
  {
   "cell_type": "code",
   "execution_count": null,
   "metadata": {},
   "outputs": [],
   "source": [
    "res1d_network.quantities"
   ]
  },
  {
   "cell_type": "code",
   "execution_count": null,
   "metadata": {},
   "outputs": [],
   "source": [
    "res1d_catchments.quantities"
   ]
  },
  {
   "attachments": {},
   "cell_type": "markdown",
   "metadata": {},
   "source": [
    "List of nodes/reaches/catchments and corresponding quantities on nodes/reaches/catchments in a file can be obtained using the below properties:"
   ]
  },
  {
   "cell_type": "code",
   "execution_count": null,
   "metadata": {},
   "outputs": [],
   "source": [
    "res1d_network.nodes"
   ]
  },
  {
   "cell_type": "code",
   "execution_count": null,
   "metadata": {},
   "outputs": [],
   "source": [
    "res1d_network.reaches"
   ]
  },
  {
   "cell_type": "code",
   "execution_count": null,
   "metadata": {},
   "outputs": [],
   "source": [
    "res1d_catchments.catchments"
   ]
  },
  {
   "attachments": {},
   "cell_type": "markdown",
   "metadata": {},
   "source": [
    "## Query specific time series using query classes"
   ]
  },
  {
   "attachments": {},
   "cell_type": "markdown",
   "metadata": {},
   "source": [
    "In mikeio1d it is possible to load specific time series data using queries. Currently there are the following query classes:\n",
    "* `QueryDataCatchment`\n",
    "* `QueryDataNode`\n",
    "* `QueryDataReach`\n",
    "* `QueryDataStructure`\n",
    "* `QueryDataGlobal`"
   ]
  },
  {
   "cell_type": "code",
   "execution_count": null,
   "metadata": {},
   "outputs": [],
   "source": [
    "from mikeio1d.res1d import QueryDataNode, QueryDataReach, QueryDataCatchment"
   ]
  },
  {
   "cell_type": "code",
   "execution_count": null,
   "metadata": {},
   "outputs": [],
   "source": [
    "# Read a specific reach\n",
    "query1 = QueryDataNode('WaterLevel', '1')\n",
    "\n",
    "# Read a specific reach and chainage\n",
    "query2 = QueryDataReach('WaterLevel', '104l1', 34.4131)\n",
    "\n",
    "# Combine queries to extract in one go\n",
    "queries_network = [query1, query2]"
   ]
  },
  {
   "cell_type": "code",
   "execution_count": null,
   "metadata": {},
   "outputs": [],
   "source": [
    "df_network_query = res1d_network.read(queries_network)\n",
    "df_network_query.plot()"
   ]
  },
  {
   "cell_type": "code",
   "execution_count": null,
   "metadata": {},
   "outputs": [],
   "source": [
    "# Read a specific catchment\n",
    "query1 = QueryDataCatchment('TotalRunOff', '100_16_16')\n",
    "\n",
    "# Read another specific catchment\n",
    "query2 = QueryDataCatchment('TotalRunOff', '105_1_1')\n",
    "\n",
    "# Combine queries to extract in one go\n",
    "queries_catchments = [query1, query2]"
   ]
  },
  {
   "cell_type": "code",
   "execution_count": null,
   "metadata": {},
   "outputs": [],
   "source": [
    "df_catchments_query = res1d_catchments.read(queries_catchments)\n",
    "df_catchments_query.plot()"
   ]
  },
  {
   "attachments": {},
   "cell_type": "markdown",
   "metadata": {},
   "source": [
    "## Querying specific time series using auto-completion"
   ]
  },
  {
   "attachments": {},
   "cell_type": "markdown",
   "metadata": {},
   "source": [
    "It is possible to query data with auto-completion using the following properties of the Res1D object:\n",
    "* `catchments`\n",
    "* `nodes`\n",
    "* `reaches`\n",
    "* `structures`\n",
    "* `global_data`"
   ]
  },
  {
   "attachments": {},
   "cell_type": "markdown",
   "metadata": {},
   "source": [
    "The variable name generated for auto-completion will have a particular string appended if the location id starts with a number or other special character not supported in Python variable names.\n",
    "The appended strings are:\n",
    "* catchments : `c_`\n",
    "* nodes: `n_`\n",
    "* reaches: `r_`\n",
    "* structures: `s_`\n",
    "* global data: `g_`\n",
    "* chainages: `m_`"
   ]
  },
  {
   "attachments": {},
   "cell_type": "markdown",
   "metadata": {},
   "source": [
    "Here is an example to query water level on the reach **100l1** (chainages **m=0**, **m=47.6827**) and node **100**"
   ]
  },
  {
   "cell_type": "code",
   "execution_count": null,
   "metadata": {},
   "outputs": [],
   "source": [
    "# Assign aliases for reaches and nodes\n",
    "reaches = res1d_network.reaches\n",
    "nodes = res1d_network.nodes\n",
    "\n",
    "# Add to to current active queries\n",
    "reaches.r_100l1.m_0.WaterLevel.add()\n",
    "reaches.r_100l1.m_47_6827.WaterLevel.add()\n",
    "nodes.n_100.WaterLevel.add()\n",
    "\n",
    "# Read the current active query\n",
    "df_network_query = res1d_network.read()\n",
    "df_network_query.plot()"
   ]
  },
  {
   "cell_type": "code",
   "execution_count": null,
   "metadata": {},
   "outputs": [],
   "source": [
    "# Assign alias for catchments\n",
    "catchments = res1d_catchments.catchments\n",
    "\n",
    "# Add to to current active queries\n",
    "catchments.c_100_16_16.TotalRunOff.add()\n",
    "catchments.c_105_1_1.TotalRunOff.add()\n",
    "\n",
    "# Read the current active query\n",
    "df_catchments_query = res1d_catchments.read()\n",
    "df_catchments_query.plot()"
   ]
  },
  {
   "attachments": {},
   "cell_type": "markdown",
   "metadata": {},
   "source": [
    "## Filtered reading of the result files"
   ]
  },
  {
   "attachments": {},
   "cell_type": "markdown",
   "metadata": {},
   "source": [
    "It is possible to load a res1d file in a filtered way, that only specified locations are loaded into memory. Let's load nodes **1**, **2**, **3**, and reach **99l1**."
   ]
  },
  {
   "cell_type": "code",
   "execution_count": null,
   "metadata": {},
   "outputs": [],
   "source": [
    "file_path_network = '../tests/testdata/network.res1d'\n",
    "res1d_network_filtered = Res1D(file_path_network, nodes=['1', '2', '3'], reaches=['99l1'])\n",
    "df_network_filtered = res1d_network_filtered.read_all()\n",
    "df_network_filtered"
   ]
  },
  {
   "attachments": {},
   "cell_type": "markdown",
   "metadata": {},
   "source": [
    "Similarly for catchments. Let's load data for catchment **100_16_16**."
   ]
  },
  {
   "cell_type": "code",
   "execution_count": null,
   "metadata": {},
   "outputs": [],
   "source": [
    "file_path_catchments = '../tests/testdata/catchments.res1d'\n",
    "res1d_catchments_filtered = Res1D(file_path_catchments, catchments=['100_16_16'])\n",
    "df_catchments_filtered = res1d_catchments_filtered.read_all()\n",
    "df_catchments_filtered"
   ]
  },
  {
   "attachments": {},
   "cell_type": "markdown",
   "metadata": {},
   "source": [
    "## Modifying a res1d file"
   ]
  },
  {
   "attachments": {},
   "cell_type": "markdown",
   "metadata": {},
   "source": [
    "Here we will show how to modify a res1d file. Such functionality is useful for modifications of a hotstart file."
   ]
  },
  {
   "cell_type": "code",
   "execution_count": null,
   "metadata": {},
   "outputs": [],
   "source": [
    "file_path_network = '../tests/testdata/network.res1d'\n",
    "res1d_network_mod = Res1D(file_path_network)"
   ]
  },
  {
   "attachments": {},
   "cell_type": "markdown",
   "metadata": {},
   "source": [
    "Let's load all node water level time series:"
   ]
  },
  {
   "cell_type": "code",
   "execution_count": null,
   "metadata": {},
   "outputs": [],
   "source": [
    "res1d_network_mod.nodes.WaterLevel.add()\n",
    "df_network_mod = res1d_network_mod.read(column_mode='all')\n",
    "print('Current maximum water level: ', df_network_mod.max().max())"
   ]
  },
  {
   "attachments": {},
   "cell_type": "markdown",
   "metadata": {},
   "source": [
    "Multiply the water level data by a factor of 2 and write it to a new file"
   ]
  },
  {
   "cell_type": "code",
   "execution_count": null,
   "metadata": {},
   "outputs": [],
   "source": [
    "df_network_mod = df_network_mod.multiply(2.0)\n",
    "file_path_new = file_path_network.replace('network.res1d', 'NetworkFactorTwo.res1d')\n",
    "res1d_network_mod.modify(df_network_mod, file_path=file_path_new)"
   ]
  },
  {
   "attachments": {},
   "cell_type": "markdown",
   "metadata": {},
   "source": [
    "Load the data again into a data frame"
   ]
  },
  {
   "cell_type": "code",
   "execution_count": null,
   "metadata": {},
   "outputs": [],
   "source": [
    "res1d_network_mod.nodes.WaterLevel.add()\n",
    "df_network_mod = res1d_network_mod.read()\n",
    "print('Current maximum water level: ', df_network_mod.max().max())"
   ]
  },
  {
   "attachments": {},
   "cell_type": "markdown",
   "metadata": {},
   "source": [
    "Load the newly written file"
   ]
  },
  {
   "cell_type": "code",
   "execution_count": null,
   "metadata": {},
   "outputs": [],
   "source": [
    "print('New file path:', file_path_new)\n",
    "res1d_network_new = Res1D(file_path_new)\n",
    "res1d_network_new.nodes.WaterLevel.add()\n",
    "df_network_new = res1d_network_new.read()\n",
    "print('Current maximum water level:', df_network_new.max().max())"
   ]
  },
  {
   "attachments": {},
   "cell_type": "markdown",
   "metadata": {},
   "source": [
    "## Extracting time series data to dfs0 file"
   ]
  },
  {
   "attachments": {},
   "cell_type": "markdown",
   "metadata": {},
   "source": [
    "It is possible to extract the res1d time series data to a dfs0 file. The idea is again to create queries, which are used to pick which time series to extract. Let's extract all node water level:"
   ]
  },
  {
   "cell_type": "code",
   "execution_count": null,
   "metadata": {},
   "outputs": [],
   "source": [
    "res1d_network.nodes.WaterLevel.add()\n",
    "file_path_dfs0 = file_path_network.replace('network.res1d', 'NetworkNodeWaterLevel.dfs0')\n",
    "res1d_network.to_dfs0(file_path=file_path_dfs0)"
   ]
  },
  {
   "attachments": {},
   "cell_type": "markdown",
   "metadata": {},
   "source": [
    "## Extracting reach start, end, or sum values as numpy arrays"
   ]
  },
  {
   "attachments": {},
   "cell_type": "markdown",
   "metadata": {},
   "source": [
    "It is possbile to get time series values as numpy arrays at reach start or end chainage without specifying chainage number"
   ]
  },
  {
   "cell_type": "code",
   "execution_count": null,
   "metadata": {},
   "outputs": [],
   "source": [
    "values_start = res1d_network.get_reach_start_values(\"9l1\", \"WaterLevel\")\n",
    "values_end = res1d_network.get_reach_end_values(\"9l1\", \"WaterLevel\") "
   ]
  },
  {
   "attachments": {},
   "cell_type": "markdown",
   "metadata": {},
   "source": [
    "Get time series values summed for all gridpoints in reach with given quantity, i.e. useful for getting total volume in reach. "
   ]
  },
  {
   "cell_type": "code",
   "execution_count": null,
   "metadata": {},
   "outputs": [],
   "source": [
    "values_sum = res1d_network.get_reach_sum_values(\"9l1\", \"Discharge\")"
   ]
  },
  {
   "attachments": {},
   "cell_type": "markdown",
   "metadata": {},
   "source": [
    "Create pandas time series from `values_sum` and plot"
   ]
  },
  {
   "cell_type": "code",
   "execution_count": null,
   "metadata": {},
   "outputs": [],
   "source": [
    "import pandas as pd\n",
    "pd.Series(values_sum, index = res1d_network.time_index).plot(ylabel=\"9l1: \" + \"Discharge\")"
   ]
  },
  {
   "cell_type": "code",
   "execution_count": null,
   "metadata": {},
   "outputs": [],
   "source": []
  }
 ],
 "metadata": {
  "kernelspec": {
   "display_name": "Python 3",
   "language": "python",
   "name": "python3"
  },
  "language_info": {
   "codemirror_mode": {
    "name": "ipython",
    "version": 3
   },
   "file_extension": ".py",
   "mimetype": "text/x-python",
   "name": "python",
   "nbconvert_exporter": "python",
   "pygments_lexer": "ipython3",
   "version": "3.12.1"
  }
 },
 "nbformat": 4,
 "nbformat_minor": 4
}
