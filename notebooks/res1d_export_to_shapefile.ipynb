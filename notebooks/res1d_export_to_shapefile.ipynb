{
 "cells": [
  {
   "cell_type": "markdown",
   "metadata": {},
   "source": [
    "# Export to shapefile (and other useful formats)\n",
    "MIKE IO 1D supports exporting to shapefile (and other geospatial features) via GeoPandas. To use these features, you will need to ensure GeoPandas and its dependencies are installed."
   ]
  },
  {
   "cell_type": "code",
   "execution_count": null,
   "metadata": {},
   "outputs": [],
   "source": [
    "from mikeio1d import Res1D"
   ]
  },
  {
   "cell_type": "code",
   "execution_count": null,
   "metadata": {},
   "outputs": [],
   "source": [
    "res = Res1D(\"../tests/testdata/network.res1d\")\n",
    "res"
   ]
  },
  {
   "cell_type": "markdown",
   "metadata": {},
   "source": [
    "## Read res1d file into a GeoDataFrame (static network only)"
   ]
  },
  {
   "cell_type": "code",
   "execution_count": null,
   "metadata": {},
   "outputs": [],
   "source": [
    "# Let's read the network as a geopandas dataframe.\n",
    "df = res.network.to_geopandas()\n",
    "df.head()"
   ]
  },
  {
   "cell_type": "code",
   "execution_count": null,
   "metadata": {},
   "outputs": [],
   "source": [
    "# Now let's plot the network.\n",
    "df.plot()"
   ]
  },
  {
   "cell_type": "markdown",
   "metadata": {},
   "source": [
    "## Read res1d into a GeoDataFrame (with quantities)\n",
    "\n",
    "- To include quantities, you need to go a bit deeper into the network (res.reaches instead of res.network).\n",
    "- Additionally, you need to specify how you would like to aggregate the results in time (and other dimensions like chainage)"
   ]
  },
  {
   "cell_type": "code",
   "execution_count": null,
   "metadata": {},
   "outputs": [],
   "source": [
    "# Here we read the reaches, and choose to get the maximum value of all available quantities.\n",
    "df_reaches = res.reaches.to_geopandas(agg='max')\n",
    "df_reaches.head()"
   ]
  },
  {
   "cell_type": "code",
   "execution_count": null,
   "metadata": {},
   "outputs": [],
   "source": [
    "# Similarly, we can do the same for nodes.\n",
    "df_nodes = res.nodes.to_geopandas(agg='max')\n",
    "df_nodes.head()"
   ]
  },
  {
   "cell_type": "code",
   "execution_count": null,
   "metadata": {},
   "outputs": [],
   "source": [
    "# Now let's plot the max discharge for each reach.\n",
    "df_reaches.plot(column='max_Discharge', cmap=\"RdYlGn_r\", legend=True)"
   ]
  },
  {
   "cell_type": "code",
   "execution_count": null,
   "metadata": {},
   "outputs": [],
   "source": [
    "# Similarly, we can do the same for nodes. Note we plot the reaches in the background for context.\n",
    "ax = df_reaches.plot(color=\"gray\", zorder=-1)\n",
    "df_nodes.plot(ax=ax, column='max_WaterLevel', legend=True)\n"
   ]
  },
  {
   "cell_type": "code",
   "execution_count": null,
   "metadata": {},
   "outputs": [],
   "source": [
    "# Finally, we look at a similar example but for catchments.\n",
    "res = Res1D(\"../tests/testdata/catchments.res1d\")\n",
    "df_catchments = res.catchments.to_geopandas('max')\n",
    "df_catchments.head()"
   ]
  },
  {
   "cell_type": "code",
   "execution_count": null,
   "metadata": {},
   "outputs": [],
   "source": [
    "# Let's plot the catchment runoff.\n",
    "df_catchments.plot(column='max_TotalRunOff', cmap='Blues', legend=True, alpha=0.75)"
   ]
  },
  {
   "cell_type": "markdown",
   "metadata": {},
   "source": [
    "# Interactive plotting with explore"
   ]
  },
  {
   "cell_type": "markdown",
   "metadata": {},
   "source": [
    "### Add an interactive plot directly in the notebook\n",
    "\n",
    "Note: The map does not display on GitHub. You may use https://nbviewer.org/ to properly view the notebook."
   ]
  },
  {
   "cell_type": "code",
   "execution_count": null,
   "metadata": {},
   "outputs": [],
   "source": [
    "map = df_reaches.explore(column=\"max_Discharge\", legend=True, tiles=\"cartodb positron\", tooltip=[\"name\", \"max_Discharge\"], popup=True)\n",
    "map"
   ]
  },
  {
   "cell_type": "markdown",
   "metadata": {},
   "source": [
    "### Save your interactive map into a shareable HTML file"
   ]
  },
  {
   "cell_type": "code",
   "execution_count": null,
   "metadata": {},
   "outputs": [],
   "source": [
    "map.save(\"results.html\")"
   ]
  },
  {
   "cell_type": "markdown",
   "metadata": {},
   "source": [
    "## Export to shapefile"
   ]
  },
  {
   "cell_type": "code",
   "execution_count": null,
   "metadata": {},
   "outputs": [],
   "source": [
    "# Shapefiles require all geometries to be of the same type\n",
    "df_reaches.to_file(\"reaches.shp\")\n",
    "df_nodes.to_file(\"nodes.shp\")\n",
    "df_catchments.to_file(\"catchments.shp\")"
   ]
  },
  {
   "cell_type": "markdown",
   "metadata": {},
   "source": [
    "## Clean up"
   ]
  },
  {
   "cell_type": "code",
   "execution_count": null,
   "metadata": {},
   "outputs": [],
   "source": [
    "from pathlib import Path\n",
    "\n",
    "files_to_delete = []\n",
    "for p in (\"results.html\", \"reaches*\", \"nodes*\", \"catchments*\"):\n",
    "    files_to_delete = [*files_to_delete, *Path.glob(Path.cwd(), p)]\n",
    "\n",
    "for f in files_to_delete:\n",
    "    f.unlink()"
   ]
  }
 ],
 "metadata": {
  "kernelspec": {
   "display_name": "mikeio1d",
   "language": "python",
   "name": "python3"
  },
  "language_info": {
   "codemirror_mode": {
    "name": "ipython",
    "version": 3
   },
   "file_extension": ".py",
   "mimetype": "text/x-python",
   "name": "python",
   "nbconvert_exporter": "python",
   "pygments_lexer": "ipython3",
   "version": "3.12.1"
  }
 },
 "nbformat": 4,
 "nbformat_minor": 2
}
