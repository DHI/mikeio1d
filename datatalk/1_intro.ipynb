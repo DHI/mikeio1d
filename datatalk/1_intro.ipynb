{
 "cells": [
  {
   "cell_type": "markdown",
   "metadata": {},
   "source": [
    "<img src=\"MIKE-IO-1D-Logo-Pos-RGB-nomargin.png\" alt=\"image\" width=\"600\" height=\"auto\">"
   ]
  },
  {
   "cell_type": "markdown",
   "metadata": {},
   "source": [
    "# Read, write, and analyse 1D modelling results"
   ]
  },
  {
   "attachments": {},
   "cell_type": "markdown",
   "metadata": {},
   "source": [
    "### What is MIKE IO 1D? Let's talk about what it does...\n",
    "* Reads and writes res1d and xns11 files.\n",
    "* Connects the MIKE 1D API to Python's ecosystem.\n",
    "* Integrates with libraries like Pandas, GeoPandas, and Matplotlib.\n",
    "* Enables more flexible analysis of results, as well as automation.\n",
    "* Welcomes contributions as an open-source package on GitHub."
   ]
  },
  {
   "cell_type": "markdown",
   "metadata": {},
   "source": [
    "### How does it relate to MIKE IO?\n",
    "* A sister library that use to actually be part of MIKE IO.\n",
    "* MIKE IO deals with dfs0, dfs1, dfs2, dfs3, dfsu and mesh files.\n",
    "* MIKE IO 1D deals with res1d and xns11 files."
   ]
  },
  {
   "cell_type": "markdown",
   "metadata": {},
   "source": [
    "### What's new in MIKE IO 1D?\n",
    "The last DataTalk on MIKE IO 1D was in June 2022. Since then, we've added:\n",
    "* Easy network querying with autocompletion,\n",
    "* Exporting results to GeoPandas,\n",
    "* Advanced network aggregation (e.g. max discharge along chainage),\n",
    "* Pandas MultiIndex option for cleaner DataFrames,\n",
    "* Performance improvements (much faster reading),\n",
    "* Linux support,\n",
    "* Exporting to dfs0, csv, txt files (similar to ResultDataExtract.py),\n",
    "* Modify res1d files, and\n",
    "* Merge Long Term Statistics (LTS) result files.\n",
    "* ...\n",
    "* ... and more still coming!"
   ]
  },
  {
   "cell_type": "markdown",
   "metadata": {},
   "source": [
    "### What version are we at?\n",
    "\n",
    "* As of today we're at version 0.6 (after this talk).\n",
    "* Hoping for some more user adoption before a stable 1.0.\n",
    "* If you still have 0.1 installed, please update ;)\n",
    "* ... pip install -U mikeio1d"
   ]
  }
 ],
 "metadata": {
  "kernelspec": {
   "display_name": "Python 3",
   "language": "python",
   "name": "python3"
  },
  "language_info": {
   "codemirror_mode": {
    "name": "ipython",
    "version": 3
   },
   "file_extension": ".py",
   "mimetype": "text/x-python",
   "name": "python",
   "nbconvert_exporter": "python",
   "pygments_lexer": "ipython3",
   "version": "3.10.13"
  }
 },
 "nbformat": 4,
 "nbformat_minor": 4
}
