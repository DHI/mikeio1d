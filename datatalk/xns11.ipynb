{
 "cells": [
  {
   "cell_type": "markdown",
   "metadata": {},
   "source": [
    "## mikeio1d: Read xns11 files"
   ]
  },
  {
   "cell_type": "code",
   "execution_count": null,
   "metadata": {},
   "outputs": [],
   "source": [
    "from mikeio1d import xns11\n",
    "from matplotlib import pyplot as plt\n",
    "\n",
    "plt.style.use('default')\n",
    "\n",
    "# Query the geometry of chainage 58.68 of topoid1 at reach1\n",
    "query1 = xns11.QueryData('topoid1', 'reach1', 58.68)\n",
    "\n",
    "geometry = xns11.read('data/xsections.xns11', [query1])\n",
    "geometry\n"
   ]
  },
  {
   "cell_type": "code",
   "execution_count": null,
   "metadata": {},
   "outputs": [],
   "source": [
    "plt.plot(geometry['x topoid1 reach1 58.68'], geometry['z topoid1 reach1 58.68'])\n",
    "plt.xlabel('Horizontal [meter]')\n",
    "plt.ylabel('Elevation [meter]')"
   ]
  },
  {
   "cell_type": "code",
   "execution_count": null,
   "metadata": {},
   "outputs": [],
   "source": []
  }
 ],
 "metadata": {
  "interpreter": {
   "hash": "52634da84371cba311ea128a5ea7cdc41ff074b781779e754b270ff9f8153cee"
  },
  "kernelspec": {
   "display_name": "Python 3.8.7 64-bit (system)",
   "language": "python",
   "name": "python3"
  },
  "language_info": {
   "codemirror_mode": {
    "name": "ipython",
    "version": 3
   },
   "file_extension": ".py",
   "mimetype": "text/x-python",
   "name": "python",
   "nbconvert_exporter": "python",
   "pygments_lexer": "ipython3",
   "version": "3.8.7"
  },
  "orig_nbformat": 4
 },
 "nbformat": 4,
 "nbformat_minor": 2
}
