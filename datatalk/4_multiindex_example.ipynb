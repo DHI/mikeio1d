{
 "cells": [
  {
   "cell_type": "markdown",
   "metadata": {},
   "source": [
    "# Some more advanced Pandas stuff with MultiIndex"
   ]
  },
  {
   "cell_type": "code",
   "execution_count": null,
   "metadata": {},
   "outputs": [],
   "source": [
    "# from mikeio1d import Res1D\n",
    "\n",
    "# res = Res1D('./data/BlueBeach_network.res1d')\n",
    "# res"
   ]
  },
  {
   "cell_type": "code",
   "execution_count": null,
   "metadata": {},
   "outputs": [],
   "source": [
    "# To use MultiIndex feature, you need to specify the column_mode on read().\n",
    "\n",
    "# df = res.reaches.read(column_mode='compact')\n",
    "# df.head(5)"
   ]
  },
  {
   "cell_type": "code",
   "execution_count": null,
   "metadata": {},
   "outputs": [],
   "source": [
    "# Build multiline statements, with queries, and aggregation along chainage.\n",
    "\n",
    "# (\n",
    "#    res.read(column_mode='compact')\n",
    "#    .m1d.query(\"name == 'River' and quantity == 'WaterLevel'\")\n",
    "#    .T.droplevel('tag').T\n",
    "#    .m1d.groupby_chainage().nth(0)\n",
    "# )"
   ]
  },
  {
   "cell_type": "code",
   "execution_count": null,
   "metadata": {},
   "outputs": [],
   "source": [
    "# How could we show a 'maximum' profile?\n",
    "# (\n",
    "#    res.read(column_mode='compact')\n",
    "#    .m1d.query(\"name == 'River' and quantity == 'Discharge'\")\n",
    "#    .agg(['max']).T\n",
    "#    .droplevel(['quantity','group','name','tag'])\n",
    "#    .plot()\n",
    "# )"
   ]
  }
 ],
 "metadata": {
  "kernelspec": {
   "display_name": "Python 3",
   "language": "python",
   "name": "python3"
  },
  "language_info": {
   "codemirror_mode": {
    "name": "ipython",
    "version": 3
   },
   "file_extension": ".py",
   "mimetype": "text/x-python",
   "name": "python",
   "nbconvert_exporter": "python",
   "pygments_lexer": "ipython3",
   "version": "3.10.13"
  }
 },
 "nbformat": 4,
 "nbformat_minor": 2
}
