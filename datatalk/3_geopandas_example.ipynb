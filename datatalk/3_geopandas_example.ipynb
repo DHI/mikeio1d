{
 "cells": [
  {
   "cell_type": "markdown",
   "metadata": {},
   "source": [
    "# Export Res1D to GeoPandas"
   ]
  },
  {
   "cell_type": "code",
   "execution_count": null,
   "metadata": {},
   "outputs": [],
   "source": [
    "# Open the network file again.\n",
    "\n",
    "# from mikeio1d import Res1D\n",
    "\n",
    "# res = Res1D('./data/BlueBeach_network.res1d')\n",
    "# res"
   ]
  },
  {
   "cell_type": "code",
   "execution_count": null,
   "metadata": {},
   "outputs": [],
   "source": [
    "# Let's plot the emtpy network (i.e. no quantities)\n",
    "# Requires GeoPandas installed manually ('pip install geopandas')\n",
    "\n",
    "# res.reaches.to_geopandas()\n",
    "# res.reaches.to_geopandas(segmented=False)\n",
    "# res.reaches.to_geopandas().plot()\n",
    "# res.nodes.to_geopandas().plot()\n",
    "# res.network.to_geopandas().plot()"
   ]
  },
  {
   "cell_type": "code",
   "execution_count": null,
   "metadata": {},
   "outputs": [],
   "source": [
    "# Now to add some quantities. We need to specify the aggregation we want.\n",
    "\n",
    "# res.reaches.to_geopandas(agg=\"max\")\n",
    "# res.reaches.to_geopandas(agg=\"min\")\n",
    "# res.reaches.to_geopandas(agg=\"std\")"
   ]
  },
  {
   "cell_type": "code",
   "execution_count": null,
   "metadata": {},
   "outputs": [],
   "source": [
    "# Make a simple plot of the maximum discharge.\n",
    "\n",
    "# gdf = res.reaches.to_geopandas(\"max\")\n",
    "# gdf.plot(\"max_Discharge\", legend=True)"
   ]
  },
  {
   "cell_type": "code",
   "execution_count": null,
   "metadata": {},
   "outputs": [],
   "source": [
    "# Export to shapefile, then go use it in QGIS or something.\n",
    "\n",
    "# gdf.to_file(\"max_discharge_reaches.shp\")"
   ]
  },
  {
   "cell_type": "code",
   "execution_count": null,
   "metadata": {},
   "outputs": [],
   "source": [
    "# Explore the network from within the notebook (requires some extra manual installs - see GeoPandas docs)\n",
    "\n",
    "# gdf = res.reaches.to_geopandas(agg=\"max\")\n",
    "# gdf.explore(tiles=\"cartodb positron\")\n",
    "# gdf.explore(tiles=\"cartodb positron\", column=\"max_Discharge\")\n",
    "# gdf.explore(tiles=\"cartodb positron\", column=\"max_Discharge\", vmax=0.5)"
   ]
  },
  {
   "cell_type": "code",
   "execution_count": null,
   "metadata": {},
   "outputs": [],
   "source": [
    "# Similarly, it also works for catchments.\n",
    "\n",
    "# res = Res1D('./data/BlueBeach_runoff.res1d')\n",
    "# gdf = res.catchments.to_geopandas(\"max\")\n",
    "# gdf.explore(tiles=\"cartodb positron\", column=\"max_TotalRunOff\")"
   ]
  },
  {
   "cell_type": "code",
   "execution_count": null,
   "metadata": {},
   "outputs": [],
   "source": [
    "# Export some map to html for the client or a meeting or whatever.\n",
    "\n",
    "# map = gdf.explore(tiles=\"cartodb positron\", column=\"max_TotalRunOff\")\n",
    "# map.save(\"to_client.html\")"
   ]
  }
 ],
 "metadata": {
  "kernelspec": {
   "display_name": "Python 3",
   "language": "python",
   "name": "python3"
  },
  "language_info": {
   "codemirror_mode": {
    "name": "ipython",
    "version": 3
   },
   "file_extension": ".py",
   "mimetype": "text/x-python",
   "name": "python",
   "nbconvert_exporter": "python",
   "pygments_lexer": "ipython3",
   "version": "3.10.13"
  }
 },
 "nbformat": 4,
 "nbformat_minor": 2
}
