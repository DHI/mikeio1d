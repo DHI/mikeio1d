{
 "cells": [
  {
   "cell_type": "markdown",
   "metadata": {},
   "source": [
    "<img src=\"MIKE-IO-1D-Logo-Pos-RGB-nomargin.png\" alt=\"image\" width=\"600\" height=\"auto\">"
   ]
  },
  {
   "cell_type": "markdown",
   "metadata": {},
   "source": [
    "# Analyse 1D modelling results in Python"
   ]
  },
  {
   "attachments": {},
   "cell_type": "markdown",
   "metadata": {},
   "source": [
    "What is MIKE IO 1D for:\n",
    "* Connects MIKE 1D API to Python ecosystem\n",
    "* Integrates with pandas, geopandas, matplotlib\n",
    "* Aims to make common modeller workflows easier\n",
    "* Enables more flexible analysis of results"
   ]
  },
  {
   "cell_type": "markdown",
   "metadata": {},
   "source": [
    "<br></br>\n",
    "<br></br>\n",
    "<br></br>\n",
    "<br></br>\n",
    "<br></br>\n",
    "<br></br>\n",
    "<br></br>\n",
    "<br></br>\n",
    "<br></br>\n",
    "<br></br>\n",
    "<br></br>\n",
    "<br></br>"
   ]
  },
  {
   "cell_type": "markdown",
   "metadata": {},
   "source": [
    "Updates since 2022-06:\n",
    "* Easy time series querying using autocompletion\n",
    "* Export to geopandas\n",
    "* Result aggregation (avg, max, min)\n",
    "* Support for hierarchical pandas indexing (MultiIndex)\n",
    "* Performance improvements\n",
    "* Linux support\n",
    "* Export to dfs0, csv, txt files (similarly as ResultDataExtract.py)\n",
    "* Modify res1d files\n",
    "* Merge Long Term Statistics (LTS) result files\n",
    "* ...\n",
    "* but still a lot of changes coming, so no stable version 1.0"
   ]
  },
  {
   "cell_type": "markdown",
   "metadata": {},
   "source": [
    "## User feedback needed: what works and what does not?"
   ]
  },
  {
   "cell_type": "markdown",
   "metadata": {},
   "source": [
    "<br></br>\n",
    "<br></br>\n",
    "<br></br>\n",
    "<br></br>\n",
    "<br></br>\n",
    "<br></br>\n",
    "<br></br>\n",
    "<br></br>\n",
    "<br></br>\n",
    "<br></br>\n",
    "<br></br>\n",
    "<br></br>"
   ]
  },
  {
   "attachments": {},
   "cell_type": "markdown",
   "metadata": {},
   "source": [
    "## Reading res1d files"
   ]
  },
  {
   "cell_type": "code",
   "execution_count": 1,
   "metadata": {},
   "outputs": [],
   "source": [
    "from mikeio1d import Res1D"
   ]
  },
  {
   "cell_type": "code",
   "execution_count": 2,
   "metadata": {},
   "outputs": [],
   "source": [
    "from matplotlib import pyplot as plt\n",
    "plt.style.use('default')"
   ]
  },
  {
   "attachments": {},
   "cell_type": "markdown",
   "metadata": {},
   "source": [
    "Load network result file into mikeio1d Res1D object and print basic information about the file:"
   ]
  },
  {
   "cell_type": "code",
   "execution_count": 15,
   "metadata": {},
   "outputs": [
    {
     "name": "stdout",
     "output_type": "stream",
     "text": [
      "Start time: 1994-08-07 16:35:00\n",
      "End time: 1994-08-07 18:35:00\n",
      "# Timesteps: 110\n",
      "# Catchments: 0\n",
      "# Nodes: 119\n",
      "# Reaches: 118\n",
      "# Globals: 0\n",
      "0 - WaterLevel <m>\n",
      "1 - Discharge <m^3/s>\n"
     ]
    }
   ],
   "source": [
    "file_path_network = './data/Network.res1d'\n",
    "res1d_network = Res1D(file_path_network)\n",
    "res1d_network.info()"
   ]
  },
  {
   "attachments": {},
   "cell_type": "markdown",
   "metadata": {},
   "source": [
    "Let's read the entire network res1d file time series data into a data frame and show just the first time steps:"
   ]
  },
  {
   "cell_type": "code",
   "execution_count": 16,
   "metadata": {},
   "outputs": [
    {
     "data": {
      "text/html": [
       "<div>\n",
       "<style scoped>\n",
       "    .dataframe tbody tr th:only-of-type {\n",
       "        vertical-align: middle;\n",
       "    }\n",
       "\n",
       "    .dataframe tbody tr th {\n",
       "        vertical-align: top;\n",
       "    }\n",
       "\n",
       "    .dataframe thead th {\n",
       "        text-align: right;\n",
       "    }\n",
       "</style>\n",
       "<table border=\"1\" class=\"dataframe\">\n",
       "  <thead>\n",
       "    <tr style=\"text-align: right;\">\n",
       "      <th></th>\n",
       "      <th>WaterLevel:1</th>\n",
       "      <th>WaterLevel:2</th>\n",
       "      <th>WaterLevel:3</th>\n",
       "      <th>WaterLevel:4</th>\n",
       "      <th>WaterLevel:5</th>\n",
       "      <th>WaterLevel:6</th>\n",
       "      <th>WaterLevel:7</th>\n",
       "      <th>WaterLevel:8</th>\n",
       "      <th>WaterLevel:9</th>\n",
       "      <th>WaterLevel:10</th>\n",
       "      <th>...</th>\n",
       "      <th>Discharge:99l1:22.2508</th>\n",
       "      <th>WaterLevel:9l1:0</th>\n",
       "      <th>WaterLevel:9l1:10</th>\n",
       "      <th>Discharge:9l1:5</th>\n",
       "      <th>WaterLevel:Weir:119w1:0</th>\n",
       "      <th>WaterLevel:Weir:119w1:1</th>\n",
       "      <th>Discharge:Weir:119w1:0.5</th>\n",
       "      <th>WaterLevel:Pump:115p1:0</th>\n",
       "      <th>WaterLevel:Pump:115p1:82.4281</th>\n",
       "      <th>Discharge:Pump:115p1:41.214</th>\n",
       "    </tr>\n",
       "  </thead>\n",
       "  <tbody>\n",
       "    <tr>\n",
       "      <th>1994-08-07 16:35:00.000</th>\n",
       "      <td>195.052994</td>\n",
       "      <td>195.821503</td>\n",
       "      <td>195.8815</td>\n",
       "      <td>193.604996</td>\n",
       "      <td>193.615005</td>\n",
       "      <td>193.625000</td>\n",
       "      <td>193.675003</td>\n",
       "      <td>193.764999</td>\n",
       "      <td>193.774994</td>\n",
       "      <td>193.804993</td>\n",
       "      <td>...</td>\n",
       "      <td>0.000002</td>\n",
       "      <td>193.774994</td>\n",
       "      <td>193.764999</td>\n",
       "      <td>0.000031</td>\n",
       "      <td>193.550003</td>\n",
       "      <td>188.479996</td>\n",
       "      <td>0.0</td>\n",
       "      <td>193.304993</td>\n",
       "      <td>195.005005</td>\n",
       "      <td>0.0</td>\n",
       "    </tr>\n",
       "    <tr>\n",
       "      <th>1994-08-07 16:36:01.870</th>\n",
       "      <td>195.052994</td>\n",
       "      <td>195.821701</td>\n",
       "      <td>195.8815</td>\n",
       "      <td>193.604996</td>\n",
       "      <td>193.615005</td>\n",
       "      <td>193.625320</td>\n",
       "      <td>193.675110</td>\n",
       "      <td>193.765060</td>\n",
       "      <td>193.775116</td>\n",
       "      <td>193.804993</td>\n",
       "      <td>...</td>\n",
       "      <td>0.000002</td>\n",
       "      <td>193.775070</td>\n",
       "      <td>193.765060</td>\n",
       "      <td>0.000031</td>\n",
       "      <td>193.550003</td>\n",
       "      <td>188.479996</td>\n",
       "      <td>0.0</td>\n",
       "      <td>193.306061</td>\n",
       "      <td>195.005005</td>\n",
       "      <td>0.0</td>\n",
       "    </tr>\n",
       "    <tr>\n",
       "      <th>1994-08-07 16:37:07.560</th>\n",
       "      <td>195.052994</td>\n",
       "      <td>195.821640</td>\n",
       "      <td>195.8815</td>\n",
       "      <td>193.604996</td>\n",
       "      <td>193.615005</td>\n",
       "      <td>193.625671</td>\n",
       "      <td>193.675369</td>\n",
       "      <td>193.765106</td>\n",
       "      <td>193.775513</td>\n",
       "      <td>193.804993</td>\n",
       "      <td>...</td>\n",
       "      <td>0.000002</td>\n",
       "      <td>193.775391</td>\n",
       "      <td>193.765106</td>\n",
       "      <td>0.000033</td>\n",
       "      <td>193.550034</td>\n",
       "      <td>188.479996</td>\n",
       "      <td>0.0</td>\n",
       "      <td>193.307144</td>\n",
       "      <td>195.005005</td>\n",
       "      <td>0.0</td>\n",
       "    </tr>\n",
       "    <tr>\n",
       "      <th>1994-08-07 16:38:55.828</th>\n",
       "      <td>195.052994</td>\n",
       "      <td>195.821503</td>\n",
       "      <td>195.8815</td>\n",
       "      <td>193.604996</td>\n",
       "      <td>193.615005</td>\n",
       "      <td>193.626236</td>\n",
       "      <td>193.675751</td>\n",
       "      <td>193.765228</td>\n",
       "      <td>193.776077</td>\n",
       "      <td>193.804993</td>\n",
       "      <td>...</td>\n",
       "      <td>0.000002</td>\n",
       "      <td>193.775894</td>\n",
       "      <td>193.765228</td>\n",
       "      <td>0.000037</td>\n",
       "      <td>193.550079</td>\n",
       "      <td>188.479996</td>\n",
       "      <td>0.0</td>\n",
       "      <td>193.308884</td>\n",
       "      <td>195.005005</td>\n",
       "      <td>0.0</td>\n",
       "    </tr>\n",
       "    <tr>\n",
       "      <th>1994-08-07 16:39:55.828</th>\n",
       "      <td>195.052994</td>\n",
       "      <td>195.821503</td>\n",
       "      <td>195.8815</td>\n",
       "      <td>193.604996</td>\n",
       "      <td>193.615005</td>\n",
       "      <td>193.626556</td>\n",
       "      <td>193.675949</td>\n",
       "      <td>193.765335</td>\n",
       "      <td>193.776352</td>\n",
       "      <td>193.804993</td>\n",
       "      <td>...</td>\n",
       "      <td>0.000002</td>\n",
       "      <td>193.776154</td>\n",
       "      <td>193.765335</td>\n",
       "      <td>0.000039</td>\n",
       "      <td>193.550095</td>\n",
       "      <td>188.479996</td>\n",
       "      <td>0.0</td>\n",
       "      <td>193.309860</td>\n",
       "      <td>195.005005</td>\n",
       "      <td>0.0</td>\n",
       "    </tr>\n",
       "  </tbody>\n",
       "</table>\n",
       "<p>5 rows × 495 columns</p>\n",
       "</div>"
      ],
      "text/plain": [
       "                         WaterLevel:1  WaterLevel:2  WaterLevel:3  \\\n",
       "1994-08-07 16:35:00.000    195.052994    195.821503      195.8815   \n",
       "1994-08-07 16:36:01.870    195.052994    195.821701      195.8815   \n",
       "1994-08-07 16:37:07.560    195.052994    195.821640      195.8815   \n",
       "1994-08-07 16:38:55.828    195.052994    195.821503      195.8815   \n",
       "1994-08-07 16:39:55.828    195.052994    195.821503      195.8815   \n",
       "\n",
       "                         WaterLevel:4  WaterLevel:5  WaterLevel:6  \\\n",
       "1994-08-07 16:35:00.000    193.604996    193.615005    193.625000   \n",
       "1994-08-07 16:36:01.870    193.604996    193.615005    193.625320   \n",
       "1994-08-07 16:37:07.560    193.604996    193.615005    193.625671   \n",
       "1994-08-07 16:38:55.828    193.604996    193.615005    193.626236   \n",
       "1994-08-07 16:39:55.828    193.604996    193.615005    193.626556   \n",
       "\n",
       "                         WaterLevel:7  WaterLevel:8  WaterLevel:9  \\\n",
       "1994-08-07 16:35:00.000    193.675003    193.764999    193.774994   \n",
       "1994-08-07 16:36:01.870    193.675110    193.765060    193.775116   \n",
       "1994-08-07 16:37:07.560    193.675369    193.765106    193.775513   \n",
       "1994-08-07 16:38:55.828    193.675751    193.765228    193.776077   \n",
       "1994-08-07 16:39:55.828    193.675949    193.765335    193.776352   \n",
       "\n",
       "                         WaterLevel:10  ...  Discharge:99l1:22.2508  \\\n",
       "1994-08-07 16:35:00.000     193.804993  ...                0.000002   \n",
       "1994-08-07 16:36:01.870     193.804993  ...                0.000002   \n",
       "1994-08-07 16:37:07.560     193.804993  ...                0.000002   \n",
       "1994-08-07 16:38:55.828     193.804993  ...                0.000002   \n",
       "1994-08-07 16:39:55.828     193.804993  ...                0.000002   \n",
       "\n",
       "                         WaterLevel:9l1:0  WaterLevel:9l1:10  Discharge:9l1:5  \\\n",
       "1994-08-07 16:35:00.000        193.774994         193.764999         0.000031   \n",
       "1994-08-07 16:36:01.870        193.775070         193.765060         0.000031   \n",
       "1994-08-07 16:37:07.560        193.775391         193.765106         0.000033   \n",
       "1994-08-07 16:38:55.828        193.775894         193.765228         0.000037   \n",
       "1994-08-07 16:39:55.828        193.776154         193.765335         0.000039   \n",
       "\n",
       "                         WaterLevel:Weir:119w1:0  WaterLevel:Weir:119w1:1  \\\n",
       "1994-08-07 16:35:00.000               193.550003               188.479996   \n",
       "1994-08-07 16:36:01.870               193.550003               188.479996   \n",
       "1994-08-07 16:37:07.560               193.550034               188.479996   \n",
       "1994-08-07 16:38:55.828               193.550079               188.479996   \n",
       "1994-08-07 16:39:55.828               193.550095               188.479996   \n",
       "\n",
       "                         Discharge:Weir:119w1:0.5  WaterLevel:Pump:115p1:0  \\\n",
       "1994-08-07 16:35:00.000                       0.0               193.304993   \n",
       "1994-08-07 16:36:01.870                       0.0               193.306061   \n",
       "1994-08-07 16:37:07.560                       0.0               193.307144   \n",
       "1994-08-07 16:38:55.828                       0.0               193.308884   \n",
       "1994-08-07 16:39:55.828                       0.0               193.309860   \n",
       "\n",
       "                         WaterLevel:Pump:115p1:82.4281  \\\n",
       "1994-08-07 16:35:00.000                     195.005005   \n",
       "1994-08-07 16:36:01.870                     195.005005   \n",
       "1994-08-07 16:37:07.560                     195.005005   \n",
       "1994-08-07 16:38:55.828                     195.005005   \n",
       "1994-08-07 16:39:55.828                     195.005005   \n",
       "\n",
       "                         Discharge:Pump:115p1:41.214  \n",
       "1994-08-07 16:35:00.000                          0.0  \n",
       "1994-08-07 16:36:01.870                          0.0  \n",
       "1994-08-07 16:37:07.560                          0.0  \n",
       "1994-08-07 16:38:55.828                          0.0  \n",
       "1994-08-07 16:39:55.828                          0.0  \n",
       "\n",
       "[5 rows x 495 columns]"
      ]
     },
     "execution_count": 16,
     "metadata": {},
     "output_type": "execute_result"
    }
   ],
   "source": [
    "df_network = res1d_network.read_all()\n",
    "df_network.head()"
   ]
  },
  {
   "attachments": {},
   "cell_type": "markdown",
   "metadata": {},
   "source": [
    "To retrieve water level in the link **l100l1** (the upstream **chainage=0** and the downstream **chainage=47.6827**) can be retrieved and plotted as:"
   ]
  },
  {
   "cell_type": "code",
   "execution_count": null,
   "metadata": {},
   "outputs": [],
   "source": [
    "df_network[['WaterLevel:100l1:0','WaterLevel:100l1:47.6827']]"
   ]
  },
  {
   "cell_type": "code",
   "execution_count": null,
   "metadata": {},
   "outputs": [],
   "source": [
    "df_network[['WaterLevel:100l1:0','WaterLevel:100l1:47.6827']].plot()"
   ]
  },
  {
   "attachments": {},
   "cell_type": "markdown",
   "metadata": {},
   "source": [
    "<br></br>\n",
    "<br></br>\n",
    "<br></br>\n",
    "<br></br>\n",
    "<br></br>\n",
    "<br></br>\n",
    "<br></br>\n",
    "<br></br>\n",
    "<br></br>\n",
    "<br></br>\n",
    "<br></br>\n",
    "<br></br>"
   ]
  },
  {
   "attachments": {},
   "cell_type": "markdown",
   "metadata": {},
   "source": [
    "## Catchment result file"
   ]
  },
  {
   "attachments": {},
   "cell_type": "markdown",
   "metadata": {},
   "source": [
    "Load network result file into mikeio1d Res1D object and print basic information about the file:"
   ]
  },
  {
   "cell_type": "code",
   "execution_count": null,
   "metadata": {},
   "outputs": [],
   "source": [
    "file_path_catchments = './data/Catchments.res1d'\n",
    "res1d_catchments = Res1D(file_path_catchments)\n",
    "res1d_catchments"
   ]
  },
  {
   "cell_type": "markdown",
   "metadata": {},
   "source": [
    "Let's read the entire network res1d file time series data into a data frame and show just the first time steps:"
   ]
  },
  {
   "cell_type": "code",
   "execution_count": null,
   "metadata": {},
   "outputs": [],
   "source": [
    "df_catchments = res1d_catchments.read_all()\n",
    "df_catchments.head()"
   ]
  },
  {
   "attachments": {},
   "cell_type": "markdown",
   "metadata": {},
   "source": [
    "<br></br>\n",
    "<br></br>\n",
    "<br></br>\n",
    "<br></br>\n",
    "<br></br>\n",
    "<br></br>\n",
    "<br></br>\n",
    "<br></br>\n",
    "<br></br>\n",
    "<br></br>\n",
    "<br></br>\n",
    "<br></br>"
   ]
  },
  {
   "attachments": {},
   "cell_type": "markdown",
   "metadata": {},
   "source": [
    "## Access quantity and network/catchment information"
   ]
  },
  {
   "attachments": {},
   "cell_type": "markdown",
   "metadata": {},
   "source": [
    "List quantities found in a network and catchment res1d files as a list of strings:"
   ]
  },
  {
   "cell_type": "code",
   "execution_count": null,
   "metadata": {},
   "outputs": [],
   "source": [
    "res1d_network.quantities"
   ]
  },
  {
   "cell_type": "code",
   "execution_count": null,
   "metadata": {},
   "outputs": [],
   "source": [
    "res1d_catchments.quantities"
   ]
  },
  {
   "attachments": {},
   "cell_type": "markdown",
   "metadata": {},
   "source": [
    "List nodes/reaches in a file as dictionaries from node/reach id to an object representing the node/reach:"
   ]
  },
  {
   "cell_type": "code",
   "execution_count": null,
   "metadata": {},
   "outputs": [],
   "source": [
    "res1d_network.nodes"
   ]
  },
  {
   "cell_type": "code",
   "execution_count": null,
   "metadata": {},
   "outputs": [],
   "source": [
    "res1d_network.reaches"
   ]
  },
  {
   "attachments": {},
   "cell_type": "markdown",
   "metadata": {},
   "source": [
    "List catchments in a file as dictionaries from catchment id to an object representing the catchment:"
   ]
  },
  {
   "cell_type": "code",
   "execution_count": null,
   "metadata": {},
   "outputs": [],
   "source": [
    "res1d_catchments.catchments"
   ]
  },
  {
   "attachments": {},
   "cell_type": "markdown",
   "metadata": {},
   "source": [
    "<br></br>\n",
    "<br></br>\n",
    "<br></br>\n",
    "<br></br>\n",
    "<br></br>\n",
    "<br></br>\n",
    "<br></br>\n",
    "<br></br>\n",
    "<br></br>\n",
    "<br></br>\n",
    "<br></br>\n",
    "<br></br>"
   ]
  },
  {
   "attachments": {},
   "cell_type": "markdown",
   "metadata": {},
   "source": [
    "## Query specific time series using query classes"
   ]
  },
  {
   "attachments": {},
   "cell_type": "markdown",
   "metadata": {},
   "source": [
    "In mikeio1d it is possible to load specific time series data using queries. Currently there are the following query classes:\n",
    "* `QueryDataCatchment`\n",
    "* `QueryDataNode`\n",
    "* `QueryDataReach`\n",
    "* `QueryDataStructure`\n",
    "* `QueryDataGlobal`"
   ]
  },
  {
   "cell_type": "code",
   "execution_count": null,
   "metadata": {},
   "outputs": [],
   "source": [
    "from mikeio1d.res1d import QueryDataNode, QueryDataReach, QueryDataCatchment"
   ]
  },
  {
   "cell_type": "code",
   "execution_count": null,
   "metadata": {},
   "outputs": [],
   "source": [
    "# Read a specific reach\n",
    "query1 = QueryDataNode('WaterLevel', '1')\n",
    "\n",
    "# Read a specific reach and chainage\n",
    "query2 = QueryDataReach('WaterLevel', '104l1', 34.4131)\n",
    "\n",
    "# Combine queries to extract in one go\n",
    "queries_network = [query1, query2]"
   ]
  },
  {
   "cell_type": "code",
   "execution_count": null,
   "metadata": {},
   "outputs": [],
   "source": [
    "df_network_query = res1d_network.read(queries_network)\n",
    "df_network_query.plot()"
   ]
  },
  {
   "cell_type": "code",
   "execution_count": null,
   "metadata": {},
   "outputs": [],
   "source": [
    "# Read a specific catchment\n",
    "query1 = QueryDataCatchment('TotalRunOff', '100_16_16')\n",
    "\n",
    "# Read another specific catchment\n",
    "query2 = QueryDataCatchment('TotalRunOff', '105_1_1')\n",
    "\n",
    "# Combine queries to extract in one go\n",
    "queries_catchments = [query1, query2]"
   ]
  },
  {
   "cell_type": "code",
   "execution_count": null,
   "metadata": {},
   "outputs": [],
   "source": [
    "df_catchments_query = res1d_catchments.read(queries_catchments)\n",
    "df_catchments_query.plot()"
   ]
  },
  {
   "attachments": {},
   "cell_type": "markdown",
   "metadata": {},
   "source": [
    "<br></br>\n",
    "<br></br>\n",
    "<br></br>\n",
    "<br></br>\n",
    "<br></br>\n",
    "<br></br>\n",
    "<br></br>\n",
    "<br></br>\n",
    "<br></br>\n",
    "<br></br>\n",
    "<br></br>\n",
    "<br></br>"
   ]
  },
  {
   "attachments": {},
   "cell_type": "markdown",
   "metadata": {},
   "source": [
    "## Querying specific time series using auto-completion"
   ]
  },
  {
   "attachments": {},
   "cell_type": "markdown",
   "metadata": {},
   "source": [
    "It is possible to query data with auto-completion using the following properties of the Res1D object:\n",
    "* `catchments`\n",
    "* `nodes`\n",
    "* `reaches`\n",
    "* `structures`\n",
    "* `global_data`"
   ]
  },
  {
   "attachments": {},
   "cell_type": "markdown",
   "metadata": {},
   "source": [
    "The variable name generated for auto-completion will have a particular string appended if the location id starts with a number or other special character not supported in Python variable names.\n",
    "The appended strings are:\n",
    "* catchments : `c_`\n",
    "* nodes: `n_`\n",
    "* reaches: `r_`\n",
    "* structures: `s_`\n",
    "* global data: `g_`\n",
    "* chainages: `m_`"
   ]
  },
  {
   "attachments": {},
   "cell_type": "markdown",
   "metadata": {},
   "source": [
    "Here is an example to query water level on the reach **100l1** (chainages **m=0**, **m=47.6827**) and node **100**"
   ]
  },
  {
   "cell_type": "code",
   "execution_count": null,
   "metadata": {},
   "outputs": [],
   "source": [
    "# Assign aliases for reaches and nodes\n",
    "reaches = res1d_network.reaches\n",
    "nodes = res1d_network.nodes\n",
    "\n",
    "# Add to to current active queries\n",
    "reaches.r_100l1.m_0.WaterLevel.add()\n",
    "reaches.r_100l1.m_47_6827.WaterLevel.add()\n",
    "nodes.n_100.WaterLevel.add()\n",
    "\n",
    "# Read the current active query\n",
    "df_network_query = res1d_network.read()\n",
    "df_network_query.plot()"
   ]
  },
  {
   "cell_type": "code",
   "execution_count": null,
   "metadata": {},
   "outputs": [],
   "source": [
    "# Assign alias for catchments\n",
    "catchments = res1d_catchments.catchments\n",
    "\n",
    "# Add to to current active queries\n",
    "catchments.c_100_16_16.TotalRunOff.add()\n",
    "catchments.c_105_1_1.TotalRunOff.add()\n",
    "\n",
    "# Read the current active query\n",
    "df_catchments_query = res1d_catchments.read()\n",
    "df_catchments_query.plot()"
   ]
  },
  {
   "attachments": {},
   "cell_type": "markdown",
   "metadata": {},
   "source": [
    "<br></br>\n",
    "<br></br>\n",
    "<br></br>\n",
    "<br></br>\n",
    "<br></br>\n",
    "<br></br>\n",
    "<br></br>\n",
    "<br></br>\n",
    "<br></br>\n",
    "<br></br>\n",
    "<br></br>\n",
    "<br></br>"
   ]
  },
  {
   "attachments": {},
   "cell_type": "markdown",
   "metadata": {},
   "source": [
    "## Filtered reading of the result files"
   ]
  },
  {
   "attachments": {},
   "cell_type": "markdown",
   "metadata": {},
   "source": [
    "It is possible to load a res1d file in a filtered way, that only specified locations are loaded into memory. Let's load nodes **1**, **2**, **3**, and reach **99l1**."
   ]
  },
  {
   "cell_type": "code",
   "execution_count": null,
   "metadata": {},
   "outputs": [],
   "source": [
    "file_path_network = './data/Network.res1d'\n",
    "res1d_network_filtered = Res1D(file_path_network, nodes=['1', '2', '3'], reaches=['99l1'])\n",
    "df_network_filtered = res1d_network_filtered.read_all()\n",
    "df_network_filtered"
   ]
  },
  {
   "attachments": {},
   "cell_type": "markdown",
   "metadata": {},
   "source": [
    "Similarly for catchments. Let's load data for catchment **100_16_16**."
   ]
  },
  {
   "cell_type": "code",
   "execution_count": null,
   "metadata": {},
   "outputs": [],
   "source": [
    "file_path_catchments = './data/Catchments.res1d'\n",
    "res1d_catchments_filtered = Res1D(file_path_catchments, catchments=['100_16_16'])\n",
    "df_catchments_filtered = res1d_catchments_filtered.read_all()\n",
    "df_catchments_filtered"
   ]
  },
  {
   "attachments": {},
   "cell_type": "markdown",
   "metadata": {},
   "source": [
    "<br></br>\n",
    "<br></br>\n",
    "<br></br>\n",
    "<br></br>\n",
    "<br></br>\n",
    "<br></br>\n",
    "<br></br>\n",
    "<br></br>\n",
    "<br></br>\n",
    "<br></br>\n",
    "<br></br>\n",
    "<br></br>"
   ]
  },
  {
   "attachments": {},
   "cell_type": "markdown",
   "metadata": {},
   "source": [
    "## Modifying a res1d file"
   ]
  },
  {
   "attachments": {},
   "cell_type": "markdown",
   "metadata": {},
   "source": [
    "Here we will show how to modify a res1d file. Such functionality is useful for modifications of a hotstart file."
   ]
  },
  {
   "cell_type": "code",
   "execution_count": null,
   "metadata": {},
   "outputs": [],
   "source": [
    "file_path_network = './data/Network.res1d'\n",
    "res1d_network_mod = Res1D(file_path_network)"
   ]
  },
  {
   "attachments": {},
   "cell_type": "markdown",
   "metadata": {},
   "source": [
    "Let's load all node water level time series:"
   ]
  },
  {
   "cell_type": "code",
   "execution_count": null,
   "metadata": {},
   "outputs": [],
   "source": [
    "res1d_network_mod.nodes.WaterLevel.add()\n",
    "df_network_mod = res1d_network_mod.read()\n",
    "print('Current maximum water level: ', df_network_mod.max().max())"
   ]
  },
  {
   "attachments": {},
   "cell_type": "markdown",
   "metadata": {},
   "source": [
    "Multiply the water level data by a factor of 2 and write it to a new file"
   ]
  },
  {
   "cell_type": "code",
   "execution_count": null,
   "metadata": {},
   "outputs": [],
   "source": [
    "df_network_mod = df_network_mod.multiply(2.0)\n",
    "file_path_new = file_path_network.replace('Network.res1d', 'NetworkFactorTwo.res1d')\n",
    "res1d_network_mod.modify(df_network_mod, file_path=file_path_new)"
   ]
  },
  {
   "attachments": {},
   "cell_type": "markdown",
   "metadata": {},
   "source": [
    "Load the data again into a data frame"
   ]
  },
  {
   "cell_type": "code",
   "execution_count": null,
   "metadata": {},
   "outputs": [],
   "source": [
    "res1d_network_mod.nodes.WaterLevel.add()\n",
    "df_network_mod = res1d_network_mod.read()\n",
    "print('Current maximum water level: ', df_network_mod.max().max())"
   ]
  },
  {
   "attachments": {},
   "cell_type": "markdown",
   "metadata": {},
   "source": [
    "Load the newly written file"
   ]
  },
  {
   "cell_type": "code",
   "execution_count": null,
   "metadata": {},
   "outputs": [],
   "source": [
    "print('New file path:', file_path_new)\n",
    "res1d_network_new = Res1D(file_path_new)\n",
    "res1d_network_new.nodes.WaterLevel.add()\n",
    "df_network_new = res1d_network_new.read()\n",
    "print('Current maximum water level:', df_network_new.max().max())"
   ]
  },
  {
   "attachments": {},
   "cell_type": "markdown",
   "metadata": {},
   "source": [
    "<br></br>\n",
    "<br></br>\n",
    "<br></br>\n",
    "<br></br>\n",
    "<br></br>\n",
    "<br></br>\n",
    "<br></br>\n",
    "<br></br>\n",
    "<br></br>\n",
    "<br></br>\n",
    "<br></br>\n",
    "<br></br>"
   ]
  },
  {
   "attachments": {},
   "cell_type": "markdown",
   "metadata": {},
   "source": [
    "## Extracting time series data to dfs0 file"
   ]
  },
  {
   "attachments": {},
   "cell_type": "markdown",
   "metadata": {},
   "source": [
    "It is possible to extract the res1d time series data to a dfs0 file. The idea is again to create queries, which are used to pick which time series to extract. Let's extract all node water level:"
   ]
  },
  {
   "cell_type": "code",
   "execution_count": null,
   "metadata": {},
   "outputs": [],
   "source": [
    "res1d_network.nodes.WaterLevel.add()\n",
    "file_path_dfs0 = file_path_network.replace('Network.res1d', 'NetworkNodeWaterLevel.dfs0')\n",
    "res1d_network.to_dfs0(file_path=file_path_dfs0)"
   ]
  }
 ],
 "metadata": {
  "kernelspec": {
   "display_name": "Python 3",
   "language": "python",
   "name": "python3"
  },
  "language_info": {
   "codemirror_mode": {
    "name": "ipython",
    "version": 3
   },
   "file_extension": ".py",
   "mimetype": "text/x-python",
   "name": "python",
   "nbconvert_exporter": "python",
   "pygments_lexer": "ipython3",
   "version": "3.12.1"
  }
 },
 "nbformat": 4,
 "nbformat_minor": 4
}
