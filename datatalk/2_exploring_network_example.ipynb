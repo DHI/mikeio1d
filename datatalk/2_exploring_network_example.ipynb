{
 "cells": [
  {
   "cell_type": "markdown",
   "metadata": {},
   "source": [
    "## Exploring, reading, and plotting res1d results"
   ]
  },
  {
   "cell_type": "code",
   "execution_count": null,
   "metadata": {},
   "outputs": [],
   "source": [
    "# To open a file, simply create a Res1D object.\n",
    "\n",
    "# from mikeio1d import Res1D\n",
    "# res = Res1D('./data/BlueBeach_network.res1d')\n",
    "# res"
   ]
  },
  {
   "cell_type": "code",
   "execution_count": null,
   "metadata": {},
   "outputs": [],
   "source": [
    "# See what the res1d file contains. To understand basic structural concepts, check out the docs:\n",
    "# https://dhi.github.io/mikeio1d/getting-started.html#basics-of-the-network-structure\n",
    "\n",
    "# res.info()"
   ]
  },
  {
   "cell_type": "code",
   "execution_count": null,
   "metadata": {},
   "outputs": [],
   "source": [
    "# Read everything.\n",
    "\n",
    "# res.read()"
   ]
  },
  {
   "cell_type": "code",
   "execution_count": null,
   "metadata": {},
   "outputs": [],
   "source": [
    "# Using query classes (the only possible way previously)\n",
    "\n",
    "# from mikeio1d.res1d import QueryDataReach\n",
    "# query = QueryDataReach(\"Discharge\", \"Link_16\", 14.9477)\n",
    "# res.read(query)"
   ]
  },
  {
   "cell_type": "code",
   "execution_count": null,
   "metadata": {},
   "outputs": [],
   "source": [
    "# Read results for reaches, in several different ways.\n",
    "\n",
    "# res.reaches['Link']\n",
    "# res.reaches['Link_16'].Discharge.read()\n",
    "# res.reaches['Link_16'].read()\n",
    "# res.reaches.read()\n",
    "# res.reaches.Discharge.read()\n",
    "# res.reaches.Discharge.read(column_mode='compact')"
   ]
  },
  {
   "cell_type": "code",
   "execution_count": null,
   "metadata": {},
   "outputs": [],
   "source": [
    "# Same applies for nodes and catchments.\n",
    "\n",
    "# res.nodes\n",
    "# res.nodes.DivertedRunoffToSurface.read().max().idxmax()\n",
    "# res.nodes['SWMH5412'].WaterLevel.plot()"
   ]
  },
  {
   "cell_type": "code",
   "execution_count": null,
   "metadata": {},
   "outputs": [],
   "source": [
    "# Mix and match things into a single dataframe\n",
    "\n",
    "# res.nodes['SWMH5412'].DivertedRunoffToSurface.add()\n",
    "# res.nodes['SWMH5412'].WaterLevel.add()\n",
    "# res.read().plot(grid=True)"
   ]
  },
  {
   "cell_type": "code",
   "execution_count": null,
   "metadata": {},
   "outputs": [],
   "source": [
    "# Same also applies for catchments, but these are normally stored in a different file.\n",
    "\n",
    "# res = Res1D('./data/BlueBeach_runoff.res1d')\n",
    "# res.info()\n",
    "\n",
    "# res.catchments['Catchment 102'].TotalRunOff.add()\n",
    "# res.catchments['Catchment 118'].NetRainfall.add()\n",
    "# res.read()"
   ]
  }
 ],
 "metadata": {
  "kernelspec": {
   "display_name": "Python 3",
   "language": "python",
   "name": "python3"
  },
  "language_info": {
   "codemirror_mode": {
    "name": "ipython",
    "version": 3
   },
   "file_extension": ".py",
   "mimetype": "text/x-python",
   "name": "python",
   "nbconvert_exporter": "python",
   "pygments_lexer": "ipython3",
   "version": "3.10.13"
  }
 },
 "nbformat": 4,
 "nbformat_minor": 2
}
