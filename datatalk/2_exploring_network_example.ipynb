{
 "cells": [
  {
   "cell_type": "markdown",
   "metadata": {},
   "source": [
    "## Exploring, reading, and plotting res1d results"
   ]
  },
  {
   "cell_type": "code",
   "execution_count": null,
   "metadata": {},
   "outputs": [],
   "source": [
    "# To open a file, simply create a Res1D object.\n",
    "\n",
    "# from mikeio1d import Res1D\n",
    "# res = Res1D('./data/BlueBeach_network.res1d')\n",
    "# res"
   ]
  },
  {
   "cell_type": "code",
   "execution_count": null,
   "metadata": {},
   "outputs": [],
   "source": [
    "# See what the res1d file contains. To understand basic concepts, check out the docs:\n",
    "# https://dhi.github.io/mikeio1d/getting-started.html#basics-of-the-network-structure\n",
    "\n",
    "# res.info()"
   ]
  },
  {
   "cell_type": "code",
   "execution_count": null,
   "metadata": {},
   "outputs": [],
   "source": [
    "# Read everything.\n",
    "\n",
    "# res.read()"
   ]
  },
  {
   "cell_type": "code",
   "execution_count": null,
   "metadata": {},
   "outputs": [],
   "source": [
    "# Read results for reaches, in several different ways.\n",
    "\n",
    "# res.reaches\n",
    "# res.reaches.read()\n",
    "# res.reaches['Weir:Weir_2'].read()\n",
    "# res.reaches['Weir:Weir_2'].Discharge.read()\n",
    "# res.reaches.Discharge.read()\n",
    "# res.reaches.Discharge.read(column_mode='compact')"
   ]
  },
  {
   "cell_type": "code",
   "execution_count": null,
   "metadata": {},
   "outputs": [],
   "source": [
    "# Same applies for nodes and catchments.\n",
    "\n",
    "# res.nodes\n",
    "# res.nodes.DivertedRunoffToSurface.read().max().idxmax()\n",
    "# res.nodes['SWMH5412'].WaterLevel.plot()"
   ]
  },
  {
   "cell_type": "code",
   "execution_count": null,
   "metadata": {},
   "outputs": [],
   "source": [
    "# Mix and match things into a single dataframe\n",
    "\n",
    "# res.nodes['SWMH5412'].DivertedRunoffToSurface.add()\n",
    "# res.nodes['SWMH5412'].WaterLevel.add()\n",
    "# res.read().plot(grid=True)"
   ]
  },
  {
   "cell_type": "code",
   "execution_count": null,
   "metadata": {},
   "outputs": [],
   "source": [
    "# Same also applies for catchments, but these are normally stored in a different file.\n",
    "\n",
    "# res = Res1D('./data/BlueBeach_runoff.res1d')\n",
    "# res.info()\n",
    "\n",
    "# res.catchments['Catchment 102'].TotalRunOff.add()\n",
    "# res.catchments['Catchment 118'].NetRainfall.add()\n",
    "# res.read()"
   ]
  },
  {
   "cell_type": "markdown",
   "metadata": {},
   "source": [
    "<br></br>\n",
    "<br></br>\n",
    "<br></br>\n",
    "<br></br>\n",
    "<br></br>\n",
    "<br></br>\n",
    "<br></br>\n",
    "<br></br>\n",
    "<br></br>\n",
    "<br></br>\n",
    "<br></br>\n",
    "<br></br>"
   ]
  },
  {
   "cell_type": "markdown",
   "metadata": {},
   "source": [
    "## Catchment result file"
   ]
  },
  {
   "cell_type": "markdown",
   "metadata": {},
   "source": [
    "Load network result file into mikeio1d Res1D object and print basic information about the file:"
   ]
  },
  {
   "cell_type": "code",
   "execution_count": null,
   "metadata": {},
   "outputs": [],
   "source": [
    "file_path_catchments = './data/BlueBeach_runoff.res1d'\n",
    "res1d_catchments = Res1D(file_path_catchments)\n",
    "res1d_catchments"
   ]
  },
  {
   "cell_type": "markdown",
   "metadata": {},
   "source": [
    "Let's read the entire network res1d file time series data into a data frame and show just the first time steps:"
   ]
  },
  {
   "cell_type": "code",
   "execution_count": null,
   "metadata": {},
   "outputs": [],
   "source": [
    "df_catchments = res1d_catchments.read_all()\n",
    "df_catchments.head()"
   ]
  },
  {
   "cell_type": "markdown",
   "metadata": {},
   "source": [
    "<br></br>\n",
    "<br></br>\n",
    "<br></br>\n",
    "<br></br>\n",
    "<br></br>\n",
    "<br></br>\n",
    "<br></br>\n",
    "<br></br>\n",
    "<br></br>\n",
    "<br></br>\n",
    "<br></br>\n",
    "<br></br>"
   ]
  },
  {
   "cell_type": "markdown",
   "metadata": {},
   "source": [
    "## Access quantity and network/catchment information"
   ]
  },
  {
   "cell_type": "markdown",
   "metadata": {},
   "source": [
    "List quantities found in a network and catchment res1d files as a list of strings:"
   ]
  },
  {
   "cell_type": "code",
   "execution_count": null,
   "metadata": {},
   "outputs": [],
   "source": [
    "res1d_network.quantities"
   ]
  },
  {
   "cell_type": "code",
   "execution_count": null,
   "metadata": {},
   "outputs": [],
   "source": [
    "res1d_catchments.quantities"
   ]
  },
  {
   "cell_type": "markdown",
   "metadata": {},
   "source": [
    "List nodes/reaches in a file as dictionaries from node/reach id to an object representing the node/reach:"
   ]
  },
  {
   "cell_type": "code",
   "execution_count": null,
   "metadata": {},
   "outputs": [],
   "source": [
    "res1d_network.nodes"
   ]
  },
  {
   "cell_type": "code",
   "execution_count": null,
   "metadata": {},
   "outputs": [],
   "source": [
    "res1d_network.reaches"
   ]
  },
  {
   "cell_type": "markdown",
   "metadata": {},
   "source": [
    "List catchments in a file as dictionaries from catchment id to an object representing the catchment:"
   ]
  },
  {
   "cell_type": "code",
   "execution_count": null,
   "metadata": {},
   "outputs": [],
   "source": [
    "res1d_catchments.catchments[]"
   ]
  },
  {
   "cell_type": "markdown",
   "metadata": {},
   "source": [
    "<br></br>\n",
    "<br></br>\n",
    "<br></br>\n",
    "<br></br>\n",
    "<br></br>\n",
    "<br></br>\n",
    "<br></br>\n",
    "<br></br>\n",
    "<br></br>\n",
    "<br></br>\n",
    "<br></br>\n",
    "<br></br>"
   ]
  },
  {
   "cell_type": "markdown",
   "metadata": {},
   "source": [
    "## Query specific time series using query classes"
   ]
  },
  {
   "cell_type": "markdown",
   "metadata": {},
   "source": [
    "In mikeio1d it is possible to load specific time series data using queries. Currently there are the following query classes:\n",
    "* `QueryDataCatchment`\n",
    "* `QueryDataNode`\n",
    "* `QueryDataReach`\n",
    "* `QueryDataStructure`\n",
    "* `QueryDataGlobal`"
   ]
  },
  {
   "cell_type": "code",
   "execution_count": null,
   "metadata": {},
   "outputs": [],
   "source": [
    "from mikeio1d.res1d import QueryDataNode, QueryDataReach, QueryDataCatchment"
   ]
  },
  {
   "cell_type": "code",
   "execution_count": null,
   "metadata": {},
   "outputs": [],
   "source": [
    "# Read a specific reach\n",
    "query1 = QueryDataNode('WaterLevel', '1')\n",
    "\n",
    "# Read a specific reach and chainage\n",
    "query2 = QueryDataReach('WaterLevel', '104l1', 34.4131)\n",
    "\n",
    "# Combine queries to extract in one go\n",
    "queries_network = [query1, query2]"
   ]
  },
  {
   "cell_type": "code",
   "execution_count": null,
   "metadata": {},
   "outputs": [],
   "source": [
    "df_network_query = res1d_network.read(queries_network)\n",
    "df_network_query.plot()"
   ]
  },
  {
   "cell_type": "code",
   "execution_count": null,
   "metadata": {},
   "outputs": [],
   "source": [
    "# Read a specific catchment\n",
    "query1 = QueryDataCatchment('TotalRunOff', '100_16_16')\n",
    "\n",
    "# Read another specific catchment\n",
    "query2 = QueryDataCatchment('TotalRunOff', '105_1_1')\n",
    "\n",
    "# Combine queries to extract in one go\n",
    "queries_catchments = [query1, query2]"
   ]
  },
  {
   "cell_type": "code",
   "execution_count": null,
   "metadata": {},
   "outputs": [],
   "source": [
    "df_catchments_query = res1d_catchments.read(queries_catchments)\n",
    "df_catchments_query.plot()"
   ]
  },
  {
   "cell_type": "markdown",
   "metadata": {},
   "source": [
    "<br></br>\n",
    "<br></br>\n",
    "<br></br>\n",
    "<br></br>\n",
    "<br></br>\n",
    "<br></br>\n",
    "<br></br>\n",
    "<br></br>\n",
    "<br></br>\n",
    "<br></br>\n",
    "<br></br>\n",
    "<br></br>"
   ]
  },
  {
   "cell_type": "markdown",
   "metadata": {},
   "source": [
    "## Querying specific time series using auto-completion"
   ]
  },
  {
   "cell_type": "markdown",
   "metadata": {},
   "source": [
    "It is possible to query data with auto-completion using the following properties of the Res1D object:\n",
    "* `catchments`\n",
    "* `nodes`\n",
    "* `reaches`\n",
    "* `structures`\n",
    "* `global_data`"
   ]
  },
  {
   "cell_type": "markdown",
   "metadata": {},
   "source": [
    "The variable name generated for auto-completion will have a particular string appended if the location id starts with a number or other special character not supported in Python variable names.\n",
    "The appended strings are:\n",
    "* catchments : `c_`\n",
    "* nodes: `n_`\n",
    "* reaches: `r_`\n",
    "* structures: `s_`\n",
    "* global data: `g_`\n",
    "* chainages: `m_`"
   ]
  },
  {
   "cell_type": "markdown",
   "metadata": {},
   "source": [
    "Here is an example to query water level on the reach **100l1** (chainages **m=0**, **m=47.6827**) and node **100**"
   ]
  },
  {
   "cell_type": "code",
   "execution_count": null,
   "metadata": {},
   "outputs": [],
   "source": [
    "# Assign aliases for reaches and nodes\n",
    "reaches = res1d_network.reaches\n",
    "nodes = res1d_network.nodes\n",
    "\n",
    "# Add to to current active queries\n",
    "reaches.r_100l1.m_0.WaterLevel.add()\n",
    "reaches.r_100l1.m_47_6827.WaterLevel.add()\n",
    "nodes.n_100.WaterLevel.add()\n",
    "\n",
    "# Read the current active query\n",
    "df_network_query = res1d_network.read()\n",
    "df_network_query.plot()"
   ]
  },
  {
   "cell_type": "code",
   "execution_count": null,
   "metadata": {},
   "outputs": [],
   "source": [
    "# Assign alias for catchments\n",
    "catchments = res1d_catchments.catchments\n",
    "\n",
    "# Add to to current active queries\n",
    "catchments.c_100_16_16.TotalRunOff.add()\n",
    "catchments.c_105_1_1.TotalRunOff.add()\n",
    "\n",
    "# Read the current active query\n",
    "df_catchments_query = res1d_catchments.read()\n",
    "df_catchments_query.plot()"
   ]
  },
  {
   "cell_type": "markdown",
   "metadata": {},
   "source": [
    "<br></br>\n",
    "<br></br>\n",
    "<br></br>\n",
    "<br></br>\n",
    "<br></br>\n",
    "<br></br>\n",
    "<br></br>\n",
    "<br></br>\n",
    "<br></br>\n",
    "<br></br>\n",
    "<br></br>\n",
    "<br></br>"
   ]
  }
 ],
 "metadata": {
  "kernelspec": {
   "display_name": "Python 3",
   "language": "python",
   "name": "python3"
  },
  "language_info": {
   "codemirror_mode": {
    "name": "ipython",
    "version": 3
   },
   "file_extension": ".py",
   "mimetype": "text/x-python",
   "name": "python",
   "nbconvert_exporter": "python",
   "pygments_lexer": "ipython3",
   "version": "3.10.13"
  }
 },
 "nbformat": 4,
 "nbformat_minor": 2
}
