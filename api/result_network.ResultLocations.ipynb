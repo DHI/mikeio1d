{
  "cells": [
    {
      "cell_type": "markdown",
      "metadata": {},
      "source": [
        "# \n",
        "\n",
        "# result_network.ResultLocations\n",
        "\n",
        "``` python\n",
        "result_network.ResultLocations(self)\n",
        "```\n",
        "\n",
        "A base class for a network locations (nodes, reaches) or a catchments\n",
        "wrapper class.\n",
        "\n",
        "## Attributes\n",
        "\n",
        "| Name | Description |\n",
        "|------------------------------------|------------------------------------|\n",
        "| [derived_quantities](#mikeio1d.result_network.ResultLocations.derived_quantities) | A list of available derived quantities. |\n",
        "| [group](#mikeio1d.result_network.ResultLocations.group) | The TimeSeriesIdGroup associated with these locations. |\n",
        "| [locations](#mikeio1d.result_network.ResultLocations.locations) | A list of location objects (e.g. <ResultNode>). |\n",
        "| [names](#mikeio1d.result_network.ResultLocations.names) | A list of location names (e.g. MUIDs). |\n",
        "| [quantities](#mikeio1d.result_network.ResultLocations.quantities) | A list of available quantities. |\n",
        "| [res1d](#mikeio1d.result_network.ResultLocations.res1d) | The Res1D instance that these locations belong to. |\n",
        "\n",
        "## Methods\n",
        "\n",
        "| Name | Description |\n",
        "|------------------------------------|------------------------------------|\n",
        "| [read](#mikeio1d.result_network.ResultLocations.read) | Read the time series data for all quantities at these locations into a DataFrame. |\n",
        "\n",
        "### read\n",
        "\n",
        "``` python\n",
        "result_network.ResultLocations.read(column_mode=None, include_derived=False)\n",
        "```\n",
        "\n",
        "Read the time series data for all quantities at these locations into a\n",
        "DataFrame.\n",
        "\n",
        "#### Parameters\n",
        "\n",
        "| Name | Type | Description | Default |\n",
        "|-----|--------|--------------------------------------------------------|----|\n",
        "| column_mode | str \\| ColumnMode(optional) | Specifies the type of column index of returned DataFrame. ‘all’ - column MultiIndex with levels matching TimeSeriesId objects. ‘compact’ - same as ‘all’, but removes levels with default values. ‘timeseries’ - column index of TimeSeriesId objects | `None` |\n",
        "| include_derived | bool | Include derived quantities. | `False` |"
      ],
      "id": "0a110a69-391a-4e64-8801-a7abdb173697"
    }
  ],
  "nbformat": 4,
  "nbformat_minor": 5,
  "metadata": {
    "kernelspec": {
      "display_name": "Python 3",
      "language": "python",
      "name": "python3"
    }
  }
}