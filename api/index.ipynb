{
  "cells": [
    {
      "cell_type": "markdown",
      "metadata": {},
      "source": [
        "# \n",
        "\n",
        "# API Reference\n",
        "\n",
        "## Main\n",
        "\n",
        "|  |  |\n",
        "|------------------------------------|------------------------------------|\n",
        "| [open](open.qmd#mikeio1d.open) | Open a file type supported by MIKE IO 1D file. |\n",
        "| [Res1D](Res1D.qmd#mikeio1d.Res1D) | Class for reading data from 1D network result files. |\n",
        "| [Xns11](Xns11.qmd#mikeio1d.Xns11) | A class to read and write xns11 files. |\n",
        "\n",
        "## Locations\n",
        "\n",
        "|  |  |\n",
        "|------------------------------------|------------------------------------|\n",
        "| [result_network.ResultLocation](result_network.ResultLocation.qmd#mikeio1d.result_network.ResultLocation) | A base class for a network location (node, reach) or a catchment wrapper class. |\n",
        "| [result_network.ResultLocations](result_network.ResultLocations.qmd#mikeio1d.result_network.ResultLocations) | A base class for a network locations (nodes, reaches) or a catchments wrapper class. |\n",
        "| [result_network.ResultNode](result_network.ResultNode.qmd#mikeio1d.result_network.ResultNode) | Class for wrapping a single ResultData node. |\n",
        "| [result_network.ResultNodes](result_network.ResultNodes.qmd#mikeio1d.result_network.ResultNodes) | Class for wrapping ResultData nodes. |\n",
        "| [result_network.ResultReach](result_network.ResultReach.qmd#mikeio1d.result_network.ResultReach) | Class for wrapping a list of ResultData reaches having the same reach name. |\n",
        "| [result_network.ResultReaches](result_network.ResultReaches.qmd#mikeio1d.result_network.ResultReaches) | Class for wrapping ResultData reaches. |\n",
        "| [result_network.ResultGridPoint](result_network.ResultGridPoint.qmd#mikeio1d.result_network.ResultGridPoint) | Class for wrapping a single ResultData grid point. |\n",
        "| [result_network.ResultCatchment](result_network.ResultCatchment.qmd#mikeio1d.result_network.ResultCatchment) | Class for wrapping a single ResultData catchment. |\n",
        "| [result_network.ResultCatchments](result_network.ResultCatchments.qmd#mikeio1d.result_network.ResultCatchments) | Class for wrapping ResultData catchments. |\n",
        "| [result_network.ResultGlobalData](result_network.ResultGlobalData.qmd#mikeio1d.result_network.ResultGlobalData) | Class for wrapping ResultData global data items. |\n",
        "| [result_network.ResultGlobalDatas](result_network.ResultGlobalDatas.qmd#mikeio1d.result_network.ResultGlobalDatas) | Class for wrapping ResultData global data items. |\n",
        "\n",
        "## Quantities\n",
        "\n",
        "|  |  |\n",
        "|------------------------------------|------------------------------------|\n",
        "| [result_network.ResultQuantity](result_network.ResultQuantity.qmd#mikeio1d.result_network.ResultQuantity) | Class for wrapping a single ResultData data item quantity. |\n",
        "| [result_network.ResultQuantityCollection](result_network.ResultQuantityCollection.qmd#mikeio1d.result_network.ResultQuantityCollection) | Class for dealing with a collection ResultQuantity objects. |\n",
        "\n",
        "## Cross sections\n",
        "\n",
        "|  |  |\n",
        "|------------------------------------|------------------------------------|\n",
        "| [cross_sections.CrossSection](cross_sections.CrossSection.qmd#mikeio1d.cross_sections.CrossSection) | A cross section in MIKE 1D, uniquely identified by a location ID, chainage, and topo ID. |\n",
        "| [cross_sections.CrossSectionCollection](cross_sections.CrossSectionCollection.qmd#mikeio1d.cross_sections.CrossSectionCollection) | A collection of CrossSection objects. |"
      ],
      "id": "d2475ab1-9678-4951-8f83-b8ef976687a0"
    }
  ],
  "nbformat": 4,
  "nbformat_minor": 5,
  "metadata": {
    "kernelspec": {
      "display_name": "Python 3",
      "language": "python",
      "name": "python3"
    }
  }
}