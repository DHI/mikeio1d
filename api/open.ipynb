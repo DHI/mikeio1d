{
  "cells": [
    {
      "cell_type": "markdown",
      "metadata": {},
      "source": [
        "# \n",
        "\n",
        "# open\n",
        "\n",
        "``` python\n",
        "open(file_name, **kwargs)\n",
        "```\n",
        "\n",
        "Open a file type supported by MIKE IO 1D file.\n",
        "\n",
        "## Parameters\n",
        "\n",
        "| Name | Type | Description | Default |\n",
        "|---------|----------|---------------------------------------------|---------|\n",
        "| file_name | str or Path | Path to the file to read. | *required* |\n",
        "| \\*\\*kwargs |  | Additional keyword arguments to pass to the relevant constructor. | `{}` |\n",
        "\n",
        "## See Also\n",
        "\n",
        "mikeio1d.Res1D mikeio1d.Xns11\n",
        "\n",
        "## Returns\n",
        "\n",
        "| Name | Type           | Description                          |\n",
        "|------|----------------|--------------------------------------|\n",
        "|      | Res1D or Xns11 | The object representing the 1D file. |\n",
        "\n",
        "## Examples\n",
        "\n",
        "``` python\n",
        ">>> import mikeio1d\n",
        ">>> res = mikeio1d.open(\"results.res1d\")\n",
        ">>> res.nodes.read()\n",
        "```\n",
        "\n",
        "``` python\n",
        ">>> xs = mikeio1d.open(\"cross_section.xns11\")\n",
        ">>> xs\n",
        "```"
      ],
      "id": "e560b1f6-a156-4ee0-a976-484e8151e1a5"
    }
  ],
  "nbformat": 4,
  "nbformat_minor": 5,
  "metadata": {
    "kernelspec": {
      "display_name": "Python 3",
      "language": "python",
      "name": "python3"
    }
  }
}